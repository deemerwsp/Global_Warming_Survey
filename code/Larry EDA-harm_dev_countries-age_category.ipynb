{
 "cells": [
  {
   "cell_type": "code",
   "execution_count": 1,
   "id": "79d1f9b4",
   "metadata": {
    "ExecuteTime": {
     "end_time": "2022-06-10T21:15:08.363545Z",
     "start_time": "2022-06-10T21:15:05.738549Z"
    }
   },
   "outputs": [],
   "source": [
    "import pandas as pd\n",
    "import numpy as np\n",
    "from sklearn.preprocessing import OrdinalEncoder\n",
    "\n",
    "import matplotlib.pyplot as plt\n",
    "import seaborn as sns\n",
    "# !pip install pyreadstat"
   ]
  },
  {
   "cell_type": "code",
   "execution_count": 2,
   "id": "0d054ff8",
   "metadata": {
    "ExecuteTime": {
     "end_time": "2022-06-10T21:15:10.785262Z",
     "start_time": "2022-06-10T21:15:08.366546Z"
    }
   },
   "outputs": [],
   "source": [
    "df = pd.read_spss('../data/CCAM SPSS Data 2008-2018.sav')"
   ]
  },
  {
   "cell_type": "code",
   "execution_count": 3,
   "id": "a9641ce4",
   "metadata": {
    "ExecuteTime": {
     "end_time": "2022-06-10T21:15:10.879273Z",
     "start_time": "2022-06-10T21:15:10.787272Z"
    }
   },
   "outputs": [],
   "source": [
    "geo = pd.read_csv('../data/YCOM6.0_2021_Data_.csv', encoding='latin-1')"
   ]
  },
  {
   "cell_type": "code",
   "execution_count": 4,
   "id": "26a634fd",
   "metadata": {
    "ExecuteTime": {
     "end_time": "2022-06-10T21:15:10.894271Z",
     "start_time": "2022-06-10T21:15:10.883272Z"
    }
   },
   "outputs": [
    {
     "data": {
      "text/plain": [
       "(22416, 54)"
      ]
     },
     "execution_count": 4,
     "metadata": {},
     "output_type": "execute_result"
    }
   ],
   "source": [
    "df.shape"
   ]
  },
  {
   "cell_type": "code",
   "execution_count": 5,
   "id": "b82311ac",
   "metadata": {
    "ExecuteTime": {
     "end_time": "2022-06-10T21:15:10.910272Z",
     "start_time": "2022-06-10T21:15:10.896303Z"
    }
   },
   "outputs": [
    {
     "data": {
      "text/plain": [
       "Yes           14915\n",
       "Don't know     3818\n",
       "No             3612\n",
       "Refused          71\n",
       "Name: happening, dtype: int64"
      ]
     },
     "execution_count": 5,
     "metadata": {},
     "output_type": "execute_result"
    }
   ],
   "source": [
    "df.happening.value_counts()"
   ]
  },
  {
   "cell_type": "code",
   "execution_count": 6,
   "id": "416a44c6",
   "metadata": {
    "ExecuteTime": {
     "end_time": "2022-06-10T21:15:10.941273Z",
     "start_time": "2022-06-10T21:15:10.913273Z"
    }
   },
   "outputs": [],
   "source": [
    "df['target'] = [int(val == 'Yes') for val in df.happening]"
   ]
  },
  {
   "cell_type": "code",
   "execution_count": 7,
   "id": "32af79f0",
   "metadata": {
    "ExecuteTime": {
     "end_time": "2022-06-10T21:15:10.957272Z",
     "start_time": "2022-06-10T21:15:10.943273Z"
    }
   },
   "outputs": [
    {
     "data": {
      "text/plain": [
       "Index(['generation', 'educ', 'educ_category', 'income', 'income_category',\n",
       "       'race', 'ideology', 'party', 'party_w_leaners', 'party_x_ideo',\n",
       "       'registered_voter', 'region9', 'region4'],\n",
       "      dtype='object')"
      ]
     },
     "execution_count": 7,
     "metadata": {},
     "output_type": "execute_result"
    }
   ],
   "source": [
    "df.columns[26:39]"
   ]
  },
  {
   "cell_type": "code",
   "execution_count": 8,
   "id": "302c6557",
   "metadata": {
    "ExecuteTime": {
     "end_time": "2022-06-10T21:15:10.988273Z",
     "start_time": "2022-06-10T21:15:10.959272Z"
    }
   },
   "outputs": [
    {
     "data": {
      "text/plain": [
       "harm_dev_countries     0.000000\n",
       "harm_future_gen        0.000000\n",
       "harm_plants_animals    0.059333\n",
       "when_harm_US           0.000000\n",
       "reg_CO2_pollutant      0.045057\n",
       "reg_utilities          0.224215\n",
       "fund_research          0.000000\n",
       "reg_coal_emissions     0.405871\n",
       "discuss_GW             0.000000\n",
       "hear_GW_media          0.609252\n",
       "gender                 0.000000\n",
       "age                    0.000000\n",
       "age_category           0.000000\n",
       "dtype: float64"
      ]
     },
     "execution_count": 8,
     "metadata": {},
     "output_type": "execute_result"
    }
   ],
   "source": [
    "df.isnull().sum()[13:26]/22416"
   ]
  },
  {
   "cell_type": "markdown",
   "id": "2e94d8fa",
   "metadata": {},
   "source": [
    "#### Review `harm_dev_countries`"
   ]
  },
  {
   "cell_type": "code",
   "execution_count": 9,
   "id": "b01bbe20",
   "metadata": {
    "ExecuteTime": {
     "end_time": "2022-06-10T21:15:11.004274Z",
     "start_time": "2022-06-10T21:15:10.991272Z"
    }
   },
   "outputs": [
    {
     "data": {
      "text/plain": [
       "['A great deal',\n",
       " 'Only a little',\n",
       " 'Not at all',\n",
       " 'A moderate amount',\n",
       " \"Don't know\",\n",
       " 'Refused']"
      ]
     },
     "execution_count": 9,
     "metadata": {},
     "output_type": "execute_result"
    }
   ],
   "source": [
    "list(df.harm_dev_countries.unique())"
   ]
  },
  {
   "cell_type": "code",
   "execution_count": 10,
   "id": "08c55120",
   "metadata": {
    "ExecuteTime": {
     "end_time": "2022-06-10T21:15:11.035273Z",
     "start_time": "2022-06-10T21:15:11.011279Z"
    }
   },
   "outputs": [
    {
     "data": {
      "text/plain": [
       "A great deal         0.326240\n",
       "A moderate amount    0.244334\n",
       "Not at all           0.147573\n",
       "Only a little        0.146547\n",
       "Don't know           0.129327\n",
       "Refused              0.005978\n",
       "Name: harm_dev_countries, dtype: float64"
      ]
     },
     "execution_count": 10,
     "metadata": {},
     "output_type": "execute_result"
    }
   ],
   "source": [
    "df.harm_dev_countries.value_counts(normalize = True)"
   ]
  },
  {
   "cell_type": "code",
   "execution_count": 11,
   "id": "ca425b61",
   "metadata": {
    "ExecuteTime": {
     "end_time": "2022-06-10T21:15:11.050274Z",
     "start_time": "2022-06-10T21:15:11.038273Z"
    }
   },
   "outputs": [],
   "source": [
    "ordinals = ['Refused', 'Don\\'t know', 'Not at all', 'Only a little', 'A moderate amount', 'A great deal']"
   ]
  },
  {
   "cell_type": "code",
   "execution_count": 12,
   "id": "451a8576",
   "metadata": {
    "ExecuteTime": {
     "end_time": "2022-06-10T21:15:11.081278Z",
     "start_time": "2022-06-10T21:15:11.052271Z"
    }
   },
   "outputs": [],
   "source": [
    "df.harm_dev_countries = df.harm_dev_countries.replace(\n",
    "                                {val: i for i,val in zip(range(-1,5),ordinals)})"
   ]
  },
  {
   "cell_type": "code",
   "execution_count": 13,
   "id": "7e7f0e5c",
   "metadata": {
    "ExecuteTime": {
     "end_time": "2022-06-10T21:15:11.518074Z",
     "start_time": "2022-06-10T21:15:11.083272Z"
    },
    "scrolled": true
   },
   "outputs": [
    {
     "data": {
      "image/png": "[encoded data removed]",
      "text/plain": [
       "<Figure size 720x360 with 1 Axes>"
      ]
     },
     "metadata": {
      "needs_background": "light"
     },
     "output_type": "display_data"
    }
   ],
   "source": [
    "# graph\n",
    "fig, ax = plt.subplots(1,1,figsize = (10,5))\n",
    "\n",
    "bar = ax.bar(df.groupby('harm_dev_countries').mean().index,\n",
    "        height = df.groupby('harm_dev_countries').mean().target)\n",
    "ax.bar_label(bar)\n",
    "ax.set_xticks(range(-1,5))\n",
    "ax.set_xticklabels(ordinals);\n",
    "ax.set_title(\"harm_dev_countries\", loc = 'left', pad = 10\n",
    "             , fontsize = 16, color = 'maroon');"
   ]
  },
  {
   "cell_type": "markdown",
   "id": "5bf09a39",
   "metadata": {},
   "source": [
    "#### Review `harm_future_gen`"
   ]
  },
  {
   "cell_type": "code",
   "execution_count": 14,
   "id": "6a658522",
   "metadata": {
    "ExecuteTime": {
     "end_time": "2022-06-10T21:15:11.547074Z",
     "start_time": "2022-06-10T21:15:11.527075Z"
    }
   },
   "outputs": [
    {
     "data": {
      "text/plain": [
       "['A great deal',\n",
       " 'A moderate amount',\n",
       " 'Not at all',\n",
       " \"Don't know\",\n",
       " 'Only a little',\n",
       " 'Refused']"
      ]
     },
     "execution_count": 14,
     "metadata": {},
     "output_type": "execute_result"
    }
   ],
   "source": [
    "list(df.harm_future_gen.unique())"
   ]
  },
  {
   "cell_type": "code",
   "execution_count": 15,
   "id": "ad0bfd1d",
   "metadata": {
    "ExecuteTime": {
     "end_time": "2022-06-10T21:15:11.563076Z",
     "start_time": "2022-06-10T21:15:11.549075Z"
    }
   },
   "outputs": [
    {
     "data": {
      "text/plain": [
       "A great deal         0.464311\n",
       "A moderate amount    0.192630\n",
       "Don't know           0.119022\n",
       "Not at all           0.116301\n",
       "Only a little        0.102115\n",
       "Refused              0.005621\n",
       "Name: harm_future_gen, dtype: float64"
      ]
     },
     "execution_count": 15,
     "metadata": {},
     "output_type": "execute_result"
    }
   ],
   "source": [
    "df.harm_future_gen.value_counts(normalize = True)"
   ]
  },
  {
   "cell_type": "code",
   "execution_count": 16,
   "id": "2f4e00d2",
   "metadata": {
    "ExecuteTime": {
     "end_time": "2022-06-10T21:15:11.578077Z",
     "start_time": "2022-06-10T21:15:11.566078Z"
    }
   },
   "outputs": [],
   "source": [
    "ordinals = ['Refused', 'Don\\'t know', 'Not at all', 'Only a little', 'A moderate amount', 'A great deal']"
   ]
  },
  {
   "cell_type": "code",
   "execution_count": 17,
   "id": "572475fa",
   "metadata": {
    "ExecuteTime": {
     "end_time": "2022-06-10T21:15:11.609009Z",
     "start_time": "2022-06-10T21:15:11.581008Z"
    }
   },
   "outputs": [],
   "source": [
    "df.harm_future_gen = df.harm_future_gen.replace(\n",
    "                                {val: i for i,val in zip(range(-1,5),ordinals)})"
   ]
  },
  {
   "cell_type": "code",
   "execution_count": 18,
   "id": "e3f7e6a2",
   "metadata": {
    "ExecuteTime": {
     "end_time": "2022-06-10T21:15:11.909220Z",
     "start_time": "2022-06-10T21:15:11.612009Z"
    },
    "scrolled": true
   },
   "outputs": [
    {
     "data": {
      "image/png": "[encoded data removed]",
      "text/plain": [
       "<Figure size 720x360 with 1 Axes>"
      ]
     },
     "metadata": {
      "needs_background": "light"
     },
     "output_type": "display_data"
    }
   ],
   "source": [
    "# graph\n",
    "fig, ax = plt.subplots(1,1,figsize = (10,5))\n",
    "\n",
    "bar = ax.bar(df.groupby('harm_future_gen').mean().index,\n",
    "        height = df.groupby('harm_future_gen').mean().target)\n",
    "ax.bar_label(bar)\n",
    "ax.set_xticks(range(-1,5))\n",
    "ax.set_xticklabels(ordinals);\n",
    "ax.set_title(\"harm_future_gen\", loc = 'left', pad = 10\n",
    "             , fontsize = 16, color = 'maroon');"
   ]
  },
  {
   "cell_type": "markdown",
   "id": "e7bd5ea3",
   "metadata": {},
   "source": [
    "#### Review `harm_plants_animals`"
   ]
  },
  {
   "cell_type": "code",
   "execution_count": 19,
   "id": "a1f7872d",
   "metadata": {
    "ExecuteTime": {
     "end_time": "2022-06-10T21:15:11.925515Z",
     "start_time": "2022-06-10T21:15:11.912222Z"
    }
   },
   "outputs": [
    {
     "data": {
      "text/plain": [
       "['A great deal',\n",
       " 'A moderate amount',\n",
       " 'Not at all',\n",
       " \"Don't know\",\n",
       " 'Only a little',\n",
       " 'Refused',\n",
       " nan]"
      ]
     },
     "execution_count": 19,
     "metadata": {},
     "output_type": "execute_result"
    }
   ],
   "source": [
    "list(df.harm_plants_animals.unique())"
   ]
  },
  {
   "cell_type": "code",
   "execution_count": 20,
   "id": "c314636c",
   "metadata": {
    "ExecuteTime": {
     "end_time": "2022-06-10T21:15:11.941345Z",
     "start_time": "2022-06-10T21:15:11.928221Z"
    }
   },
   "outputs": [
    {
     "data": {
      "text/plain": [
       "0.05933261955745896"
      ]
     },
     "execution_count": 20,
     "metadata": {},
     "output_type": "execute_result"
    }
   ],
   "source": [
    "df.harm_plants_animals.isnull().sum() / df.shape[0]"
   ]
  },
  {
   "cell_type": "code",
   "execution_count": 21,
   "id": "5986fb4d",
   "metadata": {
    "ExecuteTime": {
     "end_time": "2022-06-10T21:15:11.957221Z",
     "start_time": "2022-06-10T21:15:11.943219Z"
    }
   },
   "outputs": [
    {
     "data": {
      "text/plain": [
       "A great deal         0.453381\n",
       "A moderate amount    0.200512\n",
       "Not at all           0.117139\n",
       "Only a little        0.112539\n",
       "Don't know           0.110073\n",
       "Refused              0.006355\n",
       "Name: harm_plants_animals, dtype: float64"
      ]
     },
     "execution_count": 21,
     "metadata": {},
     "output_type": "execute_result"
    }
   ],
   "source": [
    "df.harm_plants_animals.value_counts(normalize = True)"
   ]
  },
  {
   "cell_type": "code",
   "execution_count": 22,
   "id": "1e5f70c3",
   "metadata": {
    "ExecuteTime": {
     "end_time": "2022-06-10T21:15:11.973222Z",
     "start_time": "2022-06-10T21:15:11.960221Z"
    }
   },
   "outputs": [],
   "source": [
    "ordinals = ['Refused', 'Don\\'t know', 'Not at all', 'Only a little', 'A moderate amount', 'A great deal']"
   ]
  },
  {
   "cell_type": "code",
   "execution_count": 23,
   "id": "3d2d4156",
   "metadata": {
    "ExecuteTime": {
     "end_time": "2022-06-10T21:15:12.004219Z",
     "start_time": "2022-06-10T21:15:11.976220Z"
    }
   },
   "outputs": [],
   "source": [
    "df.harm_plants_animals = df.harm_plants_animals.replace(\n",
    "                                {val: i for i,val in zip(range(-1,5),ordinals)})"
   ]
  },
  {
   "cell_type": "code",
   "execution_count": 24,
   "id": "a3192b66",
   "metadata": {
    "ExecuteTime": {
     "end_time": "2022-06-10T21:15:12.299220Z",
     "start_time": "2022-06-10T21:15:12.006220Z"
    },
    "scrolled": true
   },
   "outputs": [
    {
     "data": {
      "image/png": "[encoded data removed]",
      "text/plain": [
       "<Figure size 720x360 with 1 Axes>"
      ]
     },
     "metadata": {
      "needs_background": "light"
     },
     "output_type": "display_data"
    }
   ],
   "source": [
    "# graph\n",
    "fig, ax = plt.subplots(1,1,figsize = (10,5))\n",
    "\n",
    "bar = ax.bar(df.groupby('harm_plants_animals').mean().index,\n",
    "        height = df.groupby('harm_plants_animals').mean().target)\n",
    "ax.bar_label(bar)\n",
    "ax.set_xticks(range(-1,5))\n",
    "ax.set_xticklabels(ordinals);\n",
    "ax.set_title(\"harm_plants_animals\", loc = 'left', pad = 10\n",
    "             , fontsize = 16, color = 'maroon');"
   ]
  },
  {
   "cell_type": "markdown",
   "id": "552f7421",
   "metadata": {},
   "source": [
    "#### Review `when_harm_US`"
   ]
  },
  {
   "cell_type": "code",
   "execution_count": 25,
   "id": "a39660a9",
   "metadata": {
    "ExecuteTime": {
     "end_time": "2022-06-10T21:15:12.315221Z",
     "start_time": "2022-06-10T21:15:12.301220Z"
    }
   },
   "outputs": [
    {
     "data": {
      "text/plain": [
       "['In 10 years',\n",
       " 'In 50 years',\n",
       " 'Never',\n",
       " 'In 25 years',\n",
       " 'In 100 years',\n",
       " 'They are being harmed now',\n",
       " 'Refused']"
      ]
     },
     "execution_count": 25,
     "metadata": {},
     "output_type": "execute_result"
    }
   ],
   "source": [
    "list(df.when_harm_US.unique())"
   ]
  },
  {
   "cell_type": "code",
   "execution_count": 26,
   "id": "faf79567",
   "metadata": {
    "ExecuteTime": {
     "end_time": "2022-06-10T21:15:12.330221Z",
     "start_time": "2022-06-10T21:15:12.318222Z"
    }
   },
   "outputs": [
    {
     "data": {
      "text/plain": [
       "They are being harmed now    0.343995\n",
       "Never                        0.172823\n",
       "In 25 years                  0.128346\n",
       "In 100 years                 0.119602\n",
       "In 50 years                  0.116569\n",
       "In 10 years                  0.109431\n",
       "Refused                      0.009234\n",
       "Name: when_harm_US, dtype: float64"
      ]
     },
     "execution_count": 26,
     "metadata": {},
     "output_type": "execute_result"
    }
   ],
   "source": [
    "df.when_harm_US.value_counts(normalize = True)"
   ]
  },
  {
   "cell_type": "code",
   "execution_count": 27,
   "id": "11677e3a",
   "metadata": {
    "ExecuteTime": {
     "end_time": "2022-06-10T21:15:12.345221Z",
     "start_time": "2022-06-10T21:15:12.332223Z"
    }
   },
   "outputs": [],
   "source": [
    "ordinals = ['Refused', '', 'Never', 'In 100 years', 'In 50 years', 'In 25 years'\n",
    "            , 'In 10 years','They are being harmed now']"
   ]
  },
  {
   "cell_type": "code",
   "execution_count": 28,
   "id": "79794a83",
   "metadata": {
    "ExecuteTime": {
     "end_time": "2022-06-10T21:15:12.377221Z",
     "start_time": "2022-06-10T21:15:12.356222Z"
    }
   },
   "outputs": [],
   "source": [
    "df.when_harm_US = df.when_harm_US.replace(\n",
    "                                {val: i for i,val in zip(range(-1,7),ordinals)})"
   ]
  },
  {
   "cell_type": "code",
   "execution_count": 29,
   "id": "64a7fb36",
   "metadata": {
    "ExecuteTime": {
     "end_time": "2022-06-10T21:15:12.734432Z",
     "start_time": "2022-06-10T21:15:12.380221Z"
    },
    "scrolled": false
   },
   "outputs": [
    {
     "data": {
      "image/png": "[encoded data removed]",
      "text/plain": [
       "<Figure size 720x360 with 1 Axes>"
      ]
     },
     "metadata": {
      "needs_background": "light"
     },
     "output_type": "display_data"
    }
   ],
   "source": [
    "# graph\n",
    "fig, ax = plt.subplots(1,1,figsize = (10,5))\n",
    "\n",
    "bar = ax.bar(df.groupby('when_harm_US').mean().index,\n",
    "        height = df.groupby('when_harm_US').mean().target)\n",
    "ax.bar_label(bar)\n",
    "ax.set_xticks(range(-1,7))\n",
    "ax.set_xticklabels(ordinals, rotation = 45, ha='right');\n",
    "ax.set_title(\"when_harm_US\", loc = 'left', pad = 10\n",
    "             , fontsize = 16, color = 'maroon');"
   ]
  },
  {
   "cell_type": "markdown",
   "id": "0010fdbc",
   "metadata": {},
   "source": [
    "#### Review `reg_CO2_pollutant`"
   ]
  },
  {
   "cell_type": "code",
   "execution_count": 30,
   "id": "d9155ee3",
   "metadata": {
    "ExecuteTime": {
     "end_time": "2022-06-10T21:15:12.750432Z",
     "start_time": "2022-06-10T21:15:12.740476Z"
    }
   },
   "outputs": [
    {
     "data": {
      "text/plain": [
       "['Strongly support',\n",
       " 'Somewhat support',\n",
       " 'Somewhat oppose',\n",
       " 'Strongly oppose',\n",
       " 'Refused',\n",
       " nan]"
      ]
     },
     "execution_count": 30,
     "metadata": {},
     "output_type": "execute_result"
    }
   ],
   "source": [
    "list(df.reg_CO2_pollutant.unique())"
   ]
  },
  {
   "cell_type": "code",
   "execution_count": 31,
   "id": "4f33d068",
   "metadata": {
    "ExecuteTime": {
     "end_time": "2022-06-10T21:15:12.766432Z",
     "start_time": "2022-06-10T21:15:12.755433Z"
    }
   },
   "outputs": [
    {
     "data": {
      "text/plain": [
       "0.045057102069950034"
      ]
     },
     "execution_count": 31,
     "metadata": {},
     "output_type": "execute_result"
    }
   ],
   "source": [
    "df.reg_CO2_pollutant.isnull().sum()/df.shape[0]"
   ]
  },
  {
   "cell_type": "code",
   "execution_count": 32,
   "id": "b609e31c",
   "metadata": {
    "ExecuteTime": {
     "end_time": "2022-06-10T21:15:12.782492Z",
     "start_time": "2022-06-10T21:15:12.769438Z"
    }
   },
   "outputs": [
    {
     "data": {
      "text/plain": [
       "Somewhat support    0.448706\n",
       "Strongly support    0.282584\n",
       "Somewhat oppose     0.143184\n",
       "Strongly oppose     0.100299\n",
       "Refused             0.025227\n",
       "Name: reg_CO2_pollutant, dtype: float64"
      ]
     },
     "execution_count": 32,
     "metadata": {},
     "output_type": "execute_result"
    }
   ],
   "source": [
    "df.reg_CO2_pollutant.value_counts(normalize = True)"
   ]
  },
  {
   "cell_type": "code",
   "execution_count": 33,
   "id": "72c980b9",
   "metadata": {
    "ExecuteTime": {
     "end_time": "2022-06-10T21:15:12.798434Z",
     "start_time": "2022-06-10T21:15:12.785432Z"
    }
   },
   "outputs": [],
   "source": [
    "ordinals = ['Refused', '', 'Strongly oppose', 'Somewhat oppose', 'Somewhat support'\n",
    "            ,'Strongly support']"
   ]
  },
  {
   "cell_type": "code",
   "execution_count": 34,
   "id": "8a97a4b2",
   "metadata": {
    "ExecuteTime": {
     "end_time": "2022-06-10T21:15:12.830431Z",
     "start_time": "2022-06-10T21:15:12.802433Z"
    }
   },
   "outputs": [],
   "source": [
    "df.reg_CO2_pollutant = df.reg_CO2_pollutant.replace(\n",
    "                                {val: i for i,val in zip(range(-1,5),ordinals)})"
   ]
  },
  {
   "cell_type": "code",
   "execution_count": 35,
   "id": "3721128a",
   "metadata": {
    "ExecuteTime": {
     "end_time": "2022-06-10T21:15:13.144432Z",
     "start_time": "2022-06-10T21:15:12.832432Z"
    },
    "scrolled": true
   },
   "outputs": [
    {
     "data": {
      "image/png": "[encoded data removed]",
      "text/plain": [
       "<Figure size 720x360 with 1 Axes>"
      ]
     },
     "metadata": {
      "needs_background": "light"
     },
     "output_type": "display_data"
    }
   ],
   "source": [
    "# graph\n",
    "fig, ax = plt.subplots(1,1,figsize = (10,5))\n",
    "\n",
    "bar = ax.bar(df.groupby('reg_CO2_pollutant').mean().index,\n",
    "        height = df.groupby('reg_CO2_pollutant').mean().target)\n",
    "ax.bar_label(bar)\n",
    "ax.set_xticks(range(-1,5))\n",
    "ax.set_xticklabels(ordinals, rotation = 45, ha='right');\n",
    "ax.set_title(\"reg_CO2_pollutant\", loc = 'left', pad = 10\n",
    "             , fontsize = 16, color = 'maroon');"
   ]
  },
  {
   "cell_type": "markdown",
   "id": "c5395214",
   "metadata": {},
   "source": [
    "#### Review `reg_utilities `"
   ]
  },
  {
   "cell_type": "code",
   "execution_count": 36,
   "id": "c1392751",
   "metadata": {
    "ExecuteTime": {
     "end_time": "2022-06-10T21:15:13.160434Z",
     "start_time": "2022-06-10T21:15:13.146433Z"
    }
   },
   "outputs": [
    {
     "data": {
      "text/plain": [
       "['Strongly support',\n",
       " 'Somewhat support',\n",
       " 'Strongly oppose',\n",
       " 'Somewhat oppose',\n",
       " 'Refused',\n",
       " nan]"
      ]
     },
     "execution_count": 36,
     "metadata": {},
     "output_type": "execute_result"
    }
   ],
   "source": [
    "list(df.reg_utilities .unique())"
   ]
  },
  {
   "cell_type": "code",
   "execution_count": 37,
   "id": "2ed74e2b",
   "metadata": {
    "ExecuteTime": {
     "end_time": "2022-06-10T21:15:13.176441Z",
     "start_time": "2022-06-10T21:15:13.163433Z"
    }
   },
   "outputs": [
    {
     "data": {
      "text/plain": [
       "0.22421484653818702"
      ]
     },
     "execution_count": 37,
     "metadata": {},
     "output_type": "execute_result"
    }
   ],
   "source": [
    "df.reg_utilities.isnull().sum() / df.shape[0]"
   ]
  },
  {
   "cell_type": "code",
   "execution_count": 38,
   "id": "e43faa24",
   "metadata": {
    "ExecuteTime": {
     "end_time": "2022-06-10T21:15:13.192290Z",
     "start_time": "2022-06-10T21:15:13.178432Z"
    }
   },
   "outputs": [
    {
     "data": {
      "text/plain": [
       "Somewhat support    0.385624\n",
       "Strongly support    0.232490\n",
       "Somewhat oppose     0.200058\n",
       "Strongly oppose     0.153882\n",
       "Refused             0.027947\n",
       "Name: reg_utilities, dtype: float64"
      ]
     },
     "execution_count": 38,
     "metadata": {},
     "output_type": "execute_result"
    }
   ],
   "source": [
    "df.reg_utilities.value_counts(normalize = True)"
   ]
  },
  {
   "cell_type": "code",
   "execution_count": 39,
   "id": "c910f779",
   "metadata": {
    "ExecuteTime": {
     "end_time": "2022-06-10T21:15:13.208289Z",
     "start_time": "2022-06-10T21:15:13.194290Z"
    }
   },
   "outputs": [],
   "source": [
    "ordinals = ['Refused', '', 'Strongly oppose', 'Somewhat oppose', 'Somewhat support'\n",
    "            ,'Strongly support']"
   ]
  },
  {
   "cell_type": "code",
   "execution_count": 40,
   "id": "aec2e300",
   "metadata": {
    "ExecuteTime": {
     "end_time": "2022-06-10T21:15:13.240290Z",
     "start_time": "2022-06-10T21:15:13.211290Z"
    }
   },
   "outputs": [],
   "source": [
    "df.reg_utilities = df.reg_utilities.replace(\n",
    "                                {val: i for i,val in zip(range(-1,5),ordinals)})"
   ]
  },
  {
   "cell_type": "code",
   "execution_count": 41,
   "id": "f1124057",
   "metadata": {
    "ExecuteTime": {
     "end_time": "2022-06-10T21:15:13.518302Z",
     "start_time": "2022-06-10T21:15:13.242289Z"
    },
    "scrolled": true
   },
   "outputs": [
    {
     "data": {
      "image/png": "[encoded data removed]",
      "text/plain": [
       "<Figure size 720x360 with 1 Axes>"
      ]
     },
     "metadata": {
      "needs_background": "light"
     },
     "output_type": "display_data"
    }
   ],
   "source": [
    "# graph\n",
    "fig, ax = plt.subplots(1,1,figsize = (10,5))\n",
    "\n",
    "bar = ax.bar(df.groupby('reg_utilities').mean().index,\n",
    "        height = df.groupby('reg_utilities').mean().target)\n",
    "ax.bar_label(bar)\n",
    "ax.set_xticks(range(-1,5))\n",
    "ax.set_xticklabels(ordinals, rotation = 45, ha='right');\n",
    "ax.set_title(\"reg_utilities\", loc = 'left', pad = 10\n",
    "             , fontsize = 16, color = 'maroon');"
   ]
  },
  {
   "cell_type": "markdown",
   "id": "0ba69ede",
   "metadata": {},
   "source": [
    "#### review `fund_research`"
   ]
  },
  {
   "cell_type": "code",
   "execution_count": 42,
   "id": "bb013c52",
   "metadata": {
    "ExecuteTime": {
     "end_time": "2022-06-10T21:15:13.534302Z",
     "start_time": "2022-06-10T21:15:13.522300Z"
    }
   },
   "outputs": [
    {
     "data": {
      "text/plain": [
       "['Strongly support',\n",
       " 'Somewhat support',\n",
       " 'Strongly oppose',\n",
       " 'Somewhat oppose',\n",
       " 'Refused']"
      ]
     },
     "execution_count": 42,
     "metadata": {},
     "output_type": "execute_result"
    }
   ],
   "source": [
    "list(df.fund_research .unique())"
   ]
  },
  {
   "cell_type": "code",
   "execution_count": 43,
   "id": "07860b80",
   "metadata": {
    "ExecuteTime": {
     "end_time": "2022-06-10T21:15:13.549300Z",
     "start_time": "2022-06-10T21:15:13.537353Z"
    }
   },
   "outputs": [
    {
     "data": {
      "text/plain": [
       "Somewhat support    0.410332\n",
       "Strongly support    0.405782\n",
       "Somewhat oppose     0.098546\n",
       "Strongly oppose     0.061162\n",
       "Refused             0.024179\n",
       "Name: fund_research, dtype: float64"
      ]
     },
     "execution_count": 43,
     "metadata": {},
     "output_type": "execute_result"
    }
   ],
   "source": [
    "df.fund_research.value_counts(normalize = True)"
   ]
  },
  {
   "cell_type": "code",
   "execution_count": 44,
   "id": "6db16610",
   "metadata": {
    "ExecuteTime": {
     "end_time": "2022-06-10T21:15:13.565301Z",
     "start_time": "2022-06-10T21:15:13.552301Z"
    }
   },
   "outputs": [],
   "source": [
    "ordinals = ['Refused', '', 'Strongly oppose', 'Somewhat oppose', 'Somewhat support'\n",
    "            ,'Strongly support']"
   ]
  },
  {
   "cell_type": "code",
   "execution_count": 45,
   "id": "66edf867",
   "metadata": {
    "ExecuteTime": {
     "end_time": "2022-06-10T21:15:13.596355Z",
     "start_time": "2022-06-10T21:15:13.567301Z"
    }
   },
   "outputs": [],
   "source": [
    "df.fund_research = df.fund_research.replace(\n",
    "                                {val: i for i,val in zip(range(-1,5),ordinals)})"
   ]
  },
  {
   "cell_type": "code",
   "execution_count": 46,
   "id": "0eedb8f7",
   "metadata": {
    "ExecuteTime": {
     "end_time": "2022-06-10T21:15:13.921355Z",
     "start_time": "2022-06-10T21:15:13.599356Z"
    },
    "scrolled": false
   },
   "outputs": [
    {
     "data": {
      "image/png": "[encoded data removed]",
      "text/plain": [
       "<Figure size 720x360 with 1 Axes>"
      ]
     },
     "metadata": {
      "needs_background": "light"
     },
     "output_type": "display_data"
    }
   ],
   "source": [
    "# graph\n",
    "fig, ax = plt.subplots(1,1,figsize = (10,5))\n",
    "\n",
    "bar = ax.bar(df.groupby('fund_research').mean().index,\n",
    "        height = df.groupby('fund_research').mean().target)\n",
    "ax.bar_label(bar)\n",
    "ax.set_xticks(range(-1,5))\n",
    "ax.set_xticklabels(ordinals, rotation = 45, ha='right');\n",
    "ax.set_title(\"fund_research\", loc = 'left', pad = 10\n",
    "             , fontsize = 16, color = 'maroon');"
   ]
  },
  {
   "cell_type": "markdown",
   "id": "2b514ac7",
   "metadata": {},
   "source": [
    "#### review `reg_coal_emissions`\n"
   ]
  },
  {
   "cell_type": "code",
   "execution_count": 47,
   "id": "e7716fa1",
   "metadata": {
    "ExecuteTime": {
     "end_time": "2022-06-10T21:15:13.937356Z",
     "start_time": "2022-06-10T21:15:13.924355Z"
    }
   },
   "outputs": [
    {
     "data": {
      "text/plain": [
       "[nan,\n",
       " 'Strongly oppose',\n",
       " 'Strongly support',\n",
       " 'Somewhat support',\n",
       " 'Refused',\n",
       " 'Somewhat oppose']"
      ]
     },
     "execution_count": 47,
     "metadata": {},
     "output_type": "execute_result"
    }
   ],
   "source": [
    "list(df.reg_coal_emissions .unique())"
   ]
  },
  {
   "cell_type": "code",
   "execution_count": 48,
   "id": "b04dae4f",
   "metadata": {
    "ExecuteTime": {
     "end_time": "2022-06-10T21:15:13.953355Z",
     "start_time": "2022-06-10T21:15:13.940356Z"
    }
   },
   "outputs": [
    {
     "data": {
      "text/plain": [
       "0.405870806566738"
      ]
     },
     "execution_count": 48,
     "metadata": {},
     "output_type": "execute_result"
    }
   ],
   "source": [
    "df.reg_coal_emissions.isnull().sum() / df.shape[0]"
   ]
  },
  {
   "cell_type": "code",
   "execution_count": 49,
   "id": "99ab7635",
   "metadata": {
    "ExecuteTime": {
     "end_time": "2022-06-10T21:15:13.969355Z",
     "start_time": "2022-06-10T21:15:13.956355Z"
    }
   },
   "outputs": [
    {
     "data": {
      "text/plain": [
       "Somewhat support    0.440006\n",
       "Strongly support    0.238850\n",
       "Somewhat oppose     0.176002\n",
       "Strongly oppose     0.134104\n",
       "Refused             0.011038\n",
       "Name: reg_coal_emissions, dtype: float64"
      ]
     },
     "execution_count": 49,
     "metadata": {},
     "output_type": "execute_result"
    }
   ],
   "source": [
    "df.reg_coal_emissions.value_counts(normalize = True)"
   ]
  },
  {
   "cell_type": "code",
   "execution_count": 50,
   "id": "b0f133d8",
   "metadata": {
    "ExecuteTime": {
     "end_time": "2022-06-10T21:15:13.985355Z",
     "start_time": "2022-06-10T21:15:13.972355Z"
    }
   },
   "outputs": [],
   "source": [
    "ordinals = ['Refused', '', 'Strongly oppose', 'Somewhat oppose', 'Somewhat support'\n",
    "            ,'Strongly support']"
   ]
  },
  {
   "cell_type": "code",
   "execution_count": 51,
   "id": "b7c34a37",
   "metadata": {
    "ExecuteTime": {
     "end_time": "2022-06-10T21:15:14.017356Z",
     "start_time": "2022-06-10T21:15:13.988356Z"
    }
   },
   "outputs": [],
   "source": [
    "df.reg_coal_emissions = df.reg_coal_emissions.replace(\n",
    "                                {val: i for i,val in zip(range(-1,5),ordinals)})"
   ]
  },
  {
   "cell_type": "code",
   "execution_count": 52,
   "id": "18eb849e",
   "metadata": {
    "ExecuteTime": {
     "end_time": "2022-06-10T21:15:14.297356Z",
     "start_time": "2022-06-10T21:15:14.020401Z"
    },
    "scrolled": false
   },
   "outputs": [
    {
     "data": {
      "image/png": "[encoded data removed]",
      "text/plain": [
       "<Figure size 720x360 with 1 Axes>"
      ]
     },
     "metadata": {
      "needs_background": "light"
     },
     "output_type": "display_data"
    }
   ],
   "source": [
    "# graph\n",
    "fig, ax = plt.subplots(1,1,figsize = (10,5))\n",
    "\n",
    "bar = ax.bar(df.groupby('reg_coal_emissions').mean().index,\n",
    "        height = df.groupby('reg_coal_emissions').mean().target)\n",
    "ax.bar_label(bar)\n",
    "ax.set_xticks(range(-1,5))\n",
    "ax.set_xticklabels(ordinals, rotation = 45, ha='right');\n",
    "ax.set_title(\"reg_coal_emissions\", loc = 'left', pad = 10\n",
    "             , fontsize = 16, color = 'maroon');"
   ]
  },
  {
   "cell_type": "markdown",
   "id": "8ef9a3e9",
   "metadata": {},
   "source": [
    "#### review `discuss_GW`\n"
   ]
  },
  {
   "cell_type": "code",
   "execution_count": 53,
   "id": "e8427062",
   "metadata": {
    "ExecuteTime": {
     "end_time": "2022-06-10T21:15:14.313356Z",
     "start_time": "2022-06-10T21:15:14.300355Z"
    }
   },
   "outputs": [
    {
     "data": {
      "text/plain": [
       "['Occasionally', 'Rarely', 'Never', 'Often', 'Refused']"
      ]
     },
     "execution_count": 53,
     "metadata": {},
     "output_type": "execute_result"
    }
   ],
   "source": [
    "list(df.discuss_GW.unique())"
   ]
  },
  {
   "cell_type": "code",
   "execution_count": 54,
   "id": "db7de1d9",
   "metadata": {
    "ExecuteTime": {
     "end_time": "2022-06-10T21:15:14.328355Z",
     "start_time": "2022-06-10T21:15:14.316355Z"
    }
   },
   "outputs": [
    {
     "data": {
      "text/plain": [
       "Rarely          0.367104\n",
       "Occasionally    0.300143\n",
       "Never           0.280559\n",
       "Often           0.048671\n",
       "Refused         0.003524\n",
       "Name: discuss_GW, dtype: float64"
      ]
     },
     "execution_count": 54,
     "metadata": {},
     "output_type": "execute_result"
    }
   ],
   "source": [
    "df.discuss_GW.value_counts(normalize = True)"
   ]
  },
  {
   "cell_type": "code",
   "execution_count": 55,
   "id": "2d02e0c9",
   "metadata": {
    "ExecuteTime": {
     "end_time": "2022-06-10T21:15:14.344355Z",
     "start_time": "2022-06-10T21:15:14.331356Z"
    }
   },
   "outputs": [],
   "source": [
    "ordinals = ['Refused', '', 'Never', 'Rarely', 'Occasionally', 'Often']"
   ]
  },
  {
   "cell_type": "code",
   "execution_count": 56,
   "id": "190f41db",
   "metadata": {
    "ExecuteTime": {
     "end_time": "2022-06-10T21:15:14.376354Z",
     "start_time": "2022-06-10T21:15:14.346356Z"
    }
   },
   "outputs": [],
   "source": [
    "df.discuss_GW = df.discuss_GW.replace(\n",
    "                                {val: i for i,val in zip(range(-1,5),ordinals)})"
   ]
  },
  {
   "cell_type": "code",
   "execution_count": 57,
   "id": "9cf8b59f",
   "metadata": {
    "ExecuteTime": {
     "end_time": "2022-06-10T21:15:14.685795Z",
     "start_time": "2022-06-10T21:15:14.378355Z"
    },
    "scrolled": false
   },
   "outputs": [
    {
     "data": {
      "image/png": "[encoded data removed]",
      "text/plain": [
       "<Figure size 720x360 with 1 Axes>"
      ]
     },
     "metadata": {
      "needs_background": "light"
     },
     "output_type": "display_data"
    }
   ],
   "source": [
    "# graph\n",
    "fig, ax = plt.subplots(1,1,figsize = (10,5))\n",
    "\n",
    "bar = ax.bar(df.groupby('discuss_GW').mean().index,\n",
    "        height = df.groupby('discuss_GW').mean().target)\n",
    "ax.bar_label(bar)\n",
    "ax.set_xticks(range(-1,5))\n",
    "ax.set_xticklabels(ordinals, rotation = 45, ha='right');\n",
    "ax.set_title(\"discuss_GW\", loc = 'left', pad = 10\n",
    "             , fontsize = 16, color = 'maroon');"
   ]
  },
  {
   "cell_type": "markdown",
   "id": "68440006",
   "metadata": {},
   "source": [
    "#### review `hear_GW_media`\n"
   ]
  },
  {
   "cell_type": "code",
   "execution_count": 58,
   "id": "d9b342a4",
   "metadata": {
    "ExecuteTime": {
     "end_time": "2022-06-10T21:15:14.701726Z",
     "start_time": "2022-06-10T21:15:14.688725Z"
    }
   },
   "outputs": [
    {
     "data": {
      "text/plain": [
       "[nan,\n",
       " 'Once a year or less often',\n",
       " 'Several times a year',\n",
       " 'At least once a week',\n",
       " 'Never',\n",
       " 'At least once a month',\n",
       " 'Not sure',\n",
       " 'Refused']"
      ]
     },
     "execution_count": 58,
     "metadata": {},
     "output_type": "execute_result"
    }
   ],
   "source": [
    "list(df.hear_GW_media .unique())"
   ]
  },
  {
   "cell_type": "code",
   "execution_count": 59,
   "id": "2b801a14",
   "metadata": {
    "ExecuteTime": {
     "end_time": "2022-06-10T21:15:14.717812Z",
     "start_time": "2022-06-10T21:15:14.703724Z"
    }
   },
   "outputs": [
    {
     "data": {
      "text/plain": [
       "0.6092523197715917"
      ]
     },
     "execution_count": 59,
     "metadata": {},
     "output_type": "execute_result"
    }
   ],
   "source": [
    "df.hear_GW_media.isnull().sum() / df.shape[0]"
   ]
  },
  {
   "cell_type": "code",
   "execution_count": 60,
   "id": "674b5905",
   "metadata": {
    "ExecuteTime": {
     "end_time": "2022-06-10T21:15:14.733726Z",
     "start_time": "2022-06-10T21:15:14.720725Z"
    }
   },
   "outputs": [
    {
     "data": {
      "text/plain": [
       "At least once a week         0.270693\n",
       "Several times a year         0.255166\n",
       "At least once a month        0.239868\n",
       "Not sure                     0.107775\n",
       "Once a year or less often    0.069186\n",
       "Never                        0.050120\n",
       "Refused                      0.007193\n",
       "Name: hear_GW_media, dtype: float64"
      ]
     },
     "execution_count": 60,
     "metadata": {},
     "output_type": "execute_result"
    }
   ],
   "source": [
    "df.hear_GW_media.value_counts(normalize = True)"
   ]
  },
  {
   "cell_type": "code",
   "execution_count": 61,
   "id": "236245c5",
   "metadata": {
    "ExecuteTime": {
     "end_time": "2022-06-10T21:15:14.749794Z",
     "start_time": "2022-06-10T21:15:14.735724Z"
    }
   },
   "outputs": [],
   "source": [
    "ordinals = ['Refused', 'Not sure', 'Never', 'Once a year or less often'\n",
    "            , 'Several times a year', 'At least once a month'\n",
    "            , 'At least once a week']"
   ]
  },
  {
   "cell_type": "code",
   "execution_count": 62,
   "id": "199a8b72",
   "metadata": {
    "ExecuteTime": {
     "end_time": "2022-06-10T21:15:14.781725Z",
     "start_time": "2022-06-10T21:15:14.752727Z"
    }
   },
   "outputs": [],
   "source": [
    "df.hear_GW_media = df.hear_GW_media.replace(\n",
    "                                {val: i for i,val in zip(range(-1,6),ordinals)})"
   ]
  },
  {
   "cell_type": "code",
   "execution_count": 63,
   "id": "f67e4f37",
   "metadata": {
    "ExecuteTime": {
     "end_time": "2022-06-10T21:15:15.125725Z",
     "start_time": "2022-06-10T21:15:14.784724Z"
    },
    "scrolled": false
   },
   "outputs": [
    {
     "data": {
      "image/png": "[encoded data removed]",
      "text/plain": [
       "<Figure size 720x360 with 1 Axes>"
      ]
     },
     "metadata": {
      "needs_background": "light"
     },
     "output_type": "display_data"
    }
   ],
   "source": [
    "# graph\n",
    "fig, ax = plt.subplots(1,1,figsize = (10,5))\n",
    "\n",
    "bar = ax.bar(df.groupby('hear_GW_media').mean().index,\n",
    "        height = df.groupby('hear_GW_media').mean().target)\n",
    "ax.bar_label(bar)\n",
    "ax.set_xticks(range(-1,6))\n",
    "ax.set_xticklabels(ordinals, rotation = 45, ha='right');\n",
    "ax.set_title(\"hear_GW_media\", loc = 'left', pad = 10\n",
    "             , fontsize = 16, color = 'maroon');"
   ]
  },
  {
   "cell_type": "markdown",
   "id": "e7c070b7",
   "metadata": {},
   "source": [
    "#### review `gender`"
   ]
  },
  {
   "cell_type": "code",
   "execution_count": 64,
   "id": "5984b5f1",
   "metadata": {
    "ExecuteTime": {
     "end_time": "2022-06-10T21:15:15.141733Z",
     "start_time": "2022-06-10T21:15:15.129726Z"
    }
   },
   "outputs": [
    {
     "data": {
      "text/plain": [
       "['Female', 'Male']"
      ]
     },
     "execution_count": 64,
     "metadata": {},
     "output_type": "execute_result"
    }
   ],
   "source": [
    "list(df.gender .unique())"
   ]
  },
  {
   "cell_type": "code",
   "execution_count": 65,
   "id": "9a7a74cb",
   "metadata": {
    "ExecuteTime": {
     "end_time": "2022-06-10T21:15:15.157725Z",
     "start_time": "2022-06-10T21:15:15.144730Z"
    }
   },
   "outputs": [
    {
     "data": {
      "text/plain": [
       "Female    0.507316\n",
       "Male      0.492684\n",
       "Name: gender, dtype: float64"
      ]
     },
     "execution_count": 65,
     "metadata": {},
     "output_type": "execute_result"
    }
   ],
   "source": [
    "df.gender.value_counts(normalize = True)"
   ]
  },
  {
   "cell_type": "code",
   "execution_count": 66,
   "id": "1783db01",
   "metadata": {
    "ExecuteTime": {
     "end_time": "2022-06-10T21:15:15.189726Z",
     "start_time": "2022-06-10T21:15:15.163725Z"
    }
   },
   "outputs": [],
   "source": [
    "df.gender = [int(val == 'Female') for val in df.gender]"
   ]
  },
  {
   "cell_type": "code",
   "execution_count": 67,
   "id": "edbe4046",
   "metadata": {
    "ExecuteTime": {
     "end_time": "2022-06-10T21:15:15.424565Z",
     "start_time": "2022-06-10T21:15:15.193734Z"
    },
    "scrolled": false
   },
   "outputs": [
    {
     "data": {
      "image/png": "[encoded data removed]",
      "text/plain": [
       "<Figure size 720x360 with 1 Axes>"
      ]
     },
     "metadata": {
      "needs_background": "light"
     },
     "output_type": "display_data"
    }
   ],
   "source": [
    "# graph\n",
    "fig, ax = plt.subplots(1,1,figsize = (10,5))\n",
    "\n",
    "bar = ax.bar(df.groupby('gender').mean().index,\n",
    "        height = df.groupby('gender').mean().target)\n",
    "ax.bar_label(bar)\n",
    "ax.set_xticks(range(0,2))\n",
    "ax.set_xticklabels(['Male','Female']);\n",
    "ax.set_title(\"gender\", loc = 'left', pad = 10\n",
    "             , fontsize = 16, color = 'maroon');"
   ]
  },
  {
   "cell_type": "markdown",
   "id": "827353d1",
   "metadata": {},
   "source": [
    "#### review `age`"
   ]
  },
  {
   "cell_type": "code",
   "execution_count": 68,
   "id": "b28c9a48",
   "metadata": {
    "ExecuteTime": {
     "end_time": "2022-06-10T21:15:15.439564Z",
     "start_time": "2022-06-10T21:15:15.426566Z"
    }
   },
   "outputs": [
    {
     "data": {
      "text/plain": [
       "count    22416.000000\n",
       "mean        50.445530\n",
       "std         16.818072\n",
       "min         18.000000\n",
       "25%         37.000000\n",
       "50%         52.000000\n",
       "75%         64.000000\n",
       "max         97.000000\n",
       "Name: age, dtype: float64"
      ]
     },
     "execution_count": 68,
     "metadata": {},
     "output_type": "execute_result"
    }
   ],
   "source": [
    "df.age.describe()"
   ]
  },
  {
   "cell_type": "code",
   "execution_count": 69,
   "id": "04c8b2df",
   "metadata": {
    "ExecuteTime": {
     "end_time": "2022-06-10T21:15:15.455564Z",
     "start_time": "2022-06-10T21:15:15.442564Z"
    }
   },
   "outputs": [
    {
     "data": {
      "text/plain": [
       "0.0"
      ]
     },
     "execution_count": 69,
     "metadata": {},
     "output_type": "execute_result"
    }
   ],
   "source": [
    "df.age.isnull().sum() / df.shape[0]"
   ]
  },
  {
   "cell_type": "code",
   "execution_count": 70,
   "id": "97bfcd00",
   "metadata": {
    "ExecuteTime": {
     "end_time": "2022-06-10T21:15:15.720653Z",
     "start_time": "2022-06-10T21:15:15.457565Z"
    }
   },
   "outputs": [
    {
     "data": {
      "image/png": "[encoded data removed]",
      "text/plain": [
       "<Figure size 432x288 with 1 Axes>"
      ]
     },
     "metadata": {
      "needs_background": "light"
     },
     "output_type": "display_data"
    }
   ],
   "source": [
    "plt.hist(df.age);"
   ]
  },
  {
   "cell_type": "code",
   "execution_count": 71,
   "id": "a7ef6fa5",
   "metadata": {
    "ExecuteTime": {
     "end_time": "2022-06-10T21:15:16.076664Z",
     "start_time": "2022-06-10T21:15:15.723601Z"
    },
    "scrolled": false
   },
   "outputs": [
    {
     "data": {
      "image/png": "[encoded data removed]",
      "text/plain": [
       "<Figure size 720x360 with 1 Axes>"
      ]
     },
     "metadata": {
      "needs_background": "light"
     },
     "output_type": "display_data"
    }
   ],
   "source": [
    "# graph\n",
    "fig, ax = plt.subplots(1,1,figsize = (10,5))\n",
    "\n",
    "df['age_bin'] = pd.cut(df['age'], bins = range(10,101,10)\n",
    "                       , labels=[f'{l}-{l+10}' for l in range(10,91,10)])\\\n",
    "                    .rename('age_bin')\n",
    "\n",
    "sns.barplot(x = 'age_bin', y = 'target', data = df,\n",
    "            estimator=np.mean, ci=None)\n",
    "    \n",
    "ax.set_title(\"age\", loc = 'left', pad = 10\n",
    "             , fontsize = 16, color = 'maroon');"
   ]
  },
  {
   "cell_type": "markdown",
   "id": "47a967d0",
   "metadata": {},
   "source": [
    "\n",
    "#### review `age_category`"
   ]
  },
  {
   "cell_type": "code",
   "execution_count": 72,
   "id": "b28d60db",
   "metadata": {
    "ExecuteTime": {
     "end_time": "2022-06-10T21:15:16.092663Z",
     "start_time": "2022-06-10T21:15:16.078666Z"
    }
   },
   "outputs": [
    {
     "data": {
      "text/plain": [
       "['55+ years', '35-54 years', '18-34 years']"
      ]
     },
     "execution_count": 72,
     "metadata": {},
     "output_type": "execute_result"
    }
   ],
   "source": [
    "list(df.age_category .unique())"
   ]
  },
  {
   "cell_type": "code",
   "execution_count": 73,
   "id": "7b829070",
   "metadata": {
    "ExecuteTime": {
     "end_time": "2022-06-10T21:15:16.108664Z",
     "start_time": "2022-06-10T21:15:16.094665Z"
    }
   },
   "outputs": [
    {
     "data": {
      "text/plain": [
       "55+ years      0.449277\n",
       "35-54 years    0.337304\n",
       "18-34 years    0.213419\n",
       "Name: age_category, dtype: float64"
      ]
     },
     "execution_count": 73,
     "metadata": {},
     "output_type": "execute_result"
    }
   ],
   "source": [
    "df.age_category.value_counts(normalize = True)"
   ]
  },
  {
   "cell_type": "code",
   "execution_count": 74,
   "id": "f8eaf762",
   "metadata": {
    "ExecuteTime": {
     "end_time": "2022-06-10T21:15:16.140749Z",
     "start_time": "2022-06-10T21:15:16.111665Z"
    },
    "scrolled": true
   },
   "outputs": [
    {
     "data": {
      "text/plain": [
       "Index(['age_category_35-54 years', 'age_category_55+ years'], dtype='object')"
      ]
     },
     "execution_count": 74,
     "metadata": {},
     "output_type": "execute_result"
    }
   ],
   "source": [
    "df = df.join(pd.get_dummies(df.age_category, prefix='age_category', \n",
    "                            drop_first=True))\n",
    "\n",
    "df.columns[-2:]"
   ]
  },
  {
   "cell_type": "code",
   "execution_count": 75,
   "id": "e84bc4ed",
   "metadata": {
    "ExecuteTime": {
     "end_time": "2022-06-10T21:15:16.156749Z",
     "start_time": "2022-06-10T21:15:16.142747Z"
    }
   },
   "outputs": [
    {
     "data": {
      "text/plain": [
       "Index(['age_category_35_54', 'age_category_55_plus'], dtype='object')"
      ]
     },
     "execution_count": 75,
     "metadata": {},
     "output_type": "execute_result"
    }
   ],
   "source": [
    "df.rename(columns = {df.columns[-2]:'age_category_35_54', \n",
    "                     df.columns[-1]: 'age_category_55_plus'}, \n",
    "          inplace=True)\n",
    "\n",
    "df.columns[-2:]"
   ]
  },
  {
   "cell_type": "code",
   "execution_count": 76,
   "id": "13b5db28",
   "metadata": {
    "ExecuteTime": {
     "end_time": "2022-06-10T21:15:16.377747Z",
     "start_time": "2022-06-10T21:15:16.158749Z"
    },
    "scrolled": true
   },
   "outputs": [
    {
     "data": {
      "image/png": "[encoded data removed]",
      "text/plain": [
       "<Figure size 720x360 with 1 Axes>"
      ]
     },
     "metadata": {
      "needs_background": "light"
     },
     "output_type": "display_data"
    }
   ],
   "source": [
    "# graph\n",
    "fig, ax = plt.subplots(1,1,figsize = (10,5))\n",
    "\n",
    "sns.barplot(x = 'age_category', y = 'target', data = df,\n",
    "            estimator=np.mean, ci=None)\n",
    "    \n",
    "ax.set_title(\"age_category\", loc = 'left', pad = 10\n",
    "             , fontsize = 16, color = 'maroon');"
   ]
  },
  {
   "cell_type": "code",
   "execution_count": 77,
   "id": "faa198bb",
   "metadata": {
    "ExecuteTime": {
     "end_time": "2022-06-10T21:15:16.423264Z",
     "start_time": "2022-06-10T21:15:16.379749Z"
    }
   },
   "outputs": [
    {
     "data": {
      "text/plain": [
       "age_category\n",
       "18-34 years    0.670987\n",
       "35-54 years    0.669356\n",
       "55+ years      0.659716\n",
       "Name: target, dtype: float64"
      ]
     },
     "execution_count": 77,
     "metadata": {},
     "output_type": "execute_result"
    }
   ],
   "source": [
    "df.groupby('age_category').mean().target"
   ]
  },
  {
   "cell_type": "markdown",
   "id": "89c95a94",
   "metadata": {},
   "source": [
    "### Drop high-null columns"
   ]
  },
  {
   "cell_type": "code",
   "execution_count": 78,
   "id": "3c5f4d42",
   "metadata": {
    "ExecuteTime": {
     "end_time": "2022-06-10T21:15:16.439257Z",
     "start_time": "2022-06-10T21:15:16.426258Z"
    }
   },
   "outputs": [],
   "source": [
    "df = df.drop(['reg_coal_emissions','hear_GW_media'], axis =1 )"
   ]
  },
  {
   "cell_type": "markdown",
   "id": "b1f18fd4",
   "metadata": {},
   "source": [
    "## Modeling and Ordinal Impacts"
   ]
  },
  {
   "cell_type": "code",
   "execution_count": 79,
   "id": "ac3cd917",
   "metadata": {
    "ExecuteTime": {
     "end_time": "2022-06-10T21:15:16.470267Z",
     "start_time": "2022-06-10T21:15:16.442257Z"
    },
    "scrolled": true
   },
   "outputs": [
    {
     "data": {
      "text/plain": [
       "harm_dev_countries        0\n",
       "harm_future_gen           0\n",
       "harm_plants_animals    1330\n",
       "when_harm_US              0\n",
       "reg_CO2_pollutant      1010\n",
       "reg_utilities          5026\n",
       "fund_research             0\n",
       "discuss_GW                0\n",
       "gender                    0\n",
       "age                       0\n",
       "age_category              0\n",
       "dtype: int64"
      ]
     },
     "execution_count": 79,
     "metadata": {},
     "output_type": "execute_result"
    }
   ],
   "source": [
    "df.isnull().sum()[13:24]"
   ]
  },
  {
   "cell_type": "code",
   "execution_count": 80,
   "id": "4c501d32",
   "metadata": {
    "ExecuteTime": {
     "end_time": "2022-06-10T21:15:16.485259Z",
     "start_time": "2022-06-10T21:15:16.473258Z"
    }
   },
   "outputs": [],
   "source": [
    "# use only columns without nulls\n",
    "df_option1 = df.iloc[:,13:23].drop(['harm_plants_animals', 'reg_CO2_pollutant',\n",
    "                                    'reg_utilities'],\n",
    "                                   axis = 1)\\\n",
    "                             .join(df[['age_category_35_54',\n",
    "                                      'age_category_55_plus']])"
   ]
  },
  {
   "cell_type": "markdown",
   "id": "7c4d85dc",
   "metadata": {},
   "source": [
    "### Option 1: Keep original ordinal values"
   ]
  },
  {
   "cell_type": "code",
   "execution_count": 81,
   "id": "4018ee53",
   "metadata": {
    "ExecuteTime": {
     "end_time": "2022-06-10T21:15:16.672256Z",
     "start_time": "2022-06-10T21:15:16.489258Z"
    }
   },
   "outputs": [],
   "source": [
    "from sklearn.neighbors import KNeighborsClassifier\n",
    "from sklearn.model_selection import cross_val_score"
   ]
  },
  {
   "cell_type": "code",
   "execution_count": 82,
   "id": "3ad29970",
   "metadata": {
    "ExecuteTime": {
     "end_time": "2022-06-10T21:15:22.628260Z",
     "start_time": "2022-06-10T21:15:16.685261Z"
    }
   },
   "outputs": [
    {
     "name": "stdout",
     "output_type": "stream",
     "text": [
      "0.80 +/- 0.03\n"
     ]
    }
   ],
   "source": [
    "# run knn on model\n",
    "knn = KNeighborsClassifier(n_jobs=-1)\n",
    "\n",
    "y = df.target\n",
    "X = df_option1\n",
    "\n",
    "scores = cross_val_score(knn, X, y,\n",
    "                        cv=5,\n",
    "                        n_jobs=-1)\n",
    "print(f'{scores.mean():.2f} +/- {2*scores.std():.2f}')"
   ]
  },
  {
   "cell_type": "markdown",
   "id": "e5ab1a15",
   "metadata": {},
   "source": [
    "### Option 2: drop \"Refused to answer\""
   ]
  },
  {
   "cell_type": "code",
   "execution_count": 83,
   "id": "77b957f6",
   "metadata": {
    "ExecuteTime": {
     "end_time": "2022-06-10T21:15:22.658260Z",
     "start_time": "2022-06-10T21:15:22.632261Z"
    }
   },
   "outputs": [],
   "source": [
    "df_option2 = df_option1.copy().join(df.target)"
   ]
  },
  {
   "cell_type": "code",
   "execution_count": 84,
   "id": "f214cba0",
   "metadata": {
    "ExecuteTime": {
     "end_time": "2022-06-10T21:15:22.815259Z",
     "start_time": "2022-06-10T21:15:22.661261Z"
    }
   },
   "outputs": [],
   "source": [
    "# looks across each row and drops it if any value is -1 (our refused value)\n",
    "df_option2 = df_option2.T.loc[:, ~(df_option2.T == -1).any()].T"
   ]
  },
  {
   "cell_type": "code",
   "execution_count": 85,
   "id": "e1222bad",
   "metadata": {
    "ExecuteTime": {
     "end_time": "2022-06-10T21:15:27.576257Z",
     "start_time": "2022-06-10T21:15:22.818258Z"
    }
   },
   "outputs": [
    {
     "name": "stdout",
     "output_type": "stream",
     "text": [
      "0.81 +/- 0.03\n"
     ]
    }
   ],
   "source": [
    "# run knn on model\n",
    "knn = KNeighborsClassifier(n_jobs=-1)\n",
    "\n",
    "y = df_option2.target\n",
    "X = df_option2.drop('target', axis=1)\n",
    "\n",
    "scores = cross_val_score(knn, X, y,\n",
    "                        cv=5,\n",
    "                        n_jobs=-1)\n",
    "print(f'{scores.mean():.2f} +/- {2*scores.std():.2f}')"
   ]
  },
  {
   "cell_type": "markdown",
   "id": "189a4d33",
   "metadata": {},
   "source": [
    "### Option 3: drop \"Refused to answer\" and place \"I don't know\" in the middle"
   ]
  },
  {
   "cell_type": "code",
   "execution_count": 86,
   "id": "8694d7e5",
   "metadata": {
    "ExecuteTime": {
     "end_time": "2022-06-10T21:15:27.591263Z",
     "start_time": "2022-06-10T21:15:27.578256Z"
    }
   },
   "outputs": [],
   "source": [
    "df_option3 = df_option2.copy()"
   ]
  },
  {
   "cell_type": "code",
   "execution_count": 93,
   "id": "001e9473",
   "metadata": {
    "ExecuteTime": {
     "end_time": "2022-06-10T21:18:26.426305Z",
     "start_time": "2022-06-10T21:18:26.374301Z"
    }
   },
   "outputs": [],
   "source": [
    "# harm_dev_countries and harm_future_gen are the only features that\n",
    "# have don't know that need moving\n",
    "\n",
    "df_option3.iloc[:,:2] = df_option3.iloc[:,:2].applymap(lambda x: x + 1 if x > 2\n",
    "                                                       else 3 if x == 0\n",
    "                                                       else x)"
   ]
  },
  {
   "cell_type": "code",
   "execution_count": 95,
   "id": "c7ed853e",
   "metadata": {
    "ExecuteTime": {
     "end_time": "2022-06-10T21:19:22.391906Z",
     "start_time": "2022-06-10T21:19:21.287232Z"
    }
   },
   "outputs": [
    {
     "name": "stdout",
     "output_type": "stream",
     "text": [
      "0.81 +/- 0.03\n"
     ]
    }
   ],
   "source": [
    "# run knn on model\n",
    "knn = KNeighborsClassifier(n_jobs=-1)\n",
    "\n",
    "y = df_option2.target\n",
    "X = df_option2.drop('target', axis=1)\n",
    "\n",
    "scores = cross_val_score(knn, X, y,\n",
    "                        cv=5,\n",
    "                        n_jobs=-1)\n",
    "print(f'{scores.mean():.2f} +/- {2*scores.std():.2f}')"
   ]
  },
  {
   "cell_type": "markdown",
   "id": "aba760a6",
   "metadata": {},
   "source": [
    "### Option 4: keep \"Refused to answer\" and place \"I don't know\" in the middle"
   ]
  },
  {
   "cell_type": "code",
   "execution_count": 96,
   "id": "b355479c",
   "metadata": {
    "ExecuteTime": {
     "end_time": "2022-06-10T21:20:04.558495Z",
     "start_time": "2022-06-10T21:20:04.542497Z"
    }
   },
   "outputs": [],
   "source": [
    "df_option4 = df_option1.copy()"
   ]
  },
  {
   "cell_type": "code",
   "execution_count": 98,
   "id": "15ce933a",
   "metadata": {
    "ExecuteTime": {
     "end_time": "2022-06-10T21:20:56.516142Z",
     "start_time": "2022-06-10T21:20:56.460142Z"
    }
   },
   "outputs": [],
   "source": [
    "df_option4.iloc[:,:2] = df_option4.iloc[:,:2].applymap(lambda x: x + 1 if x > 2\n",
    "                                                       else 3 if x == 0\n",
    "                                                       else x)"
   ]
  },
  {
   "cell_type": "code",
   "execution_count": 99,
   "id": "ee00f6a0",
   "metadata": {
    "ExecuteTime": {
     "end_time": "2022-06-10T21:21:12.802740Z",
     "start_time": "2022-06-10T21:21:11.440830Z"
    }
   },
   "outputs": [
    {
     "name": "stdout",
     "output_type": "stream",
     "text": [
      "0.81 +/- 0.03\n"
     ]
    }
   ],
   "source": [
    "# run knn on model\n",
    "knn = KNeighborsClassifier(n_jobs=-1)\n",
    "\n",
    "y = df_option2.target\n",
    "X = df_option2.drop('target', axis=1)\n",
    "\n",
    "scores = cross_val_score(knn, X, y,\n",
    "                        cv=5,\n",
    "                        n_jobs=-1)\n",
    "print(f'{scores.mean():.2f} +/- {2*scores.std():.2f}')"
   ]
  }
 ],
 "metadata": {
  "kernelspec": {
   "display_name": "Python 3 (ipykernel)",
   "language": "python",
   "name": "python3"
  },
  "language_info": {
   "codemirror_mode": {
    "name": "ipython",
    "version": 3
   },
   "file_extension": ".py",
   "mimetype": "text/x-python",
   "name": "python",
   "nbconvert_exporter": "python",
   "pygments_lexer": "ipython3",
   "version": "3.9.7"
  },
  "toc": {
   "base_numbering": 1,
   "nav_menu": {},
   "number_sections": true,
   "sideBar": true,
   "skip_h1_title": false,
   "title_cell": "Table of Contents",
   "title_sidebar": "Contents",
   "toc_cell": false,
   "toc_position": {
    "height": "calc(100% - 180px)",
    "left": "10px",
    "top": "150px",
    "width": "384px"
   },
   "toc_section_display": true,
   "toc_window_display": true
  }
 },
 "nbformat": 4,
 "nbformat_minor": 5
}
