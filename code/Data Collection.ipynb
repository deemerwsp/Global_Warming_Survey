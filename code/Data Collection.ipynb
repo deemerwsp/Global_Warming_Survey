{
 "cells": [
  {
   "cell_type": "code",
   "execution_count": 1,
   "id": "79d1f9b4",
   "metadata": {
    "ExecuteTime": {
     "end_time": "2022-06-09T18:38:53.033077Z",
     "start_time": "2022-06-09T18:38:52.153102Z"
    }
   },
   "outputs": [],
   "source": [
    "import pandas as pd\n",
    "# !pip install pyreadstat"
   ]
  },
  {
   "cell_type": "code",
   "execution_count": 2,
   "id": "0d054ff8",
   "metadata": {
    "ExecuteTime": {
     "end_time": "2022-06-09T18:39:00.523154Z",
     "start_time": "2022-06-09T18:38:57.988828Z"
    }
   },
   "outputs": [],
   "source": [
    "responses = pd.read_spss('../data/CCAM SPSS Data 2008-2018.sav')"
   ]
  },
  {
   "cell_type": "code",
   "execution_count": 3,
   "id": "a9641ce4",
   "metadata": {
    "ExecuteTime": {
     "end_time": "2022-06-09T18:39:01.988395Z",
     "start_time": "2022-06-09T18:39:01.884328Z"
    }
   },
   "outputs": [],
   "source": [
    "geo = pd.read_csv('../data/YCOM6.0_2021_Data_.csv', encoding='latin-1')"
   ]
  }
 ],
 "metadata": {
  "kernelspec": {
   "display_name": "Python 3 (ipykernel)",
   "language": "python",
   "name": "python3"
  },
  "language_info": {
   "codemirror_mode": {
    "name": "ipython",
    "version": 3
   },
   "file_extension": ".py",
   "mimetype": "text/x-python",
   "name": "python",
   "nbconvert_exporter": "python",
   "pygments_lexer": "ipython3",
   "version": "3.9.7"
  }
 },
 "nbformat": 4,
 "nbformat_minor": 5
}
