{
 "cells": [
  {
   "cell_type": "code",
   "execution_count": 12,
   "id": "80153ddc",
   "metadata": {
    "ExecuteTime": {
     "end_time": "2022-06-09T21:04:33.995590Z",
     "start_time": "2022-06-09T21:04:33.987548Z"
    }
   },
   "outputs": [
    {
     "name": "stdout",
     "output_type": "stream",
     "text": [
      "hello\n"
     ]
    }
   ],
   "source": [
    "print('goodbye')"
   ]
  },
  {
   "cell_type": "code",
   "execution_count": 2,
   "id": "79d1f9b4",
   "metadata": {
    "ExecuteTime": {
     "end_time": "2022-06-09T18:53:30.294695Z",
     "start_time": "2022-06-09T18:53:29.328095Z"
    }
   },
   "outputs": [],
   "source": [
    "import pandas as pd\n",
    "# !pip install pyreadstat"
   ]
  },
  {
   "cell_type": "code",
   "execution_count": 3,
   "id": "0d054ff8",
   "metadata": {
    "ExecuteTime": {
     "end_time": "2022-06-09T18:53:30.948313Z",
     "start_time": "2022-06-09T18:53:30.295849Z"
    }
   },
   "outputs": [],
   "source": [
    "responses = pd.read_spss('../data/CCAM SPSS Data 2008-2018.sav')"
   ]
  },
  {
   "cell_type": "code",
   "execution_count": 11,
   "id": "8f697eae",
   "metadata": {
    "ExecuteTime": {
     "end_time": "2022-06-09T19:00:35.499879Z",
     "start_time": "2022-06-09T19:00:35.481366Z"
    }
   },
   "outputs": [
    {
     "data": {
      "text/plain": [
       "Yes           14915\n",
       "Don't know     3818\n",
       "No             3612\n",
       "Refused          71\n",
       "Name: happening, dtype: int64"
      ]
     },
     "execution_count": 11,
     "metadata": {},
     "output_type": "execute_result"
    }
   ],
   "source": [
    "responses.happening.value_counts()"
   ]
  },
  {
   "cell_type": "code",
   "execution_count": 4,
   "id": "a9641ce4",
   "metadata": {
    "ExecuteTime": {
     "end_time": "2022-06-09T18:53:30.973520Z",
     "start_time": "2022-06-09T18:53:30.949380Z"
    }
   },
   "outputs": [],
   "source": [
    "geo = pd.read_csv('../data/YCOM6.0_2021_Data_.csv', encoding='latin-1')"
   ]
  }
 ],
 "metadata": {
  "kernelspec": {
   "display_name": "Python 3 (ipykernel)",
   "language": "python",
   "name": "python3"
  },
  "language_info": {
   "codemirror_mode": {
    "name": "ipython",
    "version": 3
   },
   "file_extension": ".py",
   "mimetype": "text/x-python",
   "name": "python",
   "nbconvert_exporter": "python",
   "pygments_lexer": "ipython3",
   "version": "3.9.7"
  }
 },
 "nbformat": 4,
 "nbformat_minor": 5
}
