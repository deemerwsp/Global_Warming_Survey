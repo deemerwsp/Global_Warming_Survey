{
 "cells": [
  {
   "cell_type": "code",
   "execution_count": 1,
   "id": "79d1f9b4",
   "metadata": {
    "ExecuteTime": {
     "end_time": "2022-06-09T23:52:33.019777Z",
     "start_time": "2022-06-09T23:52:30.416607Z"
    }
   },
   "outputs": [],
   "source": [
    "import pandas as pd\n",
    "import numpy as np\n",
    "from sklearn.preprocessing import OrdinalEncoder\n",
    "\n",
    "import matplotlib.pyplot as plt\n",
    "import seaborn as sns\n",
    "# !pip install pyreadstat"
   ]
  },
  {
   "cell_type": "code",
   "execution_count": 2,
   "id": "0d054ff8",
   "metadata": {
    "ExecuteTime": {
     "end_time": "2022-06-09T23:52:35.562783Z",
     "start_time": "2022-06-09T23:52:33.024777Z"
    }
   },
   "outputs": [],
   "source": [
    "df = pd.read_spss('../data/CCAM SPSS Data 2008-2018.sav')"
   ]
  },
  {
   "cell_type": "code",
   "execution_count": 3,
   "id": "a9641ce4",
   "metadata": {
    "ExecuteTime": {
     "end_time": "2022-06-09T23:52:35.702782Z",
     "start_time": "2022-06-09T23:52:35.564776Z"
    }
   },
   "outputs": [],
   "source": [
    "geo = pd.read_csv('../data/YCOM6.0_2021_Data_.csv', encoding='latin-1')"
   ]
  },
  {
   "cell_type": "code",
   "execution_count": 4,
   "id": "26a634fd",
   "metadata": {
    "ExecuteTime": {
     "end_time": "2022-06-09T23:52:35.718777Z",
     "start_time": "2022-06-09T23:52:35.706777Z"
    }
   },
   "outputs": [
    {
     "data": {
      "text/plain": [
       "(22416, 54)"
      ]
     },
     "execution_count": 4,
     "metadata": {},
     "output_type": "execute_result"
    }
   ],
   "source": [
    "df.shape"
   ]
  },
  {
   "cell_type": "code",
   "execution_count": 5,
   "id": "b82311ac",
   "metadata": {
    "ExecuteTime": {
     "end_time": "2022-06-09T23:52:35.734778Z",
     "start_time": "2022-06-09T23:52:35.721777Z"
    }
   },
   "outputs": [
    {
     "data": {
      "text/plain": [
       "Yes           14915\n",
       "Don't know     3818\n",
       "No             3612\n",
       "Refused          71\n",
       "Name: happening, dtype: int64"
      ]
     },
     "execution_count": 5,
     "metadata": {},
     "output_type": "execute_result"
    }
   ],
   "source": [
    "df.happening.value_counts()"
   ]
  },
  {
   "cell_type": "code",
   "execution_count": 6,
   "id": "416a44c6",
   "metadata": {
    "ExecuteTime": {
     "end_time": "2022-06-09T23:52:35.765775Z",
     "start_time": "2022-06-09T23:52:35.737778Z"
    }
   },
   "outputs": [],
   "source": [
    "df['target'] = [int(val == 'Yes') for val in df.happening]"
   ]
  },
  {
   "cell_type": "code",
   "execution_count": 7,
   "id": "32af79f0",
   "metadata": {
    "ExecuteTime": {
     "end_time": "2022-06-09T23:52:35.781831Z",
     "start_time": "2022-06-09T23:52:35.768779Z"
    }
   },
   "outputs": [
    {
     "data": {
      "text/plain": [
       "Index(['generation', 'educ', 'educ_category', 'income', 'income_category',\n",
       "       'race', 'ideology', 'party', 'party_w_leaners', 'party_x_ideo',\n",
       "       'registered_voter', 'region9', 'region4'],\n",
       "      dtype='object')"
      ]
     },
     "execution_count": 7,
     "metadata": {},
     "output_type": "execute_result"
    }
   ],
   "source": [
    "df.columns[26:39]"
   ]
  },
  {
   "cell_type": "code",
   "execution_count": 8,
   "id": "302c6557",
   "metadata": {
    "ExecuteTime": {
     "end_time": "2022-06-09T23:52:35.827776Z",
     "start_time": "2022-06-09T23:52:35.785776Z"
    }
   },
   "outputs": [
    {
     "data": {
      "text/plain": [
       "harm_dev_countries     0.000000\n",
       "harm_future_gen        0.000000\n",
       "harm_plants_animals    0.059333\n",
       "when_harm_US           0.000000\n",
       "reg_CO2_pollutant      0.045057\n",
       "reg_utilities          0.224215\n",
       "fund_research          0.000000\n",
       "reg_coal_emissions     0.405871\n",
       "discuss_GW             0.000000\n",
       "hear_GW_media          0.609252\n",
       "gender                 0.000000\n",
       "age                    0.000000\n",
       "age_category           0.000000\n",
       "dtype: float64"
      ]
     },
     "execution_count": 8,
     "metadata": {},
     "output_type": "execute_result"
    }
   ],
   "source": [
    "df.isnull().sum()[13:26]/22416"
   ]
  },
  {
   "cell_type": "markdown",
   "id": "2e94d8fa",
   "metadata": {},
   "source": [
    "Review `harm_dev_countries`"
   ]
  },
  {
   "cell_type": "code",
   "execution_count": 9,
   "id": "b01bbe20",
   "metadata": {
    "ExecuteTime": {
     "end_time": "2022-06-09T23:52:35.842776Z",
     "start_time": "2022-06-09T23:52:35.829777Z"
    }
   },
   "outputs": [
    {
     "data": {
      "text/plain": [
       "['A great deal',\n",
       " 'Only a little',\n",
       " 'Not at all',\n",
       " 'A moderate amount',\n",
       " \"Don't know\",\n",
       " 'Refused']"
      ]
     },
     "execution_count": 9,
     "metadata": {},
     "output_type": "execute_result"
    }
   ],
   "source": [
    "list(df.harm_dev_countries.unique())"
   ]
  },
  {
   "cell_type": "code",
   "execution_count": 10,
   "id": "08c55120",
   "metadata": {
    "ExecuteTime": {
     "end_time": "2022-06-09T23:52:35.872776Z",
     "start_time": "2022-06-09T23:52:35.848775Z"
    }
   },
   "outputs": [
    {
     "data": {
      "text/plain": [
       "A great deal         0.326240\n",
       "A moderate amount    0.244334\n",
       "Not at all           0.147573\n",
       "Only a little        0.146547\n",
       "Don't know           0.129327\n",
       "Refused              0.005978\n",
       "Name: harm_dev_countries, dtype: float64"
      ]
     },
     "execution_count": 10,
     "metadata": {},
     "output_type": "execute_result"
    }
   ],
   "source": [
    "df.harm_dev_countries.value_counts(normalize = True)"
   ]
  },
  {
   "cell_type": "code",
   "execution_count": 11,
   "id": "ca425b61",
   "metadata": {
    "ExecuteTime": {
     "end_time": "2022-06-09T23:52:35.887776Z",
     "start_time": "2022-06-09T23:52:35.874776Z"
    }
   },
   "outputs": [],
   "source": [
    "ordinals = ['Refused', 'Don\\'t know', 'Not at all', 'Only a little', 'A moderate amount', 'A great deal']"
   ]
  },
  {
   "cell_type": "code",
   "execution_count": 12,
   "id": "451a8576",
   "metadata": {
    "ExecuteTime": {
     "end_time": "2022-06-09T23:52:35.917776Z",
     "start_time": "2022-06-09T23:52:35.889776Z"
    }
   },
   "outputs": [],
   "source": [
    "df.harm_dev_countries = df.harm_dev_countries.replace(\n",
    "                                {val: i for i,val in zip(range(-1,5),ordinals)})"
   ]
  },
  {
   "cell_type": "code",
   "execution_count": 13,
   "id": "7e7f0e5c",
   "metadata": {
    "ExecuteTime": {
     "end_time": "2022-06-09T23:52:36.307850Z",
     "start_time": "2022-06-09T23:52:35.920776Z"
    },
    "scrolled": true
   },
   "outputs": [
    {
     "data": {
      "image/png": "[encoded data removed]",
      "text/plain": [
       "<Figure size 720x360 with 1 Axes>"
      ]
     },
     "metadata": {
      "needs_background": "light"
     },
     "output_type": "display_data"
    }
   ],
   "source": [
    "# graph\n",
    "fig, ax = plt.subplots(1,1,figsize = (10,5))\n",
    "\n",
    "bar = ax.bar(df.groupby('harm_dev_countries').mean().index,\n",
    "        height = df.groupby('harm_dev_countries').mean().target)\n",
    "ax.bar_label(bar)\n",
    "ax.set_xticks(range(-1,5))\n",
    "ax.set_xticklabels(ordinals);\n",
    "ax.set_title(\"harm_dev_countries\", loc = 'left', pad = 10\n",
    "             , fontsize = 16, color = 'maroon');"
   ]
  },
  {
   "cell_type": "markdown",
   "id": "5bf09a39",
   "metadata": {},
   "source": [
    "Review `harm_future_gen`"
   ]
  },
  {
   "cell_type": "code",
   "execution_count": 14,
   "id": "6a658522",
   "metadata": {
    "ExecuteTime": {
     "end_time": "2022-06-10T00:00:42.465315Z",
     "start_time": "2022-06-10T00:00:42.442317Z"
    }
   },
   "outputs": [
    {
     "data": {
      "text/plain": [
       "['A great deal',\n",
       " 'A moderate amount',\n",
       " 'Not at all',\n",
       " \"Don't know\",\n",
       " 'Only a little',\n",
       " 'Refused']"
      ]
     },
     "execution_count": 14,
     "metadata": {},
     "output_type": "execute_result"
    }
   ],
   "source": [
    "list(df.harm_future_gen.unique())"
   ]
  },
  {
   "cell_type": "code",
   "execution_count": 15,
   "id": "ad0bfd1d",
   "metadata": {
    "ExecuteTime": {
     "end_time": "2022-06-10T00:00:44.352743Z",
     "start_time": "2022-06-10T00:00:44.339729Z"
    }
   },
   "outputs": [
    {
     "data": {
      "text/plain": [
       "A great deal         0.464311\n",
       "A moderate amount    0.192630\n",
       "Don't know           0.119022\n",
       "Not at all           0.116301\n",
       "Only a little        0.102115\n",
       "Refused              0.005621\n",
       "Name: harm_future_gen, dtype: float64"
      ]
     },
     "execution_count": 15,
     "metadata": {},
     "output_type": "execute_result"
    }
   ],
   "source": [
    "df.harm_future_gen.value_counts(normalize = True)"
   ]
  },
  {
   "cell_type": "code",
   "execution_count": 16,
   "id": "2f4e00d2",
   "metadata": {
    "ExecuteTime": {
     "end_time": "2022-06-09T23:59:51.509909Z",
     "start_time": "2022-06-09T23:59:51.501901Z"
    }
   },
   "outputs": [],
   "source": [
    "ordinals = ['Refused', 'Don\\'t know', 'Not at all', 'Only a little', 'A moderate amount', 'A great deal']"
   ]
  },
  {
   "cell_type": "code",
   "execution_count": 17,
   "id": "572475fa",
   "metadata": {
    "ExecuteTime": {
     "end_time": "2022-06-10T00:01:03.787974Z",
     "start_time": "2022-06-10T00:01:03.770944Z"
    }
   },
   "outputs": [],
   "source": [
    "df.harm_future_gen = df.harm_future_gen.replace(\n",
    "                                {val: i for i,val in zip(range(-1,5),ordinals)})"
   ]
  },
  {
   "cell_type": "code",
   "execution_count": 18,
   "id": "e3f7e6a2",
   "metadata": {
    "ExecuteTime": {
     "end_time": "2022-06-10T00:01:34.343905Z",
     "start_time": "2022-06-10T00:01:34.109115Z"
    },
    "scrolled": true
   },
   "outputs": [
    {
     "data": {
      "image/png": "[encoded data removed]",
      "text/plain": [
       "<Figure size 720x360 with 1 Axes>"
      ]
     },
     "metadata": {
      "needs_background": "light"
     },
     "output_type": "display_data"
    }
   ],
   "source": [
    "# graph\n",
    "fig, ax = plt.subplots(1,1,figsize = (10,5))\n",
    "\n",
    "bar = ax.bar(df.groupby('harm_future_gen').mean().index,\n",
    "        height = df.groupby('harm_future_gen').mean().target)\n",
    "ax.bar_label(bar)\n",
    "ax.set_xticks(range(-1,5))\n",
    "ax.set_xticklabels(ordinals);\n",
    "ax.set_title(\"harm_future_gen\", loc = 'left', pad = 10\n",
    "             , fontsize = 16, color = 'maroon');"
   ]
  },
  {
   "cell_type": "markdown",
   "id": "e7bd5ea3",
   "metadata": {},
   "source": [
    "Review `harm_plants_animals`"
   ]
  },
  {
   "cell_type": "code",
   "execution_count": 19,
   "id": "a1f7872d",
   "metadata": {
    "ExecuteTime": {
     "end_time": "2022-06-10T00:00:42.465315Z",
     "start_time": "2022-06-10T00:00:42.442317Z"
    }
   },
   "outputs": [
    {
     "data": {
      "text/plain": [
       "['A great deal',\n",
       " 'A moderate amount',\n",
       " 'Not at all',\n",
       " \"Don't know\",\n",
       " 'Only a little',\n",
       " 'Refused',\n",
       " nan]"
      ]
     },
     "execution_count": 19,
     "metadata": {},
     "output_type": "execute_result"
    }
   ],
   "source": [
    "list(df.harm_plants_animals.unique())"
   ]
  },
  {
   "cell_type": "code",
   "execution_count": 20,
   "id": "c314636c",
   "metadata": {
    "ExecuteTime": {
     "end_time": "2022-06-09T23:52:36.697776Z",
     "start_time": "2022-06-09T23:52:36.688777Z"
    }
   },
   "outputs": [
    {
     "data": {
      "text/plain": [
       "1330"
      ]
     },
     "execution_count": 20,
     "metadata": {},
     "output_type": "execute_result"
    }
   ],
   "source": [
    "df.harm_plants_animals.isnull().sum()"
   ]
  },
  {
   "cell_type": "code",
   "execution_count": 21,
   "id": "5986fb4d",
   "metadata": {
    "ExecuteTime": {
     "end_time": "2022-06-10T00:00:44.352743Z",
     "start_time": "2022-06-10T00:00:44.339729Z"
    }
   },
   "outputs": [
    {
     "data": {
      "text/plain": [
       "A great deal         0.453381\n",
       "A moderate amount    0.200512\n",
       "Not at all           0.117139\n",
       "Only a little        0.112539\n",
       "Don't know           0.110073\n",
       "Refused              0.006355\n",
       "Name: harm_plants_animals, dtype: float64"
      ]
     },
     "execution_count": 21,
     "metadata": {},
     "output_type": "execute_result"
    }
   ],
   "source": [
    "df.harm_plants_animals.value_counts(normalize = True)"
   ]
  },
  {
   "cell_type": "code",
   "execution_count": 22,
   "id": "1e5f70c3",
   "metadata": {
    "ExecuteTime": {
     "end_time": "2022-06-09T23:59:51.509909Z",
     "start_time": "2022-06-09T23:59:51.501901Z"
    }
   },
   "outputs": [],
   "source": [
    "ordinals = ['Refused', 'Don\\'t know', 'Not at all', 'Only a little', 'A moderate amount', 'A great deal']"
   ]
  },
  {
   "cell_type": "code",
   "execution_count": 23,
   "id": "3d2d4156",
   "metadata": {
    "ExecuteTime": {
     "end_time": "2022-06-10T00:01:03.787974Z",
     "start_time": "2022-06-10T00:01:03.770944Z"
    }
   },
   "outputs": [],
   "source": [
    "df.harm_plants_animals = df.harm_plants_animals.replace(\n",
    "                                {val: i for i,val in zip(range(-1,5),ordinals)})"
   ]
  },
  {
   "cell_type": "code",
   "execution_count": 24,
   "id": "a3192b66",
   "metadata": {
    "ExecuteTime": {
     "end_time": "2022-06-10T00:01:34.343905Z",
     "start_time": "2022-06-10T00:01:34.109115Z"
    },
    "scrolled": true
   },
   "outputs": [
    {
     "data": {
      "image/png": "[encoded data removed]",
      "text/plain": [
       "<Figure size 720x360 with 1 Axes>"
      ]
     },
     "metadata": {
      "needs_background": "light"
     },
     "output_type": "display_data"
    }
   ],
   "source": [
    "# graph\n",
    "fig, ax = plt.subplots(1,1,figsize = (10,5))\n",
    "\n",
    "bar = ax.bar(df.groupby('harm_plants_animals').mean().index,\n",
    "        height = df.groupby('harm_plants_animals').mean().target)\n",
    "ax.bar_label(bar)\n",
    "ax.set_xticks(range(-1,5))\n",
    "ax.set_xticklabels(ordinals);\n",
    "ax.set_title(\"harm_plants_animals\", loc = 'left', pad = 10\n",
    "             , fontsize = 16, color = 'maroon');"
   ]
  },
  {
   "cell_type": "markdown",
   "id": "552f7421",
   "metadata": {},
   "source": [
    "Review `when_harm_US`"
   ]
  },
  {
   "cell_type": "code",
   "execution_count": 25,
   "id": "a39660a9",
   "metadata": {
    "ExecuteTime": {
     "end_time": "2022-06-10T00:00:42.465315Z",
     "start_time": "2022-06-10T00:00:42.442317Z"
    }
   },
   "outputs": [
    {
     "data": {
      "text/plain": [
       "['In 10 years',\n",
       " 'In 50 years',\n",
       " 'Never',\n",
       " 'In 25 years',\n",
       " 'In 100 years',\n",
       " 'They are being harmed now',\n",
       " 'Refused']"
      ]
     },
     "execution_count": 25,
     "metadata": {},
     "output_type": "execute_result"
    }
   ],
   "source": [
    "list(df.when_harm_US.unique())"
   ]
  },
  {
   "cell_type": "code",
   "execution_count": 26,
   "id": "faf79567",
   "metadata": {
    "ExecuteTime": {
     "end_time": "2022-06-10T00:00:44.352743Z",
     "start_time": "2022-06-10T00:00:44.339729Z"
    }
   },
   "outputs": [
    {
     "data": {
      "text/plain": [
       "They are being harmed now    0.343995\n",
       "Never                        0.172823\n",
       "In 25 years                  0.128346\n",
       "In 100 years                 0.119602\n",
       "In 50 years                  0.116569\n",
       "In 10 years                  0.109431\n",
       "Refused                      0.009234\n",
       "Name: when_harm_US, dtype: float64"
      ]
     },
     "execution_count": 26,
     "metadata": {},
     "output_type": "execute_result"
    }
   ],
   "source": [
    "df.when_harm_US.value_counts(normalize = True)"
   ]
  },
  {
   "cell_type": "code",
   "execution_count": 27,
   "id": "11677e3a",
   "metadata": {
    "ExecuteTime": {
     "end_time": "2022-06-09T23:59:51.509909Z",
     "start_time": "2022-06-09T23:59:51.501901Z"
    }
   },
   "outputs": [],
   "source": [
    "ordinals = ['Refused', '', 'Never', 'In 100 years', 'In 50 years', 'In 25 years'\n",
    "            , 'In 10 years','They are being harmed now']"
   ]
  },
  {
   "cell_type": "code",
   "execution_count": 28,
   "id": "79794a83",
   "metadata": {
    "ExecuteTime": {
     "end_time": "2022-06-10T00:01:03.787974Z",
     "start_time": "2022-06-10T00:01:03.770944Z"
    }
   },
   "outputs": [],
   "source": [
    "df.when_harm_US = df.when_harm_US.replace(\n",
    "                                {val: i for i,val in zip(range(-1,7),ordinals)})"
   ]
  },
  {
   "cell_type": "code",
   "execution_count": 29,
   "id": "64a7fb36",
   "metadata": {
    "ExecuteTime": {
     "end_time": "2022-06-10T00:01:34.343905Z",
     "start_time": "2022-06-10T00:01:34.109115Z"
    },
    "scrolled": false
   },
   "outputs": [
    {
     "data": {
      "image/png": "[encoded data removed]",
      "text/plain": [
       "<Figure size 720x360 with 1 Axes>"
      ]
     },
     "metadata": {
      "needs_background": "light"
     },
     "output_type": "display_data"
    }
   ],
   "source": [
    "# graph\n",
    "fig, ax = plt.subplots(1,1,figsize = (10,5))\n",
    "\n",
    "bar = ax.bar(df.groupby('when_harm_US').mean().index,\n",
    "        height = df.groupby('when_harm_US').mean().target)\n",
    "ax.bar_label(bar)\n",
    "ax.set_xticks(range(-1,7))\n",
    "ax.set_xticklabels(ordinals, rotation = 45, ha='right');\n",
    "ax.set_title(\"when_harm_US\", loc = 'left', pad = 10\n",
    "             , fontsize = 16, color = 'maroon');"
   ]
  },
  {
   "cell_type": "markdown",
   "id": "0010fdbc",
   "metadata": {},
   "source": [
    "Review `reg_CO2_pollutant`"
   ]
  },
  {
   "cell_type": "code",
   "execution_count": 43,
   "id": "d9155ee3",
   "metadata": {
    "ExecuteTime": {
     "end_time": "2022-06-10T00:00:42.465315Z",
     "start_time": "2022-06-10T00:00:42.442317Z"
    }
   },
   "outputs": [
    {
     "data": {
      "text/plain": [
       "['Strongly support',\n",
       " 'Somewhat support',\n",
       " 'Somewhat oppose',\n",
       " 'Strongly oppose',\n",
       " 'Refused',\n",
       " nan]"
      ]
     },
     "execution_count": 43,
     "metadata": {},
     "output_type": "execute_result"
    }
   ],
   "source": [
    "list(df.reg_CO2_pollutant.unique())"
   ]
  },
  {
   "cell_type": "code",
   "execution_count": 44,
   "id": "4f33d068",
   "metadata": {
    "ExecuteTime": {
     "end_time": "2022-06-10T00:00:43.324345Z",
     "start_time": "2022-06-10T00:00:43.315412Z"
    }
   },
   "outputs": [
    {
     "data": {
      "text/plain": [
       "1010"
      ]
     },
     "execution_count": 44,
     "metadata": {},
     "output_type": "execute_result"
    }
   ],
   "source": [
    "df.reg_CO2_pollutant.isnull().sum()"
   ]
  },
  {
   "cell_type": "code",
   "execution_count": 45,
   "id": "b609e31c",
   "metadata": {
    "ExecuteTime": {
     "end_time": "2022-06-10T00:00:44.352743Z",
     "start_time": "2022-06-10T00:00:44.339729Z"
    }
   },
   "outputs": [
    {
     "data": {
      "text/plain": [
       "Somewhat support    0.448706\n",
       "Strongly support    0.282584\n",
       "Somewhat oppose     0.143184\n",
       "Strongly oppose     0.100299\n",
       "Refused             0.025227\n",
       "Name: reg_CO2_pollutant, dtype: float64"
      ]
     },
     "execution_count": 45,
     "metadata": {},
     "output_type": "execute_result"
    }
   ],
   "source": [
    "df.reg_CO2_pollutant.value_counts(normalize = True)"
   ]
  },
  {
   "cell_type": "code",
   "execution_count": 37,
   "id": "72c980b9",
   "metadata": {
    "ExecuteTime": {
     "end_time": "2022-06-09T23:59:51.509909Z",
     "start_time": "2022-06-09T23:59:51.501901Z"
    }
   },
   "outputs": [],
   "source": [
    "ordinals = ['Refused', '', 'Strongly oppose', 'Somewhat oppose', 'Somewhat support'\n",
    "            ,'Strongly support']"
   ]
  },
  {
   "cell_type": "code",
   "execution_count": 46,
   "id": "8a97a4b2",
   "metadata": {
    "ExecuteTime": {
     "end_time": "2022-06-10T00:01:03.787974Z",
     "start_time": "2022-06-10T00:01:03.770944Z"
    }
   },
   "outputs": [],
   "source": [
    "df.reg_CO2_pollutant = df.reg_CO2_pollutant.replace(\n",
    "                                {val: i for i,val in zip(range(-1,5),ordinals)})"
   ]
  },
  {
   "cell_type": "code",
   "execution_count": 50,
   "id": "3721128a",
   "metadata": {
    "ExecuteTime": {
     "end_time": "2022-06-10T00:01:34.343905Z",
     "start_time": "2022-06-10T00:01:34.109115Z"
    },
    "scrolled": false
   },
   "outputs": [
    {
     "data": {
      "image/png": "[encoded data removed]",
      "text/plain": [
       "<Figure size 720x360 with 1 Axes>"
      ]
     },
     "metadata": {
      "needs_background": "light"
     },
     "output_type": "display_data"
    }
   ],
   "source": [
    "# graph\n",
    "fig, ax = plt.subplots(1,1,figsize = (10,5))\n",
    "\n",
    "bar = ax.bar(df.groupby('reg_CO2_pollutant').mean().index,\n",
    "        height = df.groupby('reg_CO2_pollutant').mean().target)\n",
    "ax.bar_label(bar)\n",
    "ax.set_xticks(range(-1,5))\n",
    "ax.set_xticklabels(ordinals, rotation = 45, ha='right');\n",
    "ax.set_title(\"reg_CO2_pollutant\", loc = 'left', pad = 10\n",
    "             , fontsize = 16, color = 'maroon');"
   ]
  },
  {
   "cell_type": "code",
   "execution_count": null,
   "id": "a9923eec",
   "metadata": {},
   "outputs": [],
   "source": []
  }
 ],
 "metadata": {
  "kernelspec": {
   "display_name": "Python 3 (ipykernel)",
   "language": "python",
   "name": "python3"
  },
  "language_info": {
   "codemirror_mode": {
    "name": "ipython",
    "version": 3
   },
   "file_extension": ".py",
   "mimetype": "text/x-python",
   "name": "python",
   "nbconvert_exporter": "python",
   "pygments_lexer": "ipython3",
   "version": "3.9.7"
  }
 },
 "nbformat": 4,
 "nbformat_minor": 5
}
