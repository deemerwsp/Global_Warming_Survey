{
 "cells": [
  {
   "cell_type": "code",
   "execution_count": 1,
   "id": "b604d982",
   "metadata": {},
   "outputs": [],
   "source": [
    "import pandas as pd\n",
    "import numpy as np\n",
    "from sklearn.ensemble import RandomForestClassifier, BaggingClassifier \n",
    "from sklearn.metrics import (accuracy_score, \n",
    "                            confusion_matrix, \n",
    "                            classification_report,\n",
    "                            plot_confusion_matrix) \n",
    "from sklearn.model_selection import train_test_split, cross_val_score, GridSearchCV,KFold\n",
    "from sklearn.metrics import accuracy_score, precision_score, recall_score, f1_score,ConfusionMatrixDisplay\n",
    "from sklearn.model_selection import StratifiedKFold\n",
    "from sklearn.ensemble import BaggingClassifier\n",
    "from sklearn.tree import DecisionTreeClassifier\n"
   ]
  },
  {
   "cell_type": "code",
   "execution_count": 2,
   "id": "3287291c",
   "metadata": {},
   "outputs": [],
   "source": [
    "X_train = pd.read_csv('../data/x_train_ss_processed.csv')\n",
    "X_test = pd.read_csv('../data/x_test_ss_processed.csv')\n",
    "y_train = pd.read_csv('../data/y_train_processed.csv')\n",
    "y_test = pd.read_csv('../data/y_test_processed.csv')"
   ]
  },
  {
   "cell_type": "code",
   "execution_count": 3,
   "id": "38e60672",
   "metadata": {},
   "outputs": [
    {
     "data": {
      "text/plain": [
       "(17696, 25)"
      ]
     },
     "execution_count": 3,
     "metadata": {},
     "output_type": "execute_result"
    }
   ],
   "source": [
    "X_train.shape"
   ]
  },
  {
   "cell_type": "code",
   "execution_count": 4,
   "id": "7d8e48b4",
   "metadata": {},
   "outputs": [
    {
     "data": {
      "text/plain": [
       "(4425, 25)"
      ]
     },
     "execution_count": 4,
     "metadata": {},
     "output_type": "execute_result"
    }
   ],
   "source": [
    "X_test.shape"
   ]
  },
  {
   "cell_type": "code",
   "execution_count": 5,
   "id": "046ce5f5",
   "metadata": {},
   "outputs": [
    {
     "data": {
      "text/plain": [
       "(17696, 1)"
      ]
     },
     "execution_count": 5,
     "metadata": {},
     "output_type": "execute_result"
    }
   ],
   "source": [
    "y_train.shape"
   ]
  },
  {
   "cell_type": "code",
   "execution_count": 6,
   "id": "90b545a5",
   "metadata": {},
   "outputs": [
    {
     "data": {
      "text/plain": [
       "(4425, 1)"
      ]
     },
     "execution_count": 6,
     "metadata": {},
     "output_type": "execute_result"
    }
   ],
   "source": [
    "y_test.shape"
   ]
  },
  {
   "cell_type": "code",
   "execution_count": 7,
   "id": "14314484",
   "metadata": {},
   "outputs": [
    {
     "data": {
      "text/html": [
       "<div>\n",
       "<style scoped>\n",
       "    .dataframe tbody tr th:only-of-type {\n",
       "        vertical-align: middle;\n",
       "    }\n",
       "\n",
       "    .dataframe tbody tr th {\n",
       "        vertical-align: top;\n",
       "    }\n",
       "\n",
       "    .dataframe thead th {\n",
       "        text-align: right;\n",
       "    }\n",
       "</style>\n",
       "<table border=\"1\" class=\"dataframe\">\n",
       "  <thead>\n",
       "    <tr style=\"text-align: right;\">\n",
       "      <th></th>\n",
       "      <th>happening</th>\n",
       "    </tr>\n",
       "  </thead>\n",
       "  <tbody>\n",
       "    <tr>\n",
       "      <th>0</th>\n",
       "      <td>2</td>\n",
       "    </tr>\n",
       "    <tr>\n",
       "      <th>1</th>\n",
       "      <td>2</td>\n",
       "    </tr>\n",
       "    <tr>\n",
       "      <th>2</th>\n",
       "      <td>2</td>\n",
       "    </tr>\n",
       "    <tr>\n",
       "      <th>3</th>\n",
       "      <td>0</td>\n",
       "    </tr>\n",
       "    <tr>\n",
       "      <th>4</th>\n",
       "      <td>2</td>\n",
       "    </tr>\n",
       "  </tbody>\n",
       "</table>\n",
       "</div>"
      ],
      "text/plain": [
       "   happening\n",
       "0          2\n",
       "1          2\n",
       "2          2\n",
       "3          0\n",
       "4          2"
      ]
     },
     "execution_count": 7,
     "metadata": {},
     "output_type": "execute_result"
    }
   ],
   "source": [
    "y_train.head()"
   ]
  },
  {
   "cell_type": "code",
   "execution_count": 8,
   "id": "2171c04d",
   "metadata": {},
   "outputs": [],
   "source": [
    "#To print model scores\n",
    "def score(model, name, X, y):\n",
    "    cv = StratifiedKFold(n_splits=10,\n",
    "                         random_state=42,\n",
    "                         shuffle=True)\n",
    "    s = cross_val_score(model, X, y, cv=cv,\n",
    "                        n_jobs=-1)\n",
    "    print('{} Score: {:.2f} +- {:.3f}'.format(name, \n",
    "                                              s.mean(), \n",
    "                                              2 * s.std()))"
   ]
  },
  {
   "cell_type": "code",
   "execution_count": 9,
   "id": "320c535a",
   "metadata": {},
   "outputs": [],
   "source": [
    "def rfscore2(X_train, X_test, y_train, y_test,n_estimators,max_depth):\n",
    "   \n",
    "    '''Gridsearching RandomForest'''\n",
    "    \n",
    "#     X = df.drop(target_col, axis=1)   # predictors\n",
    "#     y = df[target_col]                # target\n",
    "    \n",
    "#     X_train, X_test, y_train, y_test = train_test_split(X, \n",
    "#                                                        y, test_size = test_size, random_state=42) # TT split\n",
    "    y_test= y_test.values.ravel()\n",
    "    y_train = y_train.values.ravel()\n",
    "    rf_params = {\n",
    "             'n_estimators':n_estimators,\n",
    "             'max_depth':max_depth}   # parameters for grid search\n",
    "    \n",
    "    rf_gs = GridSearchCV(RandomForestClassifier(), rf_params, cv=5, verbose=1, n_jobs=-1)\n",
    "    rf_gs.fit(X_train,y_train) # training the random forest with all possible parameters\n",
    "    print('GridSearch results')\n",
    "    print('The best parameters on the training data are:\\n',rf_gs.best_params_) # printing the best parameters\n",
    "    max_depth_best = rf_gs.best_params_['max_depth']      # getting the best max_depth\n",
    "    n_estimators_best = rf_gs.best_params_['n_estimators']  # getting the best n_estimators\n",
    "    print(\"best max_depth:\",max_depth_best)\n",
    "    print(\"best n_estimators:\",n_estimators_best)\n",
    "    best_rf_gs = RandomForestClassifier(max_depth=max_depth_best,n_estimators=n_estimators_best) # instantiate the best model\n",
    "    \n",
    "    score(best_rf_gs, 'Random Forest', X_train, y_train)\n",
    "    \n",
    "    best_rf_gs.fit(X_train,y_train)  # fitting the best model\n",
    "\n",
    "    preds = best_rf_gs.predict(X_test)\n",
    "    print(\"\")\n",
    "    \n",
    "    print(\"Confusion Matrix:\\n\")\n",
    "    print(confusion_matrix(y_test,preds))\n",
    "    \n",
    "\n",
    "    print(classification_report(y_test,preds))\n",
    "    print(accuracy_score(y_test, preds))\n",
    "\n",
    "    \n",
    "    print('Features and their importance:\\n')\n",
    "    feature_importances = pd.Series(best_rf_gs.feature_importances_, index=X_train.columns).sort_values().tail(10)\n",
    "    print(feature_importances.plot(kind=\"barh\", figsize=(6,6)))\n",
    "    return"
   ]
  },
  {
   "cell_type": "markdown",
   "id": "c937e416",
   "metadata": {},
   "source": [
    "### Random Forest"
   ]
  },
  {
   "cell_type": "code",
   "execution_count": 10,
   "id": "b2a40c34",
   "metadata": {},
   "outputs": [
    {
     "name": "stdout",
     "output_type": "stream",
     "text": [
      "Fitting 5 folds for each of 288 candidates, totalling 1440 fits\n",
      "GridSearch results\n",
      "The best parameters on the training data are:\n",
      " {'max_depth': 11, 'n_estimators': 80}\n",
      "best max_depth: 11\n",
      "best n_estimators: 80\n",
      "Random Forest Score: 0.79 +- 0.011\n",
      "\n",
      "Confusion Matrix:\n",
      "\n",
      "[[ 495   57  170]\n",
      " [ 110  185  424]\n",
      " [  65   92 2827]]\n",
      "              precision    recall  f1-score   support\n",
      "\n",
      "           0       0.74      0.69      0.71       722\n",
      "           1       0.55      0.26      0.35       719\n",
      "           2       0.83      0.95      0.88      2984\n",
      "\n",
      "    accuracy                           0.79      4425\n",
      "   macro avg       0.71      0.63      0.65      4425\n",
      "weighted avg       0.77      0.79      0.77      4425\n",
      "\n",
      "0.792542372881356\n",
      "Features and their importance:\n",
      "\n",
      "AxesSubplot(0.125,0.125;0.775x0.755)\n"
     ]
    },
    {
     "data": {
      "image/png": "[encoded data removed]",
      "text/plain": [
       "<Figure size 432x432 with 1 Axes>"
      ]
     },
     "metadata": {
      "needs_background": "light"
     },
     "output_type": "display_data"
    }
   ],
   "source": [
    "n_estimators = list(range(10,250,10))\n",
    "max_depth = list(range(1, 25, 2)) \n",
    "rfscore2(X_train, X_test, y_train, y_test,n_estimators,max_depth)"
   ]
  },
  {
   "cell_type": "markdown",
   "id": "856ea68f",
   "metadata": {},
   "source": [
    "**The top features ranked by their importance are as follows after RandomForestClassifier():**\n",
    "- sci_consensus_ord\n",
    "- when_harm_US_ord\n",
    "- harm_US_ord\n",
    "- harm_plants_animals_ord\n",
    "- harm_future_gen_ord\n",
    "- harm_dev_countries_ord\n",
    "- harm_personally_ord\n",
    "- cause_recorded_ord\n",
    "- reg_CO2_pollutant_ord\n"
   ]
  },
  {
   "cell_type": "code",
   "execution_count": 13,
   "id": "d57ed77b",
   "metadata": {},
   "outputs": [],
   "source": [
    "def decision_tree_score(X_train, X_test, y_train, y_test,max_depth):\n",
    "    cv_kf = KFold(n_splits=10,\n",
    "                  shuffle=True,\n",
    "                  random_state=30113)\n",
    "\n",
    "\n",
    "    y_test= y_test.values.ravel()\n",
    "    y_train = y_train.values.ravel()\n",
    "\n",
    "    dt_params = {\n",
    "            'criterion':['gini','entropy'],\n",
    "             'max_depth':max_depth}   # parameters for grid search\n",
    "    \n",
    "    rf_gs = GridSearchCV(DecisionTreeClassifier(), dt_params, cv=5, verbose=1, n_jobs=-1)\n",
    "    \n",
    "\n",
    "    rf_gs.fit(X_train,y_train)\n",
    "\n",
    "    print('GridSearch results')\n",
    "    print('The best parameters on the training data are:\\n',rf_gs.best_params_) # printing the best parameters\n",
    "    max_depth_best = rf_gs.best_params_['max_depth']      # getting the best max_depth\n",
    "    criterion_best = rf_gs.best_params_['criterion']  # getting the best n_estimators\n",
    "    print(\"best max_depth:\",max_depth_best)\n",
    "\n",
    "    best_rf_gs = DecisionTreeClassifier(max_depth=max_depth_best,criterion=criterion_best) # instantiate the best model\n",
    "    \n",
    "    score(best_rf_gs, 'Decision Tree', X_train, y_train)\n",
    "    \n",
    "    best_rf_gs.fit(X_train,y_train)  # fitting the best model\n",
    "\n",
    "    preds = best_rf_gs.predict(X_test)\n",
    "    print(\"\")\n",
    "    \n",
    "    print(\"Confusion Matrix:\\n\")\n",
    "    print(confusion_matrix(y_test,preds))\n",
    "    print(classification_report(y_test,preds))\n",
    "    print(accuracy_score(y_test, preds))\n",
    "\n",
    "    \n",
    "    print('Features and their importance:\\n')\n",
    "    feature_importances = pd.Series(best_rf_gs.feature_importances_, index=X_train.columns).sort_values().tail(10)\n",
    "    print(feature_importances.plot(kind=\"barh\", figsize=(6,6)))\n",
    "    return\n"
   ]
  },
  {
   "cell_type": "markdown",
   "id": "ca3705b6",
   "metadata": {},
   "source": [
    "### Decision Tree"
   ]
  },
  {
   "cell_type": "code",
   "execution_count": 14,
   "id": "03edd68b",
   "metadata": {},
   "outputs": [
    {
     "name": "stdout",
     "output_type": "stream",
     "text": [
      "Fitting 5 folds for each of 24 candidates, totalling 120 fits\n",
      "GridSearch results\n",
      "The best parameters on the training data are:\n",
      " {'criterion': 'entropy', 'max_depth': 5}\n",
      "best max_depth: 5\n",
      "Decision Tree Score: 0.78 +- 0.013\n",
      "\n",
      "Confusion Matrix:\n",
      "\n",
      "[[ 476   46  200]\n",
      " [ 108  156  455]\n",
      " [  65   79 2840]]\n",
      "              precision    recall  f1-score   support\n",
      "\n",
      "           0       0.73      0.66      0.69       722\n",
      "           1       0.56      0.22      0.31       719\n",
      "           2       0.81      0.95      0.88      2984\n",
      "\n",
      "    accuracy                           0.78      4425\n",
      "   macro avg       0.70      0.61      0.63      4425\n",
      "weighted avg       0.76      0.78      0.76      4425\n",
      "\n",
      "0.7846327683615819\n",
      "Features and their importance:\n",
      "\n",
      "AxesSubplot(0.125,0.125;0.775x0.755)\n"
     ]
    },
    {
     "data": {
      "image/png": "[encoded data removed]",
      "text/plain": [
       "<Figure size 432x432 with 1 Axes>"
      ]
     },
     "metadata": {
      "needs_background": "light"
     },
     "output_type": "display_data"
    }
   ],
   "source": [
    "n_estimators = list(range(4,250,10))\n",
    "max_depth = list(range(1, 25, 2)) \n",
    "decision_tree_score(X_train, X_test, y_train, y_test,max_depth)"
   ]
  },
  {
   "cell_type": "markdown",
   "id": "62dfea70",
   "metadata": {},
   "source": [
    "**The top features ranked by their importance are as follows after RandomForestClassifier():**\n",
    "\n",
    "- when_harm_US_ord\n",
    "- sci_consensus_ord\n",
    "- harm_plants_animals_ord\n",
    "- cause_recorded_ord\n",
    "- reg_CO2_pollutant_ord\n",
    "- harm_future_gen_ord\n",
    "- discuss_GW_ord\n",
    "- party/_x_ideo_Liberal Democrat\n",
    "- marit_status_Married\n",
    "\n",
    "As is clear these features are very similar but differently ordered based on feature importances."
   ]
  },
  {
   "cell_type": "code",
   "execution_count": 15,
   "id": "61b7927a",
   "metadata": {},
   "outputs": [],
   "source": [
    "def bagging_score(base_model,X_train, X_test, y_train, y_test,n_estimators):\n",
    "    cv_kf = KFold(n_splits=10,\n",
    "                  shuffle=True,\n",
    "                  random_state=30113)\n",
    "    y_test= y_test.values.ravel()\n",
    "    y_train = y_train.values.ravel()\n",
    "    dt_params = {\n",
    "            'n_estimators':n_estimators,\n",
    "            }   # parameters for grid search\n",
    "    \n",
    "    bagger = BaggingClassifier(base_estimator=base_model, random_state=42)\n",
    "    rf_gs = GridSearchCV(bagger, dt_params, cv=5, verbose=1, n_jobs=-1)\n",
    "    rf_gs.fit(X_train,y_train)\n",
    "    print('GridSearch results for base estimator {}'.format(base_model))\n",
    "    print('The best parameters on the training data are:\\n',rf_gs.best_params_) # printing the best parameters\n",
    "\n",
    "    n_estimators_best = rf_gs.best_params_['n_estimators']  # getting the best n_estimators\n",
    "\n",
    "    print(\"best n_estimators:\",n_estimators_best)\n",
    "    best_rf_gs = BaggingClassifier(base_estimator=base_model,n_estimators=n_estimators_best) # instantiate the best model\n",
    "    \n",
    "    score(best_rf_gs, 'Bagger', X_train, y_train)\n",
    "    \n",
    "    best_rf_gs.fit(X_train,y_train)  # fitting the best model\n",
    "\n",
    "    preds = best_rf_gs.predict(X_test)\n",
    "    print(\"\")\n",
    "    \n",
    "    print(\"Confusion Matrix:\\n\")\n",
    "    print(confusion_matrix(y_test,preds))\n",
    "    print(classification_report(y_test,preds))\n",
    "    print(accuracy_score(y_test, preds))\n",
    "\n",
    "    \n"
   ]
  },
  {
   "cell_type": "markdown",
   "id": "97c3d24e",
   "metadata": {},
   "source": [
    "### Bagging Classifier"
   ]
  },
  {
   "cell_type": "code",
   "execution_count": 16,
   "id": "850c1559",
   "metadata": {},
   "outputs": [
    {
     "name": "stdout",
     "output_type": "stream",
     "text": [
      "Fitting 5 folds for each of 24 candidates, totalling 120 fits\n",
      "GridSearch results for base estimator DecisionTreeClassifier()\n",
      "The best parameters on the training data are:\n",
      " {'n_estimators': 240}\n",
      "best n_estimators: 240\n",
      "Bagger Score: 0.78 +- 0.010\n",
      "\n",
      "Confusion Matrix:\n",
      "\n",
      "[[ 477   97  148]\n",
      " [  99  241  379]\n",
      " [  69  171 2744]]\n",
      "              precision    recall  f1-score   support\n",
      "\n",
      "           0       0.74      0.66      0.70       722\n",
      "           1       0.47      0.34      0.39       719\n",
      "           2       0.84      0.92      0.88      2984\n",
      "\n",
      "    accuracy                           0.78      4425\n",
      "   macro avg       0.68      0.64      0.66      4425\n",
      "weighted avg       0.76      0.78      0.77      4425\n",
      "\n",
      "0.7823728813559322\n"
     ]
    }
   ],
   "source": [
    "n_estimators = list(range(10,250,10))\n",
    "# max_features = list(range(3, 26)) \n",
    "bagging_score(DecisionTreeClassifier(),X_train, X_test, y_train, y_test,n_estimators)"
   ]
  },
  {
   "cell_type": "markdown",
   "id": "89191f2e",
   "metadata": {},
   "source": [
    "**The accuracies for different models are as follows:**\n",
    "1. RandomForestClassifier : 0.79 +- 0.011\n",
    "2. DecisionTreeClassifier : 0.78 +- 0.013\n",
    "3. BaggingClassifier : 0.78+-0.010\n",
    "So we would go with Random ForestClassifier\n",
    "\n",
    "\n"
   ]
  }
 ],
 "metadata": {
  "kernelspec": {
   "display_name": "Python 3 (ipykernel)",
   "language": "python",
   "name": "python3"
  },
  "language_info": {
   "codemirror_mode": {
    "name": "ipython",
    "version": 3
   },
   "file_extension": ".py",
   "mimetype": "text/x-python",
   "name": "python",
   "nbconvert_exporter": "python",
   "pygments_lexer": "ipython3",
   "version": "3.9.7"
  },
  "toc": {
   "base_numbering": 1,
   "nav_menu": {},
   "number_sections": true,
   "sideBar": true,
   "skip_h1_title": false,
   "title_cell": "Table of Contents",
   "title_sidebar": "Contents",
   "toc_cell": false,
   "toc_position": {},
   "toc_section_display": true,
   "toc_window_display": false
  }
 },
 "nbformat": 4,
 "nbformat_minor": 5
}
