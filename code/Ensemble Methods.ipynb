{
 "cells": [
  {
   "cell_type": "code",
   "execution_count": 1,
   "id": "b604d982",
   "metadata": {},
   "outputs": [],
   "source": [
    "import pandas as pd\n",
    "import numpy as np\n",
    "from sklearn.ensemble import RandomForestClassifier, BaggingClassifier \n",
    "from sklearn.metrics import (accuracy_score, \n",
    "                            confusion_matrix, \n",
    "                            classification_report,\n",
    "                            plot_confusion_matrix) \n",
    "from sklearn.model_selection import train_test_split, cross_val_score, GridSearchCV,KFold\n",
    "from sklearn.metrics import accuracy_score, precision_score, recall_score, f1_score, roc_curve, auc, roc_auc_score\n",
    "from sklearn.model_selection import StratifiedKFold\n",
    "from sklearn.ensemble import BaggingClassifier\n",
    "from sklearn.tree import DecisionTreeClassifier\n"
   ]
  },
  {
   "cell_type": "code",
   "execution_count": 2,
   "id": "3287291c",
   "metadata": {},
   "outputs": [],
   "source": [
    "y_train = pd.read_csv('../data/y_train_processed.csv')\n",
    "y_test = pd.read_csv('../data/y_test_processed.csv')\n",
    "\n",
    "X_train = pd.read_csv('../data/x_train_processed.csv')\n",
    "X_test = pd.read_csv('../data/x_test_processed.csv')\n",
    "\n",
    "X_train_ss = pd.read_csv('../data/x_train_ss_processed.csv')\n",
    "X_test_ss = pd.read_csv('../data/x_test_ss_processed.csv')"
   ]
  },
  {
   "cell_type": "code",
   "execution_count": 3,
   "id": "38e60672",
   "metadata": {},
   "outputs": [
    {
     "data": {
      "text/plain": [
       "(17696, 80)"
      ]
     },
     "execution_count": 3,
     "metadata": {},
     "output_type": "execute_result"
    }
   ],
   "source": [
    "X_train.shape"
   ]
  },
  {
   "cell_type": "code",
   "execution_count": 4,
   "id": "7d8e48b4",
   "metadata": {},
   "outputs": [
    {
     "data": {
      "text/plain": [
       "(4425, 80)"
      ]
     },
     "execution_count": 4,
     "metadata": {},
     "output_type": "execute_result"
    }
   ],
   "source": [
    "X_test.shape"
   ]
  },
  {
   "cell_type": "code",
   "execution_count": 5,
   "id": "046ce5f5",
   "metadata": {},
   "outputs": [
    {
     "data": {
      "text/plain": [
       "(17696, 1)"
      ]
     },
     "execution_count": 5,
     "metadata": {},
     "output_type": "execute_result"
    }
   ],
   "source": [
    "y_train.shape"
   ]
  },
  {
   "cell_type": "code",
   "execution_count": 6,
   "id": "90b545a5",
   "metadata": {},
   "outputs": [
    {
     "data": {
      "text/plain": [
       "(4425, 1)"
      ]
     },
     "execution_count": 6,
     "metadata": {},
     "output_type": "execute_result"
    }
   ],
   "source": [
    "y_test.shape"
   ]
  },
  {
   "cell_type": "code",
   "execution_count": 7,
   "id": "14314484",
   "metadata": {},
   "outputs": [
    {
     "data": {
      "text/html": [
       "<div>\n",
       "<style scoped>\n",
       "    .dataframe tbody tr th:only-of-type {\n",
       "        vertical-align: middle;\n",
       "    }\n",
       "\n",
       "    .dataframe tbody tr th {\n",
       "        vertical-align: top;\n",
       "    }\n",
       "\n",
       "    .dataframe thead th {\n",
       "        text-align: right;\n",
       "    }\n",
       "</style>\n",
       "<table border=\"1\" class=\"dataframe\">\n",
       "  <thead>\n",
       "    <tr style=\"text-align: right;\">\n",
       "      <th></th>\n",
       "      <th>happening</th>\n",
       "    </tr>\n",
       "  </thead>\n",
       "  <tbody>\n",
       "    <tr>\n",
       "      <th>0</th>\n",
       "      <td>Yes</td>\n",
       "    </tr>\n",
       "    <tr>\n",
       "      <th>1</th>\n",
       "      <td>Yes</td>\n",
       "    </tr>\n",
       "    <tr>\n",
       "      <th>2</th>\n",
       "      <td>Yes</td>\n",
       "    </tr>\n",
       "    <tr>\n",
       "      <th>3</th>\n",
       "      <td>No</td>\n",
       "    </tr>\n",
       "    <tr>\n",
       "      <th>4</th>\n",
       "      <td>Yes</td>\n",
       "    </tr>\n",
       "  </tbody>\n",
       "</table>\n",
       "</div>"
      ],
      "text/plain": [
       "  happening\n",
       "0       Yes\n",
       "1       Yes\n",
       "2       Yes\n",
       "3        No\n",
       "4       Yes"
      ]
     },
     "execution_count": 7,
     "metadata": {},
     "output_type": "execute_result"
    }
   ],
   "source": [
    "y_train.head()"
   ]
  },
  {
   "cell_type": "code",
   "execution_count": 9,
   "id": "2171c04d",
   "metadata": {},
   "outputs": [],
   "source": [
    "def score(model, name, X, y):\n",
    "    cv = StratifiedKFold(n_splits=10,\n",
    "                         random_state=42,\n",
    "                         shuffle=True)\n",
    "    s = cross_val_score(model, X, y, cv=cv,\n",
    "                        n_jobs=-1)\n",
    "    print('{} Score: {:.2f} +- {:.3f}'.format(name, \n",
    "                                              s.mean(), \n",
    "                                              2 * s.std()))"
   ]
  },
  {
   "cell_type": "code",
   "execution_count": 10,
   "id": "320c535a",
   "metadata": {},
   "outputs": [],
   "source": [
    "def rfscore2(X_train, X_test, y_train, y_test,n_estimators,max_depth):\n",
    "   \n",
    "    '''Gridsearching RandomForest'''\n",
    "    \n",
    "#     X = df.drop(target_col, axis=1)   # predictors\n",
    "#     y = df[target_col]                # target\n",
    "    \n",
    "#     X_train, X_test, y_train, y_test = train_test_split(X, \n",
    "#                                                        y, test_size = test_size, random_state=42) # TT split\n",
    "    y_test= y_test.values.ravel()\n",
    "    y_train = y_train.values.ravel()\n",
    "    rf_params = {\n",
    "             'n_estimators':n_estimators,\n",
    "             'max_depth':max_depth}   # parameters for grid search\n",
    "    \n",
    "    rf_gs = GridSearchCV(RandomForestClassifier(), rf_params, cv=5, verbose=1, n_jobs=-1)\n",
    "    rf_gs.fit(X_train,y_train) # training the random forest with all possible parameters\n",
    "    print('GridSearch results')\n",
    "    print('The best parameters on the training data are:\\n',rf_gs.best_params_) # printing the best parameters\n",
    "    max_depth_best = rf_gs.best_params_['max_depth']      # getting the best max_depth\n",
    "    n_estimators_best = rf_gs.best_params_['n_estimators']  # getting the best n_estimators\n",
    "    print(\"best max_depth:\",max_depth_best)\n",
    "    print(\"best n_estimators:\",n_estimators_best)\n",
    "    best_rf_gs = RandomForestClassifier(max_depth=max_depth_best,n_estimators=n_estimators_best) # instantiate the best model\n",
    "    \n",
    "    score(best_rf_gs, 'Random Forest', X_train, y_train)\n",
    "    \n",
    "    best_rf_gs.fit(X_train,y_train)  # fitting the best model\n",
    "\n",
    "    preds = best_rf_gs.predict(X_test)\n",
    "    print(\"\")\n",
    "    \n",
    "    print(\"Confusion Matrix:\\n\")\n",
    "    print(confusion_matrix(y_test,preds))\n",
    "    print(classification_report(y_test,preds))\n",
    "    print(accuracy_score(y_test, preds))\n",
    "\n",
    "    \n",
    "    print('Features and their importance:\\n')\n",
    "    feature_importances = pd.Series(best_rf_gs.feature_importances_, index=X_train.columns).sort_values().tail(10)\n",
    "    print(feature_importances.plot(kind=\"barh\", figsize=(6,6)))\n",
    "    return"
   ]
  },
  {
   "cell_type": "code",
   "execution_count": 11,
   "id": "b2a40c34",
   "metadata": {},
   "outputs": [
    {
     "name": "stdout",
     "output_type": "stream",
     "text": [
      "Fitting 5 folds for each of 288 candidates, totalling 1440 fits\n",
      "GridSearch results\n",
      "The best parameters on the training data are:\n",
      " {'max_depth': 17, 'n_estimators': 180}\n",
      "best max_depth: 17\n",
      "best n_estimators: 180\n",
      "Random Forest Score: 0.79 +- 0.013\n",
      "\n",
      "Confusion Matrix:\n",
      "\n",
      "[[ 181  104  434]\n",
      " [  55  485  182]\n",
      " [  92   62 2830]]\n",
      "              precision    recall  f1-score   support\n",
      "\n",
      "  Don't know       0.55      0.25      0.35       719\n",
      "          No       0.75      0.67      0.71       722\n",
      "         Yes       0.82      0.95      0.88      2984\n",
      "\n",
      "    accuracy                           0.79      4425\n",
      "   macro avg       0.71      0.62      0.64      4425\n",
      "weighted avg       0.77      0.79      0.77      4425\n",
      "\n",
      "0.7900564971751413\n",
      "Features and their importance:\n",
      "\n",
      "AxesSubplot(0.125,0.125;0.775x0.755)\n"
     ]
    },
    {
     "data": {
      "image/png": "[encoded data removed]",
      "text/plain": [
       "<Figure size 432x432 with 1 Axes>"
      ]
     },
     "metadata": {
      "needs_background": "light"
     },
     "output_type": "display_data"
    }
   ],
   "source": [
    "n_estimators = list(range(10,250,10))\n",
    "max_depth = list(range(1, 25, 2)) \n",
    "rfscore2(X_train, X_test, y_train, y_test,n_estimators,max_depth)"
   ]
  },
  {
   "cell_type": "code",
   "execution_count": 19,
   "id": "d57ed77b",
   "metadata": {},
   "outputs": [],
   "source": [
    "def decision_tree_score(X_train, X_test, y_train, y_test,max_depth):\n",
    "    cv_kf = KFold(n_splits=10,\n",
    "                  shuffle=True,\n",
    "                  random_state=30113)\n",
    "\n",
    "#     clf = DecisionTreeClassifier(random_state=42)\n",
    "    y_test= y_test.values.ravel()\n",
    "    y_train = y_train.values.ravel()\n",
    "#     tree_param = {'criterion':['gini','entropy'],'max_depth':[4,5,6,7,8,9,10,11,12,15,20,30,40,50,70,90,120,150]}\n",
    "    \n",
    "    dt_params = {\n",
    "            'criterion':['gini','entropy'],\n",
    "             'max_depth':max_depth}   # parameters for grid search\n",
    "    \n",
    "    rf_gs = GridSearchCV(DecisionTreeClassifier(), dt_params, cv=5, verbose=1, n_jobs=-1)\n",
    "    \n",
    "#     base_scores_1 = cross_val_score(clf, X_train,y_train, cv=cv_kf)\n",
    "\n",
    "\n",
    "#     print(\"DT: {:.2f} +/- {:.2f}\".format(base_scores_1.mean(), \n",
    "#                                          2 * base_scores_1.std()))\n",
    "\n",
    "    rf_gs.fit(X_train,y_train)\n",
    "#     clf.fit(X_train,y_train)\n",
    "#     preds_decision =clf.predict(X_test)\n",
    "#     print(\"Confusion matrix for DecisionTreeClassifier\")\n",
    "#     print(confusion_matrix(y_test,preds_decision))\n",
    "#     print(classification_report(y_test,preds_decision))\n",
    "#     print(accuracy_score(y_test, preds_decision))\n",
    "    print('GridSearch results')\n",
    "    print('The best parameters on the training data are:\\n',rf_gs.best_params_) # printing the best parameters\n",
    "    max_depth_best = rf_gs.best_params_['max_depth']      # getting the best max_depth\n",
    "    criterion_best = rf_gs.best_params_['criterion']  # getting the best n_estimators\n",
    "    print(\"best max_depth:\",max_depth_best)\n",
    "#     print(\"best n_estimators:\",n_estimators_best)\n",
    "    best_rf_gs = DecisionTreeClassifier(max_depth=max_depth_best,criterion=criterion_best) # instantiate the best model\n",
    "    \n",
    "    score(best_rf_gs, 'Decision Tree', X_train, y_train)\n",
    "    \n",
    "    best_rf_gs.fit(X_train,y_train)  # fitting the best model\n",
    "\n",
    "    preds = best_rf_gs.predict(X_test)\n",
    "    print(\"\")\n",
    "    \n",
    "    print(\"Confusion Matrix:\\n\")\n",
    "    print(confusion_matrix(y_test,preds))\n",
    "    print(classification_report(y_test,preds))\n",
    "    print(accuracy_score(y_test, preds))\n",
    "\n",
    "    \n",
    "    print('Features and their importance:\\n')\n",
    "    feature_importances = pd.Series(best_rf_gs.feature_importances_, index=X_train.columns).sort_values().tail(10)\n",
    "    print(feature_importances.plot(kind=\"barh\", figsize=(6,6)))\n",
    "    return\n"
   ]
  },
  {
   "cell_type": "code",
   "execution_count": 20,
   "id": "03edd68b",
   "metadata": {},
   "outputs": [
    {
     "name": "stdout",
     "output_type": "stream",
     "text": [
      "Fitting 5 folds for each of 24 candidates, totalling 120 fits\n",
      "GridSearch results\n",
      "The best parameters on the training data are:\n",
      " {'criterion': 'entropy', 'max_depth': 5}\n",
      "best max_depth: 5\n",
      "Decision Tree Score: 0.77 +- 0.014\n",
      "\n",
      "Confusion Matrix:\n",
      "\n",
      "[[  67   81  571]\n",
      " [  24  432  266]\n",
      " [  23   57 2904]]\n",
      "              precision    recall  f1-score   support\n",
      "\n",
      "  Don't know       0.59      0.09      0.16       719\n",
      "          No       0.76      0.60      0.67       722\n",
      "         Yes       0.78      0.97      0.86      2984\n",
      "\n",
      "    accuracy                           0.77      4425\n",
      "   macro avg       0.71      0.55      0.56      4425\n",
      "weighted avg       0.74      0.77      0.72      4425\n",
      "\n",
      "0.7690395480225989\n",
      "Features and their importance:\n",
      "\n",
      "AxesSubplot(0.125,0.125;0.775x0.755)\n"
     ]
    },
    {
     "data": {
      "image/png": "[encoded data removed]",
      "text/plain": [
       "<Figure size 432x432 with 1 Axes>"
      ]
     },
     "metadata": {
      "needs_background": "light"
     },
     "output_type": "display_data"
    }
   ],
   "source": [
    "n_estimators = list(range(4,250,10))\n",
    "max_depth = list(range(1, 25, 2)) \n",
    "decision_tree_score(X_train, X_test, y_train, y_test,max_depth)"
   ]
  },
  {
   "cell_type": "code",
   "execution_count": 44,
   "id": "61b7927a",
   "metadata": {},
   "outputs": [],
   "source": [
    "def bagging_score(base_model,X_train, X_test, y_train, y_test,max_features,n_estimators):\n",
    "    cv_kf = KFold(n_splits=10,\n",
    "                  shuffle=True,\n",
    "                  random_state=30113)\n",
    "    y_test= y_test.values.ravel()\n",
    "    y_train = y_train.values.ravel()\n",
    "    dt_params = {\n",
    "            'n_estimators':n_estimators,\n",
    "            'max_features':max_features}   # parameters for grid search\n",
    "    \n",
    "    bagger = BaggingClassifier(base_estimator=base_model, random_state=42)\n",
    "    rf_gs = GridSearchCV(bagger, dt_params, cv=5, verbose=1, n_jobs=-1)\n",
    "    rf_gs.fit(X_train,y_train)\n",
    "    print('GridSearch results for base estimator {}'.format(base_model))\n",
    "    print('The best parameters on the training data are:\\n',rf_gs.best_params_) # printing the best parameters\n",
    "    max_features_best = rf_gs.best_params_['max_features']      # getting the best max_depth\n",
    "    n_estimators_best = rf_gs.best_params_['n_estimators']  # getting the best n_estimators\n",
    "    print(\"best max_features:\",max_features_best)\n",
    "    print(\"best n_estimators:\",n_estimators_best)\n",
    "    best_rf_gs = BaggingClassifier(base_estimator=base_model,max_features=max_features_best,n_estimators=n_estimators_best) # instantiate the best model\n",
    "    \n",
    "    score(best_rf_gs, 'Bagger', X_train, y_train)\n",
    "    \n",
    "    best_rf_gs.fit(X_train,y_train)  # fitting the best model\n",
    "\n",
    "    preds = best_rf_gs.predict(X_test)\n",
    "    print(\"\")\n",
    "    \n",
    "    print(\"Confusion Matrix:\\n\")\n",
    "    print(confusion_matrix(y_test,preds))\n",
    "    print(classification_report(y_test,preds))\n",
    "    print(accuracy_score(y_test, preds))\n",
    "\n",
    "    \n",
    "#     print('Features and their importance:\\n')\n",
    "#     feature_importances = pd.Series(best_rf_gs.feature_importances_, index=X_train.columns).sort_values().tail(10)\n",
    "#     print(feature_importances.plot(kind=\"barh\", figsize=(6,6)))\n",
    "#     return\n"
   ]
  },
  {
   "cell_type": "code",
   "execution_count": null,
   "id": "850c1559",
   "metadata": {},
   "outputs": [
    {
     "name": "stdout",
     "output_type": "stream",
     "text": [
      "Fitting 5 folds for each of 1872 candidates, totalling 9360 fits\n"
     ]
    }
   ],
   "source": [
    "n_estimators = list(range(10,250,10))\n",
    "max_features = list(range(3, 81)) \n",
    "bagging_score(DecisionTreeClassifier(),X_train, X_test, y_train, y_test,n_estimators,max_features)"
   ]
  },
  {
   "cell_type": "code",
   "execution_count": null,
   "id": "16dce8d2",
   "metadata": {},
   "outputs": [],
   "source": [
    "\n",
    "\n",
    "\n"
   ]
  }
 ],
 "metadata": {
  "kernelspec": {
   "display_name": "Python 3 (ipykernel)",
   "language": "python",
   "name": "python3"
  },
  "language_info": {
   "codemirror_mode": {
    "name": "ipython",
    "version": 3
   },
   "file_extension": ".py",
   "mimetype": "text/x-python",
   "name": "python",
   "nbconvert_exporter": "python",
   "pygments_lexer": "ipython3",
   "version": "3.9.7"
  },
  "toc": {
   "base_numbering": 1,
   "nav_menu": {},
   "number_sections": true,
   "sideBar": true,
   "skip_h1_title": false,
   "title_cell": "Table of Contents",
   "title_sidebar": "Contents",
   "toc_cell": false,
   "toc_position": {},
   "toc_section_display": true,
   "toc_window_display": false
  }
 },
 "nbformat": 4,
 "nbformat_minor": 5
}
