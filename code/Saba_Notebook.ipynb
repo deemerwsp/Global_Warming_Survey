{
 "cells": [
  {
   "cell_type": "code",
   "execution_count": 122,
   "id": "7605e9a4",
   "metadata": {},
   "outputs": [],
   "source": [
    "# !pip install pyreadstat"
   ]
  },
  {
   "cell_type": "code",
   "execution_count": 123,
   "id": "dceb7929",
   "metadata": {},
   "outputs": [],
   "source": [
    "import pandas as pd \n",
    "import numpy as np\n",
    "import matplotlib.pyplot as plt\n",
    "import seaborn as sns"
   ]
  },
  {
   "cell_type": "code",
   "execution_count": null,
   "id": "8ed6bd96",
   "metadata": {},
   "outputs": [],
   "source": [
    "df = pd.read_spss('../data/CCAM SPSS Data 2008-2018.sav')"
   ]
  },
  {
   "cell_type": "code",
   "execution_count": null,
   "id": "0e9df3ac",
   "metadata": {},
   "outputs": [],
   "source": [
    "geo = pd.read_csv('../data/YCOM6.0_2021_Data_.csv', encoding='latin-1')"
   ]
  },
  {
   "cell_type": "code",
   "execution_count": null,
   "id": "8dfa68d9",
   "metadata": {},
   "outputs": [],
   "source": [
    "df.shape"
   ]
  },
  {
   "cell_type": "markdown",
   "id": "c13eb6df",
   "metadata": {},
   "source": [
    "**We have 22416 entries here**"
   ]
  },
  {
   "cell_type": "code",
   "execution_count": null,
   "id": "de1a06c3",
   "metadata": {},
   "outputs": [],
   "source": [
    "df.columns"
   ]
  },
  {
   "cell_type": "code",
   "execution_count": null,
   "id": "a26d76f3",
   "metadata": {
    "scrolled": true
   },
   "outputs": [],
   "source": [
    "df.isnull().sum()"
   ]
  },
  {
   "cell_type": "code",
   "execution_count": null,
   "id": "bf0242fc",
   "metadata": {
    "scrolled": true
   },
   "outputs": [],
   "source": [
    "df.religion.value_counts(normalize=True)"
   ]
  },
  {
   "cell_type": "markdown",
   "id": "125bb49c",
   "metadata": {},
   "source": [
    "**These values represent the identified religions in the survey**"
   ]
  },
  {
   "cell_type": "code",
   "execution_count": null,
   "id": "6b9bb92e",
   "metadata": {},
   "outputs": [],
   "source": [
    "df[df['year']=='2014']['religion'].value_counts(normalize=True)"
   ]
  },
  {
   "cell_type": "code",
   "execution_count": null,
   "id": "e70a728e",
   "metadata": {
    "scrolled": true
   },
   "outputs": [],
   "source": [
    "df[df['year']=='2013']['religion'].value_counts(normalize=True)"
   ]
  },
  {
   "cell_type": "code",
   "execution_count": null,
   "id": "160d7968",
   "metadata": {},
   "outputs": [],
   "source": [
    "df[df['year']=='2015']['religion'].value_counts(normalize=True)"
   ]
  },
  {
   "cell_type": "code",
   "execution_count": null,
   "id": "38948f22",
   "metadata": {},
   "outputs": [],
   "source": [
    "ax= pd.crosstab(index=df['religion'],columns=df['happening']).plot.bar(figsize=(15,8))\n",
    "ax.set_xlabel('Religion')\n",
    "ax.set_ylabel('Happening Count')\n",
    "ax.set_title('Religion and Climate Change Awareness');\n"
   ]
  },
  {
   "cell_type": "markdown",
   "id": "7ad234a7",
   "metadata": {},
   "source": [
    "- **This graph represents the distribution of`happening` across various religions.**\n",
    "- **Largely people across all religions accept that climate change is happening. Baptist seem to have a large proportion of people not accepting climate change**"
   ]
  },
  {
   "cell_type": "code",
   "execution_count": null,
   "id": "51ef4095",
   "metadata": {},
   "outputs": [],
   "source": [
    "list(df.religion_other_nonchristian.unique())"
   ]
  },
  {
   "cell_type": "markdown",
   "id": "f73809db",
   "metadata": {},
   "source": [
    "**This is user filled column so a lot of typos are being seen, since we have religion and attendance data we might drop this column**"
   ]
  },
  {
   "cell_type": "code",
   "execution_count": null,
   "id": "db0107f2",
   "metadata": {},
   "outputs": [],
   "source": [
    "df.evangelical.value_counts(normalize=True)"
   ]
  },
  {
   "cell_type": "code",
   "execution_count": null,
   "id": "6b34e652",
   "metadata": {},
   "outputs": [],
   "source": [
    "ax= pd.crosstab(index=df['evangelical'],columns=df['happening']).plot.bar(figsize=(15,8))\n",
    "ax.set_xlabel('Evangelical')\n",
    "ax.set_ylabel('Count')\n",
    "ax.set_title('Evangelical and Climate Change Awareness');"
   ]
  },
  {
   "cell_type": "markdown",
   "id": "7c3ac56e",
   "metadata": {},
   "source": [
    "**People who said Yes to being evangelical or refused to answer whether they are evangelical have a higher proportion of people not accepting climate change**"
   ]
  },
  {
   "cell_type": "code",
   "execution_count": null,
   "id": "a720fc8b",
   "metadata": {},
   "outputs": [],
   "source": [
    "df.service_attendance.value_counts(normalize=True)\n"
   ]
  },
  {
   "cell_type": "code",
   "execution_count": null,
   "id": "bffde83d",
   "metadata": {},
   "outputs": [],
   "source": [
    "ax= pd.crosstab(index=df['service_attendance'],columns=df['happening']).plot.bar(figsize=(15,8))\n",
    "ax.set_xlabel('Service Attendance')\n",
    "ax.set_ylabel('Count')\n",
    "ax.set_title('Service Attendance and Climate Change Awareness');"
   ]
  },
  {
   "cell_type": "markdown",
   "id": "e3996d47",
   "metadata": {},
   "source": [
    "**People who go for service attendance for more than once a week and once a week have a higher proportion of people refusing to believe in climate change compared to all people in that particular label of service attendance**"
   ]
  },
  {
   "cell_type": "code",
   "execution_count": null,
   "id": "a6b67ac2",
   "metadata": {},
   "outputs": [],
   "source": [
    "#mapping values to the ordinal variable representing religiosity\n",
    "service_attendance_di = {'Never': 1,\n",
    "                   'Once a week': 5,\n",
    "                   'Once a year or less': 2,\n",
    "                   'A few times a year': 3,\n",
    "                   'More than once a week':6,\n",
    "                   'Once or twice a month':4,\n",
    "                   'Refused':-1,\n",
    "                        }\n",
    "df.service_attendance= df['service_attendance'].map(lambda x: service_attendance_di[x])\n"
   ]
  },
  {
   "cell_type": "code",
   "execution_count": null,
   "id": "b5eab779",
   "metadata": {},
   "outputs": [],
   "source": [
    "df.marit_status.value_counts(normalize=True)"
   ]
  },
  {
   "cell_type": "code",
   "execution_count": null,
   "id": "361ad24b",
   "metadata": {},
   "outputs": [],
   "source": [
    "ax= pd.crosstab(index=df['marit_status'],columns=df['happening']).plot.bar(figsize=(15,8))\n",
    "ax.set_xlabel('Marital Status')\n",
    "ax.set_ylabel('Count')\n",
    "ax.set_title('Marital Status and Climate Change Awareness');"
   ]
  },
  {
   "cell_type": "markdown",
   "id": "5218b74b",
   "metadata": {},
   "source": [
    "**This graph represents the distribution of`happening` across various marital status.**"
   ]
  },
  {
   "cell_type": "code",
   "execution_count": null,
   "id": "de1adfa4",
   "metadata": {},
   "outputs": [],
   "source": [
    "df.employment.value_counts(normalize=True)"
   ]
  },
  {
   "cell_type": "code",
   "execution_count": null,
   "id": "a859c87e",
   "metadata": {},
   "outputs": [],
   "source": [
    "ax= pd.crosstab(index=df['employment'],columns=df['happening']).plot.bar(figsize=(15,8))\n",
    "ax.set_xlabel('Employment')\n",
    "ax.set_ylabel('Count')\n",
    "ax.set_title('Employment and Climate Change Awareness');"
   ]
  },
  {
   "cell_type": "markdown",
   "id": "57df2cdf",
   "metadata": {},
   "source": [
    "**This graph represents the distribution of`happening` across various employments.Seems like Retired people have a higher proportion of people not accepting climate change**"
   ]
  },
  {
   "cell_type": "code",
   "execution_count": null,
   "id": "5b44152e",
   "metadata": {},
   "outputs": [],
   "source": [
    "df.house_head.value_counts(normalize=True)"
   ]
  },
  {
   "cell_type": "code",
   "execution_count": null,
   "id": "72887ef2",
   "metadata": {},
   "outputs": [],
   "source": [
    "ax= pd.crosstab(index=df['house_head'],columns=df['happening']).plot.bar(figsize=(15,8))\n",
    "ax.set_xlabel('House Head')\n",
    "ax.set_ylabel('Count')\n",
    "ax.set_title('House Head and Climate Change Awareness');"
   ]
  },
  {
   "cell_type": "markdown",
   "id": "a6f99b19",
   "metadata": {},
   "source": [
    "**This graph represents the distribution of`happening` vs house heads status. Majority of those surveyed seem to own a household**"
   ]
  },
  {
   "cell_type": "code",
   "execution_count": null,
   "id": "5067fbc6",
   "metadata": {},
   "outputs": [],
   "source": [
    "df.house_size.value_counts(normalize=True)"
   ]
  },
  {
   "cell_type": "code",
   "execution_count": null,
   "id": "938f9d16",
   "metadata": {},
   "outputs": [],
   "source": [
    "ax= pd.crosstab(index=df['house_size'],columns=df['happening']).plot.bar(figsize=(15,8))\n",
    "ax.set_xlabel('House Size')\n",
    "ax.set_ylabel('Count')\n",
    "ax.set_title('House Size and Climate Change Awareness');"
   ]
  },
  {
   "cell_type": "markdown",
   "id": "3dec5309",
   "metadata": {},
   "source": [
    "**This graph represents the distribution of`happening` vs house size.** "
   ]
  },
  {
   "cell_type": "code",
   "execution_count": null,
   "id": "bbd2ce4d",
   "metadata": {},
   "outputs": [],
   "source": [
    "df.house_ages0to1.value_counts(normalize=True)"
   ]
  },
  {
   "cell_type": "code",
   "execution_count": null,
   "id": "2477533c",
   "metadata": {},
   "outputs": [],
   "source": [
    "ax= pd.crosstab(index=df['house_ages0to1'],columns=df['happening']).plot.bar(figsize=(15,8))\n",
    "ax.set_xlabel('House Age 0 to 1')\n",
    "ax.set_ylabel('Count')\n",
    "ax.set_title('House Members Age 0 to 1 and Climate Change Awareness');"
   ]
  },
  {
   "cell_type": "markdown",
   "id": "1584d3ba",
   "metadata": {},
   "source": [
    "\n",
    "- **This graph represents the distribution of`happening` vs house members age 0 to 1.**\n",
    "- **0 is the dominant group** "
   ]
  },
  {
   "cell_type": "code",
   "execution_count": null,
   "id": "2881a434",
   "metadata": {},
   "outputs": [],
   "source": [
    "df.house_ages2to5.value_counts(normalize=True)"
   ]
  },
  {
   "cell_type": "code",
   "execution_count": null,
   "id": "fcf67670",
   "metadata": {},
   "outputs": [],
   "source": [
    "ax= pd.crosstab(index=df['house_ages0to1'],columns=df['happening']).plot.bar(figsize=(15,8))\n",
    "ax.set_xlabel('House Age 2 to 5')\n",
    "ax.set_ylabel('Count')\n",
    "ax.set_title('House Members Age 2 to 5 and Climate Change Awareness');"
   ]
  },
  {
   "cell_type": "markdown",
   "id": "45f95788",
   "metadata": {},
   "source": [
    "\n",
    "- **This graph represents the distribution of`happening` vs house members age 2 to 5.**\n",
    "- **0 is the dominant group** "
   ]
  },
  {
   "cell_type": "code",
   "execution_count": null,
   "id": "348bcf1b",
   "metadata": {},
   "outputs": [],
   "source": [
    "df.house_ages6to12.value_counts(normalize=True)"
   ]
  },
  {
   "cell_type": "code",
   "execution_count": null,
   "id": "c34920d6",
   "metadata": {},
   "outputs": [],
   "source": [
    "ax= pd.crosstab(index=df['house_ages6to12'],columns=df['happening']).plot.bar(figsize=(15,8))\n",
    "ax.set_xlabel('House Age 6 to 12')\n",
    "ax.set_ylabel('Count')\n",
    "ax.set_title('House Members Age 6 to 12 and Climate Change Awareness');"
   ]
  },
  {
   "cell_type": "markdown",
   "id": "cdc9af6d",
   "metadata": {},
   "source": [
    "\n",
    "- **This graph represents the distribution of`happening` vs house members age 6 to 12.** \n",
    "- **0 is the dominant group** \n"
   ]
  },
  {
   "cell_type": "code",
   "execution_count": null,
   "id": "ac0b0c82",
   "metadata": {
    "scrolled": true
   },
   "outputs": [],
   "source": [
    "df.house_ages13to17.value_counts(normalize=True)"
   ]
  },
  {
   "cell_type": "code",
   "execution_count": null,
   "id": "f5264098",
   "metadata": {},
   "outputs": [],
   "source": [
    "ax= pd.crosstab(index=df['house_ages13to17'],columns=df['happening']).plot.bar(figsize=(15,8))\n",
    "ax.set_xlabel('House Age 13 to 17')\n",
    "ax.set_ylabel('Count')\n",
    "ax.set_title('House Members Age 13 to 17 and Climate Change Awareness');"
   ]
  },
  {
   "cell_type": "markdown",
   "id": "222cc667",
   "metadata": {},
   "source": [
    "\n",
    "- **This graph represents the distribution of`happening` vs house members age 13 to 17.** \n",
    "- **0 is the dominant group** \n"
   ]
  },
  {
   "cell_type": "code",
   "execution_count": null,
   "id": "4daa0368",
   "metadata": {},
   "outputs": [],
   "source": [
    "df.house_ages18plus.value_counts(normalize=True)"
   ]
  },
  {
   "cell_type": "code",
   "execution_count": null,
   "id": "ad243680",
   "metadata": {},
   "outputs": [],
   "source": [
    "ax= pd.crosstab(index=df['house_ages13to17'],columns=df['happening']).plot.bar(figsize=(15,8))\n",
    "ax.set_xlabel('House Age 18+')\n",
    "ax.set_ylabel('Count')\n",
    "ax.set_title('House Members Age 18+ and Climate Change Awareness');"
   ]
  },
  {
   "cell_type": "markdown",
   "id": "71dec912",
   "metadata": {},
   "source": [
    "\n",
    "- **This graph represents the distribution of`happening` vs house members age 18+.** \n",
    "- **0 is the dominant group** \n"
   ]
  },
  {
   "cell_type": "code",
   "execution_count": null,
   "id": "cd1daee8",
   "metadata": {},
   "outputs": [],
   "source": [
    "df.house_type.value_counts(normalize=True)"
   ]
  },
  {
   "cell_type": "code",
   "execution_count": null,
   "id": "932dc524",
   "metadata": {},
   "outputs": [],
   "source": [
    "ax= pd.crosstab(index=df['house_type'],columns=df['happening']).plot.bar(figsize=(15,8))\n",
    "ax.set_xlabel('House Type')\n",
    "ax.set_ylabel('Count')\n",
    "ax.set_title('House Type and Climate Change Awareness');"
   ]
  },
  {
   "cell_type": "markdown",
   "id": "2407d18d",
   "metadata": {},
   "source": [
    "\n",
    "- **One family house are pre-dominant.** \n",
    "- **People with mobile homes seem to have a higher proportion of non-believers of climate change** \n"
   ]
  },
  {
   "cell_type": "code",
   "execution_count": null,
   "id": "4b9642fa",
   "metadata": {},
   "outputs": [],
   "source": [
    "df.house_own.value_counts(normalize=True)"
   ]
  },
  {
   "cell_type": "code",
   "execution_count": null,
   "id": "484ec0a9",
   "metadata": {},
   "outputs": [],
   "source": [
    "ax= pd.crosstab(index=df['house_own'],columns=df['happening']).plot.bar(figsize=(15,8))\n",
    "ax.set_xlabel('House Own')\n",
    "ax.set_ylabel('Count')\n",
    "ax.set_title('House Ownership and Climate Change Awareness');"
   ]
  },
  {
   "cell_type": "markdown",
   "id": "a6a0da14",
   "metadata": {},
   "source": [
    "\n",
    "- **houses owned by an individual or a family member are pre-dominant.** \n"
   ]
  },
  {
   "cell_type": "code",
   "execution_count": null,
   "id": "27317866",
   "metadata": {},
   "outputs": [],
   "source": [
    "ax = df.groupby(['religion'])['happening'].count().plot(kind='bar',stacked = True, color='green')\n",
    "ax.set_xlabel('Religion')\n",
    "ax.set_ylabel('Happening')\n",
    "ax.set_title('Yes to Climate Change across Religions');"
   ]
  },
  {
   "cell_type": "markdown",
   "id": "9c33df04",
   "metadata": {},
   "source": [
    "\n",
    "- **This graph represents the believers in climate change across religions.** \n",
    "- **The numbers vary due to different population of respective religion people** \n",
    "- **As expected for American society Catholic and Protestant have highest number of counts followed by Atheists and Baptists**"
   ]
  },
  {
   "cell_type": "code",
   "execution_count": null,
   "id": "50b264e3",
   "metadata": {},
   "outputs": [],
   "source": [
    "ax = df.groupby(['religion','income_category']).size().unstack().plot(kind='barh', figsize=(50,50))\n",
    "ax.set_ylabel('Religion',fontsize=60)\n",
    "ax.set_xlabel('Count',fontsize=60)\n",
    "ax.legend(loc= (1.01,0.7),fontsize =40)\n",
    "ax.set_title('Incomes across Religions',fontsize=60)\n",
    "plt.setp(ax.get_xticklabels(), fontsize=40)\n",
    "plt.setp(ax.get_yticklabels(), fontsize=40);"
   ]
  },
  {
   "cell_type": "markdown",
   "id": "43fc0dcb",
   "metadata": {},
   "source": [
    "- **High income category is prominent in Jewish, Atheist and Agnostic**\n",
    "- **Middle income category is prominent in Protestant, Catholic, Eastern Orthodox**\n",
    "- **Low Income category is predominant in all other religions**\n"
   ]
  },
  {
   "cell_type": "code",
   "execution_count": null,
   "id": "e68745ab",
   "metadata": {},
   "outputs": [],
   "source": [
    "ax = df.groupby(['service_attendance','income_category']).size().unstack().plot(kind='barh', figsize=(50,50))\n",
    "ax.set_ylabel('Service Attendance',fontsize=60)\n",
    "ax.set_xlabel('Count',fontsize=60)\n",
    "ax.legend(loc= (1.01,0.7),fontsize =40)\n",
    "ax.set_title('Incomes across Religiosity',fontsize=60)\n",
    "plt.setp(ax.get_xticklabels(), fontsize=40)\n",
    "plt.setp(ax.get_yticklabels(), fontsize=40);\n",
    "#-1. Refused\n",
    "# 1. Never\n",
    "# 2. Once a year or less\n",
    "# 3. A few times a year\n",
    "# 4. Once or twice a month\n",
    "# 5. Once a week\n",
    "# 6. More than once a week"
   ]
  },
  {
   "cell_type": "markdown",
   "id": "bcdb9492",
   "metadata": {},
   "source": [
    "\n",
    "- **To my surprise people who never go for service attendance(marked 1) have the most people in low income category**\n",
    "- **Low income category is most represented across various groups**\n"
   ]
  },
  {
   "cell_type": "code",
   "execution_count": null,
   "id": "ccff037a",
   "metadata": {},
   "outputs": [],
   "source": [
    "ax = df.groupby(['marit_status','income_category']).size().unstack().plot(kind='barh', figsize=(50,50))\n",
    "ax.set_ylabel('Marital Status',fontsize=60)\n",
    "ax.set_xlabel('Count',fontsize=60)\n",
    "ax.legend(loc= (1.01,0.7),fontsize =40)\n",
    "ax.set_title('Incomes vs Marital Status',fontsize =60)\n",
    "plt.setp(ax.get_xticklabels(), fontsize=40)\n",
    "plt.setp(ax.get_yticklabels(), fontsize=40);"
   ]
  },
  {
   "cell_type": "markdown",
   "id": "6125dbd8",
   "metadata": {},
   "source": [
    "- **Low Income category has most people lying in it except for the Married group where Middle Income is predominant**\n",
    "- **Married people are likely to have more income than the rest**\n"
   ]
  },
  {
   "cell_type": "code",
   "execution_count": null,
   "id": "222851dd",
   "metadata": {},
   "outputs": [],
   "source": [
    "ax= pd.crosstab(index=df['house_type'],columns=df['income_category']).plot.bar(figsize=(15,8))\n",
    "ax.set_xlabel('House Type', fontsize=20)\n",
    "ax.set_ylabel('Income category',fontsize=20)\n",
    "ax.set_title('House Type vs Income Category',fontsize=20);"
   ]
  },
  {
   "cell_type": "markdown",
   "id": "5c04ed18",
   "metadata": {},
   "source": [
    "**- Middle income people are more likely to own a One-Family house**"
   ]
  },
  {
   "cell_type": "code",
   "execution_count": null,
   "id": "92717878",
   "metadata": {},
   "outputs": [],
   "source": [
    "my_columns=['religion','religion_other_nonchristian', 'evangelical', 'service_attendance',\n",
    "       'marit_status', 'employment', 'house_head', 'house_size',\n",
    "       'house_ages0to1', 'house_ages2to5', 'house_ages6to12',\n",
    "       'house_ages13to17', 'house_ages18plus', 'house_type', 'house_own']"
   ]
  },
  {
   "cell_type": "code",
   "execution_count": null,
   "id": "0c7753b1",
   "metadata": {},
   "outputs": [],
   "source": [
    "df[my_columns].dtypes"
   ]
  },
  {
   "cell_type": "code",
   "execution_count": null,
   "id": "d30386dc",
   "metadata": {},
   "outputs": [],
   "source": [
    "df['service_attendance']=df['service_attendance'].astype(np.int64)\n",
    "df['house_size']=df['house_size'].astype(np.int64)\n",
    "df['house_ages0to1']=df['house_ages0to1'].astype(np.int64)\n",
    "df['house_ages2to5']=df['house_ages2to5'].astype(np.int64)\n",
    "df['house_ages6to12']=df['house_ages6to12'].astype(np.int64)\n",
    "df['house_ages13to17']=df['house_ages13to17'].astype(np.int64)\n",
    "df['house_ages18plus']=df['house_ages18plus'].astype(np.int64)"
   ]
  },
  {
   "cell_type": "code",
   "execution_count": null,
   "id": "628b64e9",
   "metadata": {},
   "outputs": [],
   "source": [
    "df[my_columns].corr()"
   ]
  },
  {
   "cell_type": "code",
   "execution_count": null,
   "id": "c105972b",
   "metadata": {
    "scrolled": true
   },
   "outputs": [],
   "source": [
    "df[my_columns].describe()"
   ]
  },
  {
   "cell_type": "code",
   "execution_count": null,
   "id": "326ff9e3",
   "metadata": {},
   "outputs": [],
   "source": [
    "ax= pd.crosstab(index=df['region4'],columns=df['income_category']).plot.bar(figsize=(15,8))\n",
    "ax.set_xlabel('Region4',fontsize=15)\n",
    "ax.set_ylabel('Income category',fontsize=15)\n",
    "ax.set_title('Region4 vs Income Category',fontsize=20);"
   ]
  },
  {
   "cell_type": "markdown",
   "id": "3025d751",
   "metadata": {},
   "source": [
    "- **Low income category is predominant**\n",
    "- **High income is less represented across regions**"
   ]
  },
  {
   "cell_type": "code",
   "execution_count": null,
   "id": "76e7c44e",
   "metadata": {},
   "outputs": [],
   "source": [
    "ax= pd.crosstab(index=df['region9'],columns=df['income_category']).plot.bar(figsize=(15,8))\n",
    "ax.set_xlabel('Region9',fontsize=15)\n",
    "ax.set_ylabel('Income category',fontsize=15)\n",
    "ax.set_title('Region9 vs Income Category',fontsize=20);"
   ]
  },
  {
   "cell_type": "markdown",
   "id": "f11cae60",
   "metadata": {},
   "source": [
    "- **Low Income is predominant across regions except New England and West-North Central**\n",
    "- **High income is predominant in New England**\n",
    "- **Stark  inequality in East South Central region**\n",
    "- **Pacific region has almost uniform distribution of low, medium and high income categories**"
   ]
  },
  {
   "cell_type": "code",
   "execution_count": null,
   "id": "2057647c",
   "metadata": {},
   "outputs": [],
   "source": [
    "df[['house_size','house_ages18plus']].corr()"
   ]
  },
  {
   "cell_type": "markdown",
   "id": "360793d4",
   "metadata": {},
   "source": [
    "- **Very high correlation between house_size and house_ages18plus might drop one of them**\n",
    "- **Keep `children` as defined below and either of `house_size` or `house_ages18plus`and leave out `house_ages0to1`, `house_ages2to5`, `house_ages6to12`, `house_ages13to17`**"
   ]
  },
  {
   "cell_type": "code",
   "execution_count": null,
   "id": "03ec3ff4",
   "metadata": {},
   "outputs": [],
   "source": [
    "df[['house_ages0to1', 'house_ages2to5', 'house_ages6to12',\n",
    "       'house_ages13to17', 'house_ages18plus','house_size']]"
   ]
  },
  {
   "cell_type": "code",
   "execution_count": null,
   "id": "dc366a4e",
   "metadata": {},
   "outputs": [],
   "source": [
    "df['children'] =df['house_ages0to1']+df['house_ages2to5']+df['house_ages6to12']+df['house_ages13to17']"
   ]
  },
  {
   "cell_type": "code",
   "execution_count": null,
   "id": "6b6da3ed",
   "metadata": {},
   "outputs": [],
   "source": [
    "df['children'].describe()"
   ]
  },
  {
   "cell_type": "markdown",
   "id": "0c1a609d",
   "metadata": {},
   "source": [
    "- **All good with `children` column**"
   ]
  },
  {
   "cell_type": "code",
   "execution_count": null,
   "id": "294d5e72",
   "metadata": {},
   "outputs": [],
   "source": [
    "ax= pd.crosstab(index=df['children'],columns=df['happening']).plot.bar(figsize=(15,8))\n",
    "ax.set_xlabel('Children', fontsize=15)\n",
    "ax.set_ylabel('Count',fontsize=15)\n",
    "ax.set_title('Children in the house and Climate Awareness', fontsize=20);"
   ]
  },
  {
   "cell_type": "markdown",
   "id": "d9281f5b",
   "metadata": {},
   "source": [
    "- **Seems like having more children reduces the climate awareness or that people with more climate awareness are having less children**\n",
    "- **I was expecting a reverse relationship too that people having children would want to leave a better world for their children so would be more aware, I don't know the exact relationship**"
   ]
  },
  {
   "cell_type": "code",
   "execution_count": null,
   "id": "3fe51491",
   "metadata": {},
   "outputs": [],
   "source": [
    "columns_to_keep=['religion', 'service_attendance','marit_status', 'employment', 'house_head',\n",
    "                 'house_size',  'house_ages18plus','children', 'house_type', 'house_own']"
   ]
  },
  {
   "cell_type": "markdown",
   "id": "d553acdb",
   "metadata": {},
   "source": [
    "**These are the columns I would like to keep after EDA*"
   ]
  }
 ],
 "metadata": {
  "kernelspec": {
   "display_name": "Python 3 (ipykernel)",
   "language": "python",
   "name": "python3"
  },
  "language_info": {
   "codemirror_mode": {
    "name": "ipython",
    "version": 3
   },
   "file_extension": ".py",
   "mimetype": "text/x-python",
   "name": "python",
   "nbconvert_exporter": "python",
   "pygments_lexer": "ipython3",
   "version": "3.9.7"
  },
  "toc": {
   "base_numbering": 1,
   "nav_menu": {},
   "number_sections": true,
   "sideBar": true,
   "skip_h1_title": false,
   "title_cell": "Table of Contents",
   "title_sidebar": "Contents",
   "toc_cell": false,
   "toc_position": {},
   "toc_section_display": true,
   "toc_window_display": false
  }
 },
 "nbformat": 4,
 "nbformat_minor": 5
}
