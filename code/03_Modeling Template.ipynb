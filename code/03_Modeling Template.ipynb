{
 "cells": [
  {
   "cell_type": "code",
   "execution_count": 4,
   "id": "2de5db89",
   "metadata": {
    "ExecuteTime": {
     "end_time": "2022-06-27T02:15:03.435017Z",
     "start_time": "2022-06-27T02:15:03.423019Z"
    }
   },
   "outputs": [],
   "source": [
    "import pandas as pd\n",
    "import numpy as np"
   ]
  },
  {
   "cell_type": "code",
   "execution_count": 7,
   "id": "3564f14c",
   "metadata": {
    "ExecuteTime": {
     "end_time": "2022-06-27T02:15:27.886758Z",
     "start_time": "2022-06-27T02:15:26.978863Z"
    }
   },
   "outputs": [],
   "source": [
    "y_train = pd.read_csv('../data/y_train_processed.csv')\n",
    "y_test = pd.read_csv('../data/y_test_processed.csv')\n",
    "\n",
    "X_train = pd.read_csv('../data/x_train_processed.csv')\n",
    "X_test = pd.read_csv('../data/x_test_processed.csv')\n",
    "\n",
    "X_train_ss = pd.read_csv('../data/x_train_ss_processed.csv')\n",
    "X_test_ss = pd.read_csv('../data/x_test_ss_processed.csv')"
   ]
  },
  {
   "cell_type": "code",
   "execution_count": 8,
   "id": "9ea3410d",
   "metadata": {
    "ExecuteTime": {
     "end_time": "2022-06-27T02:15:27.902448Z",
     "start_time": "2022-06-27T02:15:27.890768Z"
    }
   },
   "outputs": [
    {
     "name": "stdout",
     "output_type": "stream",
     "text": [
      "(17696, 1)\n",
      "(4425, 1)\n",
      "(17696, 80)\n",
      "(4425, 80)\n",
      "(17696, 80)\n",
      "(4425, 80)\n"
     ]
    }
   ],
   "source": [
    "for i in [y_train, y_test, X_train, X_test, X_train_ss, X_test_ss]:\n",
    "    print(i.shape)"
   ]
  }
 ],
 "metadata": {
  "kernelspec": {
   "display_name": "Python 3 (ipykernel)",
   "language": "python",
   "name": "python3"
  },
  "language_info": {
   "codemirror_mode": {
    "name": "ipython",
    "version": 3
   },
   "file_extension": ".py",
   "mimetype": "text/x-python",
   "name": "python",
   "nbconvert_exporter": "python",
   "pygments_lexer": "ipython3",
   "version": "3.9.7"
  },
  "toc": {
   "base_numbering": 1,
   "nav_menu": {},
   "number_sections": false,
   "sideBar": true,
   "skip_h1_title": false,
   "title_cell": "Table of Contents",
   "title_sidebar": "Contents",
   "toc_cell": false,
   "toc_position": {},
   "toc_section_display": true,
   "toc_window_display": false
  }
 },
 "nbformat": 4,
 "nbformat_minor": 5
}
