{
 "cells": [
  {
   "cell_type": "code",
   "execution_count": 1,
   "id": "2de5db89",
   "metadata": {
    "ExecuteTime": {
     "end_time": "2022-06-25T16:52:45.060544Z",
     "start_time": "2022-06-25T16:52:44.349479Z"
    }
   },
   "outputs": [],
   "source": [
    "import pandas as pd\n",
    "import numpy as np"
   ]
  },
  {
   "cell_type": "code",
   "execution_count": 2,
   "id": "3564f14c",
   "metadata": {
    "ExecuteTime": {
     "end_time": "2022-06-25T16:53:28.937759Z",
     "start_time": "2022-06-25T16:53:28.148094Z"
    }
   },
   "outputs": [],
   "source": [
    "y_train = pd.read_csv('../data/y_train_processed.csv')\n",
    "y_test = pd.read_csv('../data/y_train_processed.csv')\n",
    "\n",
    "X_train = pd.read_csv('../data/x_train_processed.csv')\n",
    "X_test = pd.read_csv('../data/x_test_processed.csv')\n",
    "\n",
    "X_train_ss = pd.read_csv('../data/x_train_ss_processed.csv')\n",
    "X_test_ss = pd.read_csv('../data/x_test_ss_processed.csv')"
   ]
  }
 ],
 "metadata": {
  "kernelspec": {
   "display_name": "Python 3 (ipykernel)",
   "language": "python",
   "name": "python3"
  },
  "language_info": {
   "codemirror_mode": {
    "name": "ipython",
    "version": 3
   },
   "file_extension": ".py",
   "mimetype": "text/x-python",
   "name": "python",
   "nbconvert_exporter": "python",
   "pygments_lexer": "ipython3",
   "version": "3.9.7"
  },
  "toc": {
   "base_numbering": 1,
   "nav_menu": {},
   "number_sections": false,
   "sideBar": true,
   "skip_h1_title": false,
   "title_cell": "Table of Contents",
   "title_sidebar": "Contents",
   "toc_cell": false,
   "toc_position": {},
   "toc_section_display": true,
   "toc_window_display": false
  }
 },
 "nbformat": 4,
 "nbformat_minor": 5
}
