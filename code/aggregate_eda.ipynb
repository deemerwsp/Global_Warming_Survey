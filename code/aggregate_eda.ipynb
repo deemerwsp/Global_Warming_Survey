{
 "cells": [
  {
   "cell_type": "markdown",
   "id": "299244cf",
   "metadata": {},
   "source": [
    "# Imports"
   ]
  },
  {
   "cell_type": "code",
   "execution_count": 2,
   "id": "79d1f9b4",
   "metadata": {
    "ExecuteTime": {
     "end_time": "2022-06-14T23:03:45.631632Z",
     "start_time": "2022-06-14T23:03:44.082853Z"
    }
   },
   "outputs": [],
   "source": [
    "import pandas as pd\n",
    "import matplotlib.pyplot as plt\n",
    "import seaborn as sns\n",
    "\n",
    "import numpy as np"
   ]
  },
  {
   "cell_type": "code",
   "execution_count": 3,
   "id": "0d054ff8",
   "metadata": {
    "ExecuteTime": {
     "end_time": "2022-06-14T23:03:46.908963Z",
     "start_time": "2022-06-14T23:03:45.633015Z"
    }
   },
   "outputs": [],
   "source": [
    "df = pd.read_spss('../data/CCAM SPSS Data 2008-2018.sav')\n",
    "df.to_csv('../data/CCAM SPSS Data 2008-2018.csv', index=False)\n",
    "df = pd.read_csv('../data/CCAM SPSS Data 2008-2018.csv')"
   ]
  },
  {
   "cell_type": "code",
   "execution_count": 4,
   "id": "cc172c53",
   "metadata": {
    "ExecuteTime": {
     "end_time": "2022-06-14T23:03:46.935992Z",
     "start_time": "2022-06-14T23:03:46.910083Z"
    }
   },
   "outputs": [],
   "source": [
    "geo = pd.read_csv('../data/YCOM6.0_2021_Data_.csv', encoding='latin-1')"
   ]
  },
  {
   "cell_type": "code",
   "execution_count": 5,
   "id": "80448662",
   "metadata": {
    "ExecuteTime": {
     "end_time": "2022-06-14T23:03:46.947729Z",
     "start_time": "2022-06-14T23:03:46.938117Z"
    }
   },
   "outputs": [],
   "source": [
    "df.drop('case_ID', axis=1, inplace=True)"
   ]
  },
  {
   "cell_type": "markdown",
   "id": "200bfc08",
   "metadata": {},
   "source": [
    "# Initial Inspection "
   ]
  },
  {
   "cell_type": "code",
   "execution_count": 6,
   "id": "f39f55d3",
   "metadata": {
    "ExecuteTime": {
     "end_time": "2022-06-14T23:03:46.953423Z",
     "start_time": "2022-06-14T23:03:46.948974Z"
    }
   },
   "outputs": [],
   "source": [
    "def columns_info(df):\n",
    "    columns_df = pd.DataFrame({'nulls': [df[col].isna().sum() for col in df.keys()], \n",
    "                         'dtype': [df[col].dtype for col in df.keys()], \n",
    "                         'nunique_values': [df[col].nunique() for col in df.keys()], \n",
    "                         'unique_values': [df[col].unique()for col in df.keys()], \n",
    "                         'value_counts': [df[col].value_counts() for col in df.keys()]}, \n",
    "                         index=[col for col in df.keys()])\n",
    "    return columns_df\n",
    "\n",
    "# Function to Inspect Column\n",
    "def col_info(col):\n",
    "    return pd.DataFrame({'nulls': df[col].isna().sum(), \n",
    "                         'dtype': df[col].dtype,\n",
    "                         'nunique': df[col].nunique(), \n",
    "                         'unique_values': [df[col].unique()], \n",
    "                         'value_counts': [df[col].value_counts()]}, \n",
    "                         index=[col])"
   ]
  },
  {
   "cell_type": "code",
   "execution_count": 7,
   "id": "143df187",
   "metadata": {
    "ExecuteTime": {
     "end_time": "2022-06-14T23:03:47.189804Z",
     "start_time": "2022-06-14T23:03:46.954768Z"
    },
    "scrolled": false
   },
   "outputs": [
    {
     "data": {
      "text/html": [
       "<div>\n",
       "<style scoped>\n",
       "    .dataframe tbody tr th:only-of-type {\n",
       "        vertical-align: middle;\n",
       "    }\n",
       "\n",
       "    .dataframe tbody tr th {\n",
       "        vertical-align: top;\n",
       "    }\n",
       "\n",
       "    .dataframe thead th {\n",
       "        text-align: right;\n",
       "    }\n",
       "</style>\n",
       "<table border=\"1\" class=\"dataframe\">\n",
       "  <thead>\n",
       "    <tr style=\"text-align: right;\">\n",
       "      <th></th>\n",
       "      <th>nulls</th>\n",
       "      <th>dtype</th>\n",
       "      <th>nunique_values</th>\n",
       "      <th>unique_values</th>\n",
       "      <th>value_counts</th>\n",
       "    </tr>\n",
       "  </thead>\n",
       "  <tbody>\n",
       "    <tr>\n",
       "      <th>wave</th>\n",
       "      <td>0</td>\n",
       "      <td>object</td>\n",
       "      <td>19</td>\n",
       "      <td>[Nov 2008, Jan 2010, Jun 2010, May 2011, Nov 2...</td>\n",
       "      <td>Nov 2008    2164\n",
       "Oct 2015    1330\n",
       "Oct 2017    ...</td>\n",
       "    </tr>\n",
       "    <tr>\n",
       "      <th>year</th>\n",
       "      <td>0</td>\n",
       "      <td>int64</td>\n",
       "      <td>10</td>\n",
       "      <td>[2008, 2010, 2011, 2012, 2013, 2014, 2015, 201...</td>\n",
       "      <td>2015    2593\n",
       "2017    2570\n",
       "2016    2430\n",
       "2018   ...</td>\n",
       "    </tr>\n",
       "    <tr>\n",
       "      <th>weight_wave</th>\n",
       "      <td>0</td>\n",
       "      <td>float64</td>\n",
       "      <td>8230</td>\n",
       "      <td>[0.5400000000000001, 0.85, 0.49, 0.29, 1.29, 2...</td>\n",
       "      <td>0.5400    80\n",
       "0.6100    78\n",
       "0.4200    77\n",
       "0.4100 ...</td>\n",
       "    </tr>\n",
       "    <tr>\n",
       "      <th>weight_aggregate</th>\n",
       "      <td>0</td>\n",
       "      <td>float64</td>\n",
       "      <td>11648</td>\n",
       "      <td>[0.2944021792003114, 0.4634108376301197, 0.267...</td>\n",
       "      <td>0.299854    30\n",
       "0.294402    29\n",
       "0.316210    29\n",
       "0...</td>\n",
       "    </tr>\n",
       "    <tr>\n",
       "      <th>happening</th>\n",
       "      <td>0</td>\n",
       "      <td>object</td>\n",
       "      <td>4</td>\n",
       "      <td>[Yes, Don't know, No, Refused]</td>\n",
       "      <td>Yes           14915\n",
       "Don't know     3818\n",
       "No    ...</td>\n",
       "    </tr>\n",
       "    <tr>\n",
       "      <th>cause_original</th>\n",
       "      <td>0</td>\n",
       "      <td>object</td>\n",
       "      <td>5</td>\n",
       "      <td>[Caused mostly by human activities, Caused mos...</td>\n",
       "      <td>Caused mostly by human activities             ...</td>\n",
       "    </tr>\n",
       "    <tr>\n",
       "      <th>cause_other_text</th>\n",
       "      <td>20426</td>\n",
       "      <td>object</td>\n",
       "      <td>1390</td>\n",
       "      <td>[nan, both of the above, a combination of huma...</td>\n",
       "      <td>both                                          ...</td>\n",
       "    </tr>\n",
       "    <tr>\n",
       "      <th>cause_recoded</th>\n",
       "      <td>0</td>\n",
       "      <td>object</td>\n",
       "      <td>7</td>\n",
       "      <td>[Caused mostly by human activities, Caused mos...</td>\n",
       "      <td>Caused mostly by human activities             ...</td>\n",
       "    </tr>\n",
       "    <tr>\n",
       "      <th>sci_consensus</th>\n",
       "      <td>1330</td>\n",
       "      <td>object</td>\n",
       "      <td>5</td>\n",
       "      <td>[Most scientists think global warming is happe...</td>\n",
       "      <td>Most scientists think global warming is happen...</td>\n",
       "    </tr>\n",
       "    <tr>\n",
       "      <th>worry</th>\n",
       "      <td>0</td>\n",
       "      <td>object</td>\n",
       "      <td>5</td>\n",
       "      <td>[Somewhat worried, Not very worried, Not at al...</td>\n",
       "      <td>Somewhat worried      9049\n",
       "Not very worried   ...</td>\n",
       "    </tr>\n",
       "    <tr>\n",
       "      <th>harm_personally</th>\n",
       "      <td>0</td>\n",
       "      <td>object</td>\n",
       "      <td>6</td>\n",
       "      <td>[Only a little, Not at all, Don't know, A mode...</td>\n",
       "      <td>Only a little        6024\n",
       "Not at all          ...</td>\n",
       "    </tr>\n",
       "    <tr>\n",
       "      <th>harm_US</th>\n",
       "      <td>0</td>\n",
       "      <td>object</td>\n",
       "      <td>6</td>\n",
       "      <td>[A moderate amount, Refused, Not at all, Only ...</td>\n",
       "      <td>A moderate amount    6729\n",
       "A great deal        ...</td>\n",
       "    </tr>\n",
       "    <tr>\n",
       "      <th>harm_dev_countries</th>\n",
       "      <td>0</td>\n",
       "      <td>object</td>\n",
       "      <td>6</td>\n",
       "      <td>[A great deal, Only a little, Not at all, A mo...</td>\n",
       "      <td>A great deal         7313\n",
       "A moderate amount   ...</td>\n",
       "    </tr>\n",
       "    <tr>\n",
       "      <th>harm_future_gen</th>\n",
       "      <td>0</td>\n",
       "      <td>object</td>\n",
       "      <td>6</td>\n",
       "      <td>[A great deal, A moderate amount, Not at all, ...</td>\n",
       "      <td>A great deal         10408\n",
       "A moderate amount  ...</td>\n",
       "    </tr>\n",
       "    <tr>\n",
       "      <th>harm_plants_animals</th>\n",
       "      <td>1330</td>\n",
       "      <td>object</td>\n",
       "      <td>6</td>\n",
       "      <td>[A great deal, A moderate amount, Not at all, ...</td>\n",
       "      <td>A great deal         9560\n",
       "A moderate amount   ...</td>\n",
       "    </tr>\n",
       "    <tr>\n",
       "      <th>when_harm_US</th>\n",
       "      <td>0</td>\n",
       "      <td>object</td>\n",
       "      <td>7</td>\n",
       "      <td>[In 10 years, In 50 years, Never, In 25 years,...</td>\n",
       "      <td>They are being harmed now    7711\n",
       "Never       ...</td>\n",
       "    </tr>\n",
       "    <tr>\n",
       "      <th>reg_CO2_pollutant</th>\n",
       "      <td>1010</td>\n",
       "      <td>object</td>\n",
       "      <td>5</td>\n",
       "      <td>[Strongly support, Somewhat support, Somewhat ...</td>\n",
       "      <td>Somewhat support    9605\n",
       "Strongly support    6...</td>\n",
       "    </tr>\n",
       "    <tr>\n",
       "      <th>reg_utilities</th>\n",
       "      <td>5026</td>\n",
       "      <td>object</td>\n",
       "      <td>5</td>\n",
       "      <td>[Strongly support, Somewhat support, Strongly ...</td>\n",
       "      <td>Somewhat support    6706\n",
       "Strongly support    4...</td>\n",
       "    </tr>\n",
       "    <tr>\n",
       "      <th>fund_research</th>\n",
       "      <td>0</td>\n",
       "      <td>object</td>\n",
       "      <td>5</td>\n",
       "      <td>[Strongly support, Somewhat support, Strongly ...</td>\n",
       "      <td>Somewhat support    9198\n",
       "Strongly support    9...</td>\n",
       "    </tr>\n",
       "    <tr>\n",
       "      <th>reg_coal_emissions</th>\n",
       "      <td>9098</td>\n",
       "      <td>object</td>\n",
       "      <td>5</td>\n",
       "      <td>[nan, Strongly oppose, Strongly support, Somew...</td>\n",
       "      <td>Somewhat support    5860\n",
       "Strongly support    3...</td>\n",
       "    </tr>\n",
       "    <tr>\n",
       "      <th>discuss_GW</th>\n",
       "      <td>0</td>\n",
       "      <td>object</td>\n",
       "      <td>5</td>\n",
       "      <td>[Occasionally, Rarely, Never, Often, Refused]</td>\n",
       "      <td>Rarely          8229\n",
       "Occasionally    6728\n",
       "Neve...</td>\n",
       "    </tr>\n",
       "    <tr>\n",
       "      <th>hear_GW_media</th>\n",
       "      <td>13657</td>\n",
       "      <td>object</td>\n",
       "      <td>7</td>\n",
       "      <td>[nan, Once a year or less often, Several times...</td>\n",
       "      <td>At least once a week         2371\n",
       "Several time...</td>\n",
       "    </tr>\n",
       "    <tr>\n",
       "      <th>gender</th>\n",
       "      <td>0</td>\n",
       "      <td>object</td>\n",
       "      <td>2</td>\n",
       "      <td>[Female, Male]</td>\n",
       "      <td>Female    11372\n",
       "Male      11044\n",
       "Name: gender, ...</td>\n",
       "    </tr>\n",
       "    <tr>\n",
       "      <th>age</th>\n",
       "      <td>0</td>\n",
       "      <td>float64</td>\n",
       "      <td>78</td>\n",
       "      <td>[78.0, 45.0, 54.0, 71.0, 26.0, 29.0, 34.0, 46....</td>\n",
       "      <td>56.0    566\n",
       "58.0    524\n",
       "55.0    512\n",
       "60.0    49...</td>\n",
       "    </tr>\n",
       "    <tr>\n",
       "      <th>age_category</th>\n",
       "      <td>0</td>\n",
       "      <td>object</td>\n",
       "      <td>3</td>\n",
       "      <td>[55+ years, 35-54 years, 18-34 years]</td>\n",
       "      <td>55+ years      10071\n",
       "35-54 years     7561\n",
       "18-3...</td>\n",
       "    </tr>\n",
       "    <tr>\n",
       "      <th>generation</th>\n",
       "      <td>0</td>\n",
       "      <td>object</td>\n",
       "      <td>6</td>\n",
       "      <td>[Silent (1928 - 1945), Baby Boomers (1946 - 19...</td>\n",
       "      <td>Baby Boomers (1946 - 1964)    9148\n",
       "Generation ...</td>\n",
       "    </tr>\n",
       "    <tr>\n",
       "      <th>educ</th>\n",
       "      <td>0</td>\n",
       "      <td>object</td>\n",
       "      <td>14</td>\n",
       "      <td>[High school graduate - high school diploma or...</td>\n",
       "      <td>High school graduate - high school diploma or ...</td>\n",
       "    </tr>\n",
       "    <tr>\n",
       "      <th>educ_category</th>\n",
       "      <td>0</td>\n",
       "      <td>object</td>\n",
       "      <td>4</td>\n",
       "      <td>[High school, Less than high school, Bachelor'...</td>\n",
       "      <td>Bachelor's degree or higher    7711\n",
       "Some colle...</td>\n",
       "    </tr>\n",
       "    <tr>\n",
       "      <th>income</th>\n",
       "      <td>0</td>\n",
       "      <td>object</td>\n",
       "      <td>21</td>\n",
       "      <td>[$50,000 to $59,999, $30,000 to $34,999, $100,...</td>\n",
       "      <td>$100,000 to $124,999                          ...</td>\n",
       "    </tr>\n",
       "    <tr>\n",
       "      <th>income_category</th>\n",
       "      <td>0</td>\n",
       "      <td>object</td>\n",
       "      <td>3</td>\n",
       "      <td>[$50,000 to $99,999, Less than $50,000, $100,0...</td>\n",
       "      <td>Less than $50,000     8787\n",
       "$50,000 to $99,999 ...</td>\n",
       "    </tr>\n",
       "    <tr>\n",
       "      <th>race</th>\n",
       "      <td>0</td>\n",
       "      <td>object</td>\n",
       "      <td>4</td>\n",
       "      <td>[White, Non-Hispanic, Hispanic, Other, Non-His...</td>\n",
       "      <td>White, Non-Hispanic    16827\n",
       "Hispanic         ...</td>\n",
       "    </tr>\n",
       "    <tr>\n",
       "      <th>ideology</th>\n",
       "      <td>0</td>\n",
       "      <td>object</td>\n",
       "      <td>6</td>\n",
       "      <td>[Somewhat conservative, Moderate, middle of th...</td>\n",
       "      <td>Moderate, middle of the road    8849\n",
       "Somewhat ...</td>\n",
       "    </tr>\n",
       "    <tr>\n",
       "      <th>party</th>\n",
       "      <td>0</td>\n",
       "      <td>object</td>\n",
       "      <td>6</td>\n",
       "      <td>[Republican, No party/not interested in politi...</td>\n",
       "      <td>Democrat                               7406\n",
       "Re...</td>\n",
       "    </tr>\n",
       "    <tr>\n",
       "      <th>party_w_leaners</th>\n",
       "      <td>0</td>\n",
       "      <td>object</td>\n",
       "      <td>5</td>\n",
       "      <td>[Republicans, No party/Not interested in polit...</td>\n",
       "      <td>Democrats                              9248\n",
       "Re...</td>\n",
       "    </tr>\n",
       "    <tr>\n",
       "      <th>party_x_ideo</th>\n",
       "      <td>0</td>\n",
       "      <td>object</td>\n",
       "      <td>7</td>\n",
       "      <td>[Conservative Republican, No Party/Not Interes...</td>\n",
       "      <td>Conservative Republican                5499\n",
       "Mo...</td>\n",
       "    </tr>\n",
       "    <tr>\n",
       "      <th>registered_voter</th>\n",
       "      <td>0</td>\n",
       "      <td>object</td>\n",
       "      <td>6</td>\n",
       "      <td>[Registered, Not registered, Refused, Not sure...</td>\n",
       "      <td>Registered              18841\n",
       "Not registered  ...</td>\n",
       "    </tr>\n",
       "    <tr>\n",
       "      <th>region9</th>\n",
       "      <td>0</td>\n",
       "      <td>object</td>\n",
       "      <td>9</td>\n",
       "      <td>[South Atlantic, East-North Central, Mountain,...</td>\n",
       "      <td>South Atlantic        4336\n",
       "East-North Central ...</td>\n",
       "    </tr>\n",
       "    <tr>\n",
       "      <th>region4</th>\n",
       "      <td>0</td>\n",
       "      <td>object</td>\n",
       "      <td>4</td>\n",
       "      <td>[South, Midwest, West, Northeast]</td>\n",
       "      <td>South        7869\n",
       "Midwest      5316\n",
       "West      ...</td>\n",
       "    </tr>\n",
       "    <tr>\n",
       "      <th>religion</th>\n",
       "      <td>0</td>\n",
       "      <td>object</td>\n",
       "      <td>16</td>\n",
       "      <td>[Protestant (e.g., Methodist, Lutheran, Presby...</td>\n",
       "      <td>Catholic                                      ...</td>\n",
       "    </tr>\n",
       "    <tr>\n",
       "      <th>religion_other_nonchristian</th>\n",
       "      <td>22324</td>\n",
       "      <td>object</td>\n",
       "      <td>65</td>\n",
       "      <td>[nan, Unitarian, Spiritual but don't attend ch...</td>\n",
       "      <td>Pagan                                11\n",
       "Unitar...</td>\n",
       "    </tr>\n",
       "    <tr>\n",
       "      <th>evangelical</th>\n",
       "      <td>0</td>\n",
       "      <td>object</td>\n",
       "      <td>4</td>\n",
       "      <td>[No, Don't Know, Yes, Refused]</td>\n",
       "      <td>No            14687\n",
       "Yes            5561\n",
       "Don't ...</td>\n",
       "    </tr>\n",
       "    <tr>\n",
       "      <th>service_attendance</th>\n",
       "      <td>0</td>\n",
       "      <td>object</td>\n",
       "      <td>7</td>\n",
       "      <td>[Once a week, Once a year or less, Never, Once...</td>\n",
       "      <td>Never                    5559\n",
       "Once a week     ...</td>\n",
       "    </tr>\n",
       "    <tr>\n",
       "      <th>marit_status</th>\n",
       "      <td>0</td>\n",
       "      <td>object</td>\n",
       "      <td>6</td>\n",
       "      <td>[Widowed, Never married, Married, Divorced, Li...</td>\n",
       "      <td>Married                13006\n",
       "Never married    ...</td>\n",
       "    </tr>\n",
       "    <tr>\n",
       "      <th>employment</th>\n",
       "      <td>0</td>\n",
       "      <td>object</td>\n",
       "      <td>7</td>\n",
       "      <td>[Not working - retired, Not working - disabled...</td>\n",
       "      <td>Working - as a paid employee                  ...</td>\n",
       "    </tr>\n",
       "    <tr>\n",
       "      <th>house_head</th>\n",
       "      <td>0</td>\n",
       "      <td>object</td>\n",
       "      <td>2</td>\n",
       "      <td>[Not head of household, Head of household]</td>\n",
       "      <td>Head of household        18516\n",
       "Not head of hou...</td>\n",
       "    </tr>\n",
       "    <tr>\n",
       "      <th>house_size</th>\n",
       "      <td>0</td>\n",
       "      <td>float64</td>\n",
       "      <td>14</td>\n",
       "      <td>[3.0, 2.0, 4.0, 1.0, 5.0, 6.0, 7.0, 8.0, 10.0,...</td>\n",
       "      <td>2.0     8730\n",
       "1.0     4290\n",
       "3.0     3723\n",
       "4.0    ...</td>\n",
       "    </tr>\n",
       "    <tr>\n",
       "      <th>house_ages0to1</th>\n",
       "      <td>0</td>\n",
       "      <td>float64</td>\n",
       "      <td>7</td>\n",
       "      <td>[0.0, 1.0, 3.0, 4.0, 2.0, 7.0, 6.0]</td>\n",
       "      <td>0.0    21551\n",
       "1.0      805\n",
       "2.0       47\n",
       "3.0    ...</td>\n",
       "    </tr>\n",
       "    <tr>\n",
       "      <th>house_ages2to5</th>\n",
       "      <td>0</td>\n",
       "      <td>float64</td>\n",
       "      <td>5</td>\n",
       "      <td>[0.0, 1.0, 2.0, 3.0, 4.0]</td>\n",
       "      <td>0.0    20460\n",
       "1.0     1556\n",
       "2.0      372\n",
       "3.0    ...</td>\n",
       "    </tr>\n",
       "    <tr>\n",
       "      <th>house_ages6to12</th>\n",
       "      <td>0</td>\n",
       "      <td>float64</td>\n",
       "      <td>7</td>\n",
       "      <td>[0.0, 1.0, 2.0, 4.0, 3.0, 5.0, 6.0]</td>\n",
       "      <td>0.0    19207\n",
       "1.0     2105\n",
       "2.0      886\n",
       "3.0    ...</td>\n",
       "    </tr>\n",
       "    <tr>\n",
       "      <th>house_ages13to17</th>\n",
       "      <td>0</td>\n",
       "      <td>float64</td>\n",
       "      <td>5</td>\n",
       "      <td>[0.0, 1.0, 2.0, 3.0, 4.0]</td>\n",
       "      <td>0.0    19134\n",
       "1.0     2460\n",
       "2.0      713\n",
       "3.0    ...</td>\n",
       "    </tr>\n",
       "    <tr>\n",
       "      <th>house_ages18plus</th>\n",
       "      <td>0</td>\n",
       "      <td>float64</td>\n",
       "      <td>11</td>\n",
       "      <td>[3.0, 2.0, 4.0, 1.0, 5.0, 6.0, 8.0, 7.0, 12.0,...</td>\n",
       "      <td>2.0     12430\n",
       "1.0      4845\n",
       "3.0      3319\n",
       "4.0 ...</td>\n",
       "    </tr>\n",
       "    <tr>\n",
       "      <th>house_type</th>\n",
       "      <td>0</td>\n",
       "      <td>object</td>\n",
       "      <td>5</td>\n",
       "      <td>[One-family house detached from any other hous...</td>\n",
       "      <td>One-family house detached from any other house...</td>\n",
       "    </tr>\n",
       "    <tr>\n",
       "      <th>house_own</th>\n",
       "      <td>0</td>\n",
       "      <td>object</td>\n",
       "      <td>3</td>\n",
       "      <td>[Owned by you or someone in your household, Re...</td>\n",
       "      <td>Owned by you or someone in your household    1...</td>\n",
       "    </tr>\n",
       "  </tbody>\n",
       "</table>\n",
       "</div>"
      ],
      "text/plain": [
       "                             nulls    dtype  nunique_values  \\\n",
       "wave                             0   object              19   \n",
       "year                             0    int64              10   \n",
       "weight_wave                      0  float64            8230   \n",
       "weight_aggregate                 0  float64           11648   \n",
       "happening                        0   object               4   \n",
       "cause_original                   0   object               5   \n",
       "cause_other_text             20426   object            1390   \n",
       "cause_recoded                    0   object               7   \n",
       "sci_consensus                 1330   object               5   \n",
       "worry                            0   object               5   \n",
       "harm_personally                  0   object               6   \n",
       "harm_US                          0   object               6   \n",
       "harm_dev_countries               0   object               6   \n",
       "harm_future_gen                  0   object               6   \n",
       "harm_plants_animals           1330   object               6   \n",
       "when_harm_US                     0   object               7   \n",
       "reg_CO2_pollutant             1010   object               5   \n",
       "reg_utilities                 5026   object               5   \n",
       "fund_research                    0   object               5   \n",
       "reg_coal_emissions            9098   object               5   \n",
       "discuss_GW                       0   object               5   \n",
       "hear_GW_media                13657   object               7   \n",
       "gender                           0   object               2   \n",
       "age                              0  float64              78   \n",
       "age_category                     0   object               3   \n",
       "generation                       0   object               6   \n",
       "educ                             0   object              14   \n",
       "educ_category                    0   object               4   \n",
       "income                           0   object              21   \n",
       "income_category                  0   object               3   \n",
       "race                             0   object               4   \n",
       "ideology                         0   object               6   \n",
       "party                            0   object               6   \n",
       "party_w_leaners                  0   object               5   \n",
       "party_x_ideo                     0   object               7   \n",
       "registered_voter                 0   object               6   \n",
       "region9                          0   object               9   \n",
       "region4                          0   object               4   \n",
       "religion                         0   object              16   \n",
       "religion_other_nonchristian  22324   object              65   \n",
       "evangelical                      0   object               4   \n",
       "service_attendance               0   object               7   \n",
       "marit_status                     0   object               6   \n",
       "employment                       0   object               7   \n",
       "house_head                       0   object               2   \n",
       "house_size                       0  float64              14   \n",
       "house_ages0to1                   0  float64               7   \n",
       "house_ages2to5                   0  float64               5   \n",
       "house_ages6to12                  0  float64               7   \n",
       "house_ages13to17                 0  float64               5   \n",
       "house_ages18plus                 0  float64              11   \n",
       "house_type                       0   object               5   \n",
       "house_own                        0   object               3   \n",
       "\n",
       "                                                                 unique_values  \\\n",
       "wave                         [Nov 2008, Jan 2010, Jun 2010, May 2011, Nov 2...   \n",
       "year                         [2008, 2010, 2011, 2012, 2013, 2014, 2015, 201...   \n",
       "weight_wave                  [0.5400000000000001, 0.85, 0.49, 0.29, 1.29, 2...   \n",
       "weight_aggregate             [0.2944021792003114, 0.4634108376301197, 0.267...   \n",
       "happening                                       [Yes, Don't know, No, Refused]   \n",
       "cause_original               [Caused mostly by human activities, Caused mos...   \n",
       "cause_other_text             [nan, both of the above, a combination of huma...   \n",
       "cause_recoded                [Caused mostly by human activities, Caused mos...   \n",
       "sci_consensus                [Most scientists think global warming is happe...   \n",
       "worry                        [Somewhat worried, Not very worried, Not at al...   \n",
       "harm_personally              [Only a little, Not at all, Don't know, A mode...   \n",
       "harm_US                      [A moderate amount, Refused, Not at all, Only ...   \n",
       "harm_dev_countries           [A great deal, Only a little, Not at all, A mo...   \n",
       "harm_future_gen              [A great deal, A moderate amount, Not at all, ...   \n",
       "harm_plants_animals          [A great deal, A moderate amount, Not at all, ...   \n",
       "when_harm_US                 [In 10 years, In 50 years, Never, In 25 years,...   \n",
       "reg_CO2_pollutant            [Strongly support, Somewhat support, Somewhat ...   \n",
       "reg_utilities                [Strongly support, Somewhat support, Strongly ...   \n",
       "fund_research                [Strongly support, Somewhat support, Strongly ...   \n",
       "reg_coal_emissions           [nan, Strongly oppose, Strongly support, Somew...   \n",
       "discuss_GW                       [Occasionally, Rarely, Never, Often, Refused]   \n",
       "hear_GW_media                [nan, Once a year or less often, Several times...   \n",
       "gender                                                          [Female, Male]   \n",
       "age                          [78.0, 45.0, 54.0, 71.0, 26.0, 29.0, 34.0, 46....   \n",
       "age_category                             [55+ years, 35-54 years, 18-34 years]   \n",
       "generation                   [Silent (1928 - 1945), Baby Boomers (1946 - 19...   \n",
       "educ                         [High school graduate - high school diploma or...   \n",
       "educ_category                [High school, Less than high school, Bachelor'...   \n",
       "income                       [$50,000 to $59,999, $30,000 to $34,999, $100,...   \n",
       "income_category              [$50,000 to $99,999, Less than $50,000, $100,0...   \n",
       "race                         [White, Non-Hispanic, Hispanic, Other, Non-His...   \n",
       "ideology                     [Somewhat conservative, Moderate, middle of th...   \n",
       "party                        [Republican, No party/not interested in politi...   \n",
       "party_w_leaners              [Republicans, No party/Not interested in polit...   \n",
       "party_x_ideo                 [Conservative Republican, No Party/Not Interes...   \n",
       "registered_voter             [Registered, Not registered, Refused, Not sure...   \n",
       "region9                      [South Atlantic, East-North Central, Mountain,...   \n",
       "region4                                      [South, Midwest, West, Northeast]   \n",
       "religion                     [Protestant (e.g., Methodist, Lutheran, Presby...   \n",
       "religion_other_nonchristian  [nan, Unitarian, Spiritual but don't attend ch...   \n",
       "evangelical                                     [No, Don't Know, Yes, Refused]   \n",
       "service_attendance           [Once a week, Once a year or less, Never, Once...   \n",
       "marit_status                 [Widowed, Never married, Married, Divorced, Li...   \n",
       "employment                   [Not working - retired, Not working - disabled...   \n",
       "house_head                          [Not head of household, Head of household]   \n",
       "house_size                   [3.0, 2.0, 4.0, 1.0, 5.0, 6.0, 7.0, 8.0, 10.0,...   \n",
       "house_ages0to1                             [0.0, 1.0, 3.0, 4.0, 2.0, 7.0, 6.0]   \n",
       "house_ages2to5                                       [0.0, 1.0, 2.0, 3.0, 4.0]   \n",
       "house_ages6to12                            [0.0, 1.0, 2.0, 4.0, 3.0, 5.0, 6.0]   \n",
       "house_ages13to17                                     [0.0, 1.0, 2.0, 3.0, 4.0]   \n",
       "house_ages18plus             [3.0, 2.0, 4.0, 1.0, 5.0, 6.0, 8.0, 7.0, 12.0,...   \n",
       "house_type                   [One-family house detached from any other hous...   \n",
       "house_own                    [Owned by you or someone in your household, Re...   \n",
       "\n",
       "                                                                  value_counts  \n",
       "wave                         Nov 2008    2164\n",
       "Oct 2015    1330\n",
       "Oct 2017    ...  \n",
       "year                         2015    2593\n",
       "2017    2570\n",
       "2016    2430\n",
       "2018   ...  \n",
       "weight_wave                  0.5400    80\n",
       "0.6100    78\n",
       "0.4200    77\n",
       "0.4100 ...  \n",
       "weight_aggregate             0.299854    30\n",
       "0.294402    29\n",
       "0.316210    29\n",
       "0...  \n",
       "happening                    Yes           14915\n",
       "Don't know     3818\n",
       "No    ...  \n",
       "cause_original               Caused mostly by human activities             ...  \n",
       "cause_other_text             both                                          ...  \n",
       "cause_recoded                Caused mostly by human activities             ...  \n",
       "sci_consensus                Most scientists think global warming is happen...  \n",
       "worry                        Somewhat worried      9049\n",
       "Not very worried   ...  \n",
       "harm_personally              Only a little        6024\n",
       "Not at all          ...  \n",
       "harm_US                      A moderate amount    6729\n",
       "A great deal        ...  \n",
       "harm_dev_countries           A great deal         7313\n",
       "A moderate amount   ...  \n",
       "harm_future_gen              A great deal         10408\n",
       "A moderate amount  ...  \n",
       "harm_plants_animals          A great deal         9560\n",
       "A moderate amount   ...  \n",
       "when_harm_US                 They are being harmed now    7711\n",
       "Never       ...  \n",
       "reg_CO2_pollutant            Somewhat support    9605\n",
       "Strongly support    6...  \n",
       "reg_utilities                Somewhat support    6706\n",
       "Strongly support    4...  \n",
       "fund_research                Somewhat support    9198\n",
       "Strongly support    9...  \n",
       "reg_coal_emissions           Somewhat support    5860\n",
       "Strongly support    3...  \n",
       "discuss_GW                   Rarely          8229\n",
       "Occasionally    6728\n",
       "Neve...  \n",
       "hear_GW_media                At least once a week         2371\n",
       "Several time...  \n",
       "gender                       Female    11372\n",
       "Male      11044\n",
       "Name: gender, ...  \n",
       "age                          56.0    566\n",
       "58.0    524\n",
       "55.0    512\n",
       "60.0    49...  \n",
       "age_category                 55+ years      10071\n",
       "35-54 years     7561\n",
       "18-3...  \n",
       "generation                   Baby Boomers (1946 - 1964)    9148\n",
       "Generation ...  \n",
       "educ                         High school graduate - high school diploma or ...  \n",
       "educ_category                Bachelor's degree or higher    7711\n",
       "Some colle...  \n",
       "income                       $100,000 to $124,999                          ...  \n",
       "income_category              Less than $50,000     8787\n",
       "$50,000 to $99,999 ...  \n",
       "race                         White, Non-Hispanic    16827\n",
       "Hispanic         ...  \n",
       "ideology                     Moderate, middle of the road    8849\n",
       "Somewhat ...  \n",
       "party                        Democrat                               7406\n",
       "Re...  \n",
       "party_w_leaners              Democrats                              9248\n",
       "Re...  \n",
       "party_x_ideo                 Conservative Republican                5499\n",
       "Mo...  \n",
       "registered_voter             Registered              18841\n",
       "Not registered  ...  \n",
       "region9                      South Atlantic        4336\n",
       "East-North Central ...  \n",
       "region4                      South        7869\n",
       "Midwest      5316\n",
       "West      ...  \n",
       "religion                     Catholic                                      ...  \n",
       "religion_other_nonchristian  Pagan                                11\n",
       "Unitar...  \n",
       "evangelical                  No            14687\n",
       "Yes            5561\n",
       "Don't ...  \n",
       "service_attendance           Never                    5559\n",
       "Once a week     ...  \n",
       "marit_status                 Married                13006\n",
       "Never married    ...  \n",
       "employment                   Working - as a paid employee                  ...  \n",
       "house_head                   Head of household        18516\n",
       "Not head of hou...  \n",
       "house_size                   2.0     8730\n",
       "1.0     4290\n",
       "3.0     3723\n",
       "4.0    ...  \n",
       "house_ages0to1               0.0    21551\n",
       "1.0      805\n",
       "2.0       47\n",
       "3.0    ...  \n",
       "house_ages2to5               0.0    20460\n",
       "1.0     1556\n",
       "2.0      372\n",
       "3.0    ...  \n",
       "house_ages6to12              0.0    19207\n",
       "1.0     2105\n",
       "2.0      886\n",
       "3.0    ...  \n",
       "house_ages13to17             0.0    19134\n",
       "1.0     2460\n",
       "2.0      713\n",
       "3.0    ...  \n",
       "house_ages18plus             2.0     12430\n",
       "1.0      4845\n",
       "3.0      3319\n",
       "4.0 ...  \n",
       "house_type                   One-family house detached from any other house...  \n",
       "house_own                    Owned by you or someone in your household    1...  "
      ]
     },
     "execution_count": 7,
     "metadata": {},
     "output_type": "execute_result"
    }
   ],
   "source": [
    "columns_info(df)"
   ]
  },
  {
   "cell_type": "markdown",
   "id": "c9a4ff3d",
   "metadata": {},
   "source": [
    "---\n",
    "---"
   ]
  },
  {
   "cell_type": "markdown",
   "id": "6ae4b57f",
   "metadata": {},
   "source": [
    "# Eploratory Data Analysis"
   ]
  },
  {
   "cell_type": "markdown",
   "id": "d38b2d59",
   "metadata": {},
   "source": [
    "### Happening"
   ]
  },
  {
   "cell_type": "code",
   "execution_count": 8,
   "id": "d5426c53",
   "metadata": {
    "ExecuteTime": {
     "end_time": "2022-06-14T23:03:47.197554Z",
     "start_time": "2022-06-14T23:03:47.191332Z"
    }
   },
   "outputs": [
    {
     "data": {
      "text/html": [
       "<div>\n",
       "<style scoped>\n",
       "    .dataframe tbody tr th:only-of-type {\n",
       "        vertical-align: middle;\n",
       "    }\n",
       "\n",
       "    .dataframe tbody tr th {\n",
       "        vertical-align: top;\n",
       "    }\n",
       "\n",
       "    .dataframe thead th {\n",
       "        text-align: right;\n",
       "    }\n",
       "</style>\n",
       "<table border=\"1\" class=\"dataframe\">\n",
       "  <thead>\n",
       "    <tr style=\"text-align: right;\">\n",
       "      <th></th>\n",
       "      <th>happening</th>\n",
       "    </tr>\n",
       "  </thead>\n",
       "  <tbody>\n",
       "    <tr>\n",
       "      <th>Yes</th>\n",
       "      <td>14915</td>\n",
       "    </tr>\n",
       "    <tr>\n",
       "      <th>Don't know</th>\n",
       "      <td>3818</td>\n",
       "    </tr>\n",
       "    <tr>\n",
       "      <th>No</th>\n",
       "      <td>3612</td>\n",
       "    </tr>\n",
       "    <tr>\n",
       "      <th>Refused</th>\n",
       "      <td>71</td>\n",
       "    </tr>\n",
       "  </tbody>\n",
       "</table>\n",
       "</div>"
      ],
      "text/plain": [
       "            happening\n",
       "Yes             14915\n",
       "Don't know       3818\n",
       "No               3612\n",
       "Refused            71"
      ]
     },
     "execution_count": 8,
     "metadata": {},
     "output_type": "execute_result"
    }
   ],
   "source": [
    "df.happening.value_counts().to_frame()"
   ]
  },
  {
   "cell_type": "markdown",
   "id": "ab1e39a6",
   "metadata": {},
   "source": [
    "### Dichotomize Target "
   ]
  },
  {
   "cell_type": "code",
   "execution_count": 9,
   "id": "a32fc821",
   "metadata": {
    "ExecuteTime": {
     "end_time": "2022-06-14T23:03:47.207597Z",
     "start_time": "2022-06-14T23:03:47.199130Z"
    }
   },
   "outputs": [],
   "source": [
    "df['target'] = [1 if x == 'Yes' else 0 for x in df.happening]"
   ]
  },
  {
   "cell_type": "code",
   "execution_count": 10,
   "id": "c7087cb1",
   "metadata": {
    "ExecuteTime": {
     "end_time": "2022-06-14T23:03:47.212130Z",
     "start_time": "2022-06-14T23:03:47.208825Z"
    }
   },
   "outputs": [
    {
     "data": {
      "text/plain": [
       "1    0.665373\n",
       "0    0.334627\n",
       "Name: target, dtype: float64"
      ]
     },
     "execution_count": 10,
     "metadata": {},
     "output_type": "execute_result"
    }
   ],
   "source": [
    "df['target'].value_counts(normalize=True)"
   ]
  },
  {
   "cell_type": "markdown",
   "id": "a321c995",
   "metadata": {},
   "source": [
    "### `happening` vs `target`"
   ]
  },
  {
   "cell_type": "code",
   "execution_count": 11,
   "id": "fe78be1c",
   "metadata": {
    "ExecuteTime": {
     "end_time": "2022-06-14T23:03:47.416837Z",
     "start_time": "2022-06-14T23:03:47.215910Z"
    }
   },
   "outputs": [
    {
     "data": {
      "text/plain": [
       "''"
      ]
     },
     "execution_count": 11,
     "metadata": {},
     "output_type": "execute_result"
    },
    {
     "data": {
      "image/png": "[encoded data removed]",
      "text/plain": [
       "<Figure size 1080x576 with 2 Axes>"
      ]
     },
     "metadata": {
      "needs_background": "light"
     },
     "output_type": "display_data"
    }
   ],
   "source": [
    "fig, ax = plt.subplots(1, 2, figsize=(15, 8))\n",
    "\n",
    "df.happening.value_counts(normalize=True).plot(kind='bar', \n",
    "                                               color=['lightgreen', \n",
    "                                                      'slategrey', \n",
    "                                                      'slategrey', \n",
    "                                                      'slategrey'],\n",
    "                                               ax=ax[0])\n",
    "ax[0].set_title('happening Proportions', \n",
    "                fontsize=15, \n",
    "                fontweight='bold', \n",
    "                color='firebrick', \n",
    "                loc='left')\n",
    "\n",
    "df.target.value_counts(normalize=True).plot(kind='bar', \n",
    "                                            color=['lightgreen', \n",
    "                                                   'slategrey'], \n",
    "                                            ax=ax[1])\n",
    "ax[1].set_title('Yes / Not Yes Proportions', \n",
    "                fontsize=15, \n",
    "                fontweight='bold', \n",
    "                color='firebrick', \n",
    "                loc='left')\n",
    "plt.xticks(rotation = 0)\n",
    "ax[1].set_xticklabels(['Yes ' + str(round(df['target'].value_counts(normalize=True)[1], 2)),\n",
    "                       'Not Yes ' + str(round(df['target'].value_counts(normalize=True)[0], 2))])\n",
    "\n",
    "\n",
    ";"
   ]
  },
  {
   "cell_type": "markdown",
   "id": "9d4d0ab7",
   "metadata": {},
   "source": [
    "### Wave"
   ]
  },
  {
   "cell_type": "code",
   "execution_count": 12,
   "id": "bebbe337",
   "metadata": {
    "ExecuteTime": {
     "end_time": "2022-06-14T23:03:47.428397Z",
     "start_time": "2022-06-14T23:03:47.418198Z"
    }
   },
   "outputs": [],
   "source": [
    "df.wave = [' '.join(wave.split(' ')[::-1]) for wave in df.wave]"
   ]
  },
  {
   "cell_type": "code",
   "execution_count": 13,
   "id": "c529769e",
   "metadata": {
    "ExecuteTime": {
     "end_time": "2022-06-14T23:03:47.436295Z",
     "start_time": "2022-06-14T23:03:47.429735Z"
    }
   },
   "outputs": [
    {
     "data": {
      "text/html": [
       "<div>\n",
       "<style scoped>\n",
       "    .dataframe tbody tr th:only-of-type {\n",
       "        vertical-align: middle;\n",
       "    }\n",
       "\n",
       "    .dataframe tbody tr th {\n",
       "        vertical-align: top;\n",
       "    }\n",
       "\n",
       "    .dataframe thead th {\n",
       "        text-align: right;\n",
       "    }\n",
       "</style>\n",
       "<table border=\"1\" class=\"dataframe\">\n",
       "  <thead>\n",
       "    <tr style=\"text-align: right;\">\n",
       "      <th></th>\n",
       "      <th>wave</th>\n",
       "    </tr>\n",
       "  </thead>\n",
       "  <tbody>\n",
       "    <tr>\n",
       "      <th>2008 Nov</th>\n",
       "      <td>2164</td>\n",
       "    </tr>\n",
       "    <tr>\n",
       "      <th>2010 Jan</th>\n",
       "      <td>1001</td>\n",
       "    </tr>\n",
       "    <tr>\n",
       "      <th>2010 Jun</th>\n",
       "      <td>1024</td>\n",
       "    </tr>\n",
       "    <tr>\n",
       "      <th>2011 May</th>\n",
       "      <td>1010</td>\n",
       "    </tr>\n",
       "    <tr>\n",
       "      <th>2011 Nov</th>\n",
       "      <td>1000</td>\n",
       "    </tr>\n",
       "    <tr>\n",
       "      <th>2012 Mar</th>\n",
       "      <td>1008</td>\n",
       "    </tr>\n",
       "    <tr>\n",
       "      <th>2012 Sep</th>\n",
       "      <td>1061</td>\n",
       "    </tr>\n",
       "    <tr>\n",
       "      <th>2013 Apr</th>\n",
       "      <td>1045</td>\n",
       "    </tr>\n",
       "    <tr>\n",
       "      <th>2013 Nov</th>\n",
       "      <td>830</td>\n",
       "    </tr>\n",
       "    <tr>\n",
       "      <th>2014 Apr</th>\n",
       "      <td>1013</td>\n",
       "    </tr>\n",
       "    <tr>\n",
       "      <th>2014 Oct</th>\n",
       "      <td>1275</td>\n",
       "    </tr>\n",
       "    <tr>\n",
       "      <th>2015 Mar</th>\n",
       "      <td>1263</td>\n",
       "    </tr>\n",
       "    <tr>\n",
       "      <th>2015 Oct</th>\n",
       "      <td>1330</td>\n",
       "    </tr>\n",
       "    <tr>\n",
       "      <th>2016 Mar</th>\n",
       "      <td>1204</td>\n",
       "    </tr>\n",
       "    <tr>\n",
       "      <th>2016 Nov</th>\n",
       "      <td>1226</td>\n",
       "    </tr>\n",
       "    <tr>\n",
       "      <th>2017 May</th>\n",
       "      <td>1266</td>\n",
       "    </tr>\n",
       "    <tr>\n",
       "      <th>2017 Oct</th>\n",
       "      <td>1304</td>\n",
       "    </tr>\n",
       "    <tr>\n",
       "      <th>2018 Dec</th>\n",
       "      <td>1114</td>\n",
       "    </tr>\n",
       "    <tr>\n",
       "      <th>2018 Mar</th>\n",
       "      <td>1278</td>\n",
       "    </tr>\n",
       "  </tbody>\n",
       "</table>\n",
       "</div>"
      ],
      "text/plain": [
       "          wave\n",
       "2008 Nov  2164\n",
       "2010 Jan  1001\n",
       "2010 Jun  1024\n",
       "2011 May  1010\n",
       "2011 Nov  1000\n",
       "2012 Mar  1008\n",
       "2012 Sep  1061\n",
       "2013 Apr  1045\n",
       "2013 Nov   830\n",
       "2014 Apr  1013\n",
       "2014 Oct  1275\n",
       "2015 Mar  1263\n",
       "2015 Oct  1330\n",
       "2016 Mar  1204\n",
       "2016 Nov  1226\n",
       "2017 May  1266\n",
       "2017 Oct  1304\n",
       "2018 Dec  1114\n",
       "2018 Mar  1278"
      ]
     },
     "execution_count": 13,
     "metadata": {},
     "output_type": "execute_result"
    }
   ],
   "source": [
    "df.wave.value_counts().sort_index().to_frame()"
   ]
  },
  {
   "cell_type": "code",
   "execution_count": 14,
   "id": "4ddbcaa9",
   "metadata": {
    "ExecuteTime": {
     "end_time": "2022-06-14T23:03:47.442434Z",
     "start_time": "2022-06-14T23:03:47.437599Z"
    }
   },
   "outputs": [
    {
     "data": {
      "text/plain": [
       "1125.111111111111"
      ]
     },
     "execution_count": 14,
     "metadata": {},
     "output_type": "execute_result"
    }
   ],
   "source": [
    "df.wave.value_counts().sort_index()[1:].values.mean()"
   ]
  },
  {
   "cell_type": "code",
   "execution_count": 15,
   "id": "44c7f57c",
   "metadata": {
    "ExecuteTime": {
     "end_time": "2022-06-14T23:03:47.445465Z",
     "start_time": "2022-06-14T23:03:47.443670Z"
    }
   },
   "outputs": [],
   "source": [
    "# df.wave.plot()"
   ]
  },
  {
   "cell_type": "code",
   "execution_count": 16,
   "id": "fee67f20",
   "metadata": {
    "ExecuteTime": {
     "end_time": "2022-06-14T23:03:47.623369Z",
     "start_time": "2022-06-14T23:03:47.446660Z"
    }
   },
   "outputs": [
    {
     "data": {
      "image/png": "[encoded data removed]",
      "text/plain": [
       "<Figure size 720x576 with 1 Axes>"
      ]
     },
     "metadata": {
      "needs_background": "light"
     },
     "output_type": "display_data"
    }
   ],
   "source": [
    "df.groupby('wave')['happening'].value_counts(normalize=False) \\\n",
    "    .unstack() \\\n",
    "    .plot(kind='barh',\n",
    "          figsize=(10, 8), \n",
    "          stacked=True,\n",
    "          color=['deepskyblue', 'tomato', 'black', 'palegreen']);"
   ]
  },
  {
   "cell_type": "markdown",
   "id": "0b1857fa",
   "metadata": {},
   "source": [
    "**Wave**\n",
    "\n",
    "Observation\n",
    "- The first poll had the largest number of responses. \n",
    "- Each poll afterwards had 1125 responses on average. \n",
    "- It seems like the number of people in each poll was divided in half after the first year. "
   ]
  },
  {
   "cell_type": "markdown",
   "id": "faa6b5c3",
   "metadata": {},
   "source": [
    "### Year"
   ]
  },
  {
   "cell_type": "markdown",
   "id": "8874c0e4",
   "metadata": {
    "ExecuteTime": {
     "end_time": "2022-06-09T22:34:34.420368Z",
     "start_time": "2022-06-09T22:34:34.412404Z"
    }
   },
   "source": [
    "**Proportion of Believe in Climate Change over 2008 - 2018**"
   ]
  },
  {
   "cell_type": "code",
   "execution_count": 17,
   "id": "b7831968",
   "metadata": {
    "ExecuteTime": {
     "end_time": "2022-06-14T23:03:47.759556Z",
     "start_time": "2022-06-14T23:03:47.625014Z"
    }
   },
   "outputs": [
    {
     "data": {
      "text/plain": [
       "''"
      ]
     },
     "execution_count": 17,
     "metadata": {},
     "output_type": "execute_result"
    },
    {
     "data": {
      "image/png": "[encoded data removed]",
      "text/plain": [
       "<Figure size 720x576 with 1 Axes>"
      ]
     },
     "metadata": {
      "needs_background": "light"
     },
     "output_type": "display_data"
    }
   ],
   "source": [
    "fig, ax = plt.subplots(figsize=(10, 10))\n",
    "\n",
    "df.groupby('year')['happening'].value_counts(normalize=False).unstack()\\\n",
    "    .plot(kind='barh', \n",
    "          figsize=(10, 8), \n",
    "          stacked=True,\n",
    "          color=['deepskyblue', 'tomato', 'black', 'palegreen'], \n",
    "          ax=ax)\n",
    "\n",
    "ax.set_title('Proportion of Belief in Climate Change', \n",
    "             fontsize=15, \n",
    "             fontweight='bold', \n",
    "             color='firebrick', \n",
    "             loc='left')\n",
    "ax.set_ylabel('YEAR', weight='bold', labelpad=20)\n",
    "\n",
    ";"
   ]
  },
  {
   "cell_type": "code",
   "execution_count": 18,
   "id": "e1ed91d0",
   "metadata": {
    "ExecuteTime": {
     "end_time": "2022-06-14T23:03:47.765541Z",
     "start_time": "2022-06-14T23:03:47.760961Z"
    }
   },
   "outputs": [
    {
     "data": {
      "text/html": [
       "<div>\n",
       "<style scoped>\n",
       "    .dataframe tbody tr th:only-of-type {\n",
       "        vertical-align: middle;\n",
       "    }\n",
       "\n",
       "    .dataframe tbody tr th {\n",
       "        vertical-align: top;\n",
       "    }\n",
       "\n",
       "    .dataframe thead th {\n",
       "        text-align: right;\n",
       "    }\n",
       "</style>\n",
       "<table border=\"1\" class=\"dataframe\">\n",
       "  <thead>\n",
       "    <tr style=\"text-align: right;\">\n",
       "      <th></th>\n",
       "      <th>year</th>\n",
       "    </tr>\n",
       "  </thead>\n",
       "  <tbody>\n",
       "    <tr>\n",
       "      <th>2015</th>\n",
       "      <td>2593</td>\n",
       "    </tr>\n",
       "    <tr>\n",
       "      <th>2017</th>\n",
       "      <td>2570</td>\n",
       "    </tr>\n",
       "    <tr>\n",
       "      <th>2016</th>\n",
       "      <td>2430</td>\n",
       "    </tr>\n",
       "    <tr>\n",
       "      <th>2018</th>\n",
       "      <td>2392</td>\n",
       "    </tr>\n",
       "    <tr>\n",
       "      <th>2014</th>\n",
       "      <td>2288</td>\n",
       "    </tr>\n",
       "    <tr>\n",
       "      <th>2008</th>\n",
       "      <td>2164</td>\n",
       "    </tr>\n",
       "    <tr>\n",
       "      <th>2012</th>\n",
       "      <td>2069</td>\n",
       "    </tr>\n",
       "    <tr>\n",
       "      <th>2010</th>\n",
       "      <td>2025</td>\n",
       "    </tr>\n",
       "    <tr>\n",
       "      <th>2011</th>\n",
       "      <td>2010</td>\n",
       "    </tr>\n",
       "    <tr>\n",
       "      <th>2013</th>\n",
       "      <td>1875</td>\n",
       "    </tr>\n",
       "  </tbody>\n",
       "</table>\n",
       "</div>"
      ],
      "text/plain": [
       "      year\n",
       "2015  2593\n",
       "2017  2570\n",
       "2016  2430\n",
       "2018  2392\n",
       "2014  2288\n",
       "2008  2164\n",
       "2012  2069\n",
       "2010  2025\n",
       "2011  2010\n",
       "2013  1875"
      ]
     },
     "execution_count": 18,
     "metadata": {},
     "output_type": "execute_result"
    }
   ],
   "source": [
    "df.year.value_counts().to_frame()"
   ]
  },
  {
   "cell_type": "code",
   "execution_count": 19,
   "id": "8f697eae",
   "metadata": {
    "ExecuteTime": {
     "end_time": "2022-06-14T23:03:47.775256Z",
     "start_time": "2022-06-14T23:03:47.766911Z"
    }
   },
   "outputs": [
    {
     "data": {
      "text/html": [
       "<div>\n",
       "<style scoped>\n",
       "    .dataframe tbody tr th:only-of-type {\n",
       "        vertical-align: middle;\n",
       "    }\n",
       "\n",
       "    .dataframe tbody tr th {\n",
       "        vertical-align: top;\n",
       "    }\n",
       "\n",
       "    .dataframe thead th {\n",
       "        text-align: right;\n",
       "    }\n",
       "</style>\n",
       "<table border=\"1\" class=\"dataframe\">\n",
       "  <thead>\n",
       "    <tr style=\"text-align: right;\">\n",
       "      <th></th>\n",
       "      <th></th>\n",
       "      <th>happening</th>\n",
       "    </tr>\n",
       "    <tr>\n",
       "      <th>year</th>\n",
       "      <th>happening</th>\n",
       "      <th></th>\n",
       "    </tr>\n",
       "  </thead>\n",
       "  <tbody>\n",
       "    <tr>\n",
       "      <th rowspan=\"4\" valign=\"top\">2008</th>\n",
       "      <th>Yes</th>\n",
       "      <td>0.701017</td>\n",
       "    </tr>\n",
       "    <tr>\n",
       "      <th>Don't know</th>\n",
       "      <td>0.173752</td>\n",
       "    </tr>\n",
       "    <tr>\n",
       "      <th>No</th>\n",
       "      <td>0.121072</td>\n",
       "    </tr>\n",
       "    <tr>\n",
       "      <th>Refused</th>\n",
       "      <td>0.004159</td>\n",
       "    </tr>\n",
       "    <tr>\n",
       "      <th rowspan=\"4\" valign=\"top\">2010</th>\n",
       "      <th>Yes</th>\n",
       "      <td>0.582716</td>\n",
       "    </tr>\n",
       "    <tr>\n",
       "      <th>No</th>\n",
       "      <td>0.210370</td>\n",
       "    </tr>\n",
       "    <tr>\n",
       "      <th>Don't know</th>\n",
       "      <td>0.201975</td>\n",
       "    </tr>\n",
       "    <tr>\n",
       "      <th>Refused</th>\n",
       "      <td>0.004938</td>\n",
       "    </tr>\n",
       "    <tr>\n",
       "      <th rowspan=\"4\" valign=\"top\">2011</th>\n",
       "      <th>Yes</th>\n",
       "      <td>0.613433</td>\n",
       "    </tr>\n",
       "    <tr>\n",
       "      <th>Don't know</th>\n",
       "      <td>0.190050</td>\n",
       "    </tr>\n",
       "    <tr>\n",
       "      <th>No</th>\n",
       "      <td>0.180597</td>\n",
       "    </tr>\n",
       "    <tr>\n",
       "      <th>Refused</th>\n",
       "      <td>0.015920</td>\n",
       "    </tr>\n",
       "    <tr>\n",
       "      <th rowspan=\"4\" valign=\"top\">2012</th>\n",
       "      <th>Yes</th>\n",
       "      <td>0.666989</td>\n",
       "    </tr>\n",
       "    <tr>\n",
       "      <th>Don't know</th>\n",
       "      <td>0.175930</td>\n",
       "    </tr>\n",
       "    <tr>\n",
       "      <th>No</th>\n",
       "      <td>0.152731</td>\n",
       "    </tr>\n",
       "    <tr>\n",
       "      <th>Refused</th>\n",
       "      <td>0.004350</td>\n",
       "    </tr>\n",
       "    <tr>\n",
       "      <th rowspan=\"4\" valign=\"top\">2013</th>\n",
       "      <th>Yes</th>\n",
       "      <td>0.637333</td>\n",
       "    </tr>\n",
       "    <tr>\n",
       "      <th>No</th>\n",
       "      <td>0.182933</td>\n",
       "    </tr>\n",
       "    <tr>\n",
       "      <th>Don't know</th>\n",
       "      <td>0.175467</td>\n",
       "    </tr>\n",
       "    <tr>\n",
       "      <th>Refused</th>\n",
       "      <td>0.004267</td>\n",
       "    </tr>\n",
       "    <tr>\n",
       "      <th rowspan=\"4\" valign=\"top\">2014</th>\n",
       "      <th>Yes</th>\n",
       "      <td>0.639860</td>\n",
       "    </tr>\n",
       "    <tr>\n",
       "      <th>No</th>\n",
       "      <td>0.185315</td>\n",
       "    </tr>\n",
       "    <tr>\n",
       "      <th>Don't know</th>\n",
       "      <td>0.173951</td>\n",
       "    </tr>\n",
       "    <tr>\n",
       "      <th>Refused</th>\n",
       "      <td>0.000874</td>\n",
       "    </tr>\n",
       "    <tr>\n",
       "      <th rowspan=\"3\" valign=\"top\">2015</th>\n",
       "      <th>Yes</th>\n",
       "      <td>0.652526</td>\n",
       "    </tr>\n",
       "    <tr>\n",
       "      <th>No</th>\n",
       "      <td>0.179715</td>\n",
       "    </tr>\n",
       "    <tr>\n",
       "      <th>Don't know</th>\n",
       "      <td>0.167759</td>\n",
       "    </tr>\n",
       "    <tr>\n",
       "      <th rowspan=\"3\" valign=\"top\">2016</th>\n",
       "      <th>Yes</th>\n",
       "      <td>0.706996</td>\n",
       "    </tr>\n",
       "    <tr>\n",
       "      <th>Don't know</th>\n",
       "      <td>0.164198</td>\n",
       "    </tr>\n",
       "    <tr>\n",
       "      <th>No</th>\n",
       "      <td>0.128807</td>\n",
       "    </tr>\n",
       "    <tr>\n",
       "      <th rowspan=\"3\" valign=\"top\">2017</th>\n",
       "      <th>Yes</th>\n",
       "      <td>0.703502</td>\n",
       "    </tr>\n",
       "    <tr>\n",
       "      <th>Don't know</th>\n",
       "      <td>0.156031</td>\n",
       "    </tr>\n",
       "    <tr>\n",
       "      <th>No</th>\n",
       "      <td>0.140467</td>\n",
       "    </tr>\n",
       "    <tr>\n",
       "      <th rowspan=\"4\" valign=\"top\">2018</th>\n",
       "      <th>Yes</th>\n",
       "      <td>0.722408</td>\n",
       "    </tr>\n",
       "    <tr>\n",
       "      <th>No</th>\n",
       "      <td>0.141304</td>\n",
       "    </tr>\n",
       "    <tr>\n",
       "      <th>Don't know</th>\n",
       "      <td>0.135870</td>\n",
       "    </tr>\n",
       "    <tr>\n",
       "      <th>Refused</th>\n",
       "      <td>0.000418</td>\n",
       "    </tr>\n",
       "  </tbody>\n",
       "</table>\n",
       "</div>"
      ],
      "text/plain": [
       "                 happening\n",
       "year happening            \n",
       "2008 Yes          0.701017\n",
       "     Don't know   0.173752\n",
       "     No           0.121072\n",
       "     Refused      0.004159\n",
       "2010 Yes          0.582716\n",
       "     No           0.210370\n",
       "     Don't know   0.201975\n",
       "     Refused      0.004938\n",
       "2011 Yes          0.613433\n",
       "     Don't know   0.190050\n",
       "     No           0.180597\n",
       "     Refused      0.015920\n",
       "2012 Yes          0.666989\n",
       "     Don't know   0.175930\n",
       "     No           0.152731\n",
       "     Refused      0.004350\n",
       "2013 Yes          0.637333\n",
       "     No           0.182933\n",
       "     Don't know   0.175467\n",
       "     Refused      0.004267\n",
       "2014 Yes          0.639860\n",
       "     No           0.185315\n",
       "     Don't know   0.173951\n",
       "     Refused      0.000874\n",
       "2015 Yes          0.652526\n",
       "     No           0.179715\n",
       "     Don't know   0.167759\n",
       "2016 Yes          0.706996\n",
       "     Don't know   0.164198\n",
       "     No           0.128807\n",
       "2017 Yes          0.703502\n",
       "     Don't know   0.156031\n",
       "     No           0.140467\n",
       "2018 Yes          0.722408\n",
       "     No           0.141304\n",
       "     Don't know   0.135870\n",
       "     Refused      0.000418"
      ]
     },
     "execution_count": 19,
     "metadata": {},
     "output_type": "execute_result"
    }
   ],
   "source": [
    "df.groupby('year')['happening'].value_counts(normalize=True).to_frame()"
   ]
  },
  {
   "cell_type": "markdown",
   "id": "8cee4efd",
   "metadata": {
    "ExecuteTime": {
     "end_time": "2022-06-09T22:34:34.420368Z",
     "start_time": "2022-06-09T22:34:34.412404Z"
    }
   },
   "source": [
    "**Proportion of Believe in Climate Change over 2008 - 2018**\n",
    "\n",
    "Observation\n",
    "- "
   ]
  },
  {
   "cell_type": "markdown",
   "id": "fb7e1a65",
   "metadata": {},
   "source": [
    "### Weight Wave"
   ]
  },
  {
   "cell_type": "code",
   "execution_count": 20,
   "id": "dbde1caa",
   "metadata": {
    "ExecuteTime": {
     "end_time": "2022-06-14T23:03:47.946496Z",
     "start_time": "2022-06-14T23:03:47.776634Z"
    }
   },
   "outputs": [
    {
     "data": {
      "image/png": "[encoded data removed]",
      "text/plain": [
       "<Figure size 720x576 with 1 Axes>"
      ]
     },
     "metadata": {
      "needs_background": "light"
     },
     "output_type": "display_data"
    }
   ],
   "source": [
    "fig, ax = plt.subplots(figsize=(10, 8))\n",
    "\n",
    "sns.histplot(df, x='weight_wave', ax=ax);"
   ]
  },
  {
   "cell_type": "code",
   "execution_count": 21,
   "id": "ac39d410",
   "metadata": {
    "ExecuteTime": {
     "end_time": "2022-06-14T23:03:47.953743Z",
     "start_time": "2022-06-14T23:03:47.948222Z"
    }
   },
   "outputs": [
    {
     "data": {
      "text/plain": [
       "count    22416.000000\n",
       "mean         0.999984\n",
       "std          0.660911\n",
       "min          0.060000\n",
       "25%          0.585600\n",
       "50%          0.825000\n",
       "75%          1.223250\n",
       "max          5.280000\n",
       "Name: weight_wave, dtype: float64"
      ]
     },
     "execution_count": 21,
     "metadata": {},
     "output_type": "execute_result"
    }
   ],
   "source": [
    "df.weight_wave.describe()"
   ]
  },
  {
   "cell_type": "code",
   "execution_count": 22,
   "id": "ee1c42f6",
   "metadata": {
    "ExecuteTime": {
     "end_time": "2022-06-14T23:03:47.966777Z",
     "start_time": "2022-06-14T23:03:47.954996Z"
    }
   },
   "outputs": [
    {
     "data": {
      "text/html": [
       "<div>\n",
       "<style scoped>\n",
       "    .dataframe tbody tr th:only-of-type {\n",
       "        vertical-align: middle;\n",
       "    }\n",
       "\n",
       "    .dataframe tbody tr th {\n",
       "        vertical-align: top;\n",
       "    }\n",
       "\n",
       "    .dataframe thead th {\n",
       "        text-align: right;\n",
       "    }\n",
       "</style>\n",
       "<table border=\"1\" class=\"dataframe\">\n",
       "  <thead>\n",
       "    <tr style=\"text-align: right;\">\n",
       "      <th></th>\n",
       "      <th></th>\n",
       "      <th>weight_wave</th>\n",
       "    </tr>\n",
       "    <tr>\n",
       "      <th>year</th>\n",
       "      <th>weight_wave</th>\n",
       "      <th></th>\n",
       "    </tr>\n",
       "  </thead>\n",
       "  <tbody>\n",
       "    <tr>\n",
       "      <th rowspan=\"5\" valign=\"top\">2008</th>\n",
       "      <th>0.5500</th>\n",
       "      <td>30</td>\n",
       "    </tr>\n",
       "    <tr>\n",
       "      <th>0.5400</th>\n",
       "      <td>29</td>\n",
       "    </tr>\n",
       "    <tr>\n",
       "      <th>0.5800</th>\n",
       "      <td>29</td>\n",
       "    </tr>\n",
       "    <tr>\n",
       "      <th>0.5700</th>\n",
       "      <td>28</td>\n",
       "    </tr>\n",
       "    <tr>\n",
       "      <th>0.6100</th>\n",
       "      <td>28</td>\n",
       "    </tr>\n",
       "    <tr>\n",
       "      <th>...</th>\n",
       "      <th>...</th>\n",
       "      <td>...</td>\n",
       "    </tr>\n",
       "    <tr>\n",
       "      <th rowspan=\"5\" valign=\"top\">2018</th>\n",
       "      <th>3.2767</th>\n",
       "      <td>1</td>\n",
       "    </tr>\n",
       "    <tr>\n",
       "      <th>3.2917</th>\n",
       "      <td>1</td>\n",
       "    </tr>\n",
       "    <tr>\n",
       "      <th>3.4013</th>\n",
       "      <td>1</td>\n",
       "    </tr>\n",
       "    <tr>\n",
       "      <th>3.6874</th>\n",
       "      <td>1</td>\n",
       "    </tr>\n",
       "    <tr>\n",
       "      <th>3.7050</th>\n",
       "      <td>1</td>\n",
       "    </tr>\n",
       "  </tbody>\n",
       "</table>\n",
       "<p>11077 rows × 1 columns</p>\n",
       "</div>"
      ],
      "text/plain": [
       "                  weight_wave\n",
       "year weight_wave             \n",
       "2008 0.5500                30\n",
       "     0.5400                29\n",
       "     0.5800                29\n",
       "     0.5700                28\n",
       "     0.6100                28\n",
       "...                       ...\n",
       "2018 3.2767                 1\n",
       "     3.2917                 1\n",
       "     3.4013                 1\n",
       "     3.6874                 1\n",
       "     3.7050                 1\n",
       "\n",
       "[11077 rows x 1 columns]"
      ]
     },
     "execution_count": 22,
     "metadata": {},
     "output_type": "execute_result"
    }
   ],
   "source": [
    "df.groupby('year')['weight_wave'].value_counts().to_frame()"
   ]
  },
  {
   "cell_type": "markdown",
   "id": "98294fb2",
   "metadata": {},
   "source": [
    "**weight_wave**\n",
    "\n",
    "Observation\n",
    "- Not sure how they calculated the sampling weight for different waves of polling \n",
    "- I don't see how this feature would be useful in modeling or analyzing relationships between features and target"
   ]
  },
  {
   "cell_type": "markdown",
   "id": "e573192d",
   "metadata": {},
   "source": [
    "### Cause Original\n",
    "Assuming global warming is happening do you think it is..."
   ]
  },
  {
   "cell_type": "code",
   "execution_count": 23,
   "id": "c0fc54e2",
   "metadata": {
    "ExecuteTime": {
     "end_time": "2022-06-14T23:03:47.973951Z",
     "start_time": "2022-06-14T23:03:47.968097Z"
    }
   },
   "outputs": [
    {
     "data": {
      "text/html": [
       "<div>\n",
       "<style scoped>\n",
       "    .dataframe tbody tr th:only-of-type {\n",
       "        vertical-align: middle;\n",
       "    }\n",
       "\n",
       "    .dataframe tbody tr th {\n",
       "        vertical-align: top;\n",
       "    }\n",
       "\n",
       "    .dataframe thead th {\n",
       "        text-align: right;\n",
       "    }\n",
       "</style>\n",
       "<table border=\"1\" class=\"dataframe\">\n",
       "  <thead>\n",
       "    <tr style=\"text-align: right;\">\n",
       "      <th></th>\n",
       "      <th>happening</th>\n",
       "    </tr>\n",
       "  </thead>\n",
       "  <tbody>\n",
       "    <tr>\n",
       "      <th>Yes</th>\n",
       "      <td>14915</td>\n",
       "    </tr>\n",
       "    <tr>\n",
       "      <th>Don't know</th>\n",
       "      <td>3818</td>\n",
       "    </tr>\n",
       "    <tr>\n",
       "      <th>No</th>\n",
       "      <td>3612</td>\n",
       "    </tr>\n",
       "    <tr>\n",
       "      <th>Refused</th>\n",
       "      <td>71</td>\n",
       "    </tr>\n",
       "  </tbody>\n",
       "</table>\n",
       "</div>"
      ],
      "text/plain": [
       "            happening\n",
       "Yes             14915\n",
       "Don't know       3818\n",
       "No               3612\n",
       "Refused            71"
      ]
     },
     "execution_count": 23,
     "metadata": {},
     "output_type": "execute_result"
    }
   ],
   "source": [
    "df.happening.value_counts().to_frame()"
   ]
  },
  {
   "cell_type": "code",
   "execution_count": 24,
   "id": "8207a814",
   "metadata": {
    "ExecuteTime": {
     "end_time": "2022-06-14T23:03:47.980911Z",
     "start_time": "2022-06-14T23:03:47.975232Z"
    }
   },
   "outputs": [
    {
     "data": {
      "text/html": [
       "<div>\n",
       "<style scoped>\n",
       "    .dataframe tbody tr th:only-of-type {\n",
       "        vertical-align: middle;\n",
       "    }\n",
       "\n",
       "    .dataframe tbody tr th {\n",
       "        vertical-align: top;\n",
       "    }\n",
       "\n",
       "    .dataframe thead th {\n",
       "        text-align: right;\n",
       "    }\n",
       "</style>\n",
       "<table border=\"1\" class=\"dataframe\">\n",
       "  <thead>\n",
       "    <tr style=\"text-align: right;\">\n",
       "      <th></th>\n",
       "      <th>cause_original</th>\n",
       "    </tr>\n",
       "  </thead>\n",
       "  <tbody>\n",
       "    <tr>\n",
       "      <th>Caused mostly by human activities</th>\n",
       "      <td>11542</td>\n",
       "    </tr>\n",
       "    <tr>\n",
       "      <th>Caused mostly by natural changes in the environment</th>\n",
       "      <td>7159</td>\n",
       "    </tr>\n",
       "    <tr>\n",
       "      <th>Other (Please specify)</th>\n",
       "      <td>2126</td>\n",
       "    </tr>\n",
       "    <tr>\n",
       "      <th>None of the above because global warming isn't happening</th>\n",
       "      <td>1494</td>\n",
       "    </tr>\n",
       "    <tr>\n",
       "      <th>Refused</th>\n",
       "      <td>95</td>\n",
       "    </tr>\n",
       "  </tbody>\n",
       "</table>\n",
       "</div>"
      ],
      "text/plain": [
       "                                                    cause_original\n",
       "Caused mostly by human activities                            11542\n",
       "Caused mostly by natural changes in the environ...            7159\n",
       "Other (Please specify)                                        2126\n",
       "None of the above because global warming isn't ...            1494\n",
       "Refused                                                         95"
      ]
     },
     "execution_count": 24,
     "metadata": {},
     "output_type": "execute_result"
    }
   ],
   "source": [
    "df.cause_original.value_counts().to_frame()"
   ]
  },
  {
   "cell_type": "code",
   "execution_count": 25,
   "id": "0b591a01",
   "metadata": {
    "ExecuteTime": {
     "end_time": "2022-06-14T23:03:47.992307Z",
     "start_time": "2022-06-14T23:03:47.982322Z"
    }
   },
   "outputs": [
    {
     "data": {
      "text/html": [
       "<div>\n",
       "<style scoped>\n",
       "    .dataframe tbody tr th:only-of-type {\n",
       "        vertical-align: middle;\n",
       "    }\n",
       "\n",
       "    .dataframe tbody tr th {\n",
       "        vertical-align: top;\n",
       "    }\n",
       "\n",
       "    .dataframe thead th {\n",
       "        text-align: right;\n",
       "    }\n",
       "</style>\n",
       "<table border=\"1\" class=\"dataframe\">\n",
       "  <thead>\n",
       "    <tr style=\"text-align: right;\">\n",
       "      <th></th>\n",
       "      <th></th>\n",
       "      <th>cause_original</th>\n",
       "    </tr>\n",
       "    <tr>\n",
       "      <th>happening</th>\n",
       "      <th>cause_original</th>\n",
       "      <th></th>\n",
       "    </tr>\n",
       "  </thead>\n",
       "  <tbody>\n",
       "    <tr>\n",
       "      <th rowspan=\"5\" valign=\"top\">Don't know</th>\n",
       "      <th>Caused mostly by natural changes in the environment</th>\n",
       "      <td>1874</td>\n",
       "    </tr>\n",
       "    <tr>\n",
       "      <th>Caused mostly by human activities</th>\n",
       "      <td>1119</td>\n",
       "    </tr>\n",
       "    <tr>\n",
       "      <th>Other (Please specify)</th>\n",
       "      <td>436</td>\n",
       "    </tr>\n",
       "    <tr>\n",
       "      <th>None of the above because global warming isn't happening</th>\n",
       "      <td>359</td>\n",
       "    </tr>\n",
       "    <tr>\n",
       "      <th>Refused</th>\n",
       "      <td>30</td>\n",
       "    </tr>\n",
       "    <tr>\n",
       "      <th rowspan=\"5\" valign=\"top\">No</th>\n",
       "      <th>Caused mostly by natural changes in the environment</th>\n",
       "      <td>1854</td>\n",
       "    </tr>\n",
       "    <tr>\n",
       "      <th>None of the above because global warming isn't happening</th>\n",
       "      <td>1105</td>\n",
       "    </tr>\n",
       "    <tr>\n",
       "      <th>Caused mostly by human activities</th>\n",
       "      <td>342</td>\n",
       "    </tr>\n",
       "    <tr>\n",
       "      <th>Other (Please specify)</th>\n",
       "      <td>303</td>\n",
       "    </tr>\n",
       "    <tr>\n",
       "      <th>Refused</th>\n",
       "      <td>8</td>\n",
       "    </tr>\n",
       "    <tr>\n",
       "      <th rowspan=\"4\" valign=\"top\">Refused</th>\n",
       "      <th>Refused</th>\n",
       "      <td>45</td>\n",
       "    </tr>\n",
       "    <tr>\n",
       "      <th>Caused mostly by human activities</th>\n",
       "      <td>13</td>\n",
       "    </tr>\n",
       "    <tr>\n",
       "      <th>Caused mostly by natural changes in the environment</th>\n",
       "      <td>10</td>\n",
       "    </tr>\n",
       "    <tr>\n",
       "      <th>Other (Please specify)</th>\n",
       "      <td>3</td>\n",
       "    </tr>\n",
       "    <tr>\n",
       "      <th rowspan=\"5\" valign=\"top\">Yes</th>\n",
       "      <th>Caused mostly by human activities</th>\n",
       "      <td>10068</td>\n",
       "    </tr>\n",
       "    <tr>\n",
       "      <th>Caused mostly by natural changes in the environment</th>\n",
       "      <td>3421</td>\n",
       "    </tr>\n",
       "    <tr>\n",
       "      <th>Other (Please specify)</th>\n",
       "      <td>1384</td>\n",
       "    </tr>\n",
       "    <tr>\n",
       "      <th>None of the above because global warming isn't happening</th>\n",
       "      <td>30</td>\n",
       "    </tr>\n",
       "    <tr>\n",
       "      <th>Refused</th>\n",
       "      <td>12</td>\n",
       "    </tr>\n",
       "  </tbody>\n",
       "</table>\n",
       "</div>"
      ],
      "text/plain": [
       "                                                               cause_original\n",
       "happening  cause_original                                                    \n",
       "Don't know Caused mostly by natural changes in the environ...            1874\n",
       "           Caused mostly by human activities                             1119\n",
       "           Other (Please specify)                                         436\n",
       "           None of the above because global warming isn't ...             359\n",
       "           Refused                                                         30\n",
       "No         Caused mostly by natural changes in the environ...            1854\n",
       "           None of the above because global warming isn't ...            1105\n",
       "           Caused mostly by human activities                              342\n",
       "           Other (Please specify)                                         303\n",
       "           Refused                                                          8\n",
       "Refused    Refused                                                         45\n",
       "           Caused mostly by human activities                               13\n",
       "           Caused mostly by natural changes in the environ...              10\n",
       "           Other (Please specify)                                           3\n",
       "Yes        Caused mostly by human activities                            10068\n",
       "           Caused mostly by natural changes in the environ...            3421\n",
       "           Other (Please specify)                                        1384\n",
       "           None of the above because global warming isn't ...              30\n",
       "           Refused                                                         12"
      ]
     },
     "execution_count": 25,
     "metadata": {},
     "output_type": "execute_result"
    }
   ],
   "source": [
    "df.groupby('happening')['cause_original'].value_counts().to_frame()"
   ]
  },
  {
   "cell_type": "code",
   "execution_count": 26,
   "id": "479cbcff",
   "metadata": {
    "ExecuteTime": {
     "end_time": "2022-06-14T23:03:48.002056Z",
     "start_time": "2022-06-14T23:03:47.993585Z"
    }
   },
   "outputs": [
    {
     "data": {
      "text/html": [
       "<div>\n",
       "<style scoped>\n",
       "    .dataframe tbody tr th:only-of-type {\n",
       "        vertical-align: middle;\n",
       "    }\n",
       "\n",
       "    .dataframe tbody tr th {\n",
       "        vertical-align: top;\n",
       "    }\n",
       "\n",
       "    .dataframe thead th {\n",
       "        text-align: right;\n",
       "    }\n",
       "</style>\n",
       "<table border=\"1\" class=\"dataframe\">\n",
       "  <thead>\n",
       "    <tr style=\"text-align: right;\">\n",
       "      <th></th>\n",
       "      <th></th>\n",
       "      <th>cause_original</th>\n",
       "    </tr>\n",
       "    <tr>\n",
       "      <th>target</th>\n",
       "      <th>cause_original</th>\n",
       "      <th></th>\n",
       "    </tr>\n",
       "  </thead>\n",
       "  <tbody>\n",
       "    <tr>\n",
       "      <th rowspan=\"5\" valign=\"top\">0</th>\n",
       "      <th>Caused mostly by natural changes in the environment</th>\n",
       "      <td>3738</td>\n",
       "    </tr>\n",
       "    <tr>\n",
       "      <th>Caused mostly by human activities</th>\n",
       "      <td>1474</td>\n",
       "    </tr>\n",
       "    <tr>\n",
       "      <th>None of the above because global warming isn't happening</th>\n",
       "      <td>1464</td>\n",
       "    </tr>\n",
       "    <tr>\n",
       "      <th>Other (Please specify)</th>\n",
       "      <td>742</td>\n",
       "    </tr>\n",
       "    <tr>\n",
       "      <th>Refused</th>\n",
       "      <td>83</td>\n",
       "    </tr>\n",
       "    <tr>\n",
       "      <th rowspan=\"5\" valign=\"top\">1</th>\n",
       "      <th>Caused mostly by human activities</th>\n",
       "      <td>10068</td>\n",
       "    </tr>\n",
       "    <tr>\n",
       "      <th>Caused mostly by natural changes in the environment</th>\n",
       "      <td>3421</td>\n",
       "    </tr>\n",
       "    <tr>\n",
       "      <th>Other (Please specify)</th>\n",
       "      <td>1384</td>\n",
       "    </tr>\n",
       "    <tr>\n",
       "      <th>None of the above because global warming isn't happening</th>\n",
       "      <td>30</td>\n",
       "    </tr>\n",
       "    <tr>\n",
       "      <th>Refused</th>\n",
       "      <td>12</td>\n",
       "    </tr>\n",
       "  </tbody>\n",
       "</table>\n",
       "</div>"
      ],
      "text/plain": [
       "                                                           cause_original\n",
       "target cause_original                                                    \n",
       "0      Caused mostly by natural changes in the environ...            3738\n",
       "       Caused mostly by human activities                             1474\n",
       "       None of the above because global warming isn't ...            1464\n",
       "       Other (Please specify)                                         742\n",
       "       Refused                                                         83\n",
       "1      Caused mostly by human activities                            10068\n",
       "       Caused mostly by natural changes in the environ...            3421\n",
       "       Other (Please specify)                                        1384\n",
       "       None of the above because global warming isn't ...              30\n",
       "       Refused                                                         12"
      ]
     },
     "execution_count": 26,
     "metadata": {},
     "output_type": "execute_result"
    }
   ],
   "source": [
    "df.groupby('target')['cause_original'].value_counts().to_frame()"
   ]
  },
  {
   "cell_type": "code",
   "execution_count": 27,
   "id": "3844457e",
   "metadata": {
    "ExecuteTime": {
     "end_time": "2022-06-14T23:03:48.114442Z",
     "start_time": "2022-06-14T23:03:48.003258Z"
    }
   },
   "outputs": [
    {
     "data": {
      "text/plain": [
       "''"
      ]
     },
     "execution_count": 27,
     "metadata": {},
     "output_type": "execute_result"
    },
    {
     "data": {
      "image/png": "[encoded data removed]",
      "text/plain": [
       "<Figure size 1080x576 with 1 Axes>"
      ]
     },
     "metadata": {
      "needs_background": "light"
     },
     "output_type": "display_data"
    }
   ],
   "source": [
    "fig, ax = plt.subplots(figsize=(15, 8))\n",
    "\n",
    "df.groupby('target')['cause_original'].value_counts().unstack() \\\n",
    "                                      .plot(kind='barh', \n",
    "                                            ax=ax, \n",
    "#                                             stacked=True, \n",
    "                                            color=['palegreen', \n",
    "                                                   'mediumseagreen', \n",
    "                                                   'black', \n",
    "                                                   'deepskyblue',\n",
    "                                                   'lightgrey'], \n",
    "                                           label=('1', '2'))\n",
    "ax.set_title('Cause Original: Assuming global warming is happening, do you think it is...', \n",
    "             fontsize=15, \n",
    "             fontweight='bold', \n",
    "             color='firebrick', \n",
    "             loc='left')\n",
    "ax.set_ylabel('Target', weight='bold')\n",
    "ax.set_xlabel('Number of Responses', weight='bold')\n",
    ";"
   ]
  },
  {
   "cell_type": "markdown",
   "id": "4cd17b5d",
   "metadata": {},
   "source": [
    "\n",
    "**Cause Original**\n",
    "\n",
    "Observation \n",
    "- 95 people refused to answer this question \n",
    "- For each `happening` subgroup, some people \"None of the above because global warming isn't happening.\" 30 people who said \"Yes\" to `happening` selected this response for this question \n",
    "- For the 'No' subgroup of `happening`, 2,960 people selected either of the two choices that state what the cause of global warming is. This is a contradiction. "
   ]
  },
  {
   "cell_type": "code",
   "execution_count": 45,
   "id": "0b9456ae",
   "metadata": {
    "ExecuteTime": {
     "end_time": "2022-06-14T23:23:50.492043Z",
     "start_time": "2022-06-14T23:23:50.465168Z"
    }
   },
   "outputs": [],
   "source": [
    "df.drop(columns=['cause_original'], axis=1, inplace=True)"
   ]
  },
  {
   "cell_type": "markdown",
   "id": "748343ab",
   "metadata": {},
   "source": [
    "### Cause Other Text\n",
    "\n",
    "[Other - Specify] Assuming global warming is happening, do you think it is...\n",
    "\n",
    "- This feature had empty strings that I converted to np.nan\n",
    "- Were these questions only answered if cause_original responses was \"Other\""
   ]
  },
  {
   "cell_type": "code",
   "execution_count": 28,
   "id": "30ea3253",
   "metadata": {
    "ExecuteTime": {
     "end_time": "2022-06-14T23:03:48.121487Z",
     "start_time": "2022-06-14T23:03:48.116231Z"
    }
   },
   "outputs": [
    {
     "data": {
      "text/plain": [
       "2126"
      ]
     },
     "execution_count": 28,
     "metadata": {},
     "output_type": "execute_result"
    }
   ],
   "source": [
    "# Number of \"Other (Please specify)\" in cause_original\n",
    "df.cause_original.value_counts()[2]"
   ]
  },
  {
   "cell_type": "code",
   "execution_count": 29,
   "id": "22f7299c",
   "metadata": {
    "ExecuteTime": {
     "end_time": "2022-06-14T23:03:48.133956Z",
     "start_time": "2022-06-14T23:03:48.127640Z"
    }
   },
   "outputs": [
    {
     "data": {
      "text/html": [
       "<div>\n",
       "<style scoped>\n",
       "    .dataframe tbody tr th:only-of-type {\n",
       "        vertical-align: middle;\n",
       "    }\n",
       "\n",
       "    .dataframe tbody tr th {\n",
       "        vertical-align: top;\n",
       "    }\n",
       "\n",
       "    .dataframe thead th {\n",
       "        text-align: right;\n",
       "    }\n",
       "</style>\n",
       "<table border=\"1\" class=\"dataframe\">\n",
       "  <thead>\n",
       "    <tr style=\"text-align: right;\">\n",
       "      <th></th>\n",
       "      <th>cause_original</th>\n",
       "    </tr>\n",
       "  </thead>\n",
       "  <tbody>\n",
       "  </tbody>\n",
       "</table>\n",
       "</div>"
      ],
      "text/plain": [
       "Empty DataFrame\n",
       "Columns: [cause_original]\n",
       "Index: []"
      ]
     },
     "execution_count": 29,
     "metadata": {},
     "output_type": "execute_result"
    }
   ],
   "source": [
    "# Responses to cause_original for people who didn't answer this question \n",
    "df[df.cause_other_text == '']['cause_original'].value_counts().to_frame()"
   ]
  },
  {
   "cell_type": "code",
   "execution_count": 30,
   "id": "c134918b",
   "metadata": {
    "ExecuteTime": {
     "end_time": "2022-06-14T23:03:48.148966Z",
     "start_time": "2022-06-14T23:03:48.135346Z"
    }
   },
   "outputs": [
    {
     "data": {
      "text/html": [
       "<div>\n",
       "<style scoped>\n",
       "    .dataframe tbody tr th:only-of-type {\n",
       "        vertical-align: middle;\n",
       "    }\n",
       "\n",
       "    .dataframe tbody tr th {\n",
       "        vertical-align: top;\n",
       "    }\n",
       "\n",
       "    .dataframe thead th {\n",
       "        text-align: right;\n",
       "    }\n",
       "</style>\n",
       "<table border=\"1\" class=\"dataframe\">\n",
       "  <thead>\n",
       "    <tr style=\"text-align: right;\">\n",
       "      <th></th>\n",
       "      <th>cause_original</th>\n",
       "    </tr>\n",
       "  </thead>\n",
       "  <tbody>\n",
       "    <tr>\n",
       "      <th>Caused mostly by human activities</th>\n",
       "      <td>11542</td>\n",
       "    </tr>\n",
       "    <tr>\n",
       "      <th>Caused mostly by natural changes in the environment</th>\n",
       "      <td>7159</td>\n",
       "    </tr>\n",
       "    <tr>\n",
       "      <th>Other (Please specify)</th>\n",
       "      <td>2126</td>\n",
       "    </tr>\n",
       "    <tr>\n",
       "      <th>None of the above because global warming isn't happening</th>\n",
       "      <td>1494</td>\n",
       "    </tr>\n",
       "    <tr>\n",
       "      <th>Refused</th>\n",
       "      <td>95</td>\n",
       "    </tr>\n",
       "  </tbody>\n",
       "</table>\n",
       "</div>"
      ],
      "text/plain": [
       "                                                    cause_original\n",
       "Caused mostly by human activities                            11542\n",
       "Caused mostly by natural changes in the environ...            7159\n",
       "Other (Please specify)                                        2126\n",
       "None of the above because global warming isn't ...            1494\n",
       "Refused                                                         95"
      ]
     },
     "execution_count": 30,
     "metadata": {},
     "output_type": "execute_result"
    }
   ],
   "source": [
    "# 1991 people who responded \"Other\" to cause_original failed to specify here\n",
    "df[df.cause_other_text != '']['cause_original'].value_counts().to_frame()"
   ]
  },
  {
   "cell_type": "code",
   "execution_count": 31,
   "id": "2cafacef",
   "metadata": {
    "ExecuteTime": {
     "end_time": "2022-06-14T23:03:48.154661Z",
     "start_time": "2022-06-14T23:03:48.150325Z"
    },
    "scrolled": true
   },
   "outputs": [
    {
     "data": {
      "text/plain": [
       "0"
      ]
     },
     "execution_count": 31,
     "metadata": {},
     "output_type": "execute_result"
    }
   ],
   "source": [
    "# How many people didn't answer this question \n",
    "df[df.cause_other_text == '']['target'].count()"
   ]
  },
  {
   "cell_type": "code",
   "execution_count": 32,
   "id": "dd29cdba",
   "metadata": {
    "ExecuteTime": {
     "end_time": "2022-06-14T23:03:48.168176Z",
     "start_time": "2022-06-14T23:03:48.156094Z"
    },
    "scrolled": true
   },
   "outputs": [
    {
     "data": {
      "text/plain": [
       "22416"
      ]
     },
     "execution_count": 32,
     "metadata": {},
     "output_type": "execute_result"
    }
   ],
   "source": [
    "# How many people did answer this question \n",
    "df[df.cause_other_text != '']['target'].count()"
   ]
  },
  {
   "cell_type": "code",
   "execution_count": 33,
   "id": "8122f834",
   "metadata": {
    "ExecuteTime": {
     "end_time": "2022-06-14T23:03:48.173178Z",
     "start_time": "2022-06-14T23:03:48.169531Z"
    }
   },
   "outputs": [
    {
     "data": {
      "text/plain": [
       "1390"
      ]
     },
     "execution_count": 33,
     "metadata": {},
     "output_type": "execute_result"
    }
   ],
   "source": [
    "df.cause_other_text.nunique()"
   ]
  },
  {
   "cell_type": "code",
   "execution_count": 34,
   "id": "c6af347a",
   "metadata": {
    "ExecuteTime": {
     "end_time": "2022-06-14T23:03:48.181637Z",
     "start_time": "2022-06-14T23:03:48.174651Z"
    }
   },
   "outputs": [
    {
     "data": {
      "text/plain": [
       "both                                                          117\n",
       "Both                                                           60\n",
       "both of the above                                              29\n",
       "combination of both                                            23\n",
       "both human and natural                                         22\n",
       "combination                                                    16\n",
       "Both human and natural                                         14\n",
       "both human and natural changes                                 13\n",
       "not sure                                                       13\n",
       "Both of the above                                              13\n",
       "both natural and human                                         13\n",
       "human and natural                                              12\n",
       "God                                                            12\n",
       "BOTH                                                           10\n",
       "Not sure                                                        9\n",
       "caused by both                                                  9\n",
       "the sun                                                         8\n",
       "don't know                                                      8\n",
       "Combination of both                                             8\n",
       "a combination of both                                           7\n",
       "natural and human                                               7\n",
       "a little of both                                                7\n",
       "I don't know                                                    7\n",
       "dont know                                                       6\n",
       "Both natural and human                                          6\n",
       "both of above                                                   6\n",
       "natural cycle                                                   6\n",
       "Don't know                                                      6\n",
       "all of the above                                                6\n",
       "Combination                                                     5\n",
       "pollution                                                       5\n",
       "combination of human and natural                                5\n",
       "both human & natural                                            4\n",
       "Both of above                                                   4\n",
       "both natural changes and human activities                       4\n",
       "both human and nature                                           4\n",
       "both human activities and natural changes                       4\n",
       "unsure                                                          4\n",
       "A combination of both                                           4\n",
       "a combination of natural changes and human activities           4\n",
       "both humans and nature                                          4\n",
       "a combination of human activities and natural changes           4\n",
       "both humans and natural changes                                 4\n",
       "50/50                                                           4\n",
       "Cyclical                                                        4\n",
       "Human and natural                                               4\n",
       "god                                                             4\n",
       "GOD                                                             3\n",
       "cyclic                                                          3\n",
       "both human and natural causes                                   3\n",
       "both human activity and natural changes in the environment      3\n",
       "combination of natural changes and human activities             3\n",
       "both above                                                      3\n",
       "both of the above.                                              3\n",
       "combination of above                                            3\n",
       "natural cycles                                                  3\n",
       "combination of things                                           3\n",
       "Nature                                                          3\n",
       "combo of both                                                   3\n",
       "mother nature                                                   3\n",
       "Name: cause_other_text, dtype: int64"
      ]
     },
     "execution_count": 34,
     "metadata": {},
     "output_type": "execute_result"
    }
   ],
   "source": [
    "df.cause_other_text.value_counts().head(60)"
   ]
  },
  {
   "cell_type": "markdown",
   "id": "6f0a7b6a",
   "metadata": {},
   "source": [
    "**Cause Other Text**\n",
    "\n",
    "- there are a 2126 unique answers. Many of them mean the same thing and could be grouped. It could be interesting to investigate further and get more ideas about the data.  \n",
    "    - lots of people said it was both, meaning both human activity and natural causes \n",
    "    - lots of people reference God\n",
    "    - lot of people said they don't know \n",
    "- 1991 people responded to this question\n",
    "- 135 people who answered \"Other\" for `cause_original` did not specify here as instructed\n",
    "- Because only 9% of people answered this question, and it overlaps with `cause_original`, this feature is unlikely to be useful"
   ]
  },
  {
   "cell_type": "code",
   "execution_count": 44,
   "id": "2d370581",
   "metadata": {
    "ExecuteTime": {
     "end_time": "2022-06-14T23:23:22.541258Z",
     "start_time": "2022-06-14T23:23:22.519171Z"
    }
   },
   "outputs": [],
   "source": [
    "df.drop(columns=['cause_other_text'], axis=1, inplace=True)"
   ]
  },
  {
   "cell_type": "markdown",
   "id": "eff0e11f",
   "metadata": {},
   "source": [
    "### Cause Recorded\n",
    "\n",
    "Assuming global warming is happening, do you think it is... (Recoded to include open-ends)\n",
    "\n",
    "- it seems this feature was created from combining both `cause_original` and `cause_original_text`"
   ]
  },
  {
   "cell_type": "code",
   "execution_count": 35,
   "id": "adb8db70",
   "metadata": {
    "ExecuteTime": {
     "end_time": "2022-06-11T07:27:03.612045Z",
     "start_time": "2022-06-11T07:27:03.606551Z"
    }
   },
   "outputs": [
    {
     "data": {
      "text/html": [
       "<div>\n",
       "<style scoped>\n",
       "    .dataframe tbody tr th:only-of-type {\n",
       "        vertical-align: middle;\n",
       "    }\n",
       "\n",
       "    .dataframe tbody tr th {\n",
       "        vertical-align: top;\n",
       "    }\n",
       "\n",
       "    .dataframe thead th {\n",
       "        text-align: right;\n",
       "    }\n",
       "</style>\n",
       "<table border=\"1\" class=\"dataframe\">\n",
       "  <thead>\n",
       "    <tr style=\"text-align: right;\">\n",
       "      <th></th>\n",
       "      <th>cause_recoded</th>\n",
       "    </tr>\n",
       "  </thead>\n",
       "  <tbody>\n",
       "    <tr>\n",
       "      <th>Caused mostly by human activities</th>\n",
       "      <td>11629</td>\n",
       "    </tr>\n",
       "    <tr>\n",
       "      <th>Caused mostly by natural changes in the environment</th>\n",
       "      <td>7439</td>\n",
       "    </tr>\n",
       "    <tr>\n",
       "      <th>Neither because global warming isn't happening</th>\n",
       "      <td>1511</td>\n",
       "    </tr>\n",
       "    <tr>\n",
       "      <th>Caused by human activities and natural changes</th>\n",
       "      <td>1367</td>\n",
       "    </tr>\n",
       "    <tr>\n",
       "      <th>Other (Please specify)</th>\n",
       "      <td>252</td>\n",
       "    </tr>\n",
       "    <tr>\n",
       "      <th>Don't know</th>\n",
       "      <td>123</td>\n",
       "    </tr>\n",
       "    <tr>\n",
       "      <th>Refused</th>\n",
       "      <td>95</td>\n",
       "    </tr>\n",
       "  </tbody>\n",
       "</table>\n",
       "</div>"
      ],
      "text/plain": [
       "                                                    cause_recoded\n",
       "Caused mostly by human activities                           11629\n",
       "Caused mostly by natural changes in the environ...           7439\n",
       "Neither because global warming isn't happening               1511\n",
       "Caused by human activities and natural changes               1367\n",
       "Other (Please specify)                                        252\n",
       "Don't know                                                    123\n",
       "Refused                                                        95"
      ]
     },
     "execution_count": 35,
     "metadata": {},
     "output_type": "execute_result"
    }
   ],
   "source": [
    "df.cause_recoded.value_counts().to_frame()"
   ]
  },
  {
   "cell_type": "code",
   "execution_count": 36,
   "id": "c519bbdd",
   "metadata": {
    "ExecuteTime": {
     "end_time": "2022-06-11T07:27:03.733074Z",
     "start_time": "2022-06-11T07:27:03.613087Z"
    },
    "scrolled": false
   },
   "outputs": [
    {
     "data": {
      "text/plain": [
       "''"
      ]
     },
     "execution_count": 36,
     "metadata": {},
     "output_type": "execute_result"
    },
    {
     "data": {
      "image/png": "[encoded data removed]",
      "text/plain": [
       "<Figure size 1080x576 with 1 Axes>"
      ]
     },
     "metadata": {
      "needs_background": "light"
     },
     "output_type": "display_data"
    }
   ],
   "source": [
    "fig, ax = plt.subplots(figsize=(15, 8))\n",
    "\n",
    "df.groupby('target')['cause_recoded'].value_counts().unstack() \\\n",
    "                                      .plot(kind='barh', \n",
    "                                            ax=ax, \n",
    "#                                             stacked=True, \n",
    "                                            color=['g', \n",
    "                                                   'mediumseagreen', \n",
    "                                                   'palegreen', \n",
    "                                                   'deepskyblue',\n",
    "                                                   'black', \n",
    "                                                   'dodgerblue', \n",
    "                                                   'lightgrey'], \n",
    "                                           label=('1', '2'))\n",
    "ax.set_title('Cause Recoded: Assuming global warming is happening, do you think it is... (Recoded to include open-ends)', \n",
    "             fontsize=15, \n",
    "             fontweight='bold', \n",
    "             color='firebrick', \n",
    "             loc='left')\n",
    "ax.set_ylabel('Target', weight='bold')\n",
    "ax.set_xlabel('Number of Responses', weight='bold')\n",
    ";"
   ]
  },
  {
   "cell_type": "code",
   "execution_count": 37,
   "id": "5ff1a7e6",
   "metadata": {
    "ExecuteTime": {
     "end_time": "2022-06-11T07:27:03.742665Z",
     "start_time": "2022-06-11T07:27:03.734142Z"
    }
   },
   "outputs": [
    {
     "data": {
      "text/html": [
       "<div>\n",
       "<style scoped>\n",
       "    .dataframe tbody tr th:only-of-type {\n",
       "        vertical-align: middle;\n",
       "    }\n",
       "\n",
       "    .dataframe tbody tr th {\n",
       "        vertical-align: top;\n",
       "    }\n",
       "\n",
       "    .dataframe thead th {\n",
       "        text-align: right;\n",
       "    }\n",
       "</style>\n",
       "<table border=\"1\" class=\"dataframe\">\n",
       "  <thead>\n",
       "    <tr style=\"text-align: right;\">\n",
       "      <th></th>\n",
       "      <th></th>\n",
       "      <th>cause_recoded</th>\n",
       "    </tr>\n",
       "    <tr>\n",
       "      <th>target</th>\n",
       "      <th>cause_recoded</th>\n",
       "      <th></th>\n",
       "    </tr>\n",
       "  </thead>\n",
       "  <tbody>\n",
       "    <tr>\n",
       "      <th rowspan=\"7\" valign=\"top\">0</th>\n",
       "      <th>Caused mostly by natural changes in the environment</th>\n",
       "      <td>3941</td>\n",
       "    </tr>\n",
       "    <tr>\n",
       "      <th>Caused mostly by human activities</th>\n",
       "      <td>1487</td>\n",
       "    </tr>\n",
       "    <tr>\n",
       "      <th>Neither because global warming isn't happening</th>\n",
       "      <td>1481</td>\n",
       "    </tr>\n",
       "    <tr>\n",
       "      <th>Caused by human activities and natural changes</th>\n",
       "      <td>274</td>\n",
       "    </tr>\n",
       "    <tr>\n",
       "      <th>Other (Please specify)</th>\n",
       "      <td>158</td>\n",
       "    </tr>\n",
       "    <tr>\n",
       "      <th>Refused</th>\n",
       "      <td>83</td>\n",
       "    </tr>\n",
       "    <tr>\n",
       "      <th>Don't know</th>\n",
       "      <td>77</td>\n",
       "    </tr>\n",
       "    <tr>\n",
       "      <th rowspan=\"7\" valign=\"top\">1</th>\n",
       "      <th>Caused mostly by human activities</th>\n",
       "      <td>10142</td>\n",
       "    </tr>\n",
       "    <tr>\n",
       "      <th>Caused mostly by natural changes in the environment</th>\n",
       "      <td>3498</td>\n",
       "    </tr>\n",
       "    <tr>\n",
       "      <th>Caused by human activities and natural changes</th>\n",
       "      <td>1093</td>\n",
       "    </tr>\n",
       "    <tr>\n",
       "      <th>Other (Please specify)</th>\n",
       "      <td>94</td>\n",
       "    </tr>\n",
       "    <tr>\n",
       "      <th>Don't know</th>\n",
       "      <td>46</td>\n",
       "    </tr>\n",
       "    <tr>\n",
       "      <th>Neither because global warming isn't happening</th>\n",
       "      <td>30</td>\n",
       "    </tr>\n",
       "    <tr>\n",
       "      <th>Refused</th>\n",
       "      <td>12</td>\n",
       "    </tr>\n",
       "  </tbody>\n",
       "</table>\n",
       "</div>"
      ],
      "text/plain": [
       "                                                           cause_recoded\n",
       "target cause_recoded                                                    \n",
       "0      Caused mostly by natural changes in the environ...           3941\n",
       "       Caused mostly by human activities                            1487\n",
       "       Neither because global warming isn't happening               1481\n",
       "       Caused by human activities and natural changes                274\n",
       "       Other (Please specify)                                        158\n",
       "       Refused                                                        83\n",
       "       Don't know                                                     77\n",
       "1      Caused mostly by human activities                           10142\n",
       "       Caused mostly by natural changes in the environ...           3498\n",
       "       Caused by human activities and natural changes               1093\n",
       "       Other (Please specify)                                         94\n",
       "       Don't know                                                     46\n",
       "       Neither because global warming isn't happening                 30\n",
       "       Refused                                                        12"
      ]
     },
     "execution_count": 37,
     "metadata": {},
     "output_type": "execute_result"
    }
   ],
   "source": [
    "df.groupby('target')['cause_recoded'].value_counts().to_frame()"
   ]
  },
  {
   "cell_type": "code",
   "execution_count": 38,
   "id": "98f98e48",
   "metadata": {
    "ExecuteTime": {
     "end_time": "2022-06-11T07:27:03.750725Z",
     "start_time": "2022-06-11T07:27:03.743639Z"
    }
   },
   "outputs": [
    {
     "name": "stdout",
     "output_type": "stream",
     "text": [
      "cause_original - Refused: 95\n",
      "cause_recoded - Refused: 95\n"
     ]
    }
   ],
   "source": [
    "print('cause_original - Refused:', \n",
    "      df[df.cause_original == 'Refused']['cause_recoded'].value_counts()[0])\n",
    "print('cause_recoded - Refused:', \n",
    "      df[df.cause_original == 'Refused']['cause_original'].value_counts()[0])"
   ]
  },
  {
   "cell_type": "code",
   "execution_count": 39,
   "id": "291a491c",
   "metadata": {
    "ExecuteTime": {
     "end_time": "2022-06-11T07:27:03.759756Z",
     "start_time": "2022-06-11T07:27:03.751840Z"
    }
   },
   "outputs": [
    {
     "name": "stdout",
     "output_type": "stream",
     "text": [
      "cause_original - Other: 2126\n",
      "cause_recoded - Other: 252\n"
     ]
    }
   ],
   "source": [
    "print('cause_original - Other:', \n",
    "    df[df.cause_original == 'Other (Please specify)']['cause_original'].value_counts()[0])\n",
    "print('cause_recoded - Other:', \n",
    "    df[df.cause_recoded == 'Other (Please specify)']['cause_recoded'].value_counts()[0])"
   ]
  },
  {
   "cell_type": "code",
   "execution_count": 40,
   "id": "a01ace44",
   "metadata": {
    "ExecuteTime": {
     "end_time": "2022-06-11T07:27:03.767627Z",
     "start_time": "2022-06-11T07:27:03.760746Z"
    }
   },
   "outputs": [
    {
     "data": {
      "text/html": [
       "<div>\n",
       "<style scoped>\n",
       "    .dataframe tbody tr th:only-of-type {\n",
       "        vertical-align: middle;\n",
       "    }\n",
       "\n",
       "    .dataframe tbody tr th {\n",
       "        vertical-align: top;\n",
       "    }\n",
       "\n",
       "    .dataframe thead th {\n",
       "        text-align: right;\n",
       "    }\n",
       "</style>\n",
       "<table border=\"1\" class=\"dataframe\">\n",
       "  <thead>\n",
       "    <tr style=\"text-align: right;\">\n",
       "      <th></th>\n",
       "      <th>cause_recoded</th>\n",
       "    </tr>\n",
       "  </thead>\n",
       "  <tbody>\n",
       "    <tr>\n",
       "      <th>Caused by human activities and natural changes</th>\n",
       "      <td>1367</td>\n",
       "    </tr>\n",
       "    <tr>\n",
       "      <th>Caused mostly by natural changes in the environment</th>\n",
       "      <td>280</td>\n",
       "    </tr>\n",
       "    <tr>\n",
       "      <th>Other (Please specify)</th>\n",
       "      <td>252</td>\n",
       "    </tr>\n",
       "    <tr>\n",
       "      <th>Don't know</th>\n",
       "      <td>123</td>\n",
       "    </tr>\n",
       "    <tr>\n",
       "      <th>Caused mostly by human activities</th>\n",
       "      <td>87</td>\n",
       "    </tr>\n",
       "    <tr>\n",
       "      <th>Neither because global warming isn't happening</th>\n",
       "      <td>17</td>\n",
       "    </tr>\n",
       "  </tbody>\n",
       "</table>\n",
       "</div>"
      ],
      "text/plain": [
       "                                                    cause_recoded\n",
       "Caused by human activities and natural changes               1367\n",
       "Caused mostly by natural changes in the environ...            280\n",
       "Other (Please specify)                                        252\n",
       "Don't know                                                    123\n",
       "Caused mostly by human activities                              87\n",
       "Neither because global warming isn't happening                 17"
      ]
     },
     "execution_count": 40,
     "metadata": {},
     "output_type": "execute_result"
    }
   ],
   "source": [
    "df[df.cause_original == 'Other (Please specify)']['cause_recoded'].value_counts().to_frame()"
   ]
  },
  {
   "cell_type": "markdown",
   "id": "1f91e6d7",
   "metadata": {},
   "source": [
    "**Cause Recoded**\n",
    "\n",
    "Observation \n",
    "- \"Don't Know\" and \"Caused by human activities and natural changes\" were added. \n",
    "- \"Refused\" had no change between `cause_original` and `cause_original_text`\n",
    "- Differences in answers from `cause_original` = \"Other (Please specify) and `cause_recoded`\n",
    "    - 17 people answered \"Neither because global warming isn't happening\" here\n",
    "    - 1647 people answered either the 1st 2 questions meaning they believe in Global Warming \n",
    "    - 252 people still responded \"Other (Please specify)\" "
   ]
  },
  {
   "cell_type": "markdown",
   "id": "9822b282",
   "metadata": {},
   "source": [
    "**Dropping Rows that \"Refused\" `happening`, `cause_original`, `cause_other_text`, `cause_recorded`**"
   ]
  },
  {
   "cell_type": "code",
   "execution_count": 39,
   "id": "1b031857",
   "metadata": {
    "ExecuteTime": {
     "end_time": "2022-06-14T23:18:09.521150Z",
     "start_time": "2022-06-14T23:18:09.506700Z"
    }
   },
   "outputs": [
    {
     "data": {
      "text/plain": [
       "Index(['wave', 'year', 'weight_wave', 'weight_aggregate', 'happening',\n",
       "       'cause_original', 'cause_other_text', 'cause_recoded', 'sci_consensus',\n",
       "       'worry', 'harm_personally', 'harm_US', 'harm_dev_countries',\n",
       "       'harm_future_gen', 'harm_plants_animals', 'when_harm_US',\n",
       "       'reg_CO2_pollutant', 'reg_utilities', 'fund_research',\n",
       "       'reg_coal_emissions', 'discuss_GW', 'hear_GW_media', 'gender', 'age',\n",
       "       'age_category', 'generation', 'educ', 'educ_category', 'income',\n",
       "       'income_category', 'race', 'ideology', 'party', 'party_w_leaners',\n",
       "       'party_x_ideo', 'registered_voter', 'region9', 'region4', 'religion',\n",
       "       'religion_other_nonchristian', 'evangelical', 'service_attendance',\n",
       "       'marit_status', 'employment', 'house_head', 'house_size',\n",
       "       'house_ages0to1', 'house_ages2to5', 'house_ages6to12',\n",
       "       'house_ages13to17', 'house_ages18plus', 'house_type', 'house_own',\n",
       "       'target'],\n",
       "      dtype='object')"
      ]
     },
     "execution_count": 39,
     "metadata": {},
     "output_type": "execute_result"
    }
   ],
   "source": [
    "df.columns"
   ]
  },
  {
   "cell_type": "code",
   "execution_count": 41,
   "id": "656bb9ab",
   "metadata": {
    "ExecuteTime": {
     "end_time": "2022-06-14T23:18:23.964614Z",
     "start_time": "2022-06-14T23:18:23.935393Z"
    }
   },
   "outputs": [
    {
     "data": {
      "text/html": [
       "<div>\n",
       "<style scoped>\n",
       "    .dataframe tbody tr th:only-of-type {\n",
       "        vertical-align: middle;\n",
       "    }\n",
       "\n",
       "    .dataframe tbody tr th {\n",
       "        vertical-align: top;\n",
       "    }\n",
       "\n",
       "    .dataframe thead th {\n",
       "        text-align: right;\n",
       "    }\n",
       "</style>\n",
       "<table border=\"1\" class=\"dataframe\">\n",
       "  <thead>\n",
       "    <tr style=\"text-align: right;\">\n",
       "      <th></th>\n",
       "      <th>wave</th>\n",
       "      <th>year</th>\n",
       "      <th>weight_wave</th>\n",
       "      <th>weight_aggregate</th>\n",
       "      <th>happening</th>\n",
       "      <th>cause_original</th>\n",
       "      <th>cause_other_text</th>\n",
       "      <th>cause_recoded</th>\n",
       "      <th>sci_consensus</th>\n",
       "      <th>worry</th>\n",
       "      <th>...</th>\n",
       "      <th>house_head</th>\n",
       "      <th>house_size</th>\n",
       "      <th>house_ages0to1</th>\n",
       "      <th>house_ages2to5</th>\n",
       "      <th>house_ages6to12</th>\n",
       "      <th>house_ages13to17</th>\n",
       "      <th>house_ages18plus</th>\n",
       "      <th>house_type</th>\n",
       "      <th>house_own</th>\n",
       "      <th>target</th>\n",
       "    </tr>\n",
       "  </thead>\n",
       "  <tbody>\n",
       "  </tbody>\n",
       "</table>\n",
       "<p>0 rows × 54 columns</p>\n",
       "</div>"
      ],
      "text/plain": [
       "Empty DataFrame\n",
       "Columns: [wave, year, weight_wave, weight_aggregate, happening, cause_original, cause_other_text, cause_recoded, sci_consensus, worry, harm_personally, harm_US, harm_dev_countries, harm_future_gen, harm_plants_animals, when_harm_US, reg_CO2_pollutant, reg_utilities, fund_research, reg_coal_emissions, discuss_GW, hear_GW_media, gender, age, age_category, generation, educ, educ_category, income, income_category, race, ideology, party, party_w_leaners, party_x_ideo, registered_voter, region9, region4, religion, religion_other_nonchristian, evangelical, service_attendance, marit_status, employment, house_head, house_size, house_ages0to1, house_ages2to5, house_ages6to12, house_ages13to17, house_ages18plus, house_type, house_own, target]\n",
       "Index: []\n",
       "\n",
       "[0 rows x 54 columns]"
      ]
     },
     "execution_count": 41,
     "metadata": {},
     "output_type": "execute_result"
    }
   ],
   "source": [
    "df[(df.happening == \"Refused\") & \n",
    "   (df.cause_original == \"Refused\") & \n",
    "   (df.cause_other_text == \") & \n",
    "   (df.happening == \"Refused\") \n",
    "  ]"
   ]
  },
  {
   "cell_type": "markdown",
   "id": "ceffc25b",
   "metadata": {},
   "source": [
    "### SCI Concensus \n",
    "\n",
    "Scientist Consensus: Which comes closest to your own view?\n",
    "- Not asked in Oct 2015"
   ]
  },
  {
   "cell_type": "code",
   "execution_count": 41,
   "id": "66302341",
   "metadata": {
    "ExecuteTime": {
     "end_time": "2022-06-11T07:27:03.777511Z",
     "start_time": "2022-06-11T07:27:03.773512Z"
    }
   },
   "outputs": [
    {
     "data": {
      "text/plain": [
       "1330"
      ]
     },
     "execution_count": 41,
     "metadata": {},
     "output_type": "execute_result"
    }
   ],
   "source": [
    "# Number of Nulls in sci_consensus from \"2016 Oct\"\n",
    "df.sci_consensus.isnull().sum()"
   ]
  },
  {
   "cell_type": "code",
   "execution_count": 42,
   "id": "950eefd3",
   "metadata": {
    "ExecuteTime": {
     "end_time": "2022-06-11T07:27:03.783953Z",
     "start_time": "2022-06-11T07:27:03.778467Z"
    }
   },
   "outputs": [
    {
     "data": {
      "text/html": [
       "<div>\n",
       "<style scoped>\n",
       "    .dataframe tbody tr th:only-of-type {\n",
       "        vertical-align: middle;\n",
       "    }\n",
       "\n",
       "    .dataframe tbody tr th {\n",
       "        vertical-align: top;\n",
       "    }\n",
       "\n",
       "    .dataframe thead th {\n",
       "        text-align: right;\n",
       "    }\n",
       "</style>\n",
       "<table border=\"1\" class=\"dataframe\">\n",
       "  <thead>\n",
       "    <tr style=\"text-align: right;\">\n",
       "      <th></th>\n",
       "      <th>sci_consensus</th>\n",
       "    </tr>\n",
       "  </thead>\n",
       "  <tbody>\n",
       "    <tr>\n",
       "      <th>Most scientists think global warming is happening</th>\n",
       "      <td>9397</td>\n",
       "    </tr>\n",
       "    <tr>\n",
       "      <th>There is a lot of disagreement among scientists about whether or not global warming is happening</th>\n",
       "      <td>7296</td>\n",
       "    </tr>\n",
       "    <tr>\n",
       "      <th>Don't know enough to say</th>\n",
       "      <td>3596</td>\n",
       "    </tr>\n",
       "    <tr>\n",
       "      <th>Most scientists think global warming is not happening</th>\n",
       "      <td>707</td>\n",
       "    </tr>\n",
       "    <tr>\n",
       "      <th>Refused</th>\n",
       "      <td>90</td>\n",
       "    </tr>\n",
       "  </tbody>\n",
       "</table>\n",
       "</div>"
      ],
      "text/plain": [
       "                                                    sci_consensus\n",
       "Most scientists think global warming is happening            9397\n",
       "There is a lot of disagreement among scientists...           7296\n",
       "Don't know enough to say                                     3596\n",
       "Most scientists think global warming is not hap...            707\n",
       "Refused                                                        90"
      ]
     },
     "execution_count": 42,
     "metadata": {},
     "output_type": "execute_result"
    }
   ],
   "source": [
    "df.sci_consensus.value_counts().to_frame()"
   ]
  },
  {
   "cell_type": "code",
   "execution_count": 43,
   "id": "29234470",
   "metadata": {
    "ExecuteTime": {
     "end_time": "2022-06-11T07:27:03.891149Z",
     "start_time": "2022-06-11T07:27:03.784893Z"
    }
   },
   "outputs": [
    {
     "data": {
      "text/plain": [
       "''"
      ]
     },
     "execution_count": 43,
     "metadata": {},
     "output_type": "execute_result"
    },
    {
     "data": {
      "image/png": "[encoded data removed]",
      "text/plain": [
       "<Figure size 1080x576 with 1 Axes>"
      ]
     },
     "metadata": {
      "needs_background": "light"
     },
     "output_type": "display_data"
    }
   ],
   "source": [
    "fig, ax = plt.subplots(figsize=(15, 8))\n",
    "\n",
    "df.groupby('target')['sci_consensus'].value_counts().unstack() \\\n",
    "                                      .plot(kind='barh', \n",
    "                                            ax=ax, \n",
    "                                            color=['deepskyblue', \n",
    "                                                   'palegreen', \n",
    "                                                   'slategrey',\n",
    "                                                   'black', \n",
    "                                                   'dodgerblue'], \n",
    "                                           label=('1', '2'))\n",
    "ax.set_title('Scientist Consensus: Which comes closest to your own view?', \n",
    "             fontsize=15, fontweight='bold', color='firebrick', loc='left')\n",
    "ax.set_ylabel('Target', weight='bold')\n",
    "ax.set_xlabel('Number of Responses', weight='bold')\n",
    ";"
   ]
  },
  {
   "cell_type": "code",
   "execution_count": 44,
   "id": "9bf50e40",
   "metadata": {
    "ExecuteTime": {
     "end_time": "2022-06-11T07:27:03.900675Z",
     "start_time": "2022-06-11T07:27:03.892432Z"
    }
   },
   "outputs": [
    {
     "data": {
      "text/html": [
       "<div>\n",
       "<style scoped>\n",
       "    .dataframe tbody tr th:only-of-type {\n",
       "        vertical-align: middle;\n",
       "    }\n",
       "\n",
       "    .dataframe tbody tr th {\n",
       "        vertical-align: top;\n",
       "    }\n",
       "\n",
       "    .dataframe thead th {\n",
       "        text-align: right;\n",
       "    }\n",
       "</style>\n",
       "<table border=\"1\" class=\"dataframe\">\n",
       "  <thead>\n",
       "    <tr style=\"text-align: right;\">\n",
       "      <th></th>\n",
       "      <th></th>\n",
       "      <th>sci_consensus</th>\n",
       "    </tr>\n",
       "    <tr>\n",
       "      <th>target</th>\n",
       "      <th>sci_consensus</th>\n",
       "      <th></th>\n",
       "    </tr>\n",
       "  </thead>\n",
       "  <tbody>\n",
       "    <tr>\n",
       "      <th rowspan=\"5\" valign=\"top\">0</th>\n",
       "      <th>There is a lot of disagreement among scientists about whether or not global warming is happening</th>\n",
       "      <td>3859</td>\n",
       "    </tr>\n",
       "    <tr>\n",
       "      <th>Don't know enough to say</th>\n",
       "      <td>1885</td>\n",
       "    </tr>\n",
       "    <tr>\n",
       "      <th>Most scientists think global warming is happening</th>\n",
       "      <td>682</td>\n",
       "    </tr>\n",
       "    <tr>\n",
       "      <th>Most scientists think global warming is not happening</th>\n",
       "      <td>573</td>\n",
       "    </tr>\n",
       "    <tr>\n",
       "      <th>Refused</th>\n",
       "      <td>71</td>\n",
       "    </tr>\n",
       "    <tr>\n",
       "      <th rowspan=\"5\" valign=\"top\">1</th>\n",
       "      <th>Most scientists think global warming is happening</th>\n",
       "      <td>8715</td>\n",
       "    </tr>\n",
       "    <tr>\n",
       "      <th>There is a lot of disagreement among scientists about whether or not global warming is happening</th>\n",
       "      <td>3437</td>\n",
       "    </tr>\n",
       "    <tr>\n",
       "      <th>Don't know enough to say</th>\n",
       "      <td>1711</td>\n",
       "    </tr>\n",
       "    <tr>\n",
       "      <th>Most scientists think global warming is not happening</th>\n",
       "      <td>134</td>\n",
       "    </tr>\n",
       "    <tr>\n",
       "      <th>Refused</th>\n",
       "      <td>19</td>\n",
       "    </tr>\n",
       "  </tbody>\n",
       "</table>\n",
       "</div>"
      ],
      "text/plain": [
       "                                                           sci_consensus\n",
       "target sci_consensus                                                    \n",
       "0      There is a lot of disagreement among scientists...           3859\n",
       "       Don't know enough to say                                     1885\n",
       "       Most scientists think global warming is happening             682\n",
       "       Most scientists think global warming is not hap...            573\n",
       "       Refused                                                        71\n",
       "1      Most scientists think global warming is happening            8715\n",
       "       There is a lot of disagreement among scientists...           3437\n",
       "       Don't know enough to say                                     1711\n",
       "       Most scientists think global warming is not hap...            134\n",
       "       Refused                                                        19"
      ]
     },
     "execution_count": 44,
     "metadata": {},
     "output_type": "execute_result"
    }
   ],
   "source": [
    "df.groupby('target')['sci_consensus'].value_counts().to_frame()"
   ]
  },
  {
   "cell_type": "markdown",
   "id": "d995f8be",
   "metadata": {},
   "source": [
    "**Science Consensus**\n",
    "\n",
    "Observation \n",
    "- 90 people Refused to answer this question \n",
    "- This question is the least likely to leak data into the model\n",
    "- 1330 Nulls for this feature from 2015 Oct\n",
    "    - possible to impute with KNNImputer"
   ]
  },
  {
   "cell_type": "markdown",
   "id": "1ead8ae1",
   "metadata": {},
   "source": [
    "### Worry\n",
    "\n",
    "How worried are you about global warming?"
   ]
  },
  {
   "cell_type": "code",
   "execution_count": 45,
   "id": "8e438e61",
   "metadata": {
    "ExecuteTime": {
     "end_time": "2022-06-11T07:27:03.907567Z",
     "start_time": "2022-06-11T07:27:03.901756Z"
    }
   },
   "outputs": [
    {
     "data": {
      "text/html": [
       "<div>\n",
       "<style scoped>\n",
       "    .dataframe tbody tr th:only-of-type {\n",
       "        vertical-align: middle;\n",
       "    }\n",
       "\n",
       "    .dataframe tbody tr th {\n",
       "        vertical-align: top;\n",
       "    }\n",
       "\n",
       "    .dataframe thead th {\n",
       "        text-align: right;\n",
       "    }\n",
       "</style>\n",
       "<table border=\"1\" class=\"dataframe\">\n",
       "  <thead>\n",
       "    <tr style=\"text-align: right;\">\n",
       "      <th></th>\n",
       "      <th>worry</th>\n",
       "    </tr>\n",
       "  </thead>\n",
       "  <tbody>\n",
       "    <tr>\n",
       "      <th>Somewhat worried</th>\n",
       "      <td>9049</td>\n",
       "    </tr>\n",
       "    <tr>\n",
       "      <th>Not very worried</th>\n",
       "      <td>6006</td>\n",
       "    </tr>\n",
       "    <tr>\n",
       "      <th>Not at all worried</th>\n",
       "      <td>3845</td>\n",
       "    </tr>\n",
       "    <tr>\n",
       "      <th>Very worried</th>\n",
       "      <td>3433</td>\n",
       "    </tr>\n",
       "    <tr>\n",
       "      <th>Refused</th>\n",
       "      <td>83</td>\n",
       "    </tr>\n",
       "  </tbody>\n",
       "</table>\n",
       "</div>"
      ],
      "text/plain": [
       "                    worry\n",
       "Somewhat worried     9049\n",
       "Not very worried     6006\n",
       "Not at all worried   3845\n",
       "Very worried         3433\n",
       "Refused                83"
      ]
     },
     "execution_count": 45,
     "metadata": {},
     "output_type": "execute_result"
    }
   ],
   "source": [
    "df.worry.value_counts().to_frame()"
   ]
  },
  {
   "cell_type": "code",
   "execution_count": 46,
   "id": "204f6829",
   "metadata": {
    "ExecuteTime": {
     "end_time": "2022-06-11T07:27:04.015323Z",
     "start_time": "2022-06-11T07:27:03.908621Z"
    }
   },
   "outputs": [
    {
     "data": {
      "text/plain": [
       "''"
      ]
     },
     "execution_count": 46,
     "metadata": {},
     "output_type": "execute_result"
    },
    {
     "data": {
      "image/png": "[encoded data removed]",
      "text/plain": [
       "<Figure size 1080x576 with 1 Axes>"
      ]
     },
     "metadata": {
      "needs_background": "light"
     },
     "output_type": "display_data"
    }
   ],
   "source": [
    "fig, ax = plt.subplots(figsize=(15, 8))\n",
    "\n",
    "df.groupby('target')['worry'].value_counts().unstack() \\\n",
    "                                      .plot(kind='barh', \n",
    "                                            ax=ax, \n",
    "                                            color=['black', \n",
    "                                                   'palegreen', \n",
    "                                                   'slategrey',\n",
    "                                                   'mediumseagreen',\n",
    "                                                   'g'], \n",
    "                                           label=('1', '2'))\n",
    "ax.set_title('Worry: How worried are you about global warming?', \n",
    "             fontsize=15, fontweight='bold', color='firebrick', loc='left')\n",
    "ax.set_ylabel('Target', weight='bold')\n",
    "ax.set_xlabel('Number of Responses', weight='bold')\n",
    ";"
   ]
  },
  {
   "cell_type": "code",
   "execution_count": 47,
   "id": "cdf11329",
   "metadata": {
    "ExecuteTime": {
     "end_time": "2022-06-11T07:27:04.023977Z",
     "start_time": "2022-06-11T07:27:04.016339Z"
    }
   },
   "outputs": [
    {
     "data": {
      "text/html": [
       "<div>\n",
       "<style scoped>\n",
       "    .dataframe tbody tr th:only-of-type {\n",
       "        vertical-align: middle;\n",
       "    }\n",
       "\n",
       "    .dataframe tbody tr th {\n",
       "        vertical-align: top;\n",
       "    }\n",
       "\n",
       "    .dataframe thead th {\n",
       "        text-align: right;\n",
       "    }\n",
       "</style>\n",
       "<table border=\"1\" class=\"dataframe\">\n",
       "  <thead>\n",
       "    <tr style=\"text-align: right;\">\n",
       "      <th></th>\n",
       "      <th></th>\n",
       "      <th>worry</th>\n",
       "    </tr>\n",
       "    <tr>\n",
       "      <th>target</th>\n",
       "      <th>worry</th>\n",
       "      <th></th>\n",
       "    </tr>\n",
       "  </thead>\n",
       "  <tbody>\n",
       "    <tr>\n",
       "      <th rowspan=\"5\" valign=\"top\">0</th>\n",
       "      <th>Not very worried</th>\n",
       "      <td>3076</td>\n",
       "    </tr>\n",
       "    <tr>\n",
       "      <th>Not at all worried</th>\n",
       "      <td>3056</td>\n",
       "    </tr>\n",
       "    <tr>\n",
       "      <th>Somewhat worried</th>\n",
       "      <td>1227</td>\n",
       "    </tr>\n",
       "    <tr>\n",
       "      <th>Very worried</th>\n",
       "      <td>77</td>\n",
       "    </tr>\n",
       "    <tr>\n",
       "      <th>Refused</th>\n",
       "      <td>65</td>\n",
       "    </tr>\n",
       "    <tr>\n",
       "      <th rowspan=\"5\" valign=\"top\">1</th>\n",
       "      <th>Somewhat worried</th>\n",
       "      <td>7822</td>\n",
       "    </tr>\n",
       "    <tr>\n",
       "      <th>Very worried</th>\n",
       "      <td>3356</td>\n",
       "    </tr>\n",
       "    <tr>\n",
       "      <th>Not very worried</th>\n",
       "      <td>2930</td>\n",
       "    </tr>\n",
       "    <tr>\n",
       "      <th>Not at all worried</th>\n",
       "      <td>789</td>\n",
       "    </tr>\n",
       "    <tr>\n",
       "      <th>Refused</th>\n",
       "      <td>18</td>\n",
       "    </tr>\n",
       "  </tbody>\n",
       "</table>\n",
       "</div>"
      ],
      "text/plain": [
       "                           worry\n",
       "target worry                    \n",
       "0      Not very worried     3076\n",
       "       Not at all worried   3056\n",
       "       Somewhat worried     1227\n",
       "       Very worried           77\n",
       "       Refused                65\n",
       "1      Somewhat worried     7822\n",
       "       Very worried         3356\n",
       "       Not very worried     2930\n",
       "       Not at all worried    789\n",
       "       Refused                18"
      ]
     },
     "execution_count": 47,
     "metadata": {},
     "output_type": "execute_result"
    }
   ],
   "source": [
    "df.groupby('target')['worry'].value_counts().to_frame()"
   ]
  },
  {
   "cell_type": "markdown",
   "id": "5163dfd9",
   "metadata": {},
   "source": [
    "**Worry**\n",
    "\n",
    "Observation \n",
    "- 83 people Refused \n",
    "- For `happening` = \"Not Yes\"\n",
    "    - 68 Refused\n",
    "    - 3056 Not at all worried \n",
    "    - 19292 expressed some level of worry\n",
    "- This feature might be misleading for predicting the target\n",
    "- This feature could be reduced to binary (worry_True, worry_False) for OHE\n",
    "- Could also reduce to 3 subgroups (not_worried, worried, very_worried)"
   ]
  },
  {
   "cell_type": "markdown",
   "id": "8e394e94",
   "metadata": {},
   "source": [
    "## Harm Series of Questions\n",
    "The following five risk perception questions were asked together as a set\n",
    "- harm_personally\n",
    "- harm_US\n",
    "- harm_dev_coutnries\n",
    "- harm_future_gen\n",
    "- harm_plants_animals"
   ]
  },
  {
   "cell_type": "markdown",
   "id": "7a5cae11",
   "metadata": {},
   "source": [
    "### Harm Personally\n",
    "How much do you think global warming will harm: You personally"
   ]
  },
  {
   "cell_type": "code",
   "execution_count": 48,
   "id": "9f2c149a",
   "metadata": {
    "ExecuteTime": {
     "end_time": "2022-06-11T07:27:04.031190Z",
     "start_time": "2022-06-11T07:27:04.025133Z"
    }
   },
   "outputs": [
    {
     "data": {
      "text/html": [
       "<div>\n",
       "<style scoped>\n",
       "    .dataframe tbody tr th:only-of-type {\n",
       "        vertical-align: middle;\n",
       "    }\n",
       "\n",
       "    .dataframe tbody tr th {\n",
       "        vertical-align: top;\n",
       "    }\n",
       "\n",
       "    .dataframe thead th {\n",
       "        text-align: right;\n",
       "    }\n",
       "</style>\n",
       "<table border=\"1\" class=\"dataframe\">\n",
       "  <thead>\n",
       "    <tr style=\"text-align: right;\">\n",
       "      <th></th>\n",
       "      <th>harm_personally</th>\n",
       "    </tr>\n",
       "  </thead>\n",
       "  <tbody>\n",
       "    <tr>\n",
       "      <th>Only a little</th>\n",
       "      <td>6024</td>\n",
       "    </tr>\n",
       "    <tr>\n",
       "      <th>Not at all</th>\n",
       "      <td>5604</td>\n",
       "    </tr>\n",
       "    <tr>\n",
       "      <th>A moderate amount</th>\n",
       "      <td>5581</td>\n",
       "    </tr>\n",
       "    <tr>\n",
       "      <th>A great deal</th>\n",
       "      <td>2563</td>\n",
       "    </tr>\n",
       "    <tr>\n",
       "      <th>Don't know</th>\n",
       "      <td>2541</td>\n",
       "    </tr>\n",
       "    <tr>\n",
       "      <th>Refused</th>\n",
       "      <td>103</td>\n",
       "    </tr>\n",
       "  </tbody>\n",
       "</table>\n",
       "</div>"
      ],
      "text/plain": [
       "                   harm_personally\n",
       "Only a little                 6024\n",
       "Not at all                    5604\n",
       "A moderate amount             5581\n",
       "A great deal                  2563\n",
       "Don't know                    2541\n",
       "Refused                        103"
      ]
     },
     "execution_count": 48,
     "metadata": {},
     "output_type": "execute_result"
    }
   ],
   "source": [
    "df.harm_personally.value_counts().to_frame()"
   ]
  },
  {
   "cell_type": "code",
   "execution_count": 49,
   "id": "0dd2041e",
   "metadata": {
    "ExecuteTime": {
     "end_time": "2022-06-11T07:27:04.182717Z",
     "start_time": "2022-06-11T07:27:04.032053Z"
    }
   },
   "outputs": [
    {
     "data": {
      "text/plain": [
       "''"
      ]
     },
     "execution_count": 49,
     "metadata": {},
     "output_type": "execute_result"
    },
    {
     "data": {
      "image/png": "[encoded data removed]",
      "text/plain": [
       "<Figure size 1080x576 with 1 Axes>"
      ]
     },
     "metadata": {
      "needs_background": "light"
     },
     "output_type": "display_data"
    }
   ],
   "source": [
    "fig, ax = plt.subplots(figsize=(15, 8))\n",
    "\n",
    "df.groupby('target')['harm_personally'].value_counts().unstack() \\\n",
    "                                      .plot(kind='barh', \n",
    "                                            ax=ax, \n",
    "                                            color=['g', \n",
    "                                                   'mediumseagreen', \n",
    "                                                   'deepskyblue',\n",
    "                                                   'black', \n",
    "                                                   'palegreen',                                                  \n",
    "                                                   'slategrey'], \n",
    "                                           label=('1', '2'))\n",
    "ax.set_title('How much do you think global warming will harm: You personally', \n",
    "             fontsize=15, fontweight='bold', color='firebrick', loc='left')\n",
    "ax.set_ylabel('Target', weight='bold')\n",
    "ax.set_xlabel('Number of Responses', weight='bold')\n",
    ";"
   ]
  },
  {
   "cell_type": "code",
   "execution_count": 50,
   "id": "5f9c5e83",
   "metadata": {
    "ExecuteTime": {
     "end_time": "2022-06-11T07:27:04.191264Z",
     "start_time": "2022-06-11T07:27:04.183740Z"
    }
   },
   "outputs": [
    {
     "data": {
      "text/html": [
       "<div>\n",
       "<style scoped>\n",
       "    .dataframe tbody tr th:only-of-type {\n",
       "        vertical-align: middle;\n",
       "    }\n",
       "\n",
       "    .dataframe tbody tr th {\n",
       "        vertical-align: top;\n",
       "    }\n",
       "\n",
       "    .dataframe thead th {\n",
       "        text-align: right;\n",
       "    }\n",
       "</style>\n",
       "<table border=\"1\" class=\"dataframe\">\n",
       "  <thead>\n",
       "    <tr style=\"text-align: right;\">\n",
       "      <th></th>\n",
       "      <th></th>\n",
       "      <th>harm_personally</th>\n",
       "    </tr>\n",
       "    <tr>\n",
       "      <th>target</th>\n",
       "      <th>harm_personally</th>\n",
       "      <th></th>\n",
       "    </tr>\n",
       "  </thead>\n",
       "  <tbody>\n",
       "    <tr>\n",
       "      <th rowspan=\"6\" valign=\"top\">0</th>\n",
       "      <th>Not at all</th>\n",
       "      <td>3666</td>\n",
       "    </tr>\n",
       "    <tr>\n",
       "      <th>Only a little</th>\n",
       "      <td>1450</td>\n",
       "    </tr>\n",
       "    <tr>\n",
       "      <th>Don't know</th>\n",
       "      <td>1351</td>\n",
       "    </tr>\n",
       "    <tr>\n",
       "      <th>A moderate amount</th>\n",
       "      <td>785</td>\n",
       "    </tr>\n",
       "    <tr>\n",
       "      <th>A great deal</th>\n",
       "      <td>167</td>\n",
       "    </tr>\n",
       "    <tr>\n",
       "      <th>Refused</th>\n",
       "      <td>82</td>\n",
       "    </tr>\n",
       "    <tr>\n",
       "      <th rowspan=\"6\" valign=\"top\">1</th>\n",
       "      <th>A moderate amount</th>\n",
       "      <td>4796</td>\n",
       "    </tr>\n",
       "    <tr>\n",
       "      <th>Only a little</th>\n",
       "      <td>4574</td>\n",
       "    </tr>\n",
       "    <tr>\n",
       "      <th>A great deal</th>\n",
       "      <td>2396</td>\n",
       "    </tr>\n",
       "    <tr>\n",
       "      <th>Not at all</th>\n",
       "      <td>1938</td>\n",
       "    </tr>\n",
       "    <tr>\n",
       "      <th>Don't know</th>\n",
       "      <td>1190</td>\n",
       "    </tr>\n",
       "    <tr>\n",
       "      <th>Refused</th>\n",
       "      <td>21</td>\n",
       "    </tr>\n",
       "  </tbody>\n",
       "</table>\n",
       "</div>"
      ],
      "text/plain": [
       "                          harm_personally\n",
       "target harm_personally                   \n",
       "0      Not at all                    3666\n",
       "       Only a little                 1450\n",
       "       Don't know                    1351\n",
       "       A moderate amount              785\n",
       "       A great deal                   167\n",
       "       Refused                         82\n",
       "1      A moderate amount             4796\n",
       "       Only a little                 4574\n",
       "       A great deal                  2396\n",
       "       Not at all                    1938\n",
       "       Don't know                    1190\n",
       "       Refused                         21"
      ]
     },
     "execution_count": 50,
     "metadata": {},
     "output_type": "execute_result"
    }
   ],
   "source": [
    "df.groupby('target')['harm_personally'].value_counts().to_frame()"
   ]
  },
  {
   "cell_type": "markdown",
   "id": "bde91343",
   "metadata": {},
   "source": [
    "**Harm Personally**\n",
    "\n",
    "Observation \n",
    "- 103 people \"Refused\"\n",
    "- This will be a good predictor "
   ]
  },
  {
   "cell_type": "markdown",
   "id": "d310b665",
   "metadata": {},
   "source": [
    "### Harm US\n",
    "How much do you think global warming will harm: People in the United States"
   ]
  },
  {
   "cell_type": "code",
   "execution_count": 51,
   "id": "e4b7c7ea",
   "metadata": {
    "ExecuteTime": {
     "end_time": "2022-06-11T07:27:04.324034Z",
     "start_time": "2022-06-11T07:27:04.318580Z"
    }
   },
   "outputs": [
    {
     "data": {
      "text/html": [
       "<div>\n",
       "<style scoped>\n",
       "    .dataframe tbody tr th:only-of-type {\n",
       "        vertical-align: middle;\n",
       "    }\n",
       "\n",
       "    .dataframe tbody tr th {\n",
       "        vertical-align: top;\n",
       "    }\n",
       "\n",
       "    .dataframe thead th {\n",
       "        text-align: right;\n",
       "    }\n",
       "</style>\n",
       "<table border=\"1\" class=\"dataframe\">\n",
       "  <thead>\n",
       "    <tr style=\"text-align: right;\">\n",
       "      <th></th>\n",
       "      <th>harm_US</th>\n",
       "    </tr>\n",
       "  </thead>\n",
       "  <tbody>\n",
       "    <tr>\n",
       "      <th>A moderate amount</th>\n",
       "      <td>6729</td>\n",
       "    </tr>\n",
       "    <tr>\n",
       "      <th>A great deal</th>\n",
       "      <td>5077</td>\n",
       "    </tr>\n",
       "    <tr>\n",
       "      <th>Only a little</th>\n",
       "      <td>4301</td>\n",
       "    </tr>\n",
       "    <tr>\n",
       "      <th>Not at all</th>\n",
       "      <td>3635</td>\n",
       "    </tr>\n",
       "    <tr>\n",
       "      <th>Don't know</th>\n",
       "      <td>2550</td>\n",
       "    </tr>\n",
       "    <tr>\n",
       "      <th>Refused</th>\n",
       "      <td>124</td>\n",
       "    </tr>\n",
       "  </tbody>\n",
       "</table>\n",
       "</div>"
      ],
      "text/plain": [
       "                   harm_US\n",
       "A moderate amount     6729\n",
       "A great deal          5077\n",
       "Only a little         4301\n",
       "Not at all            3635\n",
       "Don't know            2550\n",
       "Refused                124"
      ]
     },
     "execution_count": 51,
     "metadata": {},
     "output_type": "execute_result"
    }
   ],
   "source": [
    "df.harm_US.value_counts().to_frame()"
   ]
  },
  {
   "cell_type": "code",
   "execution_count": 52,
   "id": "4926e3d7",
   "metadata": {
    "ExecuteTime": {
     "end_time": "2022-06-11T07:27:04.436881Z",
     "start_time": "2022-06-11T07:27:04.328345Z"
    }
   },
   "outputs": [
    {
     "data": {
      "text/plain": [
       "''"
      ]
     },
     "execution_count": 52,
     "metadata": {},
     "output_type": "execute_result"
    },
    {
     "data": {
      "image/png": "[encoded data removed]",
      "text/plain": [
       "<Figure size 1080x576 with 1 Axes>"
      ]
     },
     "metadata": {
      "needs_background": "light"
     },
     "output_type": "display_data"
    }
   ],
   "source": [
    "fig, ax = plt.subplots(figsize=(15, 8))\n",
    "\n",
    "df.groupby('target')['harm_US'].value_counts().unstack() \\\n",
    "                                      .plot(kind='barh', \n",
    "                                            ax=ax, \n",
    "                                            color=['g', \n",
    "                                                   'mediumseagreen', \n",
    "                                                   'deepskyblue',\n",
    "                                                   'black', \n",
    "                                                   'palegreen',                                                  \n",
    "                                                   'slategrey'], \n",
    "                                           label=('1', '2'))\n",
    "ax.set_title('How much do you think global warming will harm: People in the United States', \n",
    "             fontsize=15, fontweight='bold', color='firebrick', loc='left')\n",
    "ax.set_ylabel('Target', weight='bold')\n",
    "ax.set_xlabel('Number of Responses', weight='bold')\n",
    ";"
   ]
  },
  {
   "cell_type": "code",
   "execution_count": 53,
   "id": "6959d56e",
   "metadata": {
    "ExecuteTime": {
     "end_time": "2022-06-11T07:27:04.445348Z",
     "start_time": "2022-06-11T07:27:04.437920Z"
    }
   },
   "outputs": [
    {
     "data": {
      "text/html": [
       "<div>\n",
       "<style scoped>\n",
       "    .dataframe tbody tr th:only-of-type {\n",
       "        vertical-align: middle;\n",
       "    }\n",
       "\n",
       "    .dataframe tbody tr th {\n",
       "        vertical-align: top;\n",
       "    }\n",
       "\n",
       "    .dataframe thead th {\n",
       "        text-align: right;\n",
       "    }\n",
       "</style>\n",
       "<table border=\"1\" class=\"dataframe\">\n",
       "  <thead>\n",
       "    <tr style=\"text-align: right;\">\n",
       "      <th></th>\n",
       "      <th></th>\n",
       "      <th>harm_US</th>\n",
       "    </tr>\n",
       "    <tr>\n",
       "      <th>target</th>\n",
       "      <th>harm_US</th>\n",
       "      <th></th>\n",
       "    </tr>\n",
       "  </thead>\n",
       "  <tbody>\n",
       "    <tr>\n",
       "      <th rowspan=\"6\" valign=\"top\">0</th>\n",
       "      <th>Not at all</th>\n",
       "      <td>2883</td>\n",
       "    </tr>\n",
       "    <tr>\n",
       "      <th>Only a little</th>\n",
       "      <td>1612</td>\n",
       "    </tr>\n",
       "    <tr>\n",
       "      <th>Don't know</th>\n",
       "      <td>1462</td>\n",
       "    </tr>\n",
       "    <tr>\n",
       "      <th>A moderate amount</th>\n",
       "      <td>1146</td>\n",
       "    </tr>\n",
       "    <tr>\n",
       "      <th>A great deal</th>\n",
       "      <td>310</td>\n",
       "    </tr>\n",
       "    <tr>\n",
       "      <th>Refused</th>\n",
       "      <td>88</td>\n",
       "    </tr>\n",
       "    <tr>\n",
       "      <th rowspan=\"6\" valign=\"top\">1</th>\n",
       "      <th>A moderate amount</th>\n",
       "      <td>5583</td>\n",
       "    </tr>\n",
       "    <tr>\n",
       "      <th>A great deal</th>\n",
       "      <td>4767</td>\n",
       "    </tr>\n",
       "    <tr>\n",
       "      <th>Only a little</th>\n",
       "      <td>2689</td>\n",
       "    </tr>\n",
       "    <tr>\n",
       "      <th>Don't know</th>\n",
       "      <td>1088</td>\n",
       "    </tr>\n",
       "    <tr>\n",
       "      <th>Not at all</th>\n",
       "      <td>752</td>\n",
       "    </tr>\n",
       "    <tr>\n",
       "      <th>Refused</th>\n",
       "      <td>36</td>\n",
       "    </tr>\n",
       "  </tbody>\n",
       "</table>\n",
       "</div>"
      ],
      "text/plain": [
       "                          harm_US\n",
       "target harm_US                   \n",
       "0      Not at all            2883\n",
       "       Only a little         1612\n",
       "       Don't know            1462\n",
       "       A moderate amount     1146\n",
       "       A great deal           310\n",
       "       Refused                 88\n",
       "1      A moderate amount     5583\n",
       "       A great deal          4767\n",
       "       Only a little         2689\n",
       "       Don't know            1088\n",
       "       Not at all             752\n",
       "       Refused                 36"
      ]
     },
     "execution_count": 53,
     "metadata": {},
     "output_type": "execute_result"
    }
   ],
   "source": [
    "df.groupby('target')['harm_US'].value_counts().to_frame()"
   ]
  },
  {
   "cell_type": "markdown",
   "id": "1ed769c6",
   "metadata": {},
   "source": [
    "### Harm Developing Countries\n",
    "How much do you think global warming will harm: People in developing countries"
   ]
  },
  {
   "cell_type": "code",
   "execution_count": 54,
   "id": "d7b0eb11",
   "metadata": {
    "ExecuteTime": {
     "end_time": "2022-06-11T07:27:04.317447Z",
     "start_time": "2022-06-11T07:27:04.312890Z"
    }
   },
   "outputs": [
    {
     "data": {
      "text/plain": [
       "A great deal         7313\n",
       "A moderate amount    5477\n",
       "Not at all           3308\n",
       "Only a little        3285\n",
       "Don't know           2899\n",
       "Refused               134\n",
       "Name: harm_dev_countries, dtype: int64"
      ]
     },
     "execution_count": 54,
     "metadata": {},
     "output_type": "execute_result"
    }
   ],
   "source": [
    "df.harm_dev_countries.value_counts()"
   ]
  },
  {
   "cell_type": "code",
   "execution_count": 55,
   "id": "ef764096",
   "metadata": {
    "ExecuteTime": {
     "end_time": "2022-06-11T07:27:04.324034Z",
     "start_time": "2022-06-11T07:27:04.318580Z"
    }
   },
   "outputs": [
    {
     "data": {
      "text/html": [
       "<div>\n",
       "<style scoped>\n",
       "    .dataframe tbody tr th:only-of-type {\n",
       "        vertical-align: middle;\n",
       "    }\n",
       "\n",
       "    .dataframe tbody tr th {\n",
       "        vertical-align: top;\n",
       "    }\n",
       "\n",
       "    .dataframe thead th {\n",
       "        text-align: right;\n",
       "    }\n",
       "</style>\n",
       "<table border=\"1\" class=\"dataframe\">\n",
       "  <thead>\n",
       "    <tr style=\"text-align: right;\">\n",
       "      <th></th>\n",
       "      <th>harm_dev_countries</th>\n",
       "    </tr>\n",
       "  </thead>\n",
       "  <tbody>\n",
       "    <tr>\n",
       "      <th>A great deal</th>\n",
       "      <td>7313</td>\n",
       "    </tr>\n",
       "    <tr>\n",
       "      <th>A moderate amount</th>\n",
       "      <td>5477</td>\n",
       "    </tr>\n",
       "    <tr>\n",
       "      <th>Not at all</th>\n",
       "      <td>3308</td>\n",
       "    </tr>\n",
       "    <tr>\n",
       "      <th>Only a little</th>\n",
       "      <td>3285</td>\n",
       "    </tr>\n",
       "    <tr>\n",
       "      <th>Don't know</th>\n",
       "      <td>2899</td>\n",
       "    </tr>\n",
       "    <tr>\n",
       "      <th>Refused</th>\n",
       "      <td>134</td>\n",
       "    </tr>\n",
       "  </tbody>\n",
       "</table>\n",
       "</div>"
      ],
      "text/plain": [
       "                   harm_dev_countries\n",
       "A great deal                     7313\n",
       "A moderate amount                5477\n",
       "Not at all                       3308\n",
       "Only a little                    3285\n",
       "Don't know                       2899\n",
       "Refused                           134"
      ]
     },
     "execution_count": 55,
     "metadata": {},
     "output_type": "execute_result"
    }
   ],
   "source": [
    "df.harm_dev_countries.value_counts().to_frame()"
   ]
  },
  {
   "cell_type": "code",
   "execution_count": 57,
   "id": "88e012f9",
   "metadata": {
    "ExecuteTime": {
     "end_time": "2022-06-11T07:27:04.436881Z",
     "start_time": "2022-06-11T07:27:04.328345Z"
    }
   },
   "outputs": [
    {
     "data": {
      "text/plain": [
       "''"
      ]
     },
     "execution_count": 57,
     "metadata": {},
     "output_type": "execute_result"
    },
    {
     "data": {
      "image/png": "[encoded data removed]",
      "text/plain": [
       "<Figure size 1080x576 with 1 Axes>"
      ]
     },
     "metadata": {
      "needs_background": "light"
     },
     "output_type": "display_data"
    }
   ],
   "source": [
    "fig, ax = plt.subplots(figsize=(15, 8))\n",
    "\n",
    "df.groupby('target')['harm_dev_countries'].value_counts().unstack() \\\n",
    "                                      .plot(kind='barh', \n",
    "                                            ax=ax, \n",
    "                                            color=['g', \n",
    "                                                   'mediumseagreen', \n",
    "                                                   'deepskyblue',\n",
    "                                                   'black', \n",
    "                                                   'palegreen',                                                  \n",
    "                                                   'slategrey'], \n",
    "\n",
    "                                           label=('1', '2'))\n",
    "ax.set_title('How much do you think global warming will harm: People in developing countries', \n",
    "             fontsize=15, fontweight='bold', color='firebrick', loc='left')\n",
    "ax.set_ylabel('Target', weight='bold')\n",
    "ax.set_xlabel('Number of Responses', weight='bold')\n",
    ";"
   ]
  },
  {
   "cell_type": "code",
   "execution_count": 58,
   "id": "5a318481",
   "metadata": {
    "ExecuteTime": {
     "end_time": "2022-06-11T07:27:04.445348Z",
     "start_time": "2022-06-11T07:27:04.437920Z"
    }
   },
   "outputs": [
    {
     "data": {
      "text/html": [
       "<div>\n",
       "<style scoped>\n",
       "    .dataframe tbody tr th:only-of-type {\n",
       "        vertical-align: middle;\n",
       "    }\n",
       "\n",
       "    .dataframe tbody tr th {\n",
       "        vertical-align: top;\n",
       "    }\n",
       "\n",
       "    .dataframe thead th {\n",
       "        text-align: right;\n",
       "    }\n",
       "</style>\n",
       "<table border=\"1\" class=\"dataframe\">\n",
       "  <thead>\n",
       "    <tr style=\"text-align: right;\">\n",
       "      <th></th>\n",
       "      <th></th>\n",
       "      <th>harm_dev_countries</th>\n",
       "    </tr>\n",
       "    <tr>\n",
       "      <th>target</th>\n",
       "      <th>harm_dev_countries</th>\n",
       "      <th></th>\n",
       "    </tr>\n",
       "  </thead>\n",
       "  <tbody>\n",
       "    <tr>\n",
       "      <th rowspan=\"6\" valign=\"top\">0</th>\n",
       "      <th>Not at all</th>\n",
       "      <td>2669</td>\n",
       "    </tr>\n",
       "    <tr>\n",
       "      <th>Don't know</th>\n",
       "      <td>1569</td>\n",
       "    </tr>\n",
       "    <tr>\n",
       "      <th>Only a little</th>\n",
       "      <td>1414</td>\n",
       "    </tr>\n",
       "    <tr>\n",
       "      <th>A moderate amount</th>\n",
       "      <td>1235</td>\n",
       "    </tr>\n",
       "    <tr>\n",
       "      <th>A great deal</th>\n",
       "      <td>523</td>\n",
       "    </tr>\n",
       "    <tr>\n",
       "      <th>Refused</th>\n",
       "      <td>91</td>\n",
       "    </tr>\n",
       "    <tr>\n",
       "      <th rowspan=\"6\" valign=\"top\">1</th>\n",
       "      <th>A great deal</th>\n",
       "      <td>6790</td>\n",
       "    </tr>\n",
       "    <tr>\n",
       "      <th>A moderate amount</th>\n",
       "      <td>4242</td>\n",
       "    </tr>\n",
       "    <tr>\n",
       "      <th>Only a little</th>\n",
       "      <td>1871</td>\n",
       "    </tr>\n",
       "    <tr>\n",
       "      <th>Don't know</th>\n",
       "      <td>1330</td>\n",
       "    </tr>\n",
       "    <tr>\n",
       "      <th>Not at all</th>\n",
       "      <td>639</td>\n",
       "    </tr>\n",
       "    <tr>\n",
       "      <th>Refused</th>\n",
       "      <td>43</td>\n",
       "    </tr>\n",
       "  </tbody>\n",
       "</table>\n",
       "</div>"
      ],
      "text/plain": [
       "                           harm_dev_countries\n",
       "target harm_dev_countries                    \n",
       "0      Not at all                        2669\n",
       "       Don't know                        1569\n",
       "       Only a little                     1414\n",
       "       A moderate amount                 1235\n",
       "       A great deal                       523\n",
       "       Refused                             91\n",
       "1      A great deal                      6790\n",
       "       A moderate amount                 4242\n",
       "       Only a little                     1871\n",
       "       Don't know                        1330\n",
       "       Not at all                         639\n",
       "       Refused                             43"
      ]
     },
     "execution_count": 58,
     "metadata": {},
     "output_type": "execute_result"
    }
   ],
   "source": [
    "df.groupby('target')['harm_dev_countries'].value_counts().to_frame()"
   ]
  },
  {
   "cell_type": "markdown",
   "id": "136f5239",
   "metadata": {},
   "source": [
    "---\n",
    "---"
   ]
  },
  {
   "cell_type": "markdown",
   "id": "b0aa09e6",
   "metadata": {},
   "source": [
    "**Rows with too many questions answered \"Refused\"**"
   ]
  },
  {
   "cell_type": "code",
   "execution_count": 59,
   "id": "2f48c337",
   "metadata": {
    "ExecuteTime": {
     "end_time": "2022-06-11T07:27:04.450915Z",
     "start_time": "2022-06-11T07:27:04.446373Z"
    }
   },
   "outputs": [
    {
     "data": {
      "text/plain": [
       "Yes           14915\n",
       "Don't know     3818\n",
       "No             3612\n",
       "Refused          71\n",
       "Name: happening, dtype: int64"
      ]
     },
     "execution_count": 59,
     "metadata": {},
     "output_type": "execute_result"
    }
   ],
   "source": [
    "df.happening.value_counts()"
   ]
  },
  {
   "cell_type": "code",
   "execution_count": 60,
   "id": "57765c71",
   "metadata": {
    "ExecuteTime": {
     "end_time": "2022-06-11T07:27:04.458806Z",
     "start_time": "2022-06-11T07:27:04.451941Z"
    }
   },
   "outputs": [
    {
     "data": {
      "text/plain": [
       "0    83\n",
       "1    12\n",
       "Name: target, dtype: int64"
      ]
     },
     "execution_count": 60,
     "metadata": {},
     "output_type": "execute_result"
    }
   ],
   "source": [
    "# Cause of Global Warming \n",
    "df[(df.cause_original == 'Refused') &\n",
    "   (df.cause_recoded == 'Refused') \n",
    "  ]['target'].value_counts()"
   ]
  },
  {
   "cell_type": "code",
   "execution_count": 61,
   "id": "19b84b0a",
   "metadata": {
    "ExecuteTime": {
     "end_time": "2022-06-11T07:27:04.470139Z",
     "start_time": "2022-06-11T07:27:04.459842Z"
    }
   },
   "outputs": [
    {
     "data": {
      "text/plain": [
       "0    70\n",
       "1     8\n",
       "Name: target, dtype: int64"
      ]
     },
     "execution_count": 61,
     "metadata": {},
     "output_type": "execute_result"
    }
   ],
   "source": [
    "# People who \"Refused\" all Harm series questions \n",
    "df[(df.harm_personally == 'Refused') & \n",
    "   (df.harm_US == 'Refused') & \n",
    "   (df.harm_dev_countries == 'Refused') & \n",
    "   (df.harm_future_gen == 'Refused') & \n",
    "   (df.harm_plants_animals == 'Refused') \n",
    "  ]['target'].value_counts()"
   ]
  },
  {
   "cell_type": "code",
   "execution_count": 62,
   "id": "fd9b6e9a",
   "metadata": {
    "ExecuteTime": {
     "end_time": "2022-06-11T07:27:04.477339Z",
     "start_time": "2022-06-11T07:27:04.471082Z"
    }
   },
   "outputs": [
    {
     "data": {
      "text/plain": [
       "0    83\n",
       "1    12\n",
       "Name: target, dtype: int64"
      ]
     },
     "execution_count": 62,
     "metadata": {},
     "output_type": "execute_result"
    }
   ],
   "source": [
    "# Cause of Global Warming \n",
    "df[(df.cause_original == 'Refused') &\n",
    "   (df.cause_recoded == 'Refused') \n",
    "  ]['target'].value_counts()"
   ]
  },
  {
   "cell_type": "code",
   "execution_count": 63,
   "id": "42c8f257",
   "metadata": {
    "ExecuteTime": {
     "end_time": "2022-06-11T07:27:04.491583Z",
     "start_time": "2022-06-11T07:27:04.478165Z"
    }
   },
   "outputs": [
    {
     "data": {
      "text/plain": [
       "0    50\n",
       "Name: target, dtype: int64"
      ]
     },
     "execution_count": 63,
     "metadata": {},
     "output_type": "execute_result"
    }
   ],
   "source": [
    "# People who \"Refused\" Cause questions and all Harm series questions \n",
    "df[(df.cause_original == 'Refused') &\n",
    "   (df.cause_recoded == 'Refused') &\n",
    "   (df.harm_personally == 'Refused') & \n",
    "   (df.harm_US == 'Refused') & \n",
    "   (df.harm_dev_countries == 'Refused') & \n",
    "   (df.harm_future_gen == 'Refused') & \n",
    "   (df.harm_plants_animals == 'Refused') \n",
    "  ]['target'].value_counts()"
   ]
  },
  {
   "cell_type": "markdown",
   "id": "657c3131",
   "metadata": {},
   "source": [
    "**Questions with \"Refused\" possible answers**\n",
    "\n",
    "happening\n",
    "\n",
    "harm_personally\n",
    "harm_US\n",
    "harm_dev_countries\n",
    "harm_future_gen\n",
    "harm_plants_animals\n",
    "\n",
    "cause_original\n",
    "cause_other_text\n",
    "cause_recoded\n",
    "sci_consensus\n",
    "worry\n",
    "harm_personally\n",
    "harm_US\n",
    "harm_dev_countries\n",
    "harm_future_gen\n",
    "harm_plants_animals\n",
    "when_harm_US\n",
    "reg_CO2_pollutant\n",
    "reg_utilities\n",
    "fund_research\n",
    "reg_coal_emissions\n",
    "discuss_GW\n",
    "hear_GW_media\n",
    "ideology\n",
    "party\n",
    "party_w_leaners\n",
    "party_x_ideo\n",
    "registered_voter\n",
    "religion\n",
    "evangelical\n",
    "service_attendance"
   ]
  },
  {
   "cell_type": "markdown",
   "id": "90bc1bd4",
   "metadata": {},
   "source": [
    "**Columns with underlying Nulls due to Poll Incongruity**\n",
    "\n",
    "Columns with questions that weren't asked in 'all waves'\n",
    "- sci_consensus\n",
    "- harm_plants_animals\n",
    "- reg_CO2_pollutant\n",
    "- reg_utilities\n",
    "- reg_coal_emissions\n",
    "- hear_GW_media"
   ]
  },
  {
   "cell_type": "markdown",
   "id": "0e82bc60",
   "metadata": {},
   "source": [
    "# Conclusions and Recommendations \n",
    "\n",
    "**Features Explored:**\n",
    "1. wave -> OrdinalEncode\n",
    "2. year -> OrdinalEncode\n",
    "3. <font color=grey>weight_wave</font>\n",
    "4. <font color=grey>weight_aggregate</font>\n",
    "5. **happening** (target)\n",
    "    - \"Refused\" dropped\n",
    "    - created binary class column `target` (\"Yes\", \"Not Yes\")\n",
    "    - OrdinalEncode fit & transformed original `happening` column\n",
    "6. <font color=grey>cause_original</font>\n",
    "7. <font color=grey>cause_other_text</font>\n",
    "8. cause_recoded\n",
    "    - final response from features 6 & 7\n",
    "9. ***sci_consensus***\n",
    "    - not included for one poll (2015 Oct) 1330 rows\n",
    "    - interesting feature, worth imputing with KNNImputer\n",
    "10. worry\n",
    "    - OrdinalEncode \n",
    "11. harm_personally\n",
    "12. harm_US\n",
    "13. harm_dev_countries\n",
    "\n",
    "\n",
    "**Data Cleaning Recommendations:**\n",
    "- drop rows that \"Refused\" all Cause and Harm series questions \n",
    "- drop remaining 24 rows that \"Refused\" answering `happening`\n",
    "- drop columns `weight_wave` and `weight_aggregate`\n",
    "- drop column `sci_consensus`"
   ]
  },
  {
   "cell_type": "code",
   "execution_count": 64,
   "id": "53e79f72",
   "metadata": {
    "ExecuteTime": {
     "end_time": "2022-06-11T07:27:04.544773Z",
     "start_time": "2022-06-11T07:27:04.492444Z"
    }
   },
   "outputs": [
    {
     "name": "stdout",
     "output_type": "stream",
     "text": [
      "(22416, 54)\n",
      "(22269, 51)\n"
     ]
    }
   ],
   "source": [
    "# Row/Column Drops\n",
    "\n",
    "print(df.shape)\n",
    "\n",
    "df.drop(index=df[(df.harm_personally == 'Refused') & \n",
    "                 (df.harm_US == 'Refused') & \n",
    "                 (df.harm_dev_countries == 'Refused') & \n",
    "                 (df.harm_future_gen == 'Refused') & \n",
    "                 (df.harm_plants_animals == 'Refused') \n",
    "                ]['target'].index, inplace=True)\n",
    "\n",
    "df.drop(index=df[(df.cause_original == 'Refused') &\n",
    "                 (df.cause_recoded == 'Refused') \n",
    "                ]['target'].index, inplace=True)\n",
    "\n",
    "df.drop(index=df[df.happening == \"Refused\"].index, inplace=True)\n",
    "\n",
    "df.drop(labels=['weight_wave', 'weight_aggregate'], axis=1, inplace=True) \n",
    "\n",
    "df.drop(labels=['sci_consensus'], axis=1, inplace=True) \n",
    "\n",
    "df.reset_index(drop=True, inplace=True)\n",
    "\n",
    "print(df.shape)"
   ]
  },
  {
   "cell_type": "code",
   "execution_count": 139,
   "id": "df69aac7",
   "metadata": {
    "ExecuteTime": {
     "end_time": "2022-06-11T08:08:57.156356Z",
     "start_time": "2022-06-11T08:08:57.133404Z"
    }
   },
   "outputs": [],
   "source": [
    "# Manufacturing Binary feature from worry column\n",
    "\n",
    "df['worry_y_n'] = ['worry_n' if x == 'Not at all worried' or x == 'Refused'\n",
    "                   else 'worry_y' for x in df.worry]"
   ]
  },
  {
   "cell_type": "code",
   "execution_count": 131,
   "id": "4a89e338",
   "metadata": {
    "ExecuteTime": {
     "end_time": "2022-06-11T08:02:14.559006Z",
     "start_time": "2022-06-11T08:02:14.536606Z"
    }
   },
   "outputs": [
    {
     "data": {
      "text/plain": [
       "yes      14137\n",
       "no        5618\n",
       "maybe     2514\n",
       "Name: harm_personally_y_m_n, dtype: int64"
      ]
     },
     "execution_count": 131,
     "metadata": {},
     "output_type": "execute_result"
    }
   ],
   "source": [
    "# Manufacturing harm_personally_y_m_n by grouping original subgroups\n",
    "df['harm_personally_y_m_n'] = ['yes' if x=='A great deal' or \n",
    "                               x=='A moderate amount' or \n",
    "                               x=='Only a little'\n",
    "                               else 'maybe' if x=='Don\\'t know'\n",
    "                               else 'no'\n",
    "                               for x in df.harm_personally]\n",
    "df['harm_personally_y_m_n'].value_counts()"
   ]
  },
  {
   "cell_type": "code",
   "execution_count": 148,
   "id": "370195e5",
   "metadata": {
    "ExecuteTime": {
     "end_time": "2022-06-11T08:13:45.318714Z",
     "start_time": "2022-06-11T08:13:45.293503Z"
    }
   },
   "outputs": [
    {
     "data": {
      "text/plain": [
       "yes      16071\n",
       "no        3674\n",
       "maybe     2524\n",
       "Name: harm_US_y_m_n, dtype: int64"
      ]
     },
     "execution_count": 148,
     "metadata": {},
     "output_type": "execute_result"
    }
   ],
   "source": [
    "# Manufacturing harm_personally_y_m_n by grouping original subgroups\n",
    "df['harm_US_y_m_n'] = ['yes' if x=='A great deal' or \n",
    "                               x=='A moderate amount' or \n",
    "                               x=='Only a little'\n",
    "                               else 'maybe' if x=='Don\\'t know'\n",
    "                               else 'no'\n",
    "                               for x in df.harm_US]\n",
    "df['harm_US_y_m_n'].value_counts()"
   ]
  },
  {
   "cell_type": "markdown",
   "id": "d2444986",
   "metadata": {},
   "source": [
    "# Model testing \n",
    "Binary classes, LabelEncoder, Ordinal Encoder, features aggregated to subgroups"
   ]
  },
  {
   "cell_type": "markdown",
   "id": "9203aa8b",
   "metadata": {},
   "source": [
    "1. Multi vs Binary Class w/ OrdinalEncoded Features\n",
    "2. Multi vs Binary Class w/ Features simplified to subgroups and dummied"
   ]
  },
  {
   "cell_type": "code",
   "execution_count": 67,
   "id": "12a1631e",
   "metadata": {
    "ExecuteTime": {
     "end_time": "2022-06-11T07:27:04.649101Z",
     "start_time": "2022-06-11T07:27:04.561716Z"
    }
   },
   "outputs": [],
   "source": [
    "from sklearn.model_selection import cross_val_score\n",
    "from sklearn.tree import DecisionTreeClassifier\n",
    "from sklearn.ensemble import (RandomForestClassifier, \n",
    "                              ExtraTreesClassifier, \n",
    "                              BaggingClassifier)\n",
    "from sklearn.model_selection import StratifiedKFold\n",
    "\n",
    "from sklearn.preprocessing import LabelEncoder\n",
    "from sklearn.preprocessing import OrdinalEncoder"
   ]
  },
  {
   "cell_type": "code",
   "execution_count": 99,
   "id": "880a68c5",
   "metadata": {
    "ExecuteTime": {
     "end_time": "2022-06-11T07:35:09.773007Z",
     "start_time": "2022-06-11T07:35:09.758261Z"
    }
   },
   "outputs": [],
   "source": [
    "random_state = 73\n",
    "n_estimators = 200\n",
    "\n",
    "dt = DecisionTreeClassifier(random_state=random_state,\n",
    "                            class_weight='balanced',)\n",
    "\n",
    "bdt = BaggingClassifier(dt,\n",
    "                        random_state=random_state,\n",
    "                        n_jobs=-1,\n",
    "                        n_estimators=n_estimators)\n",
    "\n",
    "rf = RandomForestClassifier(n_jobs=-1, \n",
    "                            class_weight='balanced',\n",
    "                            random_state=random_state,\n",
    "                            n_estimators=n_estimators)\n",
    "\n",
    "et = ExtraTreesClassifier(n_jobs=-1,\n",
    "                          class_weight='balanced',\n",
    "                          random_state=random_state,\n",
    "                          n_estimators=n_estimators)\n",
    "\n",
    "\n",
    "\n",
    "def score(model, name, X, y):\n",
    "    cv = StratifiedKFold(n_splits=10,\n",
    "                         random_state=random_state,\n",
    "                         shuffle=True)\n",
    "    s = cross_val_score(model, X, y, cv=cv,\n",
    "                        n_jobs=-1)\n",
    "    print('{} Score: {:.2f} +- {:.3f}'.format(name, \n",
    "                                              s.mean(), \n",
    "                                              2 * s.std()))"
   ]
  },
  {
   "cell_type": "markdown",
   "id": "45049f23",
   "metadata": {},
   "source": [
    "# Multi vs. Binary Class  w/ Ordinal Encoded Features"
   ]
  },
  {
   "cell_type": "markdown",
   "id": "78e67d24",
   "metadata": {},
   "source": [
    "**Ordinal Encoding Selected Features**\n",
    "- `cause_recoded`\n",
    "- `worry`\n",
    "- none, `year`, `wave`"
   ]
  },
  {
   "cell_type": "code",
   "execution_count": 121,
   "id": "0c46fff7",
   "metadata": {
    "ExecuteTime": {
     "end_time": "2022-06-11T07:51:15.777910Z",
     "start_time": "2022-06-11T07:51:15.728699Z"
    }
   },
   "outputs": [],
   "source": [
    "cats = [['Only a little', 'Not at all', \"Don't know\", 'A moderate amount',\n",
    "       'A great deal', 'Refused'], \n",
    "        ['Only a little', 'Not at all', \"Don't know\", 'A moderate amount',\n",
    "       'A great deal', 'Refused'], \n",
    "        [2008, 2010, 2011, 2012, 2013, 2014, 2015, 2016, 2017, 2018],\n",
    "        ['2008 Nov', '2010 Jan', '2010 Jun', '2011 May', '2011 Nov', \n",
    "        '2012 Mar', '2012 Sep', '2013 Apr', '2013 Nov', '2014 Apr',\n",
    "        '2014 Oct', '2015 Mar', '2015 Oct', '2016 Mar', '2016 Nov',\n",
    "        '2017 May', '2017 Oct', '2018 Mar', '2018 Dec',], \n",
    "        ['Caused mostly by human activities',\n",
    "       'Caused mostly by natural changes in the environment',\n",
    "       \"Neither because global warming isn't happening\",\n",
    "       'Caused by human activities and natural changes', \"Don't know\",\n",
    "       'Other (Please specify)'], \n",
    "        ['Somewhat worried', 'Not very worried', 'Not at all worried',\n",
    "       'Very worried', 'Refused']\n",
    "       ]\n",
    "\n",
    "enc = OrdinalEncoder(categories=cats)\n",
    "\n",
    "enc.fit(df[['harm_personally', \n",
    "            'harm_US', \n",
    "            'year', \n",
    "            'wave', \n",
    "            'cause_recoded', \n",
    "            'worry']])\n",
    "\n",
    "X_ord = enc.transform(df[['harm_personally', \n",
    "                          'harm_US', \n",
    "                          'year', \n",
    "                          'wave', \n",
    "                          'cause_recoded', \n",
    "                          'worry']])"
   ]
  }
 ],
 "metadata": {
  "kernelspec": {
   "display_name": "Python 3 (ipykernel)",
   "language": "python",
   "name": "python3"
  },
  "language_info": {
   "codemirror_mode": {
    "name": "ipython",
    "version": 3
   },
   "file_extension": ".py",
   "mimetype": "text/x-python",
   "name": "python",
   "nbconvert_exporter": "python",
   "pygments_lexer": "ipython3",
   "version": "3.9.7"
  }
 },
 "nbformat": 4,
 "nbformat_minor": 5
}
