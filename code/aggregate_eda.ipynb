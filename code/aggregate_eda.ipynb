{
 "cells": [
  {
   "cell_type": "markdown",
   "id": "299244cf",
   "metadata": {},
   "source": [
    "# Imports & Functions"
   ]
  },
  {
   "cell_type": "code",
   "execution_count": 48,
   "id": "79d1f9b4",
   "metadata": {
    "ExecuteTime": {
     "end_time": "2022-06-28T02:06:25.365875Z",
     "start_time": "2022-06-28T02:06:25.357875Z"
    }
   },
   "outputs": [],
   "source": [
    "import pandas as pd\n",
    "import numpy as np\n",
    "\n",
    "import matplotlib.pyplot as plt\n",
    "import seaborn as sns"
   ]
  },
  {
   "cell_type": "code",
   "execution_count": 49,
   "id": "0d054ff8",
   "metadata": {
    "ExecuteTime": {
     "end_time": "2022-06-28T02:06:29.841911Z",
     "start_time": "2022-06-28T02:06:25.372876Z"
    }
   },
   "outputs": [],
   "source": [
    "# read in our dataframe\n",
    "df = pd.read_spss('../data/CCAM SPSS Data 2008-2018.sav')\n",
    "\n",
    "#resave dataframe\n",
    "# this removes some weirdness with the .sav file structure that doesn't \n",
    "# let rows be completely removed\n",
    "df.to_csv('../data/CCAM SPSS Data 2008-2018.csv', index=False)\n",
    "\n",
    "# read in our new dataframe\n",
    "df = pd.read_csv('../data/CCAM SPSS Data 2008-2018.csv')"
   ]
  },
  {
   "cell_type": "code",
   "execution_count": 50,
   "id": "f39f55d3",
   "metadata": {
    "ExecuteTime": {
     "end_time": "2022-06-28T02:06:29.856875Z",
     "start_time": "2022-06-28T02:06:29.844874Z"
    },
    "code_folding": [
     0
    ]
   },
   "outputs": [],
   "source": [
    "def columns_info(df):\n",
    "    columns_df = pd.DataFrame({'nulls': [df[col].isna().sum() for col in df.keys()], \n",
    "                         'dtype': [df[col].dtype for col in df.keys()], \n",
    "                         'nunique_values': [df[col].nunique() for col in df.keys()], \n",
    "                         'unique_values': [df[col].unique()for col in df.keys()], \n",
    "                         'value_counts': [df[col].value_counts() for col in df.keys()]}, \n",
    "                         index=[col for col in df.keys()])\n",
    "    return columns_df"
   ]
  },
  {
   "cell_type": "code",
   "execution_count": 51,
   "id": "52ff68b7",
   "metadata": {
    "ExecuteTime": {
     "end_time": "2022-06-28T02:06:29.904875Z",
     "start_time": "2022-06-28T02:06:29.859874Z"
    },
    "code_folding": []
   },
   "outputs": [],
   "source": [
    "def distgraph(var, var_order, title):\n",
    "    fig, ax = plt.subplots(figsize=(10, 10))\n",
    "    (df.groupby('happening')[var].value_counts()\\\n",
    "                                    .unstack().T.loc[var_order].sum(axis=1)\\\n",
    "                                 /df.shape[0])\\\n",
    "                    .plot(kind='barh')\n",
    "    \n",
    "    # fluff\n",
    "    ax.set_xlabel('% of Responses')\n",
    "    ax.set_title(title+'\\n\\nDistribution',\n",
    "                 fontsize=15, \n",
    "                 fontweight='bold', \n",
    "                 color='firebrick', \n",
    "                 loc='left')\n",
    "   \n",
    "    max_width = 0\n",
    "    for rect in ax.patches:\n",
    "        if rect.get_width()>max_width:\n",
    "            max_width = rect.get_width()\n",
    "    \n",
    "    for rect in ax.patches:\n",
    "\n",
    "            height = rect.get_height()\n",
    "            width = rect.get_width()\n",
    "            x = rect.get_x()\n",
    "            y = rect.get_y()\n",
    "            \n",
    "            label_text = round(width, 2)\n",
    "            \n",
    "            label_x = x + width / 2\n",
    "            label_y = y + height / 2\n",
    "\n",
    "            if label_x < max_width*.05:\n",
    "                ax.text(width+.05*max_width, label_y, f'{label_text:.2f}'\n",
    "                        , ha='center', va='center', color = 'black')\n",
    "            else:\n",
    "                ax.text(label_x, label_y, f'{label_text:.2f}'\n",
    "                        , ha='center', va='center', color = 'white')\n",
    "            \n",
    "    \n",
    "    ax.set(ylabel=None);\n",
    "\n",
    "def propgraph(var,var_order,title):\n",
    "    fig, ax = plt.subplots()\n",
    "\n",
    "    df.groupby(var)['happening'].value_counts(normalize=True)\\\n",
    "        .unstack().loc[var_order].T\\\n",
    "        .loc[['No', \"Don't know\", 'Yes']].T\\\n",
    "        .plot(kind='barh', \n",
    "              figsize=(10, 8), \n",
    "              stacked=True,\n",
    "              color=['slategrey', 'deepskyblue', 'palegreen'], \n",
    "              ax=ax)\n",
    "    ax.set_title(title+'\\n\\nProportion of Belief in Climate Change',\n",
    "                 fontsize=15, \n",
    "                 fontweight='bold', \n",
    "                 color='firebrick', \n",
    "                 loc='left')\n",
    "    ax.set_ylabel(None)\n",
    "    ax.legend(loc=(1.05,0.88))\n",
    "    \n",
    "    max_width = 0\n",
    "    for rect in ax.patches:\n",
    "        if rect.get_width()>max_width:\n",
    "            max_width = rect.get_width()\n",
    "    \n",
    "    for rect in ax.patches:\n",
    "\n",
    "            height = rect.get_height()\n",
    "            width = rect.get_width()\n",
    "            x = rect.get_x()\n",
    "            y = rect.get_y()\n",
    "            \n",
    "            label_text = round(width, 2)\n",
    "            \n",
    "            label_x = x + width / 2\n",
    "            label_y = y + height / 2\n",
    "\n",
    "            if label_x >= max_width*.05:\n",
    "                ax.text(label_x, label_y, f'{label_text:.2f}'\n",
    "                        , ha='center', va='center', color = 'black')"
   ]
  },
  {
   "cell_type": "markdown",
   "id": "200bfc08",
   "metadata": {},
   "source": [
    "# Initial Inspection "
   ]
  },
  {
   "cell_type": "markdown",
   "id": "24e066da",
   "metadata": {},
   "source": [
    "## Review Target Column\n",
    "**Recently, you may have noticed that global warming has been getting some attention in the news. Global warming refers to the idea that the world’s average temperature has been increasing over the past 150 years, may be increasing more in the future, and that the world’s climate may change as a result. What do you think: Do you think that global warming is happening?**"
   ]
  },
  {
   "cell_type": "code",
   "execution_count": 52,
   "id": "acdae591",
   "metadata": {
    "ExecuteTime": {
     "end_time": "2022-06-28T02:06:30.186875Z",
     "start_time": "2022-06-28T02:06:29.907880Z"
    }
   },
   "outputs": [
    {
     "data": {
      "image/png": "[encoded data removed]",
      "text/plain": [
       "<Figure size 720x720 with 1 Axes>"
      ]
     },
     "metadata": {
      "needs_background": "light"
     },
     "output_type": "display_data"
    }
   ],
   "source": [
    "distgraph('happening',df.happening.unique(),'Do you think global warming is happening?')"
   ]
  },
  {
   "cell_type": "markdown",
   "id": "df4adf06",
   "metadata": {},
   "source": [
    "The target for our dataset will be the question on whether or not the respondent thinks global warming is happening.\n",
    "\n",
    "There are four options for the answer, one of which is \"Refused\". For the purposes of this analysis, and because it is 0.3% of the responses, these survey rows will be dropped leaving us with only three possible responses:\n",
    "  1.  Yes\n",
    "  2.  Don't Know\n",
    "  3.  No"
   ]
  },
  {
   "cell_type": "code",
   "execution_count": 53,
   "id": "6f8e6be1",
   "metadata": {
    "ExecuteTime": {
     "end_time": "2022-06-28T02:06:30.217875Z",
     "start_time": "2022-06-28T02:06:30.188874Z"
    }
   },
   "outputs": [],
   "source": [
    "# drop Refused\n",
    "df = df[df.happening != \"Refused\"]"
   ]
  },
  {
   "cell_type": "code",
   "execution_count": 54,
   "id": "e72ea255",
   "metadata": {
    "ExecuteTime": {
     "end_time": "2022-06-28T02:06:30.496880Z",
     "start_time": "2022-06-28T02:06:30.220876Z"
    }
   },
   "outputs": [
    {
     "data": {
      "image/png": "[encoded data removed]",
      "text/plain": [
       "<Figure size 720x720 with 1 Axes>"
      ]
     },
     "metadata": {
      "needs_background": "light"
     },
     "output_type": "display_data"
    }
   ],
   "source": [
    "distgraph('happening',df.happening.unique(),'Do you think global warming is happening?')"
   ]
  },
  {
   "cell_type": "markdown",
   "id": "8741e12c",
   "metadata": {},
   "source": [
    "A majority of our dataset (66.7%) thinks global warming is happening with Don't Know and No being neck and neck for the second most popular answer."
   ]
  },
  {
   "cell_type": "markdown",
   "id": "92b869f4",
   "metadata": {},
   "source": [
    "## Review Exploratory Variables"
   ]
  },
  {
   "cell_type": "code",
   "execution_count": 55,
   "id": "bb7d23dc",
   "metadata": {
    "ExecuteTime": {
     "end_time": "2022-06-28T02:06:30.511874Z",
     "start_time": "2022-06-28T02:06:30.499876Z"
    }
   },
   "outputs": [
    {
     "data": {
      "text/plain": [
       "(22345, 54)"
      ]
     },
     "execution_count": 55,
     "metadata": {},
     "output_type": "execute_result"
    }
   ],
   "source": [
    "df.shape"
   ]
  },
  {
   "cell_type": "markdown",
   "id": "448bf992",
   "metadata": {},
   "source": [
    "The dataset contains 53 exploratory variables and 1 target variable across 22,345 rows, each indicating a survey response.\n",
    "\n",
    "Below is a quick summary of the variables, nulls, types of values, etc. in the dataset"
   ]
  },
  {
   "cell_type": "code",
   "execution_count": 56,
   "id": "143df187",
   "metadata": {
    "ExecuteTime": {
     "end_time": "2022-06-28T02:06:31.213874Z",
     "start_time": "2022-06-28T02:06:30.514875Z"
    },
    "scrolled": false
   },
   "outputs": [
    {
     "data": {
      "text/html": [
       "<div>\n",
       "<style scoped>\n",
       "    .dataframe tbody tr th:only-of-type {\n",
       "        vertical-align: middle;\n",
       "    }\n",
       "\n",
       "    .dataframe tbody tr th {\n",
       "        vertical-align: top;\n",
       "    }\n",
       "\n",
       "    .dataframe thead th {\n",
       "        text-align: right;\n",
       "    }\n",
       "</style>\n",
       "<table border=\"1\" class=\"dataframe\">\n",
       "  <thead>\n",
       "    <tr style=\"text-align: right;\">\n",
       "      <th></th>\n",
       "      <th>nulls</th>\n",
       "      <th>dtype</th>\n",
       "      <th>nunique_values</th>\n",
       "      <th>unique_values</th>\n",
       "      <th>value_counts</th>\n",
       "    </tr>\n",
       "  </thead>\n",
       "  <tbody>\n",
       "    <tr>\n",
       "      <th>case_ID</th>\n",
       "      <td>0</td>\n",
       "      <td>float64</td>\n",
       "      <td>22345</td>\n",
       "      <td>[2.0, 3.0, 5.0, 6.0, 7.0, 8.0, 9.0, 11.0, 12.0...</td>\n",
       "      <td>2.0        1\n",
       "27381.0    1\n",
       "27391.0    1\n",
       "27389.0...</td>\n",
       "    </tr>\n",
       "    <tr>\n",
       "      <th>wave</th>\n",
       "      <td>0</td>\n",
       "      <td>object</td>\n",
       "      <td>19</td>\n",
       "      <td>[Nov 2008, Jan 2010, Jun 2010, May 2011, Nov 2...</td>\n",
       "      <td>Nov 2008    2155\n",
       "Oct 2015    1330\n",
       "Oct 2017    ...</td>\n",
       "    </tr>\n",
       "    <tr>\n",
       "      <th>year</th>\n",
       "      <td>0</td>\n",
       "      <td>int64</td>\n",
       "      <td>10</td>\n",
       "      <td>[2008, 2010, 2011, 2012, 2013, 2014, 2015, 201...</td>\n",
       "      <td>2015    2593\n",
       "2017    2570\n",
       "2016    2430\n",
       "2018   ...</td>\n",
       "    </tr>\n",
       "    <tr>\n",
       "      <th>weight_wave</th>\n",
       "      <td>0</td>\n",
       "      <td>float64</td>\n",
       "      <td>8225</td>\n",
       "      <td>[0.5400000000000001, 0.85, 0.49, 0.29, 1.29, 2...</td>\n",
       "      <td>0.5400    80\n",
       "0.6100    78\n",
       "0.4200    76\n",
       "0.4100 ...</td>\n",
       "    </tr>\n",
       "    <tr>\n",
       "      <th>weight_aggregate</th>\n",
       "      <td>0</td>\n",
       "      <td>float64</td>\n",
       "      <td>11637</td>\n",
       "      <td>[0.2944021792003114, 0.4634108376301197, 0.267...</td>\n",
       "      <td>0.299854    30\n",
       "0.294402    29\n",
       "0.316210    29\n",
       "0...</td>\n",
       "    </tr>\n",
       "    <tr>\n",
       "      <th>happening</th>\n",
       "      <td>0</td>\n",
       "      <td>object</td>\n",
       "      <td>3</td>\n",
       "      <td>[Yes, Don't know, No]</td>\n",
       "      <td>Yes           14915\n",
       "Don't know     3818\n",
       "No    ...</td>\n",
       "    </tr>\n",
       "    <tr>\n",
       "      <th>cause_original</th>\n",
       "      <td>0</td>\n",
       "      <td>object</td>\n",
       "      <td>5</td>\n",
       "      <td>[Caused mostly by human activities, Caused mos...</td>\n",
       "      <td>Caused mostly by human activities             ...</td>\n",
       "    </tr>\n",
       "    <tr>\n",
       "      <th>cause_other_text</th>\n",
       "      <td>20358</td>\n",
       "      <td>object</td>\n",
       "      <td>1389</td>\n",
       "      <td>[nan, both of the above, a combination of huma...</td>\n",
       "      <td>both                                          ...</td>\n",
       "    </tr>\n",
       "    <tr>\n",
       "      <th>cause_recoded</th>\n",
       "      <td>0</td>\n",
       "      <td>object</td>\n",
       "      <td>7</td>\n",
       "      <td>[Caused mostly by human activities, Caused mos...</td>\n",
       "      <td>Caused mostly by human activities             ...</td>\n",
       "    </tr>\n",
       "    <tr>\n",
       "      <th>sci_consensus</th>\n",
       "      <td>1330</td>\n",
       "      <td>object</td>\n",
       "      <td>5</td>\n",
       "      <td>[Most scientists think global warming is happe...</td>\n",
       "      <td>Most scientists think global warming is happen...</td>\n",
       "    </tr>\n",
       "    <tr>\n",
       "      <th>worry</th>\n",
       "      <td>0</td>\n",
       "      <td>object</td>\n",
       "      <td>5</td>\n",
       "      <td>[Somewhat worried, Not very worried, Not at al...</td>\n",
       "      <td>Somewhat worried      9034\n",
       "Not very worried   ...</td>\n",
       "    </tr>\n",
       "    <tr>\n",
       "      <th>harm_personally</th>\n",
       "      <td>0</td>\n",
       "      <td>object</td>\n",
       "      <td>6</td>\n",
       "      <td>[Only a little, Not at all, Don't know, A mode...</td>\n",
       "      <td>Only a little        6014\n",
       "Not at all          ...</td>\n",
       "    </tr>\n",
       "    <tr>\n",
       "      <th>harm_US</th>\n",
       "      <td>0</td>\n",
       "      <td>object</td>\n",
       "      <td>6</td>\n",
       "      <td>[A moderate amount, Refused, Not at all, Only ...</td>\n",
       "      <td>A moderate amount    6718\n",
       "A great deal        ...</td>\n",
       "    </tr>\n",
       "    <tr>\n",
       "      <th>harm_dev_countries</th>\n",
       "      <td>0</td>\n",
       "      <td>object</td>\n",
       "      <td>6</td>\n",
       "      <td>[A great deal, Only a little, Not at all, A mo...</td>\n",
       "      <td>A great deal         7306\n",
       "A moderate amount   ...</td>\n",
       "    </tr>\n",
       "    <tr>\n",
       "      <th>harm_future_gen</th>\n",
       "      <td>0</td>\n",
       "      <td>object</td>\n",
       "      <td>6</td>\n",
       "      <td>[A great deal, A moderate amount, Not at all, ...</td>\n",
       "      <td>A great deal         10393\n",
       "A moderate amount  ...</td>\n",
       "    </tr>\n",
       "    <tr>\n",
       "      <th>harm_plants_animals</th>\n",
       "      <td>1330</td>\n",
       "      <td>object</td>\n",
       "      <td>6</td>\n",
       "      <td>[A great deal, A moderate amount, Not at all, ...</td>\n",
       "      <td>A great deal         9551\n",
       "A moderate amount   ...</td>\n",
       "    </tr>\n",
       "    <tr>\n",
       "      <th>when_harm_US</th>\n",
       "      <td>0</td>\n",
       "      <td>object</td>\n",
       "      <td>7</td>\n",
       "      <td>[In 10 years, In 50 years, Never, In 25 years,...</td>\n",
       "      <td>They are being harmed now    7699\n",
       "Never       ...</td>\n",
       "    </tr>\n",
       "    <tr>\n",
       "      <th>reg_CO2_pollutant</th>\n",
       "      <td>998</td>\n",
       "      <td>object</td>\n",
       "      <td>5</td>\n",
       "      <td>[Strongly support, Somewhat support, Somewhat ...</td>\n",
       "      <td>Somewhat support    9590\n",
       "Strongly support    6...</td>\n",
       "    </tr>\n",
       "    <tr>\n",
       "      <th>reg_utilities</th>\n",
       "      <td>5026</td>\n",
       "      <td>object</td>\n",
       "      <td>5</td>\n",
       "      <td>[Strongly support, Somewhat support, Strongly ...</td>\n",
       "      <td>Somewhat support    6692\n",
       "Strongly support    4...</td>\n",
       "    </tr>\n",
       "    <tr>\n",
       "      <th>fund_research</th>\n",
       "      <td>0</td>\n",
       "      <td>object</td>\n",
       "      <td>5</td>\n",
       "      <td>[Strongly support, Somewhat support, Strongly ...</td>\n",
       "      <td>Somewhat support    9183\n",
       "Strongly support    9...</td>\n",
       "    </tr>\n",
       "    <tr>\n",
       "      <th>reg_coal_emissions</th>\n",
       "      <td>9034</td>\n",
       "      <td>object</td>\n",
       "      <td>5</td>\n",
       "      <td>[nan, Strongly oppose, Strongly support, Somew...</td>\n",
       "      <td>Somewhat support    5859\n",
       "Strongly support    3...</td>\n",
       "    </tr>\n",
       "    <tr>\n",
       "      <th>discuss_GW</th>\n",
       "      <td>0</td>\n",
       "      <td>object</td>\n",
       "      <td>5</td>\n",
       "      <td>[Occasionally, Rarely, Never, Often, Refused]</td>\n",
       "      <td>Rarely          8217\n",
       "Occasionally    6722\n",
       "Neve...</td>\n",
       "    </tr>\n",
       "    <tr>\n",
       "      <th>hear_GW_media</th>\n",
       "      <td>13587</td>\n",
       "      <td>object</td>\n",
       "      <td>7</td>\n",
       "      <td>[nan, Once a year or less often, Several times...</td>\n",
       "      <td>At least once a week         2371\n",
       "Several time...</td>\n",
       "    </tr>\n",
       "    <tr>\n",
       "      <th>gender</th>\n",
       "      <td>0</td>\n",
       "      <td>object</td>\n",
       "      <td>2</td>\n",
       "      <td>[Female, Male]</td>\n",
       "      <td>Female    11342\n",
       "Male      11003\n",
       "Name: gender, ...</td>\n",
       "    </tr>\n",
       "    <tr>\n",
       "      <th>age</th>\n",
       "      <td>0</td>\n",
       "      <td>float64</td>\n",
       "      <td>78</td>\n",
       "      <td>[78.0, 45.0, 54.0, 71.0, 26.0, 29.0, 34.0, 46....</td>\n",
       "      <td>56.0    566\n",
       "58.0    523\n",
       "55.0    512\n",
       "60.0    49...</td>\n",
       "    </tr>\n",
       "    <tr>\n",
       "      <th>age_category</th>\n",
       "      <td>0</td>\n",
       "      <td>object</td>\n",
       "      <td>3</td>\n",
       "      <td>[55+ years, 35-54 years, 18-34 years]</td>\n",
       "      <td>55+ years      10059\n",
       "35-54 years     7537\n",
       "18-3...</td>\n",
       "    </tr>\n",
       "    <tr>\n",
       "      <th>generation</th>\n",
       "      <td>0</td>\n",
       "      <td>object</td>\n",
       "      <td>6</td>\n",
       "      <td>[Silent (1928 - 1945), Baby Boomers (1946 - 19...</td>\n",
       "      <td>Baby Boomers (1946 - 1964)    9132\n",
       "Generation ...</td>\n",
       "    </tr>\n",
       "    <tr>\n",
       "      <th>educ</th>\n",
       "      <td>0</td>\n",
       "      <td>object</td>\n",
       "      <td>14</td>\n",
       "      <td>[High school graduate - high school diploma or...</td>\n",
       "      <td>High school graduate - high school diploma or ...</td>\n",
       "    </tr>\n",
       "    <tr>\n",
       "      <th>educ_category</th>\n",
       "      <td>0</td>\n",
       "      <td>object</td>\n",
       "      <td>4</td>\n",
       "      <td>[High school, Less than high school, Bachelor'...</td>\n",
       "      <td>Bachelor's degree or higher    7700\n",
       "Some colle...</td>\n",
       "    </tr>\n",
       "    <tr>\n",
       "      <th>income</th>\n",
       "      <td>0</td>\n",
       "      <td>object</td>\n",
       "      <td>21</td>\n",
       "      <td>[$50,000 to $59,999, $30,000 to $34,999, $100,...</td>\n",
       "      <td>$100,000 to $124,999                          ...</td>\n",
       "    </tr>\n",
       "    <tr>\n",
       "      <th>income_category</th>\n",
       "      <td>0</td>\n",
       "      <td>object</td>\n",
       "      <td>3</td>\n",
       "      <td>[$50,000 to $99,999, Less than $50,000, $100,0...</td>\n",
       "      <td>Less than $50,000     8750\n",
       "$50,000 to $99,999 ...</td>\n",
       "    </tr>\n",
       "    <tr>\n",
       "      <th>race</th>\n",
       "      <td>0</td>\n",
       "      <td>object</td>\n",
       "      <td>4</td>\n",
       "      <td>[White, Non-Hispanic, Hispanic, Other, Non-His...</td>\n",
       "      <td>White, Non-Hispanic    16777\n",
       "Hispanic         ...</td>\n",
       "    </tr>\n",
       "    <tr>\n",
       "      <th>ideology</th>\n",
       "      <td>0</td>\n",
       "      <td>object</td>\n",
       "      <td>6</td>\n",
       "      <td>[Somewhat conservative, Moderate, middle of th...</td>\n",
       "      <td>Moderate, middle of the road    8837\n",
       "Somewhat ...</td>\n",
       "    </tr>\n",
       "    <tr>\n",
       "      <th>party</th>\n",
       "      <td>0</td>\n",
       "      <td>object</td>\n",
       "      <td>6</td>\n",
       "      <td>[Republican, No party/not interested in politi...</td>\n",
       "      <td>Democrat                               7397\n",
       "Re...</td>\n",
       "    </tr>\n",
       "    <tr>\n",
       "      <th>party_w_leaners</th>\n",
       "      <td>0</td>\n",
       "      <td>object</td>\n",
       "      <td>5</td>\n",
       "      <td>[Republicans, No party/Not interested in polit...</td>\n",
       "      <td>Democrats                              9237\n",
       "Re...</td>\n",
       "    </tr>\n",
       "    <tr>\n",
       "      <th>party_x_ideo</th>\n",
       "      <td>0</td>\n",
       "      <td>object</td>\n",
       "      <td>7</td>\n",
       "      <td>[Conservative Republican, No Party/Not Interes...</td>\n",
       "      <td>Conservative Republican                5491\n",
       "Mo...</td>\n",
       "    </tr>\n",
       "    <tr>\n",
       "      <th>registered_voter</th>\n",
       "      <td>0</td>\n",
       "      <td>object</td>\n",
       "      <td>6</td>\n",
       "      <td>[Registered, Not registered, Not sure, Refused...</td>\n",
       "      <td>Registered              18820\n",
       "Not registered  ...</td>\n",
       "    </tr>\n",
       "    <tr>\n",
       "      <th>region9</th>\n",
       "      <td>0</td>\n",
       "      <td>object</td>\n",
       "      <td>9</td>\n",
       "      <td>[South Atlantic, East-North Central, Mountain,...</td>\n",
       "      <td>South Atlantic        4325\n",
       "East-North Central ...</td>\n",
       "    </tr>\n",
       "    <tr>\n",
       "      <th>region4</th>\n",
       "      <td>0</td>\n",
       "      <td>object</td>\n",
       "      <td>4</td>\n",
       "      <td>[South, Midwest, West, Northeast]</td>\n",
       "      <td>South        7847\n",
       "Midwest      5295\n",
       "West      ...</td>\n",
       "    </tr>\n",
       "    <tr>\n",
       "      <th>religion</th>\n",
       "      <td>0</td>\n",
       "      <td>object</td>\n",
       "      <td>16</td>\n",
       "      <td>[Protestant (e.g., Methodist, Lutheran, Presby...</td>\n",
       "      <td>Catholic                                      ...</td>\n",
       "    </tr>\n",
       "    <tr>\n",
       "      <th>religion_other_nonchristian</th>\n",
       "      <td>22253</td>\n",
       "      <td>object</td>\n",
       "      <td>65</td>\n",
       "      <td>[nan, Unitarian, Spiritual but don't attend ch...</td>\n",
       "      <td>Pagan                                11\n",
       "Unitar...</td>\n",
       "    </tr>\n",
       "    <tr>\n",
       "      <th>evangelical</th>\n",
       "      <td>0</td>\n",
       "      <td>object</td>\n",
       "      <td>4</td>\n",
       "      <td>[No, Don't Know, Yes, Refused]</td>\n",
       "      <td>No            14666\n",
       "Yes            5553\n",
       "Don't ...</td>\n",
       "    </tr>\n",
       "    <tr>\n",
       "      <th>service_attendance</th>\n",
       "      <td>0</td>\n",
       "      <td>object</td>\n",
       "      <td>7</td>\n",
       "      <td>[Once a week, Once a year or less, Never, Once...</td>\n",
       "      <td>Never                    5549\n",
       "Once a week     ...</td>\n",
       "    </tr>\n",
       "    <tr>\n",
       "      <th>marit_status</th>\n",
       "      <td>0</td>\n",
       "      <td>object</td>\n",
       "      <td>6</td>\n",
       "      <td>[Widowed, Never married, Married, Divorced, Li...</td>\n",
       "      <td>Married                12976\n",
       "Never married    ...</td>\n",
       "    </tr>\n",
       "    <tr>\n",
       "      <th>employment</th>\n",
       "      <td>0</td>\n",
       "      <td>object</td>\n",
       "      <td>7</td>\n",
       "      <td>[Not working - retired, Not working - disabled...</td>\n",
       "      <td>Working - as a paid employee                  ...</td>\n",
       "    </tr>\n",
       "    <tr>\n",
       "      <th>house_head</th>\n",
       "      <td>0</td>\n",
       "      <td>object</td>\n",
       "      <td>2</td>\n",
       "      <td>[Not head of household, Head of household]</td>\n",
       "      <td>Head of household        18465\n",
       "Not head of hou...</td>\n",
       "    </tr>\n",
       "    <tr>\n",
       "      <th>house_size</th>\n",
       "      <td>0</td>\n",
       "      <td>float64</td>\n",
       "      <td>13</td>\n",
       "      <td>[3.0, 2.0, 4.0, 1.0, 5.0, 6.0, 7.0, 8.0, 10.0,...</td>\n",
       "      <td>2.0     8711\n",
       "1.0     4270\n",
       "3.0     3705\n",
       "4.0    ...</td>\n",
       "    </tr>\n",
       "    <tr>\n",
       "      <th>house_ages0to1</th>\n",
       "      <td>0</td>\n",
       "      <td>float64</td>\n",
       "      <td>7</td>\n",
       "      <td>[0.0, 1.0, 3.0, 4.0, 2.0, 7.0, 6.0]</td>\n",
       "      <td>0.0    21482\n",
       "1.0      803\n",
       "2.0       47\n",
       "3.0    ...</td>\n",
       "    </tr>\n",
       "    <tr>\n",
       "      <th>house_ages2to5</th>\n",
       "      <td>0</td>\n",
       "      <td>float64</td>\n",
       "      <td>5</td>\n",
       "      <td>[0.0, 1.0, 2.0, 3.0, 4.0]</td>\n",
       "      <td>0.0    20394\n",
       "1.0     1552\n",
       "2.0      371\n",
       "3.0    ...</td>\n",
       "    </tr>\n",
       "    <tr>\n",
       "      <th>house_ages6to12</th>\n",
       "      <td>0</td>\n",
       "      <td>float64</td>\n",
       "      <td>7</td>\n",
       "      <td>[0.0, 1.0, 2.0, 4.0, 3.0, 5.0, 6.0]</td>\n",
       "      <td>0.0    19144\n",
       "1.0     2100\n",
       "2.0      886\n",
       "3.0    ...</td>\n",
       "    </tr>\n",
       "    <tr>\n",
       "      <th>house_ages13to17</th>\n",
       "      <td>0</td>\n",
       "      <td>float64</td>\n",
       "      <td>5</td>\n",
       "      <td>[0.0, 1.0, 2.0, 3.0, 4.0]</td>\n",
       "      <td>0.0    19072\n",
       "1.0     2455\n",
       "2.0      710\n",
       "3.0    ...</td>\n",
       "    </tr>\n",
       "    <tr>\n",
       "      <th>house_ages18plus</th>\n",
       "      <td>0</td>\n",
       "      <td>float64</td>\n",
       "      <td>11</td>\n",
       "      <td>[3.0, 2.0, 4.0, 1.0, 5.0, 6.0, 8.0, 7.0, 12.0,...</td>\n",
       "      <td>2.0     12397\n",
       "1.0      4824\n",
       "3.0      3307\n",
       "4.0 ...</td>\n",
       "    </tr>\n",
       "    <tr>\n",
       "      <th>house_type</th>\n",
       "      <td>0</td>\n",
       "      <td>object</td>\n",
       "      <td>5</td>\n",
       "      <td>[One-family house detached from any other hous...</td>\n",
       "      <td>One-family house detached from any other house...</td>\n",
       "    </tr>\n",
       "    <tr>\n",
       "      <th>house_own</th>\n",
       "      <td>0</td>\n",
       "      <td>object</td>\n",
       "      <td>3</td>\n",
       "      <td>[Owned by you or someone in your household, Re...</td>\n",
       "      <td>Owned by you or someone in your household    1...</td>\n",
       "    </tr>\n",
       "  </tbody>\n",
       "</table>\n",
       "</div>"
      ],
      "text/plain": [
       "                             nulls    dtype  nunique_values  \\\n",
       "case_ID                          0  float64           22345   \n",
       "wave                             0   object              19   \n",
       "year                             0    int64              10   \n",
       "weight_wave                      0  float64            8225   \n",
       "weight_aggregate                 0  float64           11637   \n",
       "happening                        0   object               3   \n",
       "cause_original                   0   object               5   \n",
       "cause_other_text             20358   object            1389   \n",
       "cause_recoded                    0   object               7   \n",
       "sci_consensus                 1330   object               5   \n",
       "worry                            0   object               5   \n",
       "harm_personally                  0   object               6   \n",
       "harm_US                          0   object               6   \n",
       "harm_dev_countries               0   object               6   \n",
       "harm_future_gen                  0   object               6   \n",
       "harm_plants_animals           1330   object               6   \n",
       "when_harm_US                     0   object               7   \n",
       "reg_CO2_pollutant              998   object               5   \n",
       "reg_utilities                 5026   object               5   \n",
       "fund_research                    0   object               5   \n",
       "reg_coal_emissions            9034   object               5   \n",
       "discuss_GW                       0   object               5   \n",
       "hear_GW_media                13587   object               7   \n",
       "gender                           0   object               2   \n",
       "age                              0  float64              78   \n",
       "age_category                     0   object               3   \n",
       "generation                       0   object               6   \n",
       "educ                             0   object              14   \n",
       "educ_category                    0   object               4   \n",
       "income                           0   object              21   \n",
       "income_category                  0   object               3   \n",
       "race                             0   object               4   \n",
       "ideology                         0   object               6   \n",
       "party                            0   object               6   \n",
       "party_w_leaners                  0   object               5   \n",
       "party_x_ideo                     0   object               7   \n",
       "registered_voter                 0   object               6   \n",
       "region9                          0   object               9   \n",
       "region4                          0   object               4   \n",
       "religion                         0   object              16   \n",
       "religion_other_nonchristian  22253   object              65   \n",
       "evangelical                      0   object               4   \n",
       "service_attendance               0   object               7   \n",
       "marit_status                     0   object               6   \n",
       "employment                       0   object               7   \n",
       "house_head                       0   object               2   \n",
       "house_size                       0  float64              13   \n",
       "house_ages0to1                   0  float64               7   \n",
       "house_ages2to5                   0  float64               5   \n",
       "house_ages6to12                  0  float64               7   \n",
       "house_ages13to17                 0  float64               5   \n",
       "house_ages18plus                 0  float64              11   \n",
       "house_type                       0   object               5   \n",
       "house_own                        0   object               3   \n",
       "\n",
       "                                                                 unique_values  \\\n",
       "case_ID                      [2.0, 3.0, 5.0, 6.0, 7.0, 8.0, 9.0, 11.0, 12.0...   \n",
       "wave                         [Nov 2008, Jan 2010, Jun 2010, May 2011, Nov 2...   \n",
       "year                         [2008, 2010, 2011, 2012, 2013, 2014, 2015, 201...   \n",
       "weight_wave                  [0.5400000000000001, 0.85, 0.49, 0.29, 1.29, 2...   \n",
       "weight_aggregate             [0.2944021792003114, 0.4634108376301197, 0.267...   \n",
       "happening                                                [Yes, Don't know, No]   \n",
       "cause_original               [Caused mostly by human activities, Caused mos...   \n",
       "cause_other_text             [nan, both of the above, a combination of huma...   \n",
       "cause_recoded                [Caused mostly by human activities, Caused mos...   \n",
       "sci_consensus                [Most scientists think global warming is happe...   \n",
       "worry                        [Somewhat worried, Not very worried, Not at al...   \n",
       "harm_personally              [Only a little, Not at all, Don't know, A mode...   \n",
       "harm_US                      [A moderate amount, Refused, Not at all, Only ...   \n",
       "harm_dev_countries           [A great deal, Only a little, Not at all, A mo...   \n",
       "harm_future_gen              [A great deal, A moderate amount, Not at all, ...   \n",
       "harm_plants_animals          [A great deal, A moderate amount, Not at all, ...   \n",
       "when_harm_US                 [In 10 years, In 50 years, Never, In 25 years,...   \n",
       "reg_CO2_pollutant            [Strongly support, Somewhat support, Somewhat ...   \n",
       "reg_utilities                [Strongly support, Somewhat support, Strongly ...   \n",
       "fund_research                [Strongly support, Somewhat support, Strongly ...   \n",
       "reg_coal_emissions           [nan, Strongly oppose, Strongly support, Somew...   \n",
       "discuss_GW                       [Occasionally, Rarely, Never, Often, Refused]   \n",
       "hear_GW_media                [nan, Once a year or less often, Several times...   \n",
       "gender                                                          [Female, Male]   \n",
       "age                          [78.0, 45.0, 54.0, 71.0, 26.0, 29.0, 34.0, 46....   \n",
       "age_category                             [55+ years, 35-54 years, 18-34 years]   \n",
       "generation                   [Silent (1928 - 1945), Baby Boomers (1946 - 19...   \n",
       "educ                         [High school graduate - high school diploma or...   \n",
       "educ_category                [High school, Less than high school, Bachelor'...   \n",
       "income                       [$50,000 to $59,999, $30,000 to $34,999, $100,...   \n",
       "income_category              [$50,000 to $99,999, Less than $50,000, $100,0...   \n",
       "race                         [White, Non-Hispanic, Hispanic, Other, Non-His...   \n",
       "ideology                     [Somewhat conservative, Moderate, middle of th...   \n",
       "party                        [Republican, No party/not interested in politi...   \n",
       "party_w_leaners              [Republicans, No party/Not interested in polit...   \n",
       "party_x_ideo                 [Conservative Republican, No Party/Not Interes...   \n",
       "registered_voter             [Registered, Not registered, Not sure, Refused...   \n",
       "region9                      [South Atlantic, East-North Central, Mountain,...   \n",
       "region4                                      [South, Midwest, West, Northeast]   \n",
       "religion                     [Protestant (e.g., Methodist, Lutheran, Presby...   \n",
       "religion_other_nonchristian  [nan, Unitarian, Spiritual but don't attend ch...   \n",
       "evangelical                                     [No, Don't Know, Yes, Refused]   \n",
       "service_attendance           [Once a week, Once a year or less, Never, Once...   \n",
       "marit_status                 [Widowed, Never married, Married, Divorced, Li...   \n",
       "employment                   [Not working - retired, Not working - disabled...   \n",
       "house_head                          [Not head of household, Head of household]   \n",
       "house_size                   [3.0, 2.0, 4.0, 1.0, 5.0, 6.0, 7.0, 8.0, 10.0,...   \n",
       "house_ages0to1                             [0.0, 1.0, 3.0, 4.0, 2.0, 7.0, 6.0]   \n",
       "house_ages2to5                                       [0.0, 1.0, 2.0, 3.0, 4.0]   \n",
       "house_ages6to12                            [0.0, 1.0, 2.0, 4.0, 3.0, 5.0, 6.0]   \n",
       "house_ages13to17                                     [0.0, 1.0, 2.0, 3.0, 4.0]   \n",
       "house_ages18plus             [3.0, 2.0, 4.0, 1.0, 5.0, 6.0, 8.0, 7.0, 12.0,...   \n",
       "house_type                   [One-family house detached from any other hous...   \n",
       "house_own                    [Owned by you or someone in your household, Re...   \n",
       "\n",
       "                                                                  value_counts  \n",
       "case_ID                      2.0        1\n",
       "27381.0    1\n",
       "27391.0    1\n",
       "27389.0...  \n",
       "wave                         Nov 2008    2155\n",
       "Oct 2015    1330\n",
       "Oct 2017    ...  \n",
       "year                         2015    2593\n",
       "2017    2570\n",
       "2016    2430\n",
       "2018   ...  \n",
       "weight_wave                  0.5400    80\n",
       "0.6100    78\n",
       "0.4200    76\n",
       "0.4100 ...  \n",
       "weight_aggregate             0.299854    30\n",
       "0.294402    29\n",
       "0.316210    29\n",
       "0...  \n",
       "happening                    Yes           14915\n",
       "Don't know     3818\n",
       "No    ...  \n",
       "cause_original               Caused mostly by human activities             ...  \n",
       "cause_other_text             both                                          ...  \n",
       "cause_recoded                Caused mostly by human activities             ...  \n",
       "sci_consensus                Most scientists think global warming is happen...  \n",
       "worry                        Somewhat worried      9034\n",
       "Not very worried   ...  \n",
       "harm_personally              Only a little        6014\n",
       "Not at all          ...  \n",
       "harm_US                      A moderate amount    6718\n",
       "A great deal        ...  \n",
       "harm_dev_countries           A great deal         7306\n",
       "A moderate amount   ...  \n",
       "harm_future_gen              A great deal         10393\n",
       "A moderate amount  ...  \n",
       "harm_plants_animals          A great deal         9551\n",
       "A moderate amount   ...  \n",
       "when_harm_US                 They are being harmed now    7699\n",
       "Never       ...  \n",
       "reg_CO2_pollutant            Somewhat support    9590\n",
       "Strongly support    6...  \n",
       "reg_utilities                Somewhat support    6692\n",
       "Strongly support    4...  \n",
       "fund_research                Somewhat support    9183\n",
       "Strongly support    9...  \n",
       "reg_coal_emissions           Somewhat support    5859\n",
       "Strongly support    3...  \n",
       "discuss_GW                   Rarely          8217\n",
       "Occasionally    6722\n",
       "Neve...  \n",
       "hear_GW_media                At least once a week         2371\n",
       "Several time...  \n",
       "gender                       Female    11342\n",
       "Male      11003\n",
       "Name: gender, ...  \n",
       "age                          56.0    566\n",
       "58.0    523\n",
       "55.0    512\n",
       "60.0    49...  \n",
       "age_category                 55+ years      10059\n",
       "35-54 years     7537\n",
       "18-3...  \n",
       "generation                   Baby Boomers (1946 - 1964)    9132\n",
       "Generation ...  \n",
       "educ                         High school graduate - high school diploma or ...  \n",
       "educ_category                Bachelor's degree or higher    7700\n",
       "Some colle...  \n",
       "income                       $100,000 to $124,999                          ...  \n",
       "income_category              Less than $50,000     8750\n",
       "$50,000 to $99,999 ...  \n",
       "race                         White, Non-Hispanic    16777\n",
       "Hispanic         ...  \n",
       "ideology                     Moderate, middle of the road    8837\n",
       "Somewhat ...  \n",
       "party                        Democrat                               7397\n",
       "Re...  \n",
       "party_w_leaners              Democrats                              9237\n",
       "Re...  \n",
       "party_x_ideo                 Conservative Republican                5491\n",
       "Mo...  \n",
       "registered_voter             Registered              18820\n",
       "Not registered  ...  \n",
       "region9                      South Atlantic        4325\n",
       "East-North Central ...  \n",
       "region4                      South        7847\n",
       "Midwest      5295\n",
       "West      ...  \n",
       "religion                     Catholic                                      ...  \n",
       "religion_other_nonchristian  Pagan                                11\n",
       "Unitar...  \n",
       "evangelical                  No            14666\n",
       "Yes            5553\n",
       "Don't ...  \n",
       "service_attendance           Never                    5549\n",
       "Once a week     ...  \n",
       "marit_status                 Married                12976\n",
       "Never married    ...  \n",
       "employment                   Working - as a paid employee                  ...  \n",
       "house_head                   Head of household        18465\n",
       "Not head of hou...  \n",
       "house_size                   2.0     8711\n",
       "1.0     4270\n",
       "3.0     3705\n",
       "4.0    ...  \n",
       "house_ages0to1               0.0    21482\n",
       "1.0      803\n",
       "2.0       47\n",
       "3.0    ...  \n",
       "house_ages2to5               0.0    20394\n",
       "1.0     1552\n",
       "2.0      371\n",
       "3.0    ...  \n",
       "house_ages6to12              0.0    19144\n",
       "1.0     2100\n",
       "2.0      886\n",
       "3.0    ...  \n",
       "house_ages13to17             0.0    19072\n",
       "1.0     2455\n",
       "2.0      710\n",
       "3.0    ...  \n",
       "house_ages18plus             2.0     12397\n",
       "1.0      4824\n",
       "3.0      3307\n",
       "4.0 ...  \n",
       "house_type                   One-family house detached from any other house...  \n",
       "house_own                    Owned by you or someone in your household    1...  "
      ]
     },
     "execution_count": 56,
     "metadata": {},
     "output_type": "execute_result"
    }
   ],
   "source": [
    "columns_info(df)"
   ]
  },
  {
   "cell_type": "markdown",
   "id": "c9a4ff3d",
   "metadata": {},
   "source": [
    "---\n",
    "---"
   ]
  },
  {
   "cell_type": "markdown",
   "id": "6ae4b57f",
   "metadata": {},
   "source": [
    "# Eploratory Data Analysis"
   ]
  },
  {
   "cell_type": "markdown",
   "id": "37c6becc",
   "metadata": {},
   "source": [
    "## Patterns of Missingness"
   ]
  },
  {
   "cell_type": "markdown",
   "id": "87e2a733",
   "metadata": {},
   "source": [
    "#### `Refused` as an answer"
   ]
  },
  {
   "cell_type": "markdown",
   "id": "31ac0b6a",
   "metadata": {},
   "source": [
    "In addition to being able to Refuse an answer on our target variable, some questions allowed the respondent to refuse to answer them as well."
   ]
  },
  {
   "cell_type": "code",
   "execution_count": 57,
   "id": "85d49698",
   "metadata": {
    "ExecuteTime": {
     "end_time": "2022-06-28T02:06:32.221878Z",
     "start_time": "2022-06-28T02:06:31.215875Z"
    }
   },
   "outputs": [
    {
     "data": {
      "text/html": [
       "<div>\n",
       "<style scoped>\n",
       "    .dataframe tbody tr th:only-of-type {\n",
       "        vertical-align: middle;\n",
       "    }\n",
       "\n",
       "    .dataframe tbody tr th {\n",
       "        vertical-align: top;\n",
       "    }\n",
       "\n",
       "    .dataframe thead th {\n",
       "        text-align: right;\n",
       "    }\n",
       "</style>\n",
       "<table border=\"1\" class=\"dataframe\">\n",
       "  <thead>\n",
       "    <tr style=\"text-align: right;\">\n",
       "      <th></th>\n",
       "      <th># of Refused</th>\n",
       "      <th>% of Refused</th>\n",
       "    </tr>\n",
       "  </thead>\n",
       "  <tbody>\n",
       "    <tr>\n",
       "      <th>reg_CO2_pollutant</th>\n",
       "      <td>504</td>\n",
       "      <td>0.022555</td>\n",
       "    </tr>\n",
       "    <tr>\n",
       "      <th>fund_research</th>\n",
       "      <td>500</td>\n",
       "      <td>0.022376</td>\n",
       "    </tr>\n",
       "    <tr>\n",
       "      <th>reg_utilities</th>\n",
       "      <td>442</td>\n",
       "      <td>0.019781</td>\n",
       "    </tr>\n",
       "    <tr>\n",
       "      <th>ideology</th>\n",
       "      <td>420</td>\n",
       "      <td>0.018796</td>\n",
       "    </tr>\n",
       "    <tr>\n",
       "      <th>party_x_ideo</th>\n",
       "      <td>308</td>\n",
       "      <td>0.013784</td>\n",
       "    </tr>\n",
       "    <tr>\n",
       "      <th>service_attendance</th>\n",
       "      <td>292</td>\n",
       "      <td>0.013068</td>\n",
       "    </tr>\n",
       "    <tr>\n",
       "      <th>religion</th>\n",
       "      <td>276</td>\n",
       "      <td>0.012352</td>\n",
       "    </tr>\n",
       "    <tr>\n",
       "      <th>evangelical</th>\n",
       "      <td>267</td>\n",
       "      <td>0.011949</td>\n",
       "    </tr>\n",
       "    <tr>\n",
       "      <th>party</th>\n",
       "      <td>205</td>\n",
       "      <td>0.009174</td>\n",
       "    </tr>\n",
       "    <tr>\n",
       "      <th>party_w_leaners</th>\n",
       "      <td>205</td>\n",
       "      <td>0.009174</td>\n",
       "    </tr>\n",
       "    <tr>\n",
       "      <th>registered_voter</th>\n",
       "      <td>182</td>\n",
       "      <td>0.008145</td>\n",
       "    </tr>\n",
       "    <tr>\n",
       "      <th>when_harm_US</th>\n",
       "      <td>166</td>\n",
       "      <td>0.007429</td>\n",
       "    </tr>\n",
       "    <tr>\n",
       "      <th>reg_coal_emissions</th>\n",
       "      <td>142</td>\n",
       "      <td>0.006355</td>\n",
       "    </tr>\n",
       "    <tr>\n",
       "      <th>harm_dev_countries</th>\n",
       "      <td>92</td>\n",
       "      <td>0.004117</td>\n",
       "    </tr>\n",
       "    <tr>\n",
       "      <th>harm_plants_animals</th>\n",
       "      <td>91</td>\n",
       "      <td>0.004072</td>\n",
       "    </tr>\n",
       "    <tr>\n",
       "      <th>harm_future_gen</th>\n",
       "      <td>85</td>\n",
       "      <td>0.003804</td>\n",
       "    </tr>\n",
       "    <tr>\n",
       "      <th>harm_US</th>\n",
       "      <td>82</td>\n",
       "      <td>0.003670</td>\n",
       "    </tr>\n",
       "    <tr>\n",
       "      <th>hear_GW_media</th>\n",
       "      <td>63</td>\n",
       "      <td>0.002819</td>\n",
       "    </tr>\n",
       "    <tr>\n",
       "      <th>harm_personally</th>\n",
       "      <td>60</td>\n",
       "      <td>0.002685</td>\n",
       "    </tr>\n",
       "    <tr>\n",
       "      <th>cause_recoded</th>\n",
       "      <td>50</td>\n",
       "      <td>0.002238</td>\n",
       "    </tr>\n",
       "    <tr>\n",
       "      <th>cause_original</th>\n",
       "      <td>50</td>\n",
       "      <td>0.002238</td>\n",
       "    </tr>\n",
       "    <tr>\n",
       "      <th>sci_consensus</th>\n",
       "      <td>45</td>\n",
       "      <td>0.002014</td>\n",
       "    </tr>\n",
       "    <tr>\n",
       "      <th>worry</th>\n",
       "      <td>42</td>\n",
       "      <td>0.001880</td>\n",
       "    </tr>\n",
       "    <tr>\n",
       "      <th>discuss_GW</th>\n",
       "      <td>37</td>\n",
       "      <td>0.001656</td>\n",
       "    </tr>\n",
       "  </tbody>\n",
       "</table>\n",
       "</div>"
      ],
      "text/plain": [
       "                     # of Refused  % of Refused\n",
       "reg_CO2_pollutant             504      0.022555\n",
       "fund_research                 500      0.022376\n",
       "reg_utilities                 442      0.019781\n",
       "ideology                      420      0.018796\n",
       "party_x_ideo                  308      0.013784\n",
       "service_attendance            292      0.013068\n",
       "religion                      276      0.012352\n",
       "evangelical                   267      0.011949\n",
       "party                         205      0.009174\n",
       "party_w_leaners               205      0.009174\n",
       "registered_voter              182      0.008145\n",
       "when_harm_US                  166      0.007429\n",
       "reg_coal_emissions            142      0.006355\n",
       "harm_dev_countries             92      0.004117\n",
       "harm_plants_animals            91      0.004072\n",
       "harm_future_gen                85      0.003804\n",
       "harm_US                        82      0.003670\n",
       "hear_GW_media                  63      0.002819\n",
       "harm_personally                60      0.002685\n",
       "cause_recoded                  50      0.002238\n",
       "cause_original                 50      0.002238\n",
       "sci_consensus                  45      0.002014\n",
       "worry                          42      0.001880\n",
       "discuss_GW                     37      0.001656"
      ]
     },
     "execution_count": 57,
     "metadata": {},
     "output_type": "execute_result"
    }
   ],
   "source": [
    "# create binary df where refused is 1 and everything else is 0\n",
    "refused_df = df.applymap(lambda x: 1 if x == 'Refused' else 0)\n",
    "\n",
    "pd.concat(\n",
    "    # keep columns with a sum > 0 (at least 1 refused)\n",
    "    [pd.Series(refused_df.loc[:,refused_df.sum()>0].sum(),\n",
    "              name = '# of Refused'),\n",
    "     \n",
    "    # divide # of refusals by total rows\n",
    "    pd.Series(refused_df.loc[:,refused_df.sum()>0].sum()/\n",
    "              refused_df.loc[:,refused_df.sum()>0].shape[0],\n",
    "              name = '% of Refused')],\n",
    "    axis = 1).sort_values('% of Refused', ascending=False)"
   ]
  },
  {
   "cell_type": "code",
   "execution_count": 58,
   "id": "495615ae",
   "metadata": {
    "ExecuteTime": {
     "end_time": "2022-06-28T02:06:32.251875Z",
     "start_time": "2022-06-28T02:06:32.227874Z"
    }
   },
   "outputs": [],
   "source": [
    "refused_df['num_per_row'] = refused_df.sum(axis=1).values"
   ]
  },
  {
   "cell_type": "code",
   "execution_count": 59,
   "id": "e0ad2717",
   "metadata": {
    "ExecuteTime": {
     "end_time": "2022-06-28T02:06:32.282875Z",
     "start_time": "2022-06-28T02:06:32.255875Z"
    }
   },
   "outputs": [
    {
     "data": {
      "text/html": [
       "<div>\n",
       "<style scoped>\n",
       "    .dataframe tbody tr th:only-of-type {\n",
       "        vertical-align: middle;\n",
       "    }\n",
       "\n",
       "    .dataframe tbody tr th {\n",
       "        vertical-align: top;\n",
       "    }\n",
       "\n",
       "    .dataframe thead th {\n",
       "        text-align: right;\n",
       "    }\n",
       "</style>\n",
       "<table border=\"1\" class=\"dataframe\">\n",
       "  <thead>\n",
       "    <tr style=\"text-align: right;\">\n",
       "      <th></th>\n",
       "      <th># Respondents</th>\n",
       "      <th>% of Survey Population</th>\n",
       "    </tr>\n",
       "  </thead>\n",
       "  <tbody>\n",
       "    <tr>\n",
       "      <th>0</th>\n",
       "      <td>20532</td>\n",
       "      <td>0.918863</td>\n",
       "    </tr>\n",
       "    <tr>\n",
       "      <th>1</th>\n",
       "      <td>996</td>\n",
       "      <td>0.044574</td>\n",
       "    </tr>\n",
       "    <tr>\n",
       "      <th>2</th>\n",
       "      <td>233</td>\n",
       "      <td>0.010427</td>\n",
       "    </tr>\n",
       "    <tr>\n",
       "      <th>3</th>\n",
       "      <td>249</td>\n",
       "      <td>0.011143</td>\n",
       "    </tr>\n",
       "    <tr>\n",
       "      <th>4</th>\n",
       "      <td>111</td>\n",
       "      <td>0.004968</td>\n",
       "    </tr>\n",
       "    <tr>\n",
       "      <th>5</th>\n",
       "      <td>45</td>\n",
       "      <td>0.002014</td>\n",
       "    </tr>\n",
       "    <tr>\n",
       "      <th>6</th>\n",
       "      <td>24</td>\n",
       "      <td>0.001074</td>\n",
       "    </tr>\n",
       "    <tr>\n",
       "      <th>7</th>\n",
       "      <td>40</td>\n",
       "      <td>0.001790</td>\n",
       "    </tr>\n",
       "    <tr>\n",
       "      <th>8</th>\n",
       "      <td>36</td>\n",
       "      <td>0.001611</td>\n",
       "    </tr>\n",
       "    <tr>\n",
       "      <th>9</th>\n",
       "      <td>12</td>\n",
       "      <td>0.000537</td>\n",
       "    </tr>\n",
       "    <tr>\n",
       "      <th>10</th>\n",
       "      <td>13</td>\n",
       "      <td>0.000582</td>\n",
       "    </tr>\n",
       "    <tr>\n",
       "      <th>11</th>\n",
       "      <td>16</td>\n",
       "      <td>0.000716</td>\n",
       "    </tr>\n",
       "    <tr>\n",
       "      <th>12</th>\n",
       "      <td>12</td>\n",
       "      <td>0.000537</td>\n",
       "    </tr>\n",
       "    <tr>\n",
       "      <th>13</th>\n",
       "      <td>3</td>\n",
       "      <td>0.000134</td>\n",
       "    </tr>\n",
       "    <tr>\n",
       "      <th>14</th>\n",
       "      <td>4</td>\n",
       "      <td>0.000179</td>\n",
       "    </tr>\n",
       "    <tr>\n",
       "      <th>15</th>\n",
       "      <td>1</td>\n",
       "      <td>0.000045</td>\n",
       "    </tr>\n",
       "    <tr>\n",
       "      <th>16</th>\n",
       "      <td>2</td>\n",
       "      <td>0.000090</td>\n",
       "    </tr>\n",
       "    <tr>\n",
       "      <th>17</th>\n",
       "      <td>4</td>\n",
       "      <td>0.000179</td>\n",
       "    </tr>\n",
       "    <tr>\n",
       "      <th>18</th>\n",
       "      <td>1</td>\n",
       "      <td>0.000045</td>\n",
       "    </tr>\n",
       "    <tr>\n",
       "      <th>19</th>\n",
       "      <td>1</td>\n",
       "      <td>0.000045</td>\n",
       "    </tr>\n",
       "    <tr>\n",
       "      <th>20</th>\n",
       "      <td>4</td>\n",
       "      <td>0.000179</td>\n",
       "    </tr>\n",
       "    <tr>\n",
       "      <th>21</th>\n",
       "      <td>2</td>\n",
       "      <td>0.000090</td>\n",
       "    </tr>\n",
       "    <tr>\n",
       "      <th>22</th>\n",
       "      <td>3</td>\n",
       "      <td>0.000134</td>\n",
       "    </tr>\n",
       "    <tr>\n",
       "      <th>23</th>\n",
       "      <td>1</td>\n",
       "      <td>0.000045</td>\n",
       "    </tr>\n",
       "  </tbody>\n",
       "</table>\n",
       "</div>"
      ],
      "text/plain": [
       "    # Respondents  % of Survey Population\n",
       "0           20532                0.918863\n",
       "1             996                0.044574\n",
       "2             233                0.010427\n",
       "3             249                0.011143\n",
       "4             111                0.004968\n",
       "5              45                0.002014\n",
       "6              24                0.001074\n",
       "7              40                0.001790\n",
       "8              36                0.001611\n",
       "9              12                0.000537\n",
       "10             13                0.000582\n",
       "11             16                0.000716\n",
       "12             12                0.000537\n",
       "13              3                0.000134\n",
       "14              4                0.000179\n",
       "15              1                0.000045\n",
       "16              2                0.000090\n",
       "17              4                0.000179\n",
       "18              1                0.000045\n",
       "19              1                0.000045\n",
       "20              4                0.000179\n",
       "21              2                0.000090\n",
       "22              3                0.000134\n",
       "23              1                0.000045"
      ]
     },
     "execution_count": 59,
     "metadata": {},
     "output_type": "execute_result"
    }
   ],
   "source": [
    "pd.concat(\n",
    "    [pd.Series(refused_df.num_per_row.value_counts().sort_index(),\n",
    "              name = \"# Respondents\"),\n",
    "    pd.Series(refused_df.num_per_row.value_counts().sort_index()\n",
    "              /df.shape[0],\n",
    "             name = '% of Survey Population')],\n",
    "    axis = 1)"
   ]
  },
  {
   "cell_type": "markdown",
   "id": "57a00703",
   "metadata": {},
   "source": [
    "**Observation** \n",
    "  *  20,532 respondents answered all the questions in the survey, followed by 996 who refused just one.\n",
    "  *  Respondents who refused to answer more than 5 questions make up 0.8% of the dataset."
   ]
  },
  {
   "cell_type": "markdown",
   "id": "30f2f6e5",
   "metadata": {},
   "source": [
    "For the purposes of this analysis, treat the people who answer `Refused` as missing values. People who refused more than 5 times have more than 5 missing values alone from these types of answers. Drop them."
   ]
  },
  {
   "cell_type": "code",
   "execution_count": 60,
   "id": "dc730cc2",
   "metadata": {
    "ExecuteTime": {
     "end_time": "2022-06-28T02:06:32.329876Z",
     "start_time": "2022-06-28T02:06:32.285875Z"
    },
    "scrolled": true
   },
   "outputs": [],
   "source": [
    "df.drop(index=refused_df[refused_df.num_per_row >= 5]['happening'].index, inplace=True)\n",
    "df.reset_index(drop=True, inplace=True)"
   ]
  },
  {
   "cell_type": "markdown",
   "id": "547e03de",
   "metadata": {},
   "source": [
    "#### Null Responses"
   ]
  },
  {
   "cell_type": "markdown",
   "id": "5a88b4dc",
   "metadata": {},
   "source": [
    "The survey was carried out in a series of waves across the years. Some questions were not included in every single wave of survey questioning which led to there being nulls in the dataset."
   ]
  },
  {
   "cell_type": "code",
   "execution_count": 61,
   "id": "9acc781e",
   "metadata": {
    "ExecuteTime": {
     "end_time": "2022-06-28T02:06:32.580874Z",
     "start_time": "2022-06-28T02:06:32.331874Z"
    }
   },
   "outputs": [
    {
     "data": {
      "text/html": [
       "<div>\n",
       "<style scoped>\n",
       "    .dataframe tbody tr th:only-of-type {\n",
       "        vertical-align: middle;\n",
       "    }\n",
       "\n",
       "    .dataframe tbody tr th {\n",
       "        vertical-align: top;\n",
       "    }\n",
       "\n",
       "    .dataframe thead th {\n",
       "        text-align: right;\n",
       "    }\n",
       "</style>\n",
       "<table border=\"1\" class=\"dataframe\">\n",
       "  <thead>\n",
       "    <tr style=\"text-align: right;\">\n",
       "      <th></th>\n",
       "      <th># of nulls</th>\n",
       "      <th>% of nulls</th>\n",
       "    </tr>\n",
       "  </thead>\n",
       "  <tbody>\n",
       "    <tr>\n",
       "      <th>religion_other_nonchristian</th>\n",
       "      <td>22030</td>\n",
       "      <td>0.995886</td>\n",
       "    </tr>\n",
       "    <tr>\n",
       "      <th>cause_other_text</th>\n",
       "      <td>20146</td>\n",
       "      <td>0.910718</td>\n",
       "    </tr>\n",
       "    <tr>\n",
       "      <th>hear_GW_media</th>\n",
       "      <td>13419</td>\n",
       "      <td>0.606618</td>\n",
       "    </tr>\n",
       "    <tr>\n",
       "      <th>reg_coal_emissions</th>\n",
       "      <td>8910</td>\n",
       "      <td>0.402785</td>\n",
       "    </tr>\n",
       "    <tr>\n",
       "      <th>reg_utilities</th>\n",
       "      <td>5002</td>\n",
       "      <td>0.226120</td>\n",
       "    </tr>\n",
       "    <tr>\n",
       "      <th>sci_consensus</th>\n",
       "      <td>1324</td>\n",
       "      <td>0.059853</td>\n",
       "    </tr>\n",
       "    <tr>\n",
       "      <th>harm_plants_animals</th>\n",
       "      <td>1324</td>\n",
       "      <td>0.059853</td>\n",
       "    </tr>\n",
       "    <tr>\n",
       "      <th>reg_CO2_pollutant</th>\n",
       "      <td>984</td>\n",
       "      <td>0.044483</td>\n",
       "    </tr>\n",
       "  </tbody>\n",
       "</table>\n",
       "</div>"
      ],
      "text/plain": [
       "                             # of nulls  % of nulls\n",
       "religion_other_nonchristian       22030    0.995886\n",
       "cause_other_text                  20146    0.910718\n",
       "hear_GW_media                     13419    0.606618\n",
       "reg_coal_emissions                 8910    0.402785\n",
       "reg_utilities                      5002    0.226120\n",
       "sci_consensus                      1324    0.059853\n",
       "harm_plants_animals                1324    0.059853\n",
       "reg_CO2_pollutant                   984    0.044483"
      ]
     },
     "execution_count": 61,
     "metadata": {},
     "output_type": "execute_result"
    }
   ],
   "source": [
    "pd.concat(\n",
    "    [pd.Series(df.loc[:,(df.isnull()).any()].isnull().sum(),\n",
    "              name = '# of nulls'),\n",
    "    pd.Series(df.loc[:,(df.isnull()).any()].isnull().sum()/\n",
    "              df.loc[:,(df.isnull()).any()].shape[0],\n",
    "              name = '% of nulls')],\n",
    "    axis = 1).sort_values('% of nulls', ascending = False)"
   ]
  },
  {
   "cell_type": "markdown",
   "id": "eeb7b608",
   "metadata": {},
   "source": [
    "Right off the bat, there are features with over 20% nulls. Drop these for missingness. The other questions were asked in a enough waves for us to be able to impute the missing values."
   ]
  },
  {
   "cell_type": "code",
   "execution_count": 62,
   "id": "bca2b7c6",
   "metadata": {
    "ExecuteTime": {
     "end_time": "2022-06-28T02:06:32.626875Z",
     "start_time": "2022-06-28T02:06:32.584874Z"
    }
   },
   "outputs": [],
   "source": [
    "df.drop(['religion_other_nonchristian', 'cause_other_text', 'hear_GW_media',\n",
    "         'reg_coal_emissions','reg_utilities'],\n",
    "        axis = 1,\n",
    "        inplace = True)"
   ]
  },
  {
   "cell_type": "code",
   "execution_count": 63,
   "id": "be629b79",
   "metadata": {
    "ExecuteTime": {
     "end_time": "2022-06-28T02:06:33.654765Z",
     "start_time": "2022-06-28T02:06:32.628875Z"
    }
   },
   "outputs": [],
   "source": [
    "null_counts = df.isnull().applymap(lambda x: int(x))\n",
    "\n",
    "null_counts['num_per_row'] = null_counts.sum(axis=1).values"
   ]
  },
  {
   "cell_type": "code",
   "execution_count": 64,
   "id": "c85d033e",
   "metadata": {
    "ExecuteTime": {
     "end_time": "2022-06-28T02:06:33.686764Z",
     "start_time": "2022-06-28T02:06:33.656764Z"
    }
   },
   "outputs": [
    {
     "data": {
      "text/html": [
       "<div>\n",
       "<style scoped>\n",
       "    .dataframe tbody tr th:only-of-type {\n",
       "        vertical-align: middle;\n",
       "    }\n",
       "\n",
       "    .dataframe tbody tr th {\n",
       "        vertical-align: top;\n",
       "    }\n",
       "\n",
       "    .dataframe thead th {\n",
       "        text-align: right;\n",
       "    }\n",
       "</style>\n",
       "<table border=\"1\" class=\"dataframe\">\n",
       "  <thead>\n",
       "    <tr style=\"text-align: right;\">\n",
       "      <th></th>\n",
       "      <th># Respondents</th>\n",
       "      <th>% of Survey Population</th>\n",
       "    </tr>\n",
       "  </thead>\n",
       "  <tbody>\n",
       "    <tr>\n",
       "      <th>0</th>\n",
       "      <td>19813</td>\n",
       "      <td>0.895665</td>\n",
       "    </tr>\n",
       "    <tr>\n",
       "      <th>1</th>\n",
       "      <td>984</td>\n",
       "      <td>0.044483</td>\n",
       "    </tr>\n",
       "    <tr>\n",
       "      <th>2</th>\n",
       "      <td>1324</td>\n",
       "      <td>0.059853</td>\n",
       "    </tr>\n",
       "  </tbody>\n",
       "</table>\n",
       "</div>"
      ],
      "text/plain": [
       "   # Respondents  % of Survey Population\n",
       "0          19813                0.895665\n",
       "1            984                0.044483\n",
       "2           1324                0.059853"
      ]
     },
     "execution_count": 64,
     "metadata": {},
     "output_type": "execute_result"
    }
   ],
   "source": [
    "pd.concat(\n",
    "    [pd.Series(null_counts.num_per_row.value_counts().sort_index(),\n",
    "              name = \"# Respondents\"),\n",
    "    pd.Series(null_counts.num_per_row.value_counts().sort_index()\n",
    "              /df.shape[0],\n",
    "             name = '% of Survey Population')],\n",
    "    axis = 1)"
   ]
  },
  {
   "cell_type": "markdown",
   "id": "fd6579e5",
   "metadata": {},
   "source": [
    "**Observation** The entire survey population had, at most, 2 nulls."
   ]
  },
  {
   "cell_type": "markdown",
   "id": "cde46b8d",
   "metadata": {},
   "source": [
    "#### Impute Refused as Null"
   ]
  },
  {
   "cell_type": "markdown",
   "id": "8fd5d930",
   "metadata": {},
   "source": [
    "As mentioned previously, our analysis will treat refused answers for questions as nulls."
   ]
  },
  {
   "cell_type": "code",
   "execution_count": 65,
   "id": "4fbe790e",
   "metadata": {
    "ExecuteTime": {
     "end_time": "2022-06-28T02:06:34.293763Z",
     "start_time": "2022-06-28T02:06:33.689763Z"
    }
   },
   "outputs": [],
   "source": [
    "# finally impute these as null\n",
    "df = df.applymap(lambda x: np.nan if x == 'Refused' else x)"
   ]
  },
  {
   "cell_type": "markdown",
   "id": "45e65945",
   "metadata": {},
   "source": [
    "## Review Variables"
   ]
  },
  {
   "cell_type": "markdown",
   "id": "2e42974b",
   "metadata": {},
   "source": [
    "#### `Case_ID`"
   ]
  },
  {
   "cell_type": "markdown",
   "id": "a4346af4",
   "metadata": {},
   "source": [
    "`CASE_ID` is the individual identifier of the survey respondent and will have no value for our model. Drop it."
   ]
  },
  {
   "cell_type": "code",
   "execution_count": 66,
   "id": "80448662",
   "metadata": {
    "ExecuteTime": {
     "end_time": "2022-06-28T02:06:34.324770Z",
     "start_time": "2022-06-28T02:06:34.296764Z"
    }
   },
   "outputs": [],
   "source": [
    "df.drop('case_ID', axis=1, inplace=True)"
   ]
  },
  {
   "cell_type": "markdown",
   "id": "9d4d0ab7",
   "metadata": {},
   "source": [
    "#### `Wave`"
   ]
  },
  {
   "cell_type": "markdown",
   "id": "bafcc184",
   "metadata": {},
   "source": [
    "The survey was performed across multiple years and multiple months. Each of these survey instances are called a wave."
   ]
  },
  {
   "cell_type": "code",
   "execution_count": 67,
   "id": "bebbe337",
   "metadata": {
    "ExecuteTime": {
     "end_time": "2022-06-28T02:06:34.372763Z",
     "start_time": "2022-06-28T02:06:34.327766Z"
    }
   },
   "outputs": [],
   "source": [
    "# reorder wave to be YYYY MMM instead of MMM YYYY\n",
    "df.wave = [' '.join(wave.split(' ')[::-1]) for wave in df.wave]"
   ]
  },
  {
   "cell_type": "code",
   "execution_count": 68,
   "id": "62582f86",
   "metadata": {
    "ExecuteTime": {
     "end_time": "2022-06-28T02:06:34.852764Z",
     "start_time": "2022-06-28T02:06:34.375763Z"
    }
   },
   "outputs": [
    {
     "data": {
      "image/png": "[encoded data removed]",
      "text/plain": [
       "<Figure size 720x720 with 1 Axes>"
      ]
     },
     "metadata": {
      "needs_background": "light"
     },
     "output_type": "display_data"
    }
   ],
   "source": [
    "wave_order = df.wave.unique()\n",
    "wave_order.sort()\n",
    "distgraph('wave',wave_order,'Date of Wave')"
   ]
  },
  {
   "cell_type": "markdown",
   "id": "0b1857fa",
   "metadata": {},
   "source": [
    "**Observation**\n",
    "  *  The first poll had the largest number of responses. \n",
    "  *  The following waves were close to half of that of the first poll"
   ]
  },
  {
   "cell_type": "code",
   "execution_count": 69,
   "id": "d24efa65",
   "metadata": {
    "ExecuteTime": {
     "end_time": "2022-06-28T02:06:35.740766Z",
     "start_time": "2022-06-28T02:06:34.854764Z"
    }
   },
   "outputs": [
    {
     "data": {
      "image/png": "[encoded data removed]",
      "text/plain": [
       "<Figure size 720x576 with 1 Axes>"
      ]
     },
     "metadata": {
      "needs_background": "light"
     },
     "output_type": "display_data"
    }
   ],
   "source": [
    "propgraph('wave',wave_order,'')"
   ]
  },
  {
   "cell_type": "markdown",
   "id": "fb7e1a65",
   "metadata": {},
   "source": [
    "#### `Weight Wave` & `Weight Aggregate`"
   ]
  },
  {
   "cell_type": "markdown",
   "id": "926bc155",
   "metadata": {},
   "source": [
    "The survey takers wanted to be able to extrapolate their results toward the entire US population. In order to do this, they created two metrics: `Weight Wave` and `Weight Aggregate`. Both attempt to weigh the survey response against the backdrop of the rest of the survey takers and the demographics of the US population at the time using census data. By applying these, it would be possible to make observations on the entire population from aggregate survey metrics.\n",
    "\n",
    "The two fields they created work for different contexts:\n",
    "  *  `Weight Wave` for analyzing data within a wave\n",
    "  *  `Weight Aggregate` for analyzing data across waves\n",
    "  \n",
    "Since we are removing data from the survey dataset, these waves become untethered to their intended value. Therefore we are dropping these fields and making the caveat with our findings: **Our characteristics and findings are an expression of the survey dataset, not the US population as a whole. Any application of these findings should be done on populations that are believed to have approximately the same demographic makeup as the survey.**"
   ]
  },
  {
   "cell_type": "code",
   "execution_count": 70,
   "id": "a1b3aa6e",
   "metadata": {
    "ExecuteTime": {
     "end_time": "2022-06-28T02:06:35.772763Z",
     "start_time": "2022-06-28T02:06:35.743764Z"
    }
   },
   "outputs": [],
   "source": [
    "df.drop(['weight_wave','weight_aggregate'], axis = 1, inplace=True)"
   ]
  },
  {
   "cell_type": "markdown",
   "id": "faa6b5c3",
   "metadata": {},
   "source": [
    "#### `Year`"
   ]
  },
  {
   "cell_type": "markdown",
   "id": "8874c0e4",
   "metadata": {
    "ExecuteTime": {
     "end_time": "2022-06-09T22:34:34.420368Z",
     "start_time": "2022-06-09T22:34:34.412404Z"
    }
   },
   "source": [
    "**Proportion of Belief in Climate Change over 2008 - 2018**"
   ]
  },
  {
   "cell_type": "code",
   "execution_count": 71,
   "id": "8e718904",
   "metadata": {
    "ExecuteTime": {
     "end_time": "2022-06-28T02:06:36.333763Z",
     "start_time": "2022-06-28T02:06:35.774763Z"
    }
   },
   "outputs": [
    {
     "data": {
      "image/png": "[encoded data removed]",
      "text/plain": [
       "<Figure size 720x576 with 1 Axes>"
      ]
     },
     "metadata": {
      "needs_background": "light"
     },
     "output_type": "display_data"
    }
   ],
   "source": [
    "propgraph('year',\n",
    "          df.year.unique(),\n",
    "          'Survey Year')"
   ]
  },
  {
   "cell_type": "code",
   "execution_count": 72,
   "id": "e1ed91d0",
   "metadata": {
    "ExecuteTime": {
     "end_time": "2022-06-28T02:06:36.348774Z",
     "start_time": "2022-06-28T02:06:36.336763Z"
    }
   },
   "outputs": [
    {
     "data": {
      "text/html": [
       "<div>\n",
       "<style scoped>\n",
       "    .dataframe tbody tr th:only-of-type {\n",
       "        vertical-align: middle;\n",
       "    }\n",
       "\n",
       "    .dataframe tbody tr th {\n",
       "        vertical-align: top;\n",
       "    }\n",
       "\n",
       "    .dataframe thead th {\n",
       "        text-align: right;\n",
       "    }\n",
       "</style>\n",
       "<table border=\"1\" class=\"dataframe\">\n",
       "  <thead>\n",
       "    <tr style=\"text-align: right;\">\n",
       "      <th></th>\n",
       "      <th>year</th>\n",
       "    </tr>\n",
       "  </thead>\n",
       "  <tbody>\n",
       "    <tr>\n",
       "      <th>2015</th>\n",
       "      <td>2578</td>\n",
       "    </tr>\n",
       "    <tr>\n",
       "      <th>2017</th>\n",
       "      <td>2558</td>\n",
       "    </tr>\n",
       "    <tr>\n",
       "      <th>2016</th>\n",
       "      <td>2418</td>\n",
       "    </tr>\n",
       "    <tr>\n",
       "      <th>2018</th>\n",
       "      <td>2372</td>\n",
       "    </tr>\n",
       "    <tr>\n",
       "      <th>2014</th>\n",
       "      <td>2262</td>\n",
       "    </tr>\n",
       "    <tr>\n",
       "      <th>2008</th>\n",
       "      <td>2132</td>\n",
       "    </tr>\n",
       "    <tr>\n",
       "      <th>2012</th>\n",
       "      <td>2033</td>\n",
       "    </tr>\n",
       "    <tr>\n",
       "      <th>2010</th>\n",
       "      <td>1988</td>\n",
       "    </tr>\n",
       "    <tr>\n",
       "      <th>2011</th>\n",
       "      <td>1944</td>\n",
       "    </tr>\n",
       "    <tr>\n",
       "      <th>2013</th>\n",
       "      <td>1836</td>\n",
       "    </tr>\n",
       "  </tbody>\n",
       "</table>\n",
       "</div>"
      ],
      "text/plain": [
       "      year\n",
       "2015  2578\n",
       "2017  2558\n",
       "2016  2418\n",
       "2018  2372\n",
       "2014  2262\n",
       "2008  2132\n",
       "2012  2033\n",
       "2010  1988\n",
       "2011  1944\n",
       "2013  1836"
      ]
     },
     "execution_count": 72,
     "metadata": {},
     "output_type": "execute_result"
    }
   ],
   "source": [
    "df.year.value_counts().to_frame()"
   ]
  },
  {
   "cell_type": "code",
   "execution_count": 73,
   "id": "8f697eae",
   "metadata": {
    "ExecuteTime": {
     "end_time": "2022-06-28T02:06:36.396764Z",
     "start_time": "2022-06-28T02:06:36.351762Z"
    }
   },
   "outputs": [
    {
     "data": {
      "text/html": [
       "<div>\n",
       "<style scoped>\n",
       "    .dataframe tbody tr th:only-of-type {\n",
       "        vertical-align: middle;\n",
       "    }\n",
       "\n",
       "    .dataframe tbody tr th {\n",
       "        vertical-align: top;\n",
       "    }\n",
       "\n",
       "    .dataframe thead tr th {\n",
       "        text-align: left;\n",
       "    }\n",
       "\n",
       "    .dataframe thead tr:last-of-type th {\n",
       "        text-align: right;\n",
       "    }\n",
       "</style>\n",
       "<table border=\"1\" class=\"dataframe\">\n",
       "  <thead>\n",
       "    <tr>\n",
       "      <th></th>\n",
       "      <th colspan=\"3\" halign=\"left\">happening</th>\n",
       "    </tr>\n",
       "    <tr>\n",
       "      <th>happening</th>\n",
       "      <th>Don't know</th>\n",
       "      <th>No</th>\n",
       "      <th>Yes</th>\n",
       "    </tr>\n",
       "    <tr>\n",
       "      <th>year</th>\n",
       "      <th></th>\n",
       "      <th></th>\n",
       "      <th></th>\n",
       "    </tr>\n",
       "  </thead>\n",
       "  <tbody>\n",
       "    <tr>\n",
       "      <th>2008</th>\n",
       "      <td>0.170732</td>\n",
       "      <td>0.122420</td>\n",
       "      <td>0.706848</td>\n",
       "    </tr>\n",
       "    <tr>\n",
       "      <th>2010</th>\n",
       "      <td>0.199195</td>\n",
       "      <td>0.212274</td>\n",
       "      <td>0.588531</td>\n",
       "    </tr>\n",
       "    <tr>\n",
       "      <th>2011</th>\n",
       "      <td>0.187757</td>\n",
       "      <td>0.185700</td>\n",
       "      <td>0.626543</td>\n",
       "    </tr>\n",
       "    <tr>\n",
       "      <th>2012</th>\n",
       "      <td>0.175603</td>\n",
       "      <td>0.151992</td>\n",
       "      <td>0.672405</td>\n",
       "    </tr>\n",
       "    <tr>\n",
       "      <th>2013</th>\n",
       "      <td>0.172113</td>\n",
       "      <td>0.183551</td>\n",
       "      <td>0.644336</td>\n",
       "    </tr>\n",
       "    <tr>\n",
       "      <th>2014</th>\n",
       "      <td>0.170203</td>\n",
       "      <td>0.185676</td>\n",
       "      <td>0.644120</td>\n",
       "    </tr>\n",
       "    <tr>\n",
       "      <th>2015</th>\n",
       "      <td>0.167184</td>\n",
       "      <td>0.178821</td>\n",
       "      <td>0.653995</td>\n",
       "    </tr>\n",
       "    <tr>\n",
       "      <th>2016</th>\n",
       "      <td>0.162117</td>\n",
       "      <td>0.129032</td>\n",
       "      <td>0.708850</td>\n",
       "    </tr>\n",
       "    <tr>\n",
       "      <th>2017</th>\n",
       "      <td>0.155199</td>\n",
       "      <td>0.139953</td>\n",
       "      <td>0.704848</td>\n",
       "    </tr>\n",
       "    <tr>\n",
       "      <th>2018</th>\n",
       "      <td>0.134064</td>\n",
       "      <td>0.142074</td>\n",
       "      <td>0.723862</td>\n",
       "    </tr>\n",
       "  </tbody>\n",
       "</table>\n",
       "</div>"
      ],
      "text/plain": [
       "           happening                    \n",
       "happening Don't know        No       Yes\n",
       "year                                    \n",
       "2008        0.170732  0.122420  0.706848\n",
       "2010        0.199195  0.212274  0.588531\n",
       "2011        0.187757  0.185700  0.626543\n",
       "2012        0.175603  0.151992  0.672405\n",
       "2013        0.172113  0.183551  0.644336\n",
       "2014        0.170203  0.185676  0.644120\n",
       "2015        0.167184  0.178821  0.653995\n",
       "2016        0.162117  0.129032  0.708850\n",
       "2017        0.155199  0.139953  0.704848\n",
       "2018        0.134064  0.142074  0.723862"
      ]
     },
     "execution_count": 73,
     "metadata": {},
     "output_type": "execute_result"
    }
   ],
   "source": [
    "df.groupby('year')['happening'].value_counts(normalize=True).to_frame().unstack()"
   ]
  },
  {
   "cell_type": "markdown",
   "id": "e573192d",
   "metadata": {},
   "source": [
    "#### `Cause Original`\n",
    "Assuming global warming is happening do you think it is..."
   ]
  },
  {
   "cell_type": "code",
   "execution_count": 74,
   "id": "a49d271a",
   "metadata": {
    "ExecuteTime": {
     "end_time": "2022-06-28T02:06:36.751763Z",
     "start_time": "2022-06-28T02:06:36.399764Z"
    }
   },
   "outputs": [
    {
     "data": {
      "image/png": "[encoded data removed]",
      "text/plain": [
       "<Figure size 720x720 with 1 Axes>"
      ]
     },
     "metadata": {
      "needs_background": "light"
     },
     "output_type": "display_data"
    }
   ],
   "source": [
    "distgraph('cause_original',\n",
    "          df.cause_original.unique()[:-1],\n",
    "         '')"
   ]
  },
  {
   "cell_type": "markdown",
   "id": "c04fa6d1",
   "metadata": {},
   "source": [
    "**Observation**\n",
    "  *  A majority of respondents answered that if global warming were happening, it was caused mostly by human activities.\n",
    "  *  7% of respondents rejected the premise of the question."
   ]
  },
  {
   "cell_type": "code",
   "execution_count": 75,
   "id": "30d73a6b",
   "metadata": {
    "ExecuteTime": {
     "end_time": "2022-06-28T02:06:37.134765Z",
     "start_time": "2022-06-28T02:06:36.754762Z"
    }
   },
   "outputs": [
    {
     "data": {
      "image/png": "[encoded data removed]",
      "text/plain": [
       "<Figure size 720x576 with 1 Axes>"
      ]
     },
     "metadata": {
      "needs_background": "light"
     },
     "output_type": "display_data"
    }
   ],
   "source": [
    "propgraph('cause_original',\n",
    "          df.cause_original.unique()[:-1],\n",
    "         '')"
   ]
  },
  {
   "cell_type": "markdown",
   "id": "4cd17b5d",
   "metadata": {},
   "source": [
    "**Observation**\n",
    "  *  For each `happening` subgroup, some people \"None of the above because global warming isn't happening.\" 30 people who said \"Yes\" to `happening` selected this response for this question \n",
    "  *  For the 'No' subgroup of `happening`, 2,960 people selected either of the two choices that state what the cause of global warming is. This is a contradiction. "
   ]
  },
  {
   "cell_type": "markdown",
   "id": "eff0e11f",
   "metadata": {},
   "source": [
    "#### `Cause Recoded`\n",
    "\n",
    "Assuming global warming is happening, do you think it is... (Recoded to include open-ends)"
   ]
  },
  {
   "cell_type": "markdown",
   "id": "5508daab",
   "metadata": {},
   "source": [
    "This feature was created by the survey providers to combine the offered answers for `cause_original` and the answers specified when \"Other\" was selected (`cause_other_text`). However, `cause_other_text` was dropped as a feature due to the 91% null rate. Since `cause_recoded` provides information of that dropped column and `cause_original`, drop `cause_original`."
   ]
  },
  {
   "cell_type": "code",
   "execution_count": 76,
   "id": "0b9456ae",
   "metadata": {
    "ExecuteTime": {
     "end_time": "2022-06-28T02:06:37.166834Z",
     "start_time": "2022-06-28T02:06:37.142765Z"
    }
   },
   "outputs": [],
   "source": [
    "df.drop(columns=['cause_original'], axis=1, inplace=True)"
   ]
  },
  {
   "cell_type": "code",
   "execution_count": 77,
   "id": "b961e43c",
   "metadata": {
    "ExecuteTime": {
     "end_time": "2022-06-28T02:06:37.496818Z",
     "start_time": "2022-06-28T02:06:37.168764Z"
    }
   },
   "outputs": [
    {
     "data": {
      "image/png": "[encoded data removed]",
      "text/plain": [
       "<Figure size 720x720 with 1 Axes>"
      ]
     },
     "metadata": {
      "needs_background": "light"
     },
     "output_type": "display_data"
    }
   ],
   "source": [
    "distgraph('cause_recoded',\n",
    "          df.cause_recoded.unique()[:-1],\n",
    "         'Cause of Global Warming: Recoded')"
   ]
  },
  {
   "cell_type": "markdown",
   "id": "b565ad9c",
   "metadata": {},
   "source": [
    "**Observation**\n",
    "  *  58% of respondents believe that global warming is partly or mostly human driven.\n",
    "  *  33% of respondents believe that global warming is mostly driven by natural changes in the environment."
   ]
  },
  {
   "cell_type": "code",
   "execution_count": 78,
   "id": "c519bbdd",
   "metadata": {
    "ExecuteTime": {
     "end_time": "2022-06-28T02:06:37.919761Z",
     "start_time": "2022-06-28T02:06:37.498763Z"
    },
    "scrolled": false
   },
   "outputs": [
    {
     "data": {
      "image/png": "[encoded data removed]",
      "text/plain": [
       "<Figure size 720x576 with 1 Axes>"
      ]
     },
     "metadata": {
      "needs_background": "light"
     },
     "output_type": "display_data"
    }
   ],
   "source": [
    "propgraph('cause_recoded',\n",
    "          df.cause_recoded.unique()[:-1],\n",
    "         'Cause of Global Warming: Recoded')"
   ]
  },
  {
   "cell_type": "markdown",
   "id": "1f91e6d7",
   "metadata": {},
   "source": [
    "**Observation**\n",
    "  *  \"Don't Know\" and \"Caused by human activities and natural changes\" were added from the original question of `cause_original`\n",
    "  *  Unsurprisingly, persons who refuted the question's premise did not believe global warming was happening as a majority."
   ]
  },
  {
   "cell_type": "code",
   "execution_count": 79,
   "id": "1b7efc06",
   "metadata": {
    "ExecuteTime": {
     "end_time": "2022-06-28T02:06:37.949763Z",
     "start_time": "2022-06-28T02:06:37.922763Z"
    }
   },
   "outputs": [],
   "source": [
    "# ordinal encode\n",
    "my_dict = {'Caused mostly by human activities': 'Yes',\n",
    "           'Caused mostly by natural changes in the environment': 'Yes',\n",
    "           'Caused by human activities and natural changes': 'Yes',\n",
    "           'Other (Please specify)': \"Don't know\",\n",
    "           \"Don't know\": \"Don't know\",\n",
    "           \"Neither because global warming isn't happening\": 'No'}\n",
    "\n",
    "df.cause_recoded = df.cause_recoded.replace({i:j for i,j in my_dict.items()})"
   ]
  },
  {
   "cell_type": "markdown",
   "id": "ceffc25b",
   "metadata": {},
   "source": [
    "#### `SCI Consensus `\n",
    "\n",
    "Scientist Consensus: Which comes closest to your own view?\n",
    "- Not asked in Oct 2015"
   ]
  },
  {
   "cell_type": "code",
   "execution_count": 80,
   "id": "66302341",
   "metadata": {
    "ExecuteTime": {
     "end_time": "2022-06-28T02:06:37.965762Z",
     "start_time": "2022-06-28T02:06:37.953764Z"
    }
   },
   "outputs": [
    {
     "data": {
      "text/plain": [
       "1350"
      ]
     },
     "execution_count": 80,
     "metadata": {},
     "output_type": "execute_result"
    }
   ],
   "source": [
    "# Number of Nulls in sci_consensus from \"2016 Oct\"\n",
    "df.sci_consensus.isnull().sum()"
   ]
  },
  {
   "cell_type": "code",
   "execution_count": 81,
   "id": "3765941e",
   "metadata": {
    "ExecuteTime": {
     "end_time": "2022-06-28T02:06:38.321762Z",
     "start_time": "2022-06-28T02:06:37.968763Z"
    }
   },
   "outputs": [
    {
     "data": {
      "image/png": "[encoded data removed]",
      "text/plain": [
       "<Figure size 720x720 with 1 Axes>"
      ]
     },
     "metadata": {
      "needs_background": "light"
     },
     "output_type": "display_data"
    }
   ],
   "source": [
    "distgraph('sci_consensus',\n",
    "          df.sci_consensus.unique()[:-1],\n",
    "         'Which comes closest to your own view for scientific consensus?')"
   ]
  },
  {
   "cell_type": "code",
   "execution_count": 82,
   "id": "a56dc2e4",
   "metadata": {
    "ExecuteTime": {
     "end_time": "2022-06-28T02:06:38.743764Z",
     "start_time": "2022-06-28T02:06:38.323763Z"
    }
   },
   "outputs": [
    {
     "data": {
      "image/png": "[encoded data removed]",
      "text/plain": [
       "<Figure size 720x576 with 1 Axes>"
      ]
     },
     "metadata": {
      "needs_background": "light"
     },
     "output_type": "display_data"
    }
   ],
   "source": [
    "propgraph('sci_consensus',\n",
    "          df.sci_consensus.unique()[:-1],\n",
    "         'Which comes closest to your own view for scientific consensus?')"
   ]
  },
  {
   "cell_type": "markdown",
   "id": "d995f8be",
   "metadata": {},
   "source": [
    "**Observation**\n",
    "  *  The plurality of respondents believe that most scientist think global warming is happening, of which 93% believe global warming is happening\n",
    "  *  A mixed scientific consensus had almost a majority of respondents believing in global warming\n",
    "  *  Not knowing about the scientific consensus lended itself to the group inclined to not know if global warming was happening"
   ]
  },
  {
   "cell_type": "code",
   "execution_count": 83,
   "id": "c3933b26",
   "metadata": {
    "ExecuteTime": {
     "end_time": "2022-06-28T02:06:38.775762Z",
     "start_time": "2022-06-28T02:06:38.747763Z"
    }
   },
   "outputs": [],
   "source": [
    "# ordinal\n",
    "my_dict = {'Most scientists think global warming is happening': 'Yes',\n",
    "           'There is a lot of disagreement among scientists about whether or not global warming is happening': 'Maybe',\n",
    "           \"Don't know enough to say\": \"Don't know\",\n",
    "           'Most scientists think global warming is not happening': 'No'}\n",
    "\n",
    "df.sci_consensus = df.sci_consensus.replace({i:j for i,j in my_dict.items()})"
   ]
  },
  {
   "cell_type": "markdown",
   "id": "1ead8ae1",
   "metadata": {},
   "source": [
    "#### `Worry`\n",
    "\n",
    "How worried are you about global warming?"
   ]
  },
  {
   "cell_type": "code",
   "execution_count": 84,
   "id": "24c4916a",
   "metadata": {
    "ExecuteTime": {
     "end_time": "2022-06-28T02:06:39.072073Z",
     "start_time": "2022-06-28T02:06:38.778762Z"
    }
   },
   "outputs": [
    {
     "data": {
      "image/png": "[encoded data removed]",
      "text/plain": [
       "<Figure size 720x720 with 1 Axes>"
      ]
     },
     "metadata": {
      "needs_background": "light"
     },
     "output_type": "display_data"
    }
   ],
   "source": [
    "distgraph('worry',\n",
    "          df.worry.unique()[:-1],\n",
    "         'How worried are you about global warming?')"
   ]
  },
  {
   "cell_type": "code",
   "execution_count": 85,
   "id": "3b033461",
   "metadata": {
    "ExecuteTime": {
     "end_time": "2022-06-28T02:06:42.149193Z",
     "start_time": "2022-06-28T02:06:41.783191Z"
    },
    "scrolled": false
   },
   "outputs": [
    {
     "data": {
      "image/png": "[encoded data removed]",
      "text/plain": [
       "<Figure size 720x576 with 1 Axes>"
      ]
     },
     "metadata": {
      "needs_background": "light"
     },
     "output_type": "display_data"
    }
   ],
   "source": [
    "propgraph('worry',\n",
    "          df.worry.unique()[:-1],\n",
    "         'How worried are you about global warming?')"
   ]
  },
  {
   "cell_type": "markdown",
   "id": "5163dfd9",
   "metadata": {},
   "source": [
    "**Observation**\n",
    "- This feature might be misleading for predicting the target since `somewhat worried` and `very worried` are so close in the amount who believe in global warming. Compare this to the cavern between the `not at all worried` and `not very worried` for not believing in global warming.\n",
    "- This feature could be reduced to binary (worry_True, worry_False) for analysis\n",
    "- Could also reduce to 3 subgroups (not_worried, worried, very_worried)"
   ]
  },
  {
   "cell_type": "code",
   "execution_count": 86,
   "id": "44dc0072",
   "metadata": {
    "ExecuteTime": {
     "end_time": "2022-06-28T02:06:46.187900Z",
     "start_time": "2022-06-28T02:06:46.129900Z"
    }
   },
   "outputs": [],
   "source": [
    "# encode\n",
    "df['worry'] = [0 if x == 'Not at all worried' else x if pd.isnull(0) else 1 for x in df.worry]"
   ]
  },
  {
   "cell_type": "markdown",
   "id": "7a5cae11",
   "metadata": {},
   "source": [
    "#### `Harm Personally`\n",
    "How much do you think global warming will harm: You personally"
   ]
  },
  {
   "cell_type": "code",
   "execution_count": null,
   "id": "f59b1e9c",
   "metadata": {
    "ExecuteTime": {
     "end_time": "2022-06-27T02:04:56.970659Z",
     "start_time": "2022-06-27T02:04:56.748657Z"
    }
   },
   "outputs": [],
   "source": [
    "distgraph('harm_personally',\n",
    "          df.harm_personally.unique()[:-1],\n",
    "          '')"
   ]
  },
  {
   "cell_type": "code",
   "execution_count": null,
   "id": "5ea11dc0",
   "metadata": {
    "ExecuteTime": {
     "end_time": "2022-06-27T02:04:57.274657Z",
     "start_time": "2022-06-27T02:04:56.972656Z"
    }
   },
   "outputs": [],
   "source": [
    "propgraph('harm_personally',\n",
    "          df.harm_personally.unique()[:-1],\n",
    "          '')"
   ]
  },
  {
   "cell_type": "markdown",
   "id": "bde91343",
   "metadata": {},
   "source": [
    "**Harm Personally**\n",
    "\n",
    "Observation \n",
    "- 103 people \"Refused\"\n",
    "- This will be a good predictor "
   ]
  },
  {
   "cell_type": "code",
   "execution_count": null,
   "id": "8e62b11e",
   "metadata": {
    "ExecuteTime": {
     "end_time": "2022-06-27T02:04:57.306656Z",
     "start_time": "2022-06-27T02:04:57.277656Z"
    }
   },
   "outputs": [],
   "source": [
    "my_dict = {'A great deal': 'Yes',\n",
    "           'Only a little': 'Yes',\n",
    "           'Not at all': 'No',\n",
    "           'Don\\'t know': 'Don\\'t know',\n",
    "           'A moderate amount': 'Yes',\n",
    "           'Refused': 'Refused'}\n",
    "\n",
    "df.harm_personally = df.harm_personally.replace({i:j for i,j in my_dict.items()})"
   ]
  },
  {
   "cell_type": "markdown",
   "id": "d310b665",
   "metadata": {},
   "source": [
    "#### `Harm US`\n",
    "How much do you think global warming will harm: People in the United States"
   ]
  },
  {
   "cell_type": "code",
   "execution_count": null,
   "id": "9a2265fe",
   "metadata": {
    "ExecuteTime": {
     "end_time": "2022-06-27T02:04:57.576392Z",
     "start_time": "2022-06-27T02:04:57.309656Z"
    }
   },
   "outputs": [],
   "source": [
    "distgraph('harm_US',\n",
    "          df[~df.harm_US.isnull()].harm_US.unique(),\n",
    "          '')"
   ]
  },
  {
   "cell_type": "code",
   "execution_count": null,
   "id": "bc65c4ef",
   "metadata": {
    "ExecuteTime": {
     "end_time": "2022-06-27T02:04:57.917429Z",
     "start_time": "2022-06-27T02:04:57.578386Z"
    }
   },
   "outputs": [],
   "source": [
    "propgraph('harm_US',\n",
    "          df[~df.harm_US.isnull()].harm_US.unique(),\n",
    "          '')"
   ]
  },
  {
   "cell_type": "code",
   "execution_count": null,
   "id": "12c4aab7",
   "metadata": {
    "ExecuteTime": {
     "end_time": "2022-06-27T02:04:57.949374Z",
     "start_time": "2022-06-27T02:04:57.920373Z"
    }
   },
   "outputs": [],
   "source": [
    "my_dict = {'A great deal': 'Yes',\n",
    "           'Only a little': 'Yes',\n",
    "           'Not at all': 'No',\n",
    "           'Don\\'t know': 'Don\\'t know',\n",
    "           'A moderate amount': 'Yes',\n",
    "           'Refused': 'Refused'}\n",
    "\n",
    "df.harm_US = df.harm_US.replace({i:j for i,j in my_dict.items()})"
   ]
  },
  {
   "cell_type": "markdown",
   "id": "136f5239",
   "metadata": {},
   "source": [
    "---\n",
    "---"
   ]
  },
  {
   "cell_type": "markdown",
   "id": "90bc1bd4",
   "metadata": {},
   "source": [
    "**Columns with underlying Nulls due to Poll Incongruity**\n",
    "\n",
    "Columns with questions that weren't asked in 'all waves'\n",
    "- sci_consensus\n",
    "- harm_plants_animals\n",
    "- reg_CO2_pollutant\n",
    "- reg_utilities\n",
    "- reg_coal_emissions\n",
    "- hear_GW_media"
   ]
  },
  {
   "cell_type": "markdown",
   "id": "0e82bc60",
   "metadata": {},
   "source": [
    "### Andy - Conclusions and Recommendations \n",
    "\n",
    "**Features Explored:**\n",
    "1. wave -> OrdinalEncode\n",
    "2. year -> OrdinalEncode\n",
    "3. <font color=grey>weight_wave</font>\n",
    "4. <font color=grey>weight_aggregate</font>\n",
    "5. **happening** (target)\n",
    "    - \"Refused\" dropped\n",
    "    - created binary class column `target` (\"Yes\", \"Not Yes\")\n",
    "    - OrdinalEncode fit & transformed original `happening` column\n",
    "6. <font color=grey>cause_original</font>\n",
    "7. <font color=grey>cause_other_text</font>\n",
    "8. cause_recoded\n",
    "    - final response from features 6 & 7\n",
    "9. ***sci_consensus***\n",
    "    - not included for one poll (2015 Oct) 1330 rows\n",
    "    - interesting feature, worth imputing with KNNImputer\n",
    "10. worry\n",
    "    - OrdinalEncode \n",
    "11. harm_personally\n",
    "12. harm_US\n",
    "13. harm_dev_countries\n",
    "\n",
    "\n",
    "**Data Cleaning Recommendations:**\n",
    "- drop rows that \"Refused\" all Cause and Harm series questions \n",
    "- drop remaining 24 rows that \"Refused\" answering `happening`\n",
    "- drop columns `weight_wave` and `weight_aggregate`\n",
    "- drop column `sci_consensus`"
   ]
  },
  {
   "cell_type": "markdown",
   "id": "a3b0e66e",
   "metadata": {},
   "source": [
    "#### `harm_dev_countries`\n",
    "**How much do you think global warming will harm: People in developing countries**"
   ]
  },
  {
   "cell_type": "code",
   "execution_count": null,
   "id": "d011165d",
   "metadata": {
    "ExecuteTime": {
     "end_time": "2022-06-27T02:04:57.965380Z",
     "start_time": "2022-06-27T02:04:57.951377Z"
    }
   },
   "outputs": [],
   "source": [
    "list(df.harm_dev_countries.unique())"
   ]
  },
  {
   "cell_type": "markdown",
   "id": "16c69f79",
   "metadata": {},
   "source": [
    "The response options. Map these to Refused, Don't Know, No, and Yes for more absolute groupings."
   ]
  },
  {
   "cell_type": "code",
   "execution_count": null,
   "id": "88c9c7e1",
   "metadata": {
    "ExecuteTime": {
     "end_time": "2022-06-27T02:04:57.997379Z",
     "start_time": "2022-06-27T02:04:57.967373Z"
    }
   },
   "outputs": [],
   "source": [
    "my_dict = {'A great deal': 'Yes',\n",
    "           'Only a little': 'Yes',\n",
    "           'Not at all': 'No',\n",
    "           'Don\\'t know': 'Don\\'t know',\n",
    "           'A moderate amount': 'Yes'}\n",
    "\n",
    "df.harm_dev_countries = df.harm_dev_countries.replace({i:j for i,j in my_dict.items()})"
   ]
  },
  {
   "cell_type": "code",
   "execution_count": null,
   "id": "50e66a69",
   "metadata": {
    "ExecuteTime": {
     "end_time": "2022-06-27T02:04:58.013374Z",
     "start_time": "2022-06-27T02:04:57.999376Z"
    }
   },
   "outputs": [],
   "source": [
    "df.harm_dev_countries.unique()"
   ]
  },
  {
   "cell_type": "code",
   "execution_count": null,
   "id": "a8244355",
   "metadata": {
    "ExecuteTime": {
     "end_time": "2022-06-27T02:04:58.249375Z",
     "start_time": "2022-06-27T02:04:58.015374Z"
    }
   },
   "outputs": [],
   "source": [
    "distgraph('harm_dev_countries',\n",
    "          df.harm_dev_countries.unique()[:-1],\n",
    "          'Do you think global warming will harm:\\n'+\\\n",
    "          'People in developing countries?')"
   ]
  },
  {
   "cell_type": "markdown",
   "id": "f1ab787d",
   "metadata": {},
   "source": [
    "**Observation**\n",
    "  *  A majority of respondents (71.9%) answered Yes that global warming will harm people in developing countries.\n",
    "  *  14.8% of respondents answered No\n",
    "  *  Around 13.3% of respondents either did not know or refused to answer\n"
   ]
  },
  {
   "cell_type": "code",
   "execution_count": null,
   "id": "8d33aa24",
   "metadata": {
    "ExecuteTime": {
     "end_time": "2022-06-27T02:04:58.533428Z",
     "start_time": "2022-06-27T02:04:58.253374Z"
    }
   },
   "outputs": [],
   "source": [
    "propgraph('harm_dev_countries',\n",
    "          ['Don\\'t know', 'No','Yes'],\n",
    "          'Do you think global warming will harm:\\n'+\\\n",
    "          'People in developing countries?')"
   ]
  },
  {
   "cell_type": "markdown",
   "id": "9ffe0996",
   "metadata": {},
   "source": [
    "\n",
    "  \n",
    "**Observation**\n",
    "  *  Respondents for Yes believed in global warming by a large margin.\n",
    "  *  Respondents for No, on the other hand, did not believe in global warming by a large margin.\n",
    "  *  Respondents for Don't Know believed in global warming or didn't know about equally.\n",
    "  *  A majority of respondents for Refused believed in global warming."
   ]
  },
  {
   "cell_type": "markdown",
   "id": "a1d7fc0b",
   "metadata": {},
   "source": [
    "#### `harm_future_gen`\n",
    "**How much do you think global warming will harm: Future generations of people**"
   ]
  },
  {
   "cell_type": "code",
   "execution_count": null,
   "id": "6a658522",
   "metadata": {
    "ExecuteTime": {
     "end_time": "2022-06-27T02:04:58.549380Z",
     "start_time": "2022-06-27T02:04:58.535375Z"
    }
   },
   "outputs": [],
   "source": [
    "list(df.harm_future_gen.unique())"
   ]
  },
  {
   "cell_type": "markdown",
   "id": "f5a288f4",
   "metadata": {},
   "source": [
    "The response options. Map these to Refused, Don't Know, No, and Yes for more absolute groupings."
   ]
  },
  {
   "cell_type": "code",
   "execution_count": null,
   "id": "572475fa",
   "metadata": {
    "ExecuteTime": {
     "end_time": "2022-06-27T02:04:58.565379Z",
     "start_time": "2022-06-27T02:04:58.551374Z"
    }
   },
   "outputs": [],
   "source": [
    "df.harm_future_gen = df.harm_future_gen.replace({i:j for i,j in my_dict.items()})"
   ]
  },
  {
   "cell_type": "code",
   "execution_count": null,
   "id": "cd35d23c",
   "metadata": {
    "ExecuteTime": {
     "end_time": "2022-06-27T02:04:58.900876Z",
     "start_time": "2022-06-27T02:04:58.567375Z"
    }
   },
   "outputs": [],
   "source": [
    "distgraph('harm_future_gen',\n",
    "          df.harm_future_gen.unique()[:-1],\n",
    "          'Do you think global warming will harm:\\n'+\\\n",
    "          'Future generations of people?')"
   ]
  },
  {
   "cell_type": "markdown",
   "id": "9b94051a",
   "metadata": {},
   "source": [
    "**Observation**\n",
    "  *  A majority of respondents (76.0%) answered Yes that global warming will harm future generations of people.\n",
    "  *  11.9% of respondents answered No\n",
    "  *  Around 12.1% of respondents either did not know or refused to answer\n"
   ]
  },
  {
   "cell_type": "code",
   "execution_count": null,
   "id": "52157716",
   "metadata": {
    "ExecuteTime": {
     "end_time": "2022-06-27T02:04:59.156881Z",
     "start_time": "2022-06-27T02:04:58.902875Z"
    }
   },
   "outputs": [],
   "source": [
    "propgraph('harm_future_gen',\n",
    "          ['Don\\'t know', 'No','Yes'],\n",
    "          'Do you think global warming will harm:\\n'+\\\n",
    "          'Future generations of people?')"
   ]
  },
  {
   "cell_type": "markdown",
   "id": "40170d9c",
   "metadata": {},
   "source": [
    "**Observation**\n",
    "  *  Respondents for Yes believed in global warming by a large margin.\n",
    "  *  Respondents for No, on the other hand, did not believe in global warming by a large margin.\n",
    "  *  Respondents for Don't Know believed in global warming or didn't know about equally.\n",
    "  *  A majority of respondents for Refused believed in global warming."
   ]
  },
  {
   "cell_type": "markdown",
   "id": "e0b5633a",
   "metadata": {},
   "source": [
    "#### `harm_plants_animals`\n",
    "**How much do you think global warming will harm: Plant and animal species**"
   ]
  },
  {
   "cell_type": "code",
   "execution_count": null,
   "id": "c314636c",
   "metadata": {
    "ExecuteTime": {
     "end_time": "2022-06-27T02:04:59.172875Z",
     "start_time": "2022-06-27T02:04:59.157874Z"
    }
   },
   "outputs": [],
   "source": [
    "df.harm_plants_animals.isnull().sum() / df.shape[0]"
   ]
  },
  {
   "cell_type": "markdown",
   "id": "9de6f145",
   "metadata": {},
   "source": [
    "6% of respondents were not offered this question as it was not asked in Oct 2015. These will need to be imputed."
   ]
  },
  {
   "cell_type": "code",
   "execution_count": null,
   "id": "a1f7872d",
   "metadata": {
    "ExecuteTime": {
     "end_time": "2022-06-27T02:04:59.188875Z",
     "start_time": "2022-06-27T02:04:59.176875Z"
    }
   },
   "outputs": [],
   "source": [
    "list(df.harm_plants_animals.unique())"
   ]
  },
  {
   "cell_type": "markdown",
   "id": "ab38513f",
   "metadata": {
    "ExecuteTime": {
     "end_time": "2022-06-16T22:14:38.004012Z",
     "start_time": "2022-06-16T22:14:37.993013Z"
    }
   },
   "source": [
    "The response options. Map these to Refused, Don't Know, No, and Yes for more absolute groupings."
   ]
  },
  {
   "cell_type": "code",
   "execution_count": null,
   "id": "3d2d4156",
   "metadata": {
    "ExecuteTime": {
     "end_time": "2022-06-27T02:04:59.204877Z",
     "start_time": "2022-06-27T02:04:59.190875Z"
    }
   },
   "outputs": [],
   "source": [
    "df.harm_plants_animals = df.harm_plants_animals.replace({i:j for i,j in my_dict.items()})"
   ]
  },
  {
   "cell_type": "code",
   "execution_count": null,
   "id": "993c770b",
   "metadata": {
    "ExecuteTime": {
     "end_time": "2022-06-27T02:04:59.444875Z",
     "start_time": "2022-06-27T02:04:59.206876Z"
    }
   },
   "outputs": [],
   "source": [
    "distgraph('harm_plants_animals',\n",
    "          df.harm_plants_animals.unique()[:-1],\n",
    "          'Do you think global warming will harm:\\n'+\\\n",
    "          'Plant and animal species?')"
   ]
  },
  {
   "cell_type": "markdown",
   "id": "87ed8ae1",
   "metadata": {},
   "source": [
    "**Observation**\n",
    "  *  A majority of respondents (76.8%) answered Yes that global warming will harm plants and animals.\n",
    "  *  11.7% of respondents answered No\n",
    "  *  Around 11.4% of respondents either did not know or refused to answer"
   ]
  },
  {
   "cell_type": "code",
   "execution_count": null,
   "id": "8eff8180",
   "metadata": {
    "ExecuteTime": {
     "end_time": "2022-06-27T02:04:59.729855Z",
     "start_time": "2022-06-27T02:04:59.446876Z"
    }
   },
   "outputs": [],
   "source": [
    "propgraph('harm_plants_animals',\n",
    "          ['Don\\'t know', 'No','Yes'],\n",
    "          'Do you think global warming will harm:\\n'+\\\n",
    "          'Plant and animal species?')"
   ]
  },
  {
   "cell_type": "markdown",
   "id": "ab21db1d",
   "metadata": {},
   "source": [
    "**Observation**\n",
    "  *  Respondents for Yes believed in global warming by a large margin.\n",
    "  *  Respondents for No, on the other hand, did not believe in global warming by a large margin.\n",
    "  *  Respondents for Don't Know didn't know if they believe in global warming, closely followed by Yes.\n",
    "  *  A majority of respondents for Refused believed in global warming."
   ]
  },
  {
   "cell_type": "markdown",
   "id": "554e8896",
   "metadata": {},
   "source": [
    "#### `when_harm_us`\n",
    "**When do you think global warming will start to harm people in the United States?**"
   ]
  },
  {
   "cell_type": "code",
   "execution_count": null,
   "id": "a39660a9",
   "metadata": {
    "ExecuteTime": {
     "end_time": "2022-06-27T02:04:59.745851Z",
     "start_time": "2022-06-27T02:04:59.731850Z"
    }
   },
   "outputs": [],
   "source": [
    "list(df.when_harm_US.unique())"
   ]
  },
  {
   "cell_type": "markdown",
   "id": "a778fdde",
   "metadata": {},
   "source": [
    "The response options. Map these to Refused, Never, In the Future, and Now for more absolute groupings."
   ]
  },
  {
   "cell_type": "code",
   "execution_count": null,
   "id": "79794a83",
   "metadata": {
    "ExecuteTime": {
     "end_time": "2022-06-27T02:04:59.777850Z",
     "start_time": "2022-06-27T02:04:59.747849Z"
    }
   },
   "outputs": [],
   "source": [
    "my_dict = {'In 10 years': 'In the Future',\n",
    "           'In 50 years': 'In the Future',\n",
    "           'Never': 'Never',\n",
    "           'In 25 years': 'In the Future',\n",
    "           'In 100 years': 'In the Future',\n",
    "           'They are being harmed now': 'Now'}\n",
    "\n",
    "df.when_harm_US = df.when_harm_US.replace({i:j for i,j in my_dict.items()})"
   ]
  },
  {
   "cell_type": "code",
   "execution_count": null,
   "id": "79ed3beb",
   "metadata": {
    "ExecuteTime": {
     "end_time": "2022-06-27T02:05:00.044850Z",
     "start_time": "2022-06-27T02:04:59.782851Z"
    }
   },
   "outputs": [],
   "source": [
    "distgraph('when_harm_US',\n",
    "          df.when_harm_US.unique()[:-1],\n",
    "          'When do you think global warming will start to harm\\npeople '+\\\n",
    "          'in the United States?')"
   ]
  },
  {
   "cell_type": "markdown",
   "id": "5c8b4b4c",
   "metadata": {},
   "source": [
    "**Observation**\n",
    "  *  A plurality of respondents (47.5%) answered `In the Future` for when global warming will start to harm people in the United States.\n",
    "  *  34.5% of respondents answered `Now`\n",
    "  *  17.3% of respondents answer `Never`"
   ]
  },
  {
   "cell_type": "code",
   "execution_count": null,
   "id": "e3f8c9fa",
   "metadata": {
    "ExecuteTime": {
     "end_time": "2022-06-27T02:05:00.359855Z",
     "start_time": "2022-06-27T02:05:00.047851Z"
    }
   },
   "outputs": [],
   "source": [
    "propgraph('when_harm_US',\n",
    "          ['Never', 'In the Future','Now'],\n",
    "          'When do you think global warming will start to harm\\npeople '+\\\n",
    "          'in the United States?')"
   ]
  },
  {
   "cell_type": "markdown",
   "id": "4b0ad12f",
   "metadata": {},
   "source": [
    "**Observation**\n",
    "  *  Unsurprisingly, `Now` and `In the Future` both believe in global warming by a large margin\n",
    "  *  Respondents for `Never` still held decent amounts of Don't Know and Yes for belief in global warming indicating that global warming may not be inherently harmful in their mind."
   ]
  },
  {
   "cell_type": "markdown",
   "id": "81a540ca",
   "metadata": {},
   "source": [
    "#### `reg_CO2_pollutant`\n",
    "**How much do you support or oppose the following policies?\n",
    "Regulate carbon dioxide (the primary greenhouse gas) as a pollutant.**"
   ]
  },
  {
   "cell_type": "code",
   "execution_count": null,
   "id": "4f33d068",
   "metadata": {
    "ExecuteTime": {
     "end_time": "2022-06-27T02:05:00.375849Z",
     "start_time": "2022-06-27T02:05:00.361850Z"
    }
   },
   "outputs": [],
   "source": [
    "df.reg_CO2_pollutant.isnull().sum()/df.shape[0]"
   ]
  },
  {
   "cell_type": "markdown",
   "id": "24e614d7",
   "metadata": {},
   "source": [
    "4.5% of respondents were not offered this question as it was not asked in May 2011. These will need to be imputed."
   ]
  },
  {
   "cell_type": "code",
   "execution_count": null,
   "id": "d9155ee3",
   "metadata": {
    "ExecuteTime": {
     "end_time": "2022-06-27T02:05:00.391855Z",
     "start_time": "2022-06-27T02:05:00.377850Z"
    },
    "scrolled": true
   },
   "outputs": [],
   "source": [
    "list(df.reg_CO2_pollutant.unique())"
   ]
  },
  {
   "cell_type": "markdown",
   "id": "fd299e36",
   "metadata": {},
   "source": [
    "The response options. Map these into support, oppose, and refused for more absolute groupings."
   ]
  },
  {
   "cell_type": "code",
   "execution_count": null,
   "id": "8a97a4b2",
   "metadata": {
    "ExecuteTime": {
     "end_time": "2022-06-27T02:05:00.407851Z",
     "start_time": "2022-06-27T02:05:00.393850Z"
    }
   },
   "outputs": [],
   "source": [
    "my_dict = {'Strongly support': 'Support',\n",
    "           'Somewhat support': 'Support',\n",
    "           'Somewhat oppose': 'Oppose',\n",
    "           'Strongly oppose': 'Oppose'}\n",
    "\n",
    "df.reg_CO2_pollutant = df.reg_CO2_pollutant.replace({i:j for i,j in my_dict.items()})"
   ]
  },
  {
   "cell_type": "code",
   "execution_count": null,
   "id": "8c2a17c4",
   "metadata": {
    "ExecuteTime": {
     "end_time": "2022-06-27T02:05:00.643467Z",
     "start_time": "2022-06-27T02:05:00.409850Z"
    }
   },
   "outputs": [],
   "source": [
    "distgraph('reg_CO2_pollutant',\n",
    "          df.reg_CO2_pollutant.unique()[:-1],\n",
    "          'How much do you support or oppose the following policies?\\n'+\\\n",
    "          'Regulate carbon dioxide (the primary greenhouse gas) as a pollutant.')"
   ]
  },
  {
   "cell_type": "markdown",
   "id": "83c783df",
   "metadata": {},
   "source": [
    "**Observation**\n",
    "  *  A majority of respondents (73.2%) support regulating carbon dioxide.\n",
    "  *  24.4% of respondents answered No\n",
    "  *  Around 2.4% of respondents either did not know or refused to answer"
   ]
  },
  {
   "cell_type": "code",
   "execution_count": null,
   "id": "18deef06",
   "metadata": {
    "ExecuteTime": {
     "end_time": "2022-06-27T02:05:00.912673Z",
     "start_time": "2022-06-27T02:05:00.645468Z"
    }
   },
   "outputs": [],
   "source": [
    "propgraph('reg_CO2_pollutant',\n",
    "          ['Oppose','Support'],\n",
    "          'How much do you support or oppose the following policies?\\n'+\\\n",
    "          'Regulate carbon dioxide (the primary greenhouse gas) as a pollutant.')"
   ]
  },
  {
   "cell_type": "markdown",
   "id": "50c50fdc",
   "metadata": {},
   "source": [
    "**Observation**\n",
    "  *  `Oppose` is not as deeply for not believing in climate change as `Support` is for believing in climate change."
   ]
  },
  {
   "cell_type": "markdown",
   "id": "76e5cf08",
   "metadata": {},
   "source": [
    "#### `fund_research`\n",
    "**How much do you support or oppose the following policies? Fund more research into renewable energy sources, such as solar and wind power.**"
   ]
  },
  {
   "cell_type": "code",
   "execution_count": null,
   "id": "bb013c52",
   "metadata": {
    "ExecuteTime": {
     "end_time": "2022-06-27T02:05:00.928673Z",
     "start_time": "2022-06-27T02:05:00.914671Z"
    }
   },
   "outputs": [],
   "source": [
    "list(df.fund_research .unique())"
   ]
  },
  {
   "cell_type": "markdown",
   "id": "8d998545",
   "metadata": {},
   "source": [
    "The response options. Map these into support, oppose, and refused for more absolute groupings."
   ]
  },
  {
   "cell_type": "code",
   "execution_count": null,
   "id": "66edf867",
   "metadata": {
    "ExecuteTime": {
     "end_time": "2022-06-27T02:05:00.959673Z",
     "start_time": "2022-06-27T02:05:00.930672Z"
    }
   },
   "outputs": [],
   "source": [
    "df.fund_research = df.fund_research.replace({i:j for i,j in my_dict.items()})"
   ]
  },
  {
   "cell_type": "code",
   "execution_count": null,
   "id": "4f0f5ef0",
   "metadata": {
    "ExecuteTime": {
     "end_time": "2022-06-27T02:05:01.211672Z",
     "start_time": "2022-06-27T02:05:00.961672Z"
    }
   },
   "outputs": [],
   "source": [
    "distgraph('fund_research',\n",
    "          df.fund_research.unique()[:-1],\n",
    "          'How much do you support or oppose the following policies?\\n'+\\\n",
    "          'Fund more research into renewable energy sources')"
   ]
  },
  {
   "cell_type": "markdown",
   "id": "712c63da",
   "metadata": {},
   "source": [
    "**Observation**\n",
    "  *  A majority of respondents (81.8%) support funding more research into renewable energy sources.\n",
    "  *  16.0% of respondents answered No\n",
    "  *  Around 2.2% of respondents refused to answer"
   ]
  },
  {
   "cell_type": "code",
   "execution_count": null,
   "id": "097fd9f6",
   "metadata": {
    "ExecuteTime": {
     "end_time": "2022-06-27T02:05:01.479742Z",
     "start_time": "2022-06-27T02:05:01.213673Z"
    }
   },
   "outputs": [],
   "source": [
    "propgraph('fund_research',\n",
    "          ['Oppose','Support'],\n",
    "          'How much do you support or oppose the following policies?\\n'+\\\n",
    "          'Fund more research into renewable energy sources')"
   ]
  },
  {
   "cell_type": "markdown",
   "id": "4c0a87ef",
   "metadata": {
    "ExecuteTime": {
     "end_time": "2022-06-21T15:26:50.864541Z",
     "start_time": "2022-06-21T15:26:50.852542Z"
    }
   },
   "source": [
    "**Observation**\n",
    "  *  `Oppose` is not as deeply for not believing in climate change as `Support` is for believing in climate change."
   ]
  },
  {
   "cell_type": "markdown",
   "id": "72af05bd",
   "metadata": {},
   "source": [
    "#### `discuss_GW`\n",
    "**How often do you discuss global warming with your family and friends?**"
   ]
  },
  {
   "cell_type": "code",
   "execution_count": null,
   "id": "e8427062",
   "metadata": {
    "ExecuteTime": {
     "end_time": "2022-06-27T02:05:01.495671Z",
     "start_time": "2022-06-27T02:05:01.481673Z"
    }
   },
   "outputs": [],
   "source": [
    "list(df.discuss_GW.unique())"
   ]
  },
  {
   "cell_type": "markdown",
   "id": "5b2ddb92",
   "metadata": {},
   "source": [
    "The response options. Map these to Refused, Never, At All for more absolute groupings"
   ]
  },
  {
   "cell_type": "code",
   "execution_count": null,
   "id": "190f41db",
   "metadata": {
    "ExecuteTime": {
     "end_time": "2022-06-27T02:05:01.511673Z",
     "start_time": "2022-06-27T02:05:01.497673Z"
    }
   },
   "outputs": [],
   "source": [
    "my_dict = {'Occasionally': 'At All',\n",
    "           'Rarely': 'At All',\n",
    "           'Never': 'Never',\n",
    "           'Often': 'At All'}\n",
    "\n",
    "df.discuss_GW = df.discuss_GW.replace({i:j for i,j in my_dict.items()})"
   ]
  },
  {
   "cell_type": "code",
   "execution_count": null,
   "id": "2df127ad",
   "metadata": {
    "ExecuteTime": {
     "end_time": "2022-06-27T02:05:01.746672Z",
     "start_time": "2022-06-27T02:05:01.513673Z"
    }
   },
   "outputs": [],
   "source": [
    "distgraph('discuss_GW',\n",
    "          df.discuss_GW.unique()[:-1],\n",
    "          'How often do you discuss global warming with your family and friends?')"
   ]
  },
  {
   "cell_type": "markdown",
   "id": "6953df2e",
   "metadata": {},
   "source": [
    "**Observation**\n",
    "  *  A majority of respondents discuss global warming with family and friends"
   ]
  },
  {
   "cell_type": "code",
   "execution_count": null,
   "id": "18422b92",
   "metadata": {
    "ExecuteTime": {
     "end_time": "2022-06-27T02:05:02.093467Z",
     "start_time": "2022-06-27T02:05:01.748673Z"
    }
   },
   "outputs": [],
   "source": [
    "propgraph('discuss_GW',\n",
    "          ['Never','At All'],\n",
    "          'How often do you discuss global warming with your family and friends?')"
   ]
  },
  {
   "cell_type": "markdown",
   "id": "6af2f2e5",
   "metadata": {},
   "source": [
    "**Observation**\n",
    "  *  Despite `Never` discussing global warming with family and friends, that group of respondents still believes in global warming on average along with `At All`"
   ]
  },
  {
   "cell_type": "markdown",
   "id": "73e7ec59",
   "metadata": {},
   "source": [
    "#### `gender`\n",
    "**Are you Male or Female?**"
   ]
  },
  {
   "cell_type": "code",
   "execution_count": null,
   "id": "7836c27f",
   "metadata": {
    "ExecuteTime": {
     "end_time": "2022-06-27T02:05:02.297713Z",
     "start_time": "2022-06-27T02:05:02.095462Z"
    }
   },
   "outputs": [],
   "source": [
    "distgraph('gender',\n",
    "          df.gender.unique(),\n",
    "          'Are you Male or Female?')"
   ]
  },
  {
   "cell_type": "markdown",
   "id": "7beff77e",
   "metadata": {},
   "source": [
    "**Observation**\n",
    "  *  The distribution of responses is very close to even with `female` representing a majority of responses at 50.8%"
   ]
  },
  {
   "cell_type": "code",
   "execution_count": null,
   "id": "c5d0b5d7",
   "metadata": {
    "ExecuteTime": {
     "end_time": "2022-06-27T02:05:02.553707Z",
     "start_time": "2022-06-27T02:05:02.299707Z"
    }
   },
   "outputs": [],
   "source": [
    "propgraph('gender',\n",
    "          ['Female','Male'],\n",
    "          'Are you Male or Female?')"
   ]
  },
  {
   "cell_type": "markdown",
   "id": "9cf11356",
   "metadata": {},
   "source": [
    "**Observation**\n",
    "  *  `Female` respondents believed in global warming more than `Male` respondents."
   ]
  },
  {
   "cell_type": "code",
   "execution_count": null,
   "id": "1783db01",
   "metadata": {
    "ExecuteTime": {
     "end_time": "2022-06-27T02:05:02.585708Z",
     "start_time": "2022-06-27T02:05:02.555708Z"
    }
   },
   "outputs": [],
   "source": [
    "# dummify gender to be 0 for male and 1 for female\n",
    "df.gender = [int(val == 'Female') for val in df.gender]"
   ]
  },
  {
   "cell_type": "markdown",
   "id": "c3a57a6b",
   "metadata": {},
   "source": [
    "#### `age`\n",
    "**How old are you?**"
   ]
  },
  {
   "cell_type": "code",
   "execution_count": null,
   "id": "c219f145",
   "metadata": {
    "ExecuteTime": {
     "end_time": "2022-06-27T02:05:02.601707Z",
     "start_time": "2022-06-27T02:05:02.587708Z"
    }
   },
   "outputs": [],
   "source": [
    "df.age.describe()"
   ]
  },
  {
   "cell_type": "markdown",
   "id": "d7f2fee2",
   "metadata": {},
   "source": [
    "The range of responses was 18-97 meaning only responses from adults were recorded. The average age was 50 years old."
   ]
  },
  {
   "cell_type": "code",
   "execution_count": null,
   "id": "97bfcd00",
   "metadata": {
    "ExecuteTime": {
     "end_time": "2022-06-27T02:05:02.825709Z",
     "start_time": "2022-06-27T02:05:02.603709Z"
    }
   },
   "outputs": [],
   "source": [
    "fig, ax = plt.subplots(1, 1, figsize = (7.5,5))\n",
    "ax.hist(df.age,\n",
    "        bins = np.arange(10,101,10))\n",
    "ax.set_title('Age distribution, binsize = 10')\n",
    "ax.set_ylabel('# of Respondents')\n",
    "ax.set_xlabel('Age');"
   ]
  },
  {
   "cell_type": "markdown",
   "id": "f9f0def0",
   "metadata": {},
   "source": [
    "**Observation**\n",
    "  *  The age distribution is centered around 50, which is also the mean and contains the median value 52.\n",
    "  *  Right tailed with small amount of respondents in the 90-100 range.\n",
    "  *  High number of young respondents also making it more skewed."
   ]
  },
  {
   "cell_type": "code",
   "execution_count": null,
   "id": "a7ef6fa5",
   "metadata": {
    "ExecuteTime": {
     "end_time": "2022-06-27T02:05:03.253875Z",
     "start_time": "2022-06-27T02:05:02.844709Z"
    },
    "scrolled": false
   },
   "outputs": [],
   "source": [
    "# graph\n",
    "\n",
    "propgraph(pd.cut(df.age, bins = np.arange(10,101,10)),\n",
    "          [pd.Interval(10, 20, closed='right'),\n",
    "           pd.Interval(20, 30, closed='right'),\n",
    "           pd.Interval(30, 40, closed='right'),\n",
    "           pd.Interval(40, 50, closed='right'),\n",
    "           pd.Interval(50, 60, closed='right'),\n",
    "           pd.Interval(60, 70, closed='right'),\n",
    "           pd.Interval(70, 80, closed='right'),\n",
    "           pd.Interval(80, 90, closed='right'),\n",
    "           pd.Interval(90, 100, closed='right')],\n",
    "          \"Age, bin size 10\")"
   ]
  },
  {
   "cell_type": "markdown",
   "id": "a8871e40",
   "metadata": {},
   "source": [
    "**Observations**\n",
    "  *  Each age group has a majority of respondents believing in global warming\n",
    "  *  `20-30` and `30-40` are some of the strongest believers on average\n",
    "  *  `50-60` was the most popular age bracket for the survey and is one of the softer groups for believing in climate change."
   ]
  },
  {
   "cell_type": "markdown",
   "id": "8e3c8d13",
   "metadata": {},
   "source": [
    "#### `age_category`\n",
    "**Computed from `age` as a range**"
   ]
  },
  {
   "cell_type": "code",
   "execution_count": null,
   "id": "b28d60db",
   "metadata": {
    "ExecuteTime": {
     "end_time": "2022-06-27T02:05:03.268875Z",
     "start_time": "2022-06-27T02:05:03.255869Z"
    }
   },
   "outputs": [],
   "source": [
    "list(df.age_category.unique())"
   ]
  },
  {
   "cell_type": "markdown",
   "id": "bf346988",
   "metadata": {},
   "source": [
    "The computed ranges."
   ]
  },
  {
   "cell_type": "code",
   "execution_count": null,
   "id": "13b5db28",
   "metadata": {
    "ExecuteTime": {
     "end_time": "2022-06-27T02:05:03.473875Z",
     "start_time": "2022-06-27T02:05:03.270870Z"
    },
    "scrolled": false
   },
   "outputs": [],
   "source": [
    "distgraph('age_category',\n",
    "          df.age_category.unique(),\n",
    "          'Age Category')"
   ]
  },
  {
   "cell_type": "markdown",
   "id": "be136363",
   "metadata": {},
   "source": [
    "**Observation**\n",
    "  *  A plurality of respondents are in the 55+ category\n",
    "  *  The youngest age group is the least represented in the survey"
   ]
  },
  {
   "cell_type": "code",
   "execution_count": null,
   "id": "788ba534",
   "metadata": {
    "ExecuteTime": {
     "end_time": "2022-06-27T02:05:03.743875Z",
     "start_time": "2022-06-27T02:05:03.475870Z"
    },
    "scrolled": false
   },
   "outputs": [],
   "source": [
    "propgraph('age_category',\n",
    "          ['55+ years','35-54 years','18-34 years'],\n",
    "          'Age Category')"
   ]
  },
  {
   "cell_type": "markdown",
   "id": "b9ecc46c",
   "metadata": {},
   "source": [
    "**Observation**\n",
    "  *  All three age categories have similar belief proportions."
   ]
  },
  {
   "cell_type": "code",
   "execution_count": null,
   "id": "f8eaf762",
   "metadata": {
    "ExecuteTime": {
     "end_time": "2022-06-27T02:05:03.807870Z",
     "start_time": "2022-06-27T02:05:03.745870Z"
    },
    "scrolled": false
   },
   "outputs": [],
   "source": [
    "# dummify age_category and drop 18-34 years as an option\n",
    "df = df.join(pd.get_dummies(df.age_category, prefix='age_category', \n",
    "                            drop_first=True))\n",
    "\n",
    "# rename the new dummy columns to represent their value\n",
    "df.rename(columns = {df.columns[-2]:'age_category_35_54', \n",
    "                     df.columns[-1]: 'age_category_55_plus'}, \n",
    "          inplace=True)\n",
    "\n",
    "#drop age_category\n",
    "df.drop('age_category', axis=1, inplace=True)"
   ]
  },
  {
   "cell_type": "markdown",
   "id": "6aaf38f2",
   "metadata": {},
   "source": [
    "# VILO"
   ]
  },
  {
   "cell_type": "markdown",
   "id": "de7cb572",
   "metadata": {},
   "source": [
    "### Creating Dummies from my features and target"
   ]
  },
  {
   "cell_type": "code",
   "execution_count": null,
   "id": "c3a82d2d",
   "metadata": {
    "ExecuteTime": {
     "end_time": "2022-06-27T02:05:03.823869Z",
     "start_time": "2022-06-27T02:05:03.809869Z"
    }
   },
   "outputs": [],
   "source": [
    "df2 = df[['generation', 'educ', 'educ_category', 'income', 'income_category',\n",
    "          'race', 'ideology', 'party', 'party_w_leaners', 'party_x_ideo',\n",
    "          'registered_voter', 'region9', 'region4']]"
   ]
  },
  {
   "cell_type": "code",
   "execution_count": null,
   "id": "5a794a9d",
   "metadata": {
    "ExecuteTime": {
     "end_time": "2022-06-27T02:05:03.901874Z",
     "start_time": "2022-06-27T02:05:03.825869Z"
    }
   },
   "outputs": [],
   "source": [
    "df2_dum = pd.get_dummies(df2)"
   ]
  },
  {
   "cell_type": "code",
   "execution_count": null,
   "id": "3e26eba3",
   "metadata": {
    "ExecuteTime": {
     "end_time": "2022-06-27T02:05:03.917873Z",
     "start_time": "2022-06-27T02:05:03.903869Z"
    }
   },
   "outputs": [],
   "source": [
    "dum_happen = pd.get_dummies(df['happening'])"
   ]
  },
  {
   "cell_type": "code",
   "execution_count": null,
   "id": "afcc3cc8",
   "metadata": {
    "ExecuteTime": {
     "end_time": "2022-06-27T02:05:03.933868Z",
     "start_time": "2022-06-27T02:05:03.920869Z"
    },
    "scrolled": true
   },
   "outputs": [],
   "source": [
    "dummies = pd.concat([df2_dum, dum_happen], axis=1)"
   ]
  },
  {
   "cell_type": "markdown",
   "id": "fccf3edc",
   "metadata": {},
   "source": [
    "### Looking at the top correlated features with answering yes to 'happening'"
   ]
  },
  {
   "cell_type": "code",
   "execution_count": null,
   "id": "cf6cb7d1",
   "metadata": {
    "ExecuteTime": {
     "end_time": "2022-06-27T02:05:05.539826Z",
     "start_time": "2022-06-27T02:05:03.935869Z"
    }
   },
   "outputs": [],
   "source": [
    "top_corr1 = pd.DataFrame(dummies.corr().sort_values(by='Yes', ascending=False)['Yes'][:11])\n",
    "top_corr_neg = pd.DataFrame(dummies.corr().sort_values(by='Yes')['Yes'][:12])"
   ]
  },
  {
   "cell_type": "code",
   "execution_count": null,
   "id": "23aa5714",
   "metadata": {
    "ExecuteTime": {
     "end_time": "2022-06-27T02:05:05.870832Z",
     "start_time": "2022-06-27T02:05:05.541827Z"
    },
    "code_folding": []
   },
   "outputs": [],
   "source": [
    "fig, ax = plt.subplots(figsize=(10,8))\n",
    "\n",
    "ax.barh(top_corr1.index[::-1][:-1],\n",
    "        width = top_corr1.Yes.values[::-1][:-1])\n",
    "\n",
    "# label each bar\n",
    "ax.bar_label(ax.containers[0],\n",
    "                fmt=\"%.3f\",\n",
    "               padding = 3)\n",
    "plt.margins(x=0.1, y=0);"
   ]
  },
  {
   "cell_type": "code",
   "execution_count": null,
   "id": "0aac6274",
   "metadata": {
    "ExecuteTime": {
     "end_time": "2022-06-27T02:05:06.219306Z",
     "start_time": "2022-06-27T02:05:05.872827Z"
    }
   },
   "outputs": [],
   "source": [
    "fig, ax = plt.subplots(figsize=(10,8))\n",
    "\n",
    "ax.barh(top_corr_neg.index[::-1][:-2],\n",
    "        width = top_corr_neg.Yes.values[::-1][:-2],\n",
    "        color = 'darksalmon')\n",
    "\n",
    "# label each bar\n",
    "ax.bar_label(ax.containers[0],\n",
    "                fmt=\"%.3f\",\n",
    "               padding = 3)\n",
    "plt.margins(x=0.1, y=0);"
   ]
  },
  {
   "cell_type": "markdown",
   "id": "736040dd",
   "metadata": {},
   "source": [
    "### Review Variables"
   ]
  },
  {
   "cell_type": "markdown",
   "id": "30fe8203",
   "metadata": {},
   "source": [
    "#### `Generation`"
   ]
  },
  {
   "cell_type": "code",
   "execution_count": null,
   "id": "7287bc8e",
   "metadata": {
    "ExecuteTime": {
     "end_time": "2022-06-27T02:05:06.235305Z",
     "start_time": "2022-06-27T02:05:06.222305Z"
    },
    "scrolled": false
   },
   "outputs": [],
   "source": [
    "df['generation'].value_counts(normalize=True)"
   ]
  },
  {
   "cell_type": "code",
   "execution_count": null,
   "id": "b3fc5a36",
   "metadata": {
    "ExecuteTime": {
     "end_time": "2022-06-27T02:05:06.538594Z",
     "start_time": "2022-06-27T02:05:06.237303Z"
    }
   },
   "outputs": [],
   "source": [
    "gen_order = ['Greatest (Before 1928)',\n",
    "           'Silent (1928 - 1945)',\n",
    "           'Baby Boomers (1946 - 1964)',\n",
    "           'Generation X (1965 - 1980)',\n",
    "           'Millennials (1981 - 1996)',\n",
    "           'iGen‎/Gen Z (1997 - )']\n",
    "\n",
    "distgraph('generation',gen_order,'Generation of Respondent')"
   ]
  },
  {
   "cell_type": "code",
   "execution_count": null,
   "id": "edbc152f",
   "metadata": {
    "ExecuteTime": {
     "end_time": "2022-06-27T02:05:06.966748Z",
     "start_time": "2022-06-27T02:05:06.540589Z"
    }
   },
   "outputs": [],
   "source": [
    "propgraph('generation',\n",
    "         gen_order,\n",
    "          'Generation of Respondent')"
   ]
  },
  {
   "cell_type": "markdown",
   "id": "b71e0bbb",
   "metadata": {},
   "source": [
    "#### `educ`"
   ]
  },
  {
   "cell_type": "code",
   "execution_count": null,
   "id": "b29f364e",
   "metadata": {
    "ExecuteTime": {
     "end_time": "2022-06-27T02:05:06.981748Z",
     "start_time": "2022-06-27T02:05:06.968748Z"
    }
   },
   "outputs": [],
   "source": [
    "df['educ'].value_counts(normalize=True)"
   ]
  },
  {
   "cell_type": "code",
   "execution_count": null,
   "id": "6ba1b5fa",
   "metadata": {
    "ExecuteTime": {
     "end_time": "2022-06-27T02:05:07.361357Z",
     "start_time": "2022-06-27T02:05:06.984516Z"
    }
   },
   "outputs": [],
   "source": [
    "educ_order = ['No formal education',\n",
    "         '1st, 2nd, 3rd, or 4th grade',\n",
    "         '5th or 6th grade',\n",
    "         '7th or 8th grade',\n",
    "         '9th grade',\n",
    "         '10th grade',\n",
    "         '11th grade',\n",
    "         '12th grade no diploma',\n",
    "         'High school graduate - high school diploma or the equivalent (GED)',\n",
    "         'Some college, no degree',\n",
    "         \"Associate's degree\",\n",
    "         \"Bachelor's degree\",\n",
    "         \"Master's degree\",\n",
    "         'Professional or Doctorate degree']\n",
    "\n",
    "distgraph('educ',\n",
    "          educ_order,\n",
    "          'Amount of Education by Respondent')"
   ]
  },
  {
   "cell_type": "code",
   "execution_count": null,
   "id": "04af7193",
   "metadata": {
    "ExecuteTime": {
     "end_time": "2022-06-27T02:05:08.027747Z",
     "start_time": "2022-06-27T02:05:07.363356Z"
    }
   },
   "outputs": [],
   "source": [
    "propgraph('educ',\n",
    "            educ_order,\n",
    "         'Amount of Education by Respondent')"
   ]
  },
  {
   "cell_type": "code",
   "execution_count": null,
   "id": "fb74ad5e",
   "metadata": {
    "ExecuteTime": {
     "end_time": "2022-06-27T02:05:08.058918Z",
     "start_time": "2022-06-27T02:05:08.029748Z"
    }
   },
   "outputs": [],
   "source": [
    "# Uninteresting. Drop.\n",
    "df.drop('educ',\n",
    "       axis = 1,\n",
    "       inplace=True)"
   ]
  },
  {
   "cell_type": "markdown",
   "id": "03649df8",
   "metadata": {},
   "source": [
    "#### `educ_category`"
   ]
  },
  {
   "cell_type": "code",
   "execution_count": null,
   "id": "4395be2a",
   "metadata": {
    "ExecuteTime": {
     "end_time": "2022-06-27T02:05:08.313917Z",
     "start_time": "2022-06-27T02:05:08.060917Z"
    }
   },
   "outputs": [],
   "source": [
    "edcat_order=[\"Bachelor's degree or higher\",\n",
    "           'Some college',\n",
    "           'High school',\n",
    "           'Less than high school']\n",
    "\n",
    "distgraph('educ_category',\n",
    "          edcat_order,\n",
    "          'Education Category of Respondent')"
   ]
  },
  {
   "cell_type": "code",
   "execution_count": null,
   "id": "12fda6a0",
   "metadata": {
    "ExecuteTime": {
     "end_time": "2022-06-27T02:05:08.615917Z",
     "start_time": "2022-06-27T02:05:08.315917Z"
    }
   },
   "outputs": [],
   "source": [
    "propgraph('educ_category',\n",
    "          edcat_order,\n",
    "         'Education Category of Respondent')"
   ]
  },
  {
   "cell_type": "markdown",
   "id": "57ecb2cc",
   "metadata": {},
   "source": [
    "#### `income`"
   ]
  },
  {
   "cell_type": "code",
   "execution_count": null,
   "id": "0c5afbfa",
   "metadata": {
    "ExecuteTime": {
     "end_time": "2022-06-27T02:05:09.965065Z",
     "start_time": "2022-06-27T02:05:08.617917Z"
    }
   },
   "outputs": [],
   "source": [
    "distgraph('income',\n",
    "          df.income.unique(),\n",
    "          'Income of Respondent')"
   ]
  },
  {
   "cell_type": "code",
   "execution_count": null,
   "id": "57915724",
   "metadata": {
    "ExecuteTime": {
     "end_time": "2022-06-27T02:05:11.286389Z",
     "start_time": "2022-06-27T02:05:09.968060Z"
    },
    "scrolled": false
   },
   "outputs": [],
   "source": [
    "propgraph('income',\n",
    "          df.income.unique(),\n",
    "         'Income of Respondent')"
   ]
  },
  {
   "cell_type": "code",
   "execution_count": null,
   "id": "d6fa53dd",
   "metadata": {
    "ExecuteTime": {
     "end_time": "2022-06-27T02:05:11.318388Z",
     "start_time": "2022-06-27T02:05:11.288389Z"
    }
   },
   "outputs": [],
   "source": [
    "# Uninteresting. Drop.\n",
    "df.drop('income',\n",
    "       axis = 1,\n",
    "       inplace=True)"
   ]
  },
  {
   "cell_type": "markdown",
   "id": "8f363633",
   "metadata": {},
   "source": [
    "#### `income_category`"
   ]
  },
  {
   "cell_type": "code",
   "execution_count": null,
   "id": "d73ae305",
   "metadata": {
    "ExecuteTime": {
     "end_time": "2022-06-27T02:05:11.574391Z",
     "start_time": "2022-06-27T02:05:11.320388Z"
    }
   },
   "outputs": [],
   "source": [
    "distgraph('income_category',\n",
    "          df.income_category.unique(),\n",
    "         'Income of Respondent')"
   ]
  },
  {
   "cell_type": "code",
   "execution_count": null,
   "id": "74380b7a",
   "metadata": {
    "ExecuteTime": {
     "end_time": "2022-06-27T02:05:11.846389Z",
     "start_time": "2022-06-27T02:05:11.577389Z"
    }
   },
   "outputs": [],
   "source": [
    "propgraph('income_category',\n",
    "          df.income_category.unique(),\n",
    "         'Income of Respondent')"
   ]
  },
  {
   "cell_type": "markdown",
   "id": "160bf67e",
   "metadata": {},
   "source": [
    "#### `race`"
   ]
  },
  {
   "cell_type": "code",
   "execution_count": null,
   "id": "4d393144",
   "metadata": {
    "ExecuteTime": {
     "end_time": "2022-06-27T02:05:12.085317Z",
     "start_time": "2022-06-27T02:05:11.848389Z"
    }
   },
   "outputs": [],
   "source": [
    "distgraph('race',\n",
    "         df.race.unique(),\n",
    "         '')"
   ]
  },
  {
   "cell_type": "code",
   "execution_count": null,
   "id": "6707a9a4",
   "metadata": {
    "ExecuteTime": {
     "end_time": "2022-06-27T02:05:12.117312Z",
     "start_time": "2022-06-27T02:05:12.087340Z"
    }
   },
   "outputs": [],
   "source": [
    "# Uninteresting. Drop.\n",
    "df.drop('race',\n",
    "       axis = 1,\n",
    "       inplace=True)"
   ]
  },
  {
   "cell_type": "markdown",
   "id": "4f2e5262",
   "metadata": {},
   "source": [
    "#### `ideology`"
   ]
  },
  {
   "cell_type": "code",
   "execution_count": null,
   "id": "6d48ef51",
   "metadata": {
    "ExecuteTime": {
     "end_time": "2022-06-27T02:05:12.369564Z",
     "start_time": "2022-06-27T02:05:12.119313Z"
    }
   },
   "outputs": [],
   "source": [
    "distgraph('ideology',\n",
    "         df.ideology.unique()[:-1],\n",
    "         '')"
   ]
  },
  {
   "cell_type": "code",
   "execution_count": null,
   "id": "fe894f0a",
   "metadata": {
    "ExecuteTime": {
     "end_time": "2022-06-27T02:05:12.689566Z",
     "start_time": "2022-06-27T02:05:12.371560Z"
    }
   },
   "outputs": [],
   "source": [
    "\n",
    "propgraph('ideology',\n",
    "         df.ideology.unique()[:-1],\n",
    "         '')"
   ]
  },
  {
   "cell_type": "code",
   "execution_count": null,
   "id": "d9d68513",
   "metadata": {
    "ExecuteTime": {
     "end_time": "2022-06-27T02:05:12.721565Z",
     "start_time": "2022-06-27T02:05:12.692561Z"
    }
   },
   "outputs": [],
   "source": [
    "# Uninteresting. Drop.\n",
    "df.drop('ideology',\n",
    "       axis = 1,\n",
    "       inplace=True)"
   ]
  },
  {
   "cell_type": "markdown",
   "id": "11f86db7",
   "metadata": {},
   "source": [
    "#### `party`"
   ]
  },
  {
   "cell_type": "code",
   "execution_count": null,
   "id": "23b58229",
   "metadata": {
    "ExecuteTime": {
     "end_time": "2022-06-27T02:05:13.069993Z",
     "start_time": "2022-06-27T02:05:12.723559Z"
    }
   },
   "outputs": [],
   "source": [
    "distgraph('party',\n",
    "         df.party.unique()[:-1],\n",
    "         '')"
   ]
  },
  {
   "cell_type": "code",
   "execution_count": null,
   "id": "c02bcc6f",
   "metadata": {
    "ExecuteTime": {
     "end_time": "2022-06-27T02:05:13.400383Z",
     "start_time": "2022-06-27T02:05:13.071993Z"
    },
    "scrolled": false
   },
   "outputs": [],
   "source": [
    "propgraph('party',df.party.unique()[:-1], 'Political Party')"
   ]
  },
  {
   "cell_type": "markdown",
   "id": "9332bb55",
   "metadata": {},
   "source": [
    "#### `party_w_leaners`"
   ]
  },
  {
   "cell_type": "code",
   "execution_count": null,
   "id": "ee1a6238",
   "metadata": {
    "ExecuteTime": {
     "end_time": "2022-06-27T02:05:13.669629Z",
     "start_time": "2022-06-27T02:05:13.402383Z"
    },
    "scrolled": false
   },
   "outputs": [],
   "source": [
    "distgraph('party_w_leaners',\n",
    "         df.party_w_leaners.unique()[:-1],\n",
    "         '')"
   ]
  },
  {
   "cell_type": "code",
   "execution_count": null,
   "id": "28cdefd3",
   "metadata": {
    "ExecuteTime": {
     "end_time": "2022-06-27T02:05:13.701645Z",
     "start_time": "2022-06-27T02:05:13.671561Z"
    }
   },
   "outputs": [],
   "source": [
    "# Uninteresting. Drop.\n",
    "df.drop('party_w_leaners',\n",
    "       axis = 1,\n",
    "       inplace=True)"
   ]
  },
  {
   "cell_type": "markdown",
   "id": "29720a3c",
   "metadata": {},
   "source": [
    "#### `party_x_ideo`"
   ]
  },
  {
   "cell_type": "code",
   "execution_count": null,
   "id": "52ad199e",
   "metadata": {
    "ExecuteTime": {
     "end_time": "2022-06-27T02:05:13.987565Z",
     "start_time": "2022-06-27T02:05:13.703559Z"
    }
   },
   "outputs": [],
   "source": [
    "distgraph('party_x_ideo',\n",
    "         df.party_x_ideo.unique()[:-1],\n",
    "         '')"
   ]
  },
  {
   "cell_type": "code",
   "execution_count": null,
   "id": "217a8b5a",
   "metadata": {
    "ExecuteTime": {
     "end_time": "2022-06-27T02:05:14.332945Z",
     "start_time": "2022-06-27T02:05:13.989560Z"
    }
   },
   "outputs": [],
   "source": [
    "propgraph('party_x_ideo', df.party_x_ideo.unique()[:-1],'Party Ideology')"
   ]
  },
  {
   "cell_type": "markdown",
   "id": "853f748a",
   "metadata": {},
   "source": [
    "#### `registered_voter`"
   ]
  },
  {
   "cell_type": "code",
   "execution_count": null,
   "id": "1d0157c1",
   "metadata": {
    "ExecuteTime": {
     "end_time": "2022-06-27T02:05:14.604979Z",
     "start_time": "2022-06-27T02:05:14.334937Z"
    }
   },
   "outputs": [],
   "source": [
    "distgraph('registered_voter',\n",
    "         df[~df.registered_voter.isnull()].registered_voter.unique(),\n",
    "         '')"
   ]
  },
  {
   "cell_type": "code",
   "execution_count": null,
   "id": "e9c8e577",
   "metadata": {
    "ExecuteTime": {
     "end_time": "2022-06-27T02:05:14.636944Z",
     "start_time": "2022-06-27T02:05:14.606939Z"
    }
   },
   "outputs": [],
   "source": [
    "# Uninteresting. Drop.\n",
    "df.drop('registered_voter',\n",
    "       axis = 1,\n",
    "       inplace=True)"
   ]
  },
  {
   "cell_type": "markdown",
   "id": "67818532",
   "metadata": {},
   "source": [
    "#### `region9`"
   ]
  },
  {
   "cell_type": "code",
   "execution_count": null,
   "id": "5bd692c2",
   "metadata": {
    "ExecuteTime": {
     "end_time": "2022-06-27T02:05:14.924504Z",
     "start_time": "2022-06-27T02:05:14.638937Z"
    }
   },
   "outputs": [],
   "source": [
    "distgraph('region9',\n",
    "         df.region9.unique(),\n",
    "         '')"
   ]
  },
  {
   "cell_type": "code",
   "execution_count": null,
   "id": "9e693287",
   "metadata": {
    "ExecuteTime": {
     "end_time": "2022-06-27T02:05:15.322504Z",
     "start_time": "2022-06-27T02:05:14.926505Z"
    },
    "scrolled": false
   },
   "outputs": [],
   "source": [
    "propgraph('region9', df.region9.unique(), 'Region')"
   ]
  },
  {
   "cell_type": "code",
   "execution_count": null,
   "id": "f06b8475",
   "metadata": {
    "ExecuteTime": {
     "end_time": "2022-06-27T02:05:15.354510Z",
     "start_time": "2022-06-27T02:05:15.324504Z"
    }
   },
   "outputs": [],
   "source": [
    "# Uninteresting. Drop.\n",
    "df.drop('region9',\n",
    "       axis = 1,\n",
    "       inplace=True)"
   ]
  },
  {
   "cell_type": "markdown",
   "id": "09ad9909",
   "metadata": {},
   "source": [
    "#### `region4`"
   ]
  },
  {
   "cell_type": "code",
   "execution_count": null,
   "id": "d734b05e",
   "metadata": {
    "ExecuteTime": {
     "end_time": "2022-06-27T02:05:15.578504Z",
     "start_time": "2022-06-27T02:05:15.356504Z"
    },
    "scrolled": false
   },
   "outputs": [],
   "source": [
    "distgraph('region4',\n",
    "         df.region4.unique(),\n",
    "         '')"
   ]
  },
  {
   "cell_type": "code",
   "execution_count": null,
   "id": "660cd060",
   "metadata": {
    "ExecuteTime": {
     "end_time": "2022-06-27T02:05:15.864505Z",
     "start_time": "2022-06-27T02:05:15.580504Z"
    },
    "scrolled": false
   },
   "outputs": [],
   "source": [
    "propgraph('region4', df.region4.unique(), 'Region')"
   ]
  },
  {
   "cell_type": "markdown",
   "id": "01dcbe2d",
   "metadata": {},
   "source": [
    "### Recommendations for features to use in modeling\n",
    "\n",
    " * It appears that the group of people that feel most strongly about whether or not global warming is happening appears to be politically affiliated. We see the strongest change between majority 'yes' or majority 'no' to weather global warming is happening is seen with people affiliated with the Democratic and Republican party respectively as well as differing ideologies. \n",
    "\n",
    "* Education and income have been grouped in categories that are more normally distributed and will be useful for use in modeling.\n",
    "\n",
    "\n",
    "* There is some variation in belief of global warming depending on the generation they were born in. It would be good to use this feature within our model.\n",
    "\n",
    "\n",
    "* Region4 is an aggregated feature based on region9 locations. The more normalized region4 would be a good feature to use in the model as well"
   ]
  },
  {
   "cell_type": "markdown",
   "id": "f8949fe5",
   "metadata": {},
   "source": [
    "### Most interesting features:\n",
    "\n",
    "\n",
    "- generation\n",
    "- educ_category\n",
    "- income_category\n",
    "- party\n",
    "- party_x_ideo\n",
    "- region4"
   ]
  },
  {
   "cell_type": "markdown",
   "id": "d6399497",
   "metadata": {},
   "source": [
    "# Saba"
   ]
  },
  {
   "cell_type": "markdown",
   "id": "67a99e8d",
   "metadata": {},
   "source": [
    "### Feature Investigation"
   ]
  },
  {
   "cell_type": "markdown",
   "id": "2fa30b74",
   "metadata": {},
   "source": [
    "#### `Religion`"
   ]
  },
  {
   "cell_type": "code",
   "execution_count": null,
   "id": "bf0242fc",
   "metadata": {
    "ExecuteTime": {
     "end_time": "2022-06-27T02:05:16.359326Z",
     "start_time": "2022-06-27T02:05:15.866505Z"
    },
    "scrolled": false
   },
   "outputs": [],
   "source": [
    "distgraph('religion',\n",
    "         df[~df.religion.isnull()].religion.unique(),\n",
    "         '')"
   ]
  },
  {
   "cell_type": "code",
   "execution_count": null,
   "id": "3e0a6430",
   "metadata": {
    "ExecuteTime": {
     "end_time": "2022-06-27T02:05:17.050373Z",
     "start_time": "2022-06-27T02:05:16.361323Z"
    }
   },
   "outputs": [],
   "source": [
    "propgraph('religion',\n",
    "         df[~df.religion.isnull()].religion.unique(),\n",
    "         '')"
   ]
  },
  {
   "cell_type": "markdown",
   "id": "db9d12d0",
   "metadata": {},
   "source": [
    "\n",
    "- **This graph represents the believers in climate change across religions.** \n",
    "- **The numbers vary due to different population of respective religion people** \n",
    "- **As expected for American society Catholic and Protestant have highest number of counts followed by Atheists and Baptists**"
   ]
  },
  {
   "cell_type": "markdown",
   "id": "951fe55c",
   "metadata": {},
   "source": [
    "#### `evangelical`"
   ]
  },
  {
   "cell_type": "code",
   "execution_count": null,
   "id": "6b34e652",
   "metadata": {
    "ExecuteTime": {
     "end_time": "2022-06-27T02:05:17.306378Z",
     "start_time": "2022-06-27T02:05:17.052373Z"
    }
   },
   "outputs": [],
   "source": [
    "distgraph('evangelical',\n",
    "         df[~df.evangelical.isnull()].evangelical.unique(),\n",
    "         '')"
   ]
  },
  {
   "cell_type": "code",
   "execution_count": null,
   "id": "6d2f7cb0",
   "metadata": {
    "ExecuteTime": {
     "end_time": "2022-06-27T02:05:17.576424Z",
     "start_time": "2022-06-27T02:05:17.308373Z"
    }
   },
   "outputs": [],
   "source": [
    "propgraph('evangelical',\n",
    "         df[~df.evangelical.isnull()].evangelical.unique(),\n",
    "         '')"
   ]
  },
  {
   "cell_type": "markdown",
   "id": "7c3ac56e",
   "metadata": {},
   "source": [
    "**People who said Yes to being evangelical or refused to answer whether they are evangelical have a higher proportion of people not accepting climate change**"
   ]
  },
  {
   "cell_type": "code",
   "execution_count": null,
   "id": "efefa61b",
   "metadata": {
    "ExecuteTime": {
     "end_time": "2022-06-27T02:05:17.608424Z",
     "start_time": "2022-06-27T02:05:17.580420Z"
    }
   },
   "outputs": [],
   "source": [
    "# boring drop it\n",
    "df.drop('evangelical', axis=1, inplace=True)"
   ]
  },
  {
   "cell_type": "markdown",
   "id": "46a19cb3",
   "metadata": {},
   "source": [
    "#### `service_attendance`"
   ]
  },
  {
   "cell_type": "code",
   "execution_count": null,
   "id": "bffde83d",
   "metadata": {
    "ExecuteTime": {
     "end_time": "2022-06-27T02:05:17.878420Z",
     "start_time": "2022-06-27T02:05:17.610420Z"
    }
   },
   "outputs": [],
   "source": [
    "distgraph('service_attendance',\n",
    "         df[~df.service_attendance.isnull()].service_attendance.unique(),\n",
    "         '')"
   ]
  },
  {
   "cell_type": "code",
   "execution_count": null,
   "id": "74d5fd0e",
   "metadata": {
    "ExecuteTime": {
     "end_time": "2022-06-27T02:05:18.246424Z",
     "start_time": "2022-06-27T02:05:17.880420Z"
    }
   },
   "outputs": [],
   "source": [
    "propgraph('service_attendance',\n",
    "         df[~df.service_attendance.isnull()].service_attendance.unique(),\n",
    "         '')"
   ]
  },
  {
   "cell_type": "markdown",
   "id": "e3996d47",
   "metadata": {},
   "source": [
    "**People who go for service attendance for more than once a week and once a week have a higher proportion of people refusing to believe in climate change compared to all people in that particular label of service attendance**"
   ]
  },
  {
   "cell_type": "code",
   "execution_count": null,
   "id": "a6b67ac2",
   "metadata": {
    "ExecuteTime": {
     "end_time": "2022-06-27T02:05:18.278420Z",
     "start_time": "2022-06-27T02:05:18.248420Z"
    }
   },
   "outputs": [],
   "source": [
    "#mapping values to the ordinal variable representing religiosity\n",
    "service_attendance_di = {'Never': 1,\n",
    "                   'Once a week': 5,\n",
    "                   'Once a year or less': 2,\n",
    "                   'A few times a year': 3,\n",
    "                   'More than once a week':6,\n",
    "                   'Once or twice a month':4,\n",
    "                   np.nan:-1,\n",
    "                        }\n",
    "df.service_attendance= df['service_attendance'].map(lambda x: service_attendance_di[x])\n"
   ]
  },
  {
   "cell_type": "markdown",
   "id": "96297ba2",
   "metadata": {},
   "source": [
    "#### `marit_status`"
   ]
  },
  {
   "cell_type": "code",
   "execution_count": null,
   "id": "361ad24b",
   "metadata": {
    "ExecuteTime": {
     "end_time": "2022-06-27T02:05:18.550420Z",
     "start_time": "2022-06-27T02:05:18.280419Z"
    }
   },
   "outputs": [],
   "source": [
    "distgraph('marit_status',\n",
    "         df[~df.marit_status.isnull()].marit_status.unique(),\n",
    "         '')"
   ]
  },
  {
   "cell_type": "code",
   "execution_count": null,
   "id": "21f61720",
   "metadata": {
    "ExecuteTime": {
     "end_time": "2022-06-27T02:05:18.884420Z",
     "start_time": "2022-06-27T02:05:18.552420Z"
    }
   },
   "outputs": [],
   "source": [
    "propgraph('marit_status',\n",
    "         df[~df.marit_status.isnull()].marit_status.unique(),\n",
    "         '')"
   ]
  },
  {
   "cell_type": "markdown",
   "id": "5218b74b",
   "metadata": {},
   "source": [
    "**This graph represents the distribution of`happening` across various marital status.**"
   ]
  },
  {
   "cell_type": "markdown",
   "id": "2f27e244",
   "metadata": {},
   "source": [
    "#### `employment`"
   ]
  },
  {
   "cell_type": "code",
   "execution_count": null,
   "id": "19c23083",
   "metadata": {
    "ExecuteTime": {
     "end_time": "2022-06-27T02:05:19.199689Z",
     "start_time": "2022-06-27T02:05:18.886420Z"
    }
   },
   "outputs": [],
   "source": [
    "distgraph('employment',\n",
    "         df[~df.employment.isnull()].employment.unique(),\n",
    "         '')"
   ]
  },
  {
   "cell_type": "code",
   "execution_count": null,
   "id": "4e5b798b",
   "metadata": {
    "ExecuteTime": {
     "end_time": "2022-06-27T02:05:19.675828Z",
     "start_time": "2022-06-27T02:05:19.201862Z"
    }
   },
   "outputs": [],
   "source": [
    "propgraph('employment',\n",
    "         df[~df.employment.isnull()].employment.unique(),\n",
    "         '')"
   ]
  },
  {
   "cell_type": "markdown",
   "id": "57df2cdf",
   "metadata": {},
   "source": [
    "**This graph represents the distribution of`happening` across various employments.Seems like Retired people have a higher proportion of people not accepting climate change**"
   ]
  },
  {
   "cell_type": "markdown",
   "id": "e23cbfb8",
   "metadata": {},
   "source": [
    "#### `house_head`"
   ]
  },
  {
   "cell_type": "code",
   "execution_count": null,
   "id": "c1c4d4e3",
   "metadata": {
    "ExecuteTime": {
     "end_time": "2022-06-27T02:05:20.004697Z",
     "start_time": "2022-06-27T02:05:19.678829Z"
    }
   },
   "outputs": [],
   "source": [
    "distgraph('house_head',\n",
    "         df[~df.house_head.isnull()].house_head.unique(),\n",
    "         '')"
   ]
  },
  {
   "cell_type": "code",
   "execution_count": null,
   "id": "dc4c1177",
   "metadata": {
    "ExecuteTime": {
     "end_time": "2022-06-27T02:05:20.291006Z",
     "start_time": "2022-06-27T02:05:20.006696Z"
    }
   },
   "outputs": [],
   "source": [
    "propgraph('house_head',\n",
    "         df[~df.house_head.isnull()].house_head.unique(),\n",
    "         '')"
   ]
  },
  {
   "cell_type": "markdown",
   "id": "a6f99b19",
   "metadata": {},
   "source": [
    "**This graph represents the distribution of`happening` vs house heads status. Majority of those surveyed seem to own a household**"
   ]
  },
  {
   "cell_type": "markdown",
   "id": "ff4b64d6",
   "metadata": {},
   "source": [
    "#### `house_size`"
   ]
  },
  {
   "cell_type": "code",
   "execution_count": null,
   "id": "084780f7",
   "metadata": {
    "ExecuteTime": {
     "end_time": "2022-06-27T02:05:20.642270Z",
     "start_time": "2022-06-27T02:05:20.292936Z"
    }
   },
   "outputs": [],
   "source": [
    "distgraph('house_size',\n",
    "         df[~df.house_size.isnull()].house_size.unique(),\n",
    "         '')"
   ]
  },
  {
   "cell_type": "code",
   "execution_count": null,
   "id": "470f1f27",
   "metadata": {
    "ExecuteTime": {
     "end_time": "2022-06-27T02:05:21.278464Z",
     "start_time": "2022-06-27T02:05:20.644271Z"
    }
   },
   "outputs": [],
   "source": [
    "propgraph('house_size',\n",
    "         df[~df.house_size.isnull()].house_size.unique(),\n",
    "         '')"
   ]
  },
  {
   "cell_type": "markdown",
   "id": "3dec5309",
   "metadata": {},
   "source": [
    "**This graph represents the distribution of`happening` vs house size.** "
   ]
  },
  {
   "cell_type": "markdown",
   "id": "5911c281",
   "metadata": {},
   "source": [
    "#### `children`"
   ]
  },
  {
   "cell_type": "markdown",
   "id": "cd09c2a6",
   "metadata": {},
   "source": [
    "Before diving into the specifics of the children in each house, create a new feature called `children` that sums the amount of children ages--also known as someone under 18."
   ]
  },
  {
   "cell_type": "code",
   "execution_count": null,
   "id": "468f6f63",
   "metadata": {
    "ExecuteTime": {
     "end_time": "2022-06-27T02:05:21.293464Z",
     "start_time": "2022-06-27T02:05:21.280464Z"
    }
   },
   "outputs": [],
   "source": [
    "df['children'] =df['house_ages0to1']+df['house_ages2to5']+df['house_ages6to12']+df['house_ages13to17']"
   ]
  },
  {
   "cell_type": "code",
   "execution_count": null,
   "id": "1d37f357",
   "metadata": {
    "ExecuteTime": {
     "end_time": "2022-06-27T02:05:21.580366Z",
     "start_time": "2022-06-27T02:05:21.295467Z"
    },
    "scrolled": true
   },
   "outputs": [],
   "source": [
    "distgraph('children',\n",
    "         df[~df.children.isnull()].children.unique(),\n",
    "         '')"
   ]
  },
  {
   "cell_type": "code",
   "execution_count": null,
   "id": "94c7389c",
   "metadata": {
    "ExecuteTime": {
     "end_time": "2022-06-27T02:05:21.990915Z",
     "start_time": "2022-06-27T02:05:21.582360Z"
    }
   },
   "outputs": [],
   "source": [
    "propgraph('children',\n",
    "         df[~df.children.isnull()].children.unique(),\n",
    "         '')"
   ]
  },
  {
   "cell_type": "markdown",
   "id": "15382a91",
   "metadata": {},
   "source": [
    "- **Seems like having more children reduces the climate awareness or that people with more climate awareness are having less children**\n",
    "- **I was expecting a reverse relationship too that people having children would want to leave a better world for their children so would be more aware, I don't know the exact relationship**"
   ]
  },
  {
   "cell_type": "markdown",
   "id": "0274b7a5",
   "metadata": {},
   "source": [
    "#### `house_ages0to1`"
   ]
  },
  {
   "cell_type": "code",
   "execution_count": null,
   "id": "af7969f7",
   "metadata": {
    "ExecuteTime": {
     "end_time": "2022-06-27T02:05:22.246911Z",
     "start_time": "2022-06-27T02:05:21.992910Z"
    }
   },
   "outputs": [],
   "source": [
    "distgraph('house_ages0to1',\n",
    "          df.house_ages0to1.unique(),\n",
    "          'Households of respondents that include persons aged:\\n'+\n",
    "          '0-to-1 yrs')"
   ]
  },
  {
   "cell_type": "markdown",
   "id": "a7e8598a",
   "metadata": {},
   "source": [
    "**Observation**\n",
    "  *  96% of households did not have a 0-to-1 year old. This is too high of a concentration. Drop this column."
   ]
  },
  {
   "cell_type": "code",
   "execution_count": null,
   "id": "c746a0b2",
   "metadata": {
    "ExecuteTime": {
     "end_time": "2022-06-27T02:05:22.277916Z",
     "start_time": "2022-06-27T02:05:22.248911Z"
    }
   },
   "outputs": [],
   "source": [
    "# drop it\n",
    "df.drop('house_ages0to1', axis = 1, inplace=True)"
   ]
  },
  {
   "cell_type": "markdown",
   "id": "6afa517f",
   "metadata": {},
   "source": [
    "#### `house_ages2to5`"
   ]
  },
  {
   "cell_type": "code",
   "execution_count": null,
   "id": "cff8fc52",
   "metadata": {
    "ExecuteTime": {
     "end_time": "2022-06-27T02:05:22.515258Z",
     "start_time": "2022-06-27T02:05:22.279911Z"
    }
   },
   "outputs": [],
   "source": [
    "distgraph('house_ages2to5',\n",
    "          df.house_ages2to5.unique(),\n",
    "          'Households of respondents that include persons aged:\\n'+\n",
    "          '2-to-5 yrs')"
   ]
  },
  {
   "cell_type": "markdown",
   "id": "a9d87ee5",
   "metadata": {},
   "source": [
    "**Observation**\n",
    "  *  91% of households did not have a 2-to-5 year old. This is too high of a concentration. Drop this column."
   ]
  },
  {
   "cell_type": "code",
   "execution_count": null,
   "id": "b36b3b0e",
   "metadata": {
    "ExecuteTime": {
     "end_time": "2022-06-27T02:05:22.545436Z",
     "start_time": "2022-06-27T02:05:22.518429Z"
    }
   },
   "outputs": [],
   "source": [
    "# drop it\n",
    "df.drop('house_ages2to5', axis = 1, inplace=True)"
   ]
  },
  {
   "cell_type": "markdown",
   "id": "12e88989",
   "metadata": {},
   "source": [
    "#### `house_ages6to12`"
   ]
  },
  {
   "cell_type": "code",
   "execution_count": null,
   "id": "fbd2bc24",
   "metadata": {
    "ExecuteTime": {
     "end_time": "2022-06-27T02:05:22.831040Z",
     "start_time": "2022-06-27T02:05:22.547431Z"
    }
   },
   "outputs": [],
   "source": [
    "distgraph('house_ages6to12',\n",
    "          df.house_ages6to12.unique(),\n",
    "          'Households of respondents that include persons aged:\\n'+\n",
    "          '6-to-12 yrs')"
   ]
  },
  {
   "cell_type": "code",
   "execution_count": null,
   "id": "c34920d6",
   "metadata": {
    "ExecuteTime": {
     "end_time": "2022-06-27T02:05:23.273933Z",
     "start_time": "2022-06-27T02:05:22.834036Z"
    }
   },
   "outputs": [],
   "source": [
    "propgraph('house_ages6to12',\n",
    "          df.house_ages6to12.unique(),\n",
    "         'Households of respondents that include persons aged:\\n'+\n",
    "          '6-to-12 yrs')"
   ]
  },
  {
   "cell_type": "markdown",
   "id": "cdc9af6d",
   "metadata": {},
   "source": [
    "**Observation**\n",
    "  *  The amount of `Yes` does not wildly change between families with 0, 1, and 2 6-to-12 year olds. These comprised ~98% of all respondents. Drop this column.\n"
   ]
  },
  {
   "cell_type": "code",
   "execution_count": null,
   "id": "771bc1f0",
   "metadata": {
    "ExecuteTime": {
     "end_time": "2022-06-27T02:05:23.305929Z",
     "start_time": "2022-06-27T02:05:23.275928Z"
    }
   },
   "outputs": [],
   "source": [
    "# drop it\n",
    "df.drop('house_ages6to12', axis = 1, inplace=True)"
   ]
  },
  {
   "cell_type": "markdown",
   "id": "817068aa",
   "metadata": {},
   "source": [
    "#### `house_ages13to17`"
   ]
  },
  {
   "cell_type": "code",
   "execution_count": null,
   "id": "ac0b0c82",
   "metadata": {
    "ExecuteTime": {
     "end_time": "2022-06-27T02:05:23.559235Z",
     "start_time": "2022-06-27T02:05:23.307928Z"
    },
    "scrolled": false
   },
   "outputs": [],
   "source": [
    "distgraph('house_ages13to17',\n",
    "          df.house_ages13to17.unique(),\n",
    "          'Households of respondents that include persons aged:\\n'+\n",
    "          '13-to-17 yrs')"
   ]
  },
  {
   "cell_type": "code",
   "execution_count": null,
   "id": "c812a750",
   "metadata": {
    "ExecuteTime": {
     "end_time": "2022-06-27T02:05:23.859471Z",
     "start_time": "2022-06-27T02:05:23.561234Z"
    }
   },
   "outputs": [],
   "source": [
    "propgraph('house_ages13to17',\n",
    "          df.house_ages13to17.unique(),\n",
    "         'Households of respondents that include persons aged:\\n'+\n",
    "          '13-to-17 yrs')"
   ]
  },
  {
   "cell_type": "markdown",
   "id": "222cc667",
   "metadata": {},
   "source": [
    "**Observation**\n",
    "  *  The amount of `Yes` does not wildly change between families with 0, 1, and 2 13-to-17 year olds. These comprised ~99% of all respondents. Drop this column."
   ]
  },
  {
   "cell_type": "code",
   "execution_count": null,
   "id": "2504a477",
   "metadata": {
    "ExecuteTime": {
     "end_time": "2022-06-27T02:05:23.875466Z",
     "start_time": "2022-06-27T02:05:23.860466Z"
    }
   },
   "outputs": [],
   "source": [
    "# drop it\n",
    "df.drop('house_ages13to17', axis = 1, inplace=True)"
   ]
  },
  {
   "cell_type": "markdown",
   "id": "66ba1d89",
   "metadata": {},
   "source": [
    "#### `house_ages18plus`"
   ]
  },
  {
   "cell_type": "code",
   "execution_count": null,
   "id": "4daa0368",
   "metadata": {
    "ExecuteTime": {
     "end_time": "2022-06-27T02:05:24.193465Z",
     "start_time": "2022-06-27T02:05:23.878466Z"
    }
   },
   "outputs": [],
   "source": [
    "grphsort = q = df.house_ages18plus.unique()\n",
    "grphsort.sort()\n",
    "\n",
    "\n",
    "distgraph('house_ages18plus',\n",
    "          grphsort,\n",
    "          'Households of respondents that include persons aged:\\n'+\n",
    "          '18 yrs and over')\n",
    "ax = plt.gca()\n",
    "ax.set_yticks(range(0,13));"
   ]
  },
  {
   "cell_type": "code",
   "execution_count": null,
   "id": "ad243680",
   "metadata": {
    "ExecuteTime": {
     "end_time": "2022-06-27T02:05:24.607834Z",
     "start_time": "2022-06-27T02:05:24.195466Z"
    }
   },
   "outputs": [],
   "source": [
    "propgraph('house_ages18plus',\n",
    "          grphsort,\n",
    "         'Households of respondents that include persons aged:\\n'+\n",
    "          '18 yrs and over')"
   ]
  },
  {
   "cell_type": "markdown",
   "id": "6e22f959",
   "metadata": {},
   "source": [
    "#### `house_type`"
   ]
  },
  {
   "cell_type": "code",
   "execution_count": null,
   "id": "932dc524",
   "metadata": {
    "ExecuteTime": {
     "end_time": "2022-06-27T02:05:24.892547Z",
     "start_time": "2022-06-27T02:05:24.610834Z"
    }
   },
   "outputs": [],
   "source": [
    "distgraph('house_type',\n",
    "         df.house_type.unique(),\n",
    "        '')"
   ]
  },
  {
   "cell_type": "code",
   "execution_count": null,
   "id": "b173adea",
   "metadata": {
    "ExecuteTime": {
     "end_time": "2022-06-27T02:05:25.254566Z",
     "start_time": "2022-06-27T02:05:24.894547Z"
    }
   },
   "outputs": [],
   "source": [
    "propgraph('house_type',\n",
    "         df.house_type.unique(),\n",
    "        '')"
   ]
  },
  {
   "cell_type": "markdown",
   "id": "2407d18d",
   "metadata": {},
   "source": [
    "\n",
    "- **One family house are pre-dominant.** \n",
    "- **People with mobile homes seem to have a higher proportion of non-believers of climate change** \n"
   ]
  },
  {
   "cell_type": "markdown",
   "id": "9cb7fa1b",
   "metadata": {},
   "source": [
    "#### `house_own`"
   ]
  },
  {
   "cell_type": "code",
   "execution_count": null,
   "id": "484ec0a9",
   "metadata": {
    "ExecuteTime": {
     "end_time": "2022-06-27T02:05:25.508566Z",
     "start_time": "2022-06-27T02:05:25.256568Z"
    }
   },
   "outputs": [],
   "source": [
    "distgraph('house_own',\n",
    "         df.house_own.unique(),\n",
    "        '')"
   ]
  },
  {
   "cell_type": "code",
   "execution_count": null,
   "id": "d27efeb5",
   "metadata": {
    "ExecuteTime": {
     "end_time": "2022-06-27T02:05:25.796008Z",
     "start_time": "2022-06-27T02:05:25.510566Z"
    }
   },
   "outputs": [],
   "source": [
    "propgraph('house_own',\n",
    "         df.house_own.unique(),\n",
    "        '')"
   ]
  },
  {
   "cell_type": "markdown",
   "id": "a6a0da14",
   "metadata": {},
   "source": [
    "\n",
    "- **houses owned by an individual or a family member are pre-dominant.** \n"
   ]
  },
  {
   "cell_type": "markdown",
   "id": "e4e52d88",
   "metadata": {},
   "source": [
    "### Income Investigation"
   ]
  },
  {
   "cell_type": "markdown",
   "id": "37070c19",
   "metadata": {},
   "source": [
    "In addition to the data exploration of survey answers to the target variable `happening`, a brief investigation was done to the income of the respondents. If trying to understand which demographics to apply the findings to, this can give some insight into the types of communities that may be a closer match to our survey population (since we cannot use US population at large--see wave weight, etc.)"
   ]
  },
  {
   "cell_type": "code",
   "execution_count": null,
   "id": "50b264e3",
   "metadata": {
    "ExecuteTime": {
     "end_time": "2022-06-27T02:05:27.275023Z",
     "start_time": "2022-06-27T02:05:25.797993Z"
    }
   },
   "outputs": [],
   "source": [
    "ax = df.groupby(['religion'])['income_category'].value_counts(normalize=True).unstack().plot(kind='barh', figsize=(50,50),\n",
    "color=['slategrey', 'deepskyblue', 'palegreen'])\n",
    "ax.set_ylabel('Religion',fontsize=60)\n",
    "ax.set_xlabel('Count',fontsize=60)\n",
    "ax.legend(loc= (1.01,0.7),fontsize =40)\n",
    "ax.set_title('Religion vs Income Category',fontsize =60)\n",
    "plt.setp(ax.get_xticklabels(), fontsize=40)\n",
    "plt.setp(ax.get_yticklabels(), fontsize=40);\n"
   ]
  },
  {
   "cell_type": "markdown",
   "id": "43fc0dcb",
   "metadata": {},
   "source": [
    "- **High income category is prominent in Jewish, Atheist and Agnostic**\n",
    "- **Middle income category is prominent in Protestant, Catholic, Eastern Orthodox**\n",
    "- **Low Income category is predominant in all other religions**\n"
   ]
  },
  {
   "cell_type": "code",
   "execution_count": null,
   "id": "e68745ab",
   "metadata": {
    "ExecuteTime": {
     "end_time": "2022-06-27T02:05:28.348839Z",
     "start_time": "2022-06-27T02:05:27.277742Z"
    }
   },
   "outputs": [],
   "source": [
    "ax = df.groupby(['service_attendance'])['income_category'].value_counts(normalize=True).unstack().plot(kind='barh', figsize=(50,50),\n",
    "                color=['slategrey', 'deepskyblue', 'palegreen'])\n",
    "ax.set_ylabel('Service Attendance',fontsize=60)\n",
    "ax.set_xlabel('Count',fontsize=60)\n",
    "ax.legend(loc= (1.01,0.7),fontsize =40)\n",
    "ax.set_title('Incomes across Religiosity',fontsize=60)\n",
    "plt.setp(ax.get_xticklabels(), fontsize=40)\n",
    "ax.set_yticklabels(['Refused','Never','Once a year or less','A few times a year','Once or twice a month','Once a week','More than once a week'],fontsize=40);\n",
    "#-1. Refused\n",
    "# 1. Never\n",
    "# 2. Once a year or less\n",
    "# 3. A few times a year\n",
    "# 4. Once or twice a month\n",
    "# 5. Once a week\n",
    "# 6. More than once a week"
   ]
  },
  {
   "cell_type": "markdown",
   "id": "bcdb9492",
   "metadata": {},
   "source": [
    "\n",
    "- **To my surprise people who never go for service attendance(marked 1) have the most people in low income category**\n",
    "- **Low income category is most represented across various groups**\n"
   ]
  },
  {
   "cell_type": "code",
   "execution_count": null,
   "id": "ccff037a",
   "metadata": {
    "ExecuteTime": {
     "end_time": "2022-06-27T02:05:29.367461Z",
     "start_time": "2022-06-27T02:05:28.351733Z"
    }
   },
   "outputs": [],
   "source": [
    "ax = df.groupby(['marit_status'])['income_category'].value_counts(normalize=True).unstack().plot(kind='barh', figsize=(50,50),\n",
    "color=['slategrey', 'deepskyblue', 'palegreen'])\n",
    "ax.set_ylabel('Marital Status',fontsize=60)\n",
    "ax.set_xlabel('Count',fontsize=60)\n",
    "ax.legend(loc= (1.01,0.7),fontsize =40)\n",
    "ax.set_title('Marital Status vs Income Category',fontsize =60)\n",
    "plt.setp(ax.get_xticklabels(), fontsize=40)\n",
    "plt.setp(ax.get_yticklabels(), fontsize=40);"
   ]
  },
  {
   "cell_type": "markdown",
   "id": "6125dbd8",
   "metadata": {},
   "source": [
    "- **Low Income category has most people lying in it except for the Married group where Middle Income is predominant**\n",
    "- **Married people are likely to have more income than the rest**\n"
   ]
  },
  {
   "cell_type": "code",
   "execution_count": null,
   "id": "222851dd",
   "metadata": {
    "ExecuteTime": {
     "end_time": "2022-06-27T02:05:30.696877Z",
     "start_time": "2022-06-27T02:05:29.379461Z"
    }
   },
   "outputs": [],
   "source": [
    "ax = df.groupby(['house_type'])['income_category'].value_counts(normalize=True).unstack().plot(kind='barh', figsize=(50,50),\n",
    "color=['slategrey', 'deepskyblue', 'palegreen'])\n",
    "ax.set_ylabel('House Type',fontsize=60)\n",
    "ax.set_xlabel('Count',fontsize=60)\n",
    "ax.legend(loc= (1.01,0.7),fontsize =40)\n",
    "ax.set_title('House Type vs Income Category',fontsize =60)\n",
    "plt.setp(ax.get_xticklabels(), fontsize=40)\n",
    "plt.setp(ax.get_yticklabels(), fontsize=40);"
   ]
  },
  {
   "cell_type": "markdown",
   "id": "5c04ed18",
   "metadata": {},
   "source": [
    "**- Middle income people are more likely to own a One-Family house**"
   ]
  },
  {
   "cell_type": "code",
   "execution_count": null,
   "id": "326ff9e3",
   "metadata": {
    "ExecuteTime": {
     "end_time": "2022-06-27T02:05:31.141461Z",
     "start_time": "2022-06-27T02:05:30.696877Z"
    }
   },
   "outputs": [],
   "source": [
    "ax= pd.crosstab(index=df['region4'],columns=df['income_category']).plot.bar(figsize=(15,8),color=['slategrey', 'deepskyblue', 'palegreen'])\n",
    "ax.set_xlabel('Region4',fontsize=15)\n",
    "ax.set_ylabel('Income category',fontsize=15)\n",
    "ax.set_title('Region4 vs Income Category',fontsize=20);"
   ]
  },
  {
   "cell_type": "markdown",
   "id": "3025d751",
   "metadata": {},
   "source": [
    "- **Low income category is predominant**\n",
    "- **High income is less represented across regions**"
   ]
  },
  {
   "cell_type": "markdown",
   "id": "06a73d99",
   "metadata": {},
   "source": [
    "# Exports"
   ]
  },
  {
   "cell_type": "code",
   "execution_count": null,
   "id": "20a6564f",
   "metadata": {
    "ExecuteTime": {
     "end_time": "2022-06-27T02:05:31.662900Z",
     "start_time": "2022-06-27T02:05:31.143391Z"
    }
   },
   "outputs": [],
   "source": [
    "df.to_csv('../data/survey_data_before_pre_processing.csv', index=False)"
   ]
  }
 ],
 "metadata": {
  "kernelspec": {
   "display_name": "Python 3 (ipykernel)",
   "language": "python",
   "name": "python3"
  },
  "language_info": {
   "codemirror_mode": {
    "name": "ipython",
    "version": 3
   },
   "file_extension": ".py",
   "mimetype": "text/x-python",
   "name": "python",
   "nbconvert_exporter": "python",
   "pygments_lexer": "ipython3",
   "version": "3.9.7"
  },
  "toc": {
   "base_numbering": 1,
   "nav_menu": {},
   "number_sections": false,
   "sideBar": true,
   "skip_h1_title": false,
   "title_cell": "Table of Contents",
   "title_sidebar": "Contents",
   "toc_cell": false,
   "toc_position": {
    "height": "calc(100% - 180px)",
    "left": "10px",
    "top": "150px",
    "width": "384px"
   },
   "toc_section_display": true,
   "toc_window_display": true
  }
 },
 "nbformat": 4,
 "nbformat_minor": 5
}
