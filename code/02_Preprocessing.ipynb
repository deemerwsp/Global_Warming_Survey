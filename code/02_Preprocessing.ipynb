{
 "cells": [
  {
   "cell_type": "code",
   "execution_count": 1,
   "id": "2ebc26d5",
   "metadata": {
    "ExecuteTime": {
     "end_time": "2022-06-23T23:49:16.027413Z",
     "start_time": "2022-06-23T23:49:13.969413Z"
    }
   },
   "outputs": [],
   "source": [
    "import pandas as pd\n",
    "\n",
    "from sklearn.preprocessing import OrdinalEncoder"
   ]
  },
  {
   "cell_type": "code",
   "execution_count": 2,
   "id": "74539e2a",
   "metadata": {
    "ExecuteTime": {
     "end_time": "2022-06-23T23:49:17.496524Z",
     "start_time": "2022-06-23T23:49:16.950957Z"
    }
   },
   "outputs": [],
   "source": [
    "df = pd.read_csv('../data/survey_data_before_pre_processing.csv')"
   ]
  },
  {
   "cell_type": "markdown",
   "id": "b281ae41",
   "metadata": {},
   "source": [
    "### Remove Refused Persons"
   ]
  },
  {
   "cell_type": "markdown",
   "id": "a038e8b4",
   "metadata": {},
   "source": [
    "General rundown here is to calculate the amount of refusals per person as a percentage of total questions refused.\n",
    "\n",
    "Find some cutoff and drop those people"
   ]
  },
  {
   "cell_type": "markdown",
   "id": "88034444",
   "metadata": {},
   "source": [
    "### Convert all Refused to NaN"
   ]
  },
  {
   "cell_type": "markdown",
   "id": "853ff7fa",
   "metadata": {},
   "source": [
    "We will be imputing these, but need them to be nulls"
   ]
  },
  {
   "cell_type": "markdown",
   "id": "700f8092",
   "metadata": {},
   "source": [
    "### Ordinal Encode"
   ]
  },
  {
   "cell_type": "markdown",
   "id": "77a22cb1",
   "metadata": {},
   "source": [
    "There are a lot these....."
   ]
  },
  {
   "cell_type": "code",
   "execution_count": 3,
   "id": "d7fc0932",
   "metadata": {
    "ExecuteTime": {
     "end_time": "2022-06-23T23:49:23.715837Z",
     "start_time": "2022-06-23T23:49:23.686870Z"
    }
   },
   "outputs": [
    {
     "data": {
      "text/plain": [
       "array(['$50,000 to $99,999', 'Less than $50,000', '$100,000 or more'],\n",
       "      dtype=object)"
      ]
     },
     "execution_count": 3,
     "metadata": {},
     "output_type": "execute_result"
    }
   ],
   "source": [
    "df.income_category.unique()"
   ]
  },
  {
   "cell_type": "code",
   "execution_count": 4,
   "id": "e3c086ab",
   "metadata": {
    "ExecuteTime": {
     "end_time": "2022-06-23T23:49:24.762421Z",
     "start_time": "2022-06-23T23:49:24.711421Z"
    },
    "scrolled": true
   },
   "outputs": [
    {
     "data": {
      "text/plain": [
       "array([[1., 1., 1.],\n",
       "       [2., 0., 0.],\n",
       "       [2., 3., 0.],\n",
       "       ...,\n",
       "       [4., 2., 2.],\n",
       "       [3., 2., 0.],\n",
       "       [4., 1., 0.]])"
      ]
     },
     "execution_count": 4,
     "metadata": {},
     "output_type": "execute_result"
    }
   ],
   "source": [
    "cats = [['Greatest (Before 1928)','Silent (1928 - 1945)',\n",
    "         'Baby Boomers (1946 - 1964)',\n",
    "         'Generation X (1965 - 1980)',\n",
    "         'Millennials (1981 - 1996)',\n",
    "         'iGen\\u200e/Gen Z (1997 - )'],\n",
    "        ['Less than high school',\n",
    "         'High school',\n",
    "         'Some college',\n",
    "         'Bachelor\\'s degree or higher'],\n",
    "        ['Less than $50,000',\n",
    "         '$50,000 to $99,999',\n",
    "         '$100,000 or more']]\n",
    "\n",
    "o_enc = OrdinalEncoder(categories=cats)\n",
    "o_enc.fit(df[['generation', 'educ_category', 'income_category']])\n",
    "X_ord = o_enc.transform(df[['generation', 'educ_category', 'income_category']])\n",
    "X_ord"
   ]
  },
  {
   "cell_type": "code",
   "execution_count": 5,
   "id": "6211d38a",
   "metadata": {
    "ExecuteTime": {
     "end_time": "2022-06-23T23:49:26.313496Z",
     "start_time": "2022-06-23T23:49:26.280495Z"
    },
    "scrolled": true
   },
   "outputs": [
    {
     "data": {
      "text/html": [
       "<div>\n",
       "<style scoped>\n",
       "    .dataframe tbody tr th:only-of-type {\n",
       "        vertical-align: middle;\n",
       "    }\n",
       "\n",
       "    .dataframe tbody tr th {\n",
       "        vertical-align: top;\n",
       "    }\n",
       "\n",
       "    .dataframe thead th {\n",
       "        text-align: right;\n",
       "    }\n",
       "</style>\n",
       "<table border=\"1\" class=\"dataframe\">\n",
       "  <thead>\n",
       "    <tr style=\"text-align: right;\">\n",
       "      <th></th>\n",
       "      <th>generation</th>\n",
       "      <th>educ_category</th>\n",
       "      <th>income_category</th>\n",
       "    </tr>\n",
       "  </thead>\n",
       "  <tbody>\n",
       "    <tr>\n",
       "      <th>0</th>\n",
       "      <td>Silent (1928 - 1945)</td>\n",
       "      <td>High school</td>\n",
       "      <td>$50,000 to $99,999</td>\n",
       "    </tr>\n",
       "    <tr>\n",
       "      <th>1</th>\n",
       "      <td>Baby Boomers (1946 - 1964)</td>\n",
       "      <td>Less than high school</td>\n",
       "      <td>Less than $50,000</td>\n",
       "    </tr>\n",
       "    <tr>\n",
       "      <th>2</th>\n",
       "      <td>Baby Boomers (1946 - 1964)</td>\n",
       "      <td>Bachelor's degree or higher</td>\n",
       "      <td>Less than $50,000</td>\n",
       "    </tr>\n",
       "    <tr>\n",
       "      <th>3</th>\n",
       "      <td>Silent (1928 - 1945)</td>\n",
       "      <td>Bachelor's degree or higher</td>\n",
       "      <td>$100,000 or more</td>\n",
       "    </tr>\n",
       "    <tr>\n",
       "      <th>4</th>\n",
       "      <td>Millennials (1981 - 1996)</td>\n",
       "      <td>Some college</td>\n",
       "      <td>$50,000 to $99,999</td>\n",
       "    </tr>\n",
       "  </tbody>\n",
       "</table>\n",
       "</div>"
      ],
      "text/plain": [
       "                   generation                educ_category     income_category\n",
       "0        Silent (1928 - 1945)                  High school  $50,000 to $99,999\n",
       "1  Baby Boomers (1946 - 1964)        Less than high school   Less than $50,000\n",
       "2  Baby Boomers (1946 - 1964)  Bachelor's degree or higher   Less than $50,000\n",
       "3        Silent (1928 - 1945)  Bachelor's degree or higher    $100,000 or more\n",
       "4   Millennials (1981 - 1996)                 Some college  $50,000 to $99,999"
      ]
     },
     "execution_count": 5,
     "metadata": {},
     "output_type": "execute_result"
    }
   ],
   "source": [
    "df[['generation', 'educ_category', 'income_category']].head()"
   ]
  },
  {
   "cell_type": "code",
   "execution_count": 6,
   "id": "a93b8ea4",
   "metadata": {},
   "outputs": [
    {
     "data": {
      "text/html": [
       "<div>\n",
       "<style scoped>\n",
       "    .dataframe tbody tr th:only-of-type {\n",
       "        vertical-align: middle;\n",
       "    }\n",
       "\n",
       "    .dataframe tbody tr th {\n",
       "        vertical-align: top;\n",
       "    }\n",
       "\n",
       "    .dataframe thead th {\n",
       "        text-align: right;\n",
       "    }\n",
       "</style>\n",
       "<table border=\"1\" class=\"dataframe\">\n",
       "  <thead>\n",
       "    <tr style=\"text-align: right;\">\n",
       "      <th></th>\n",
       "      <th>wave</th>\n",
       "      <th>year</th>\n",
       "      <th>weight_wave</th>\n",
       "      <th>weight_aggregate</th>\n",
       "      <th>happening</th>\n",
       "      <th>cause_other_text</th>\n",
       "      <th>cause_recoded</th>\n",
       "      <th>sci_consensus</th>\n",
       "      <th>worry</th>\n",
       "      <th>harm_personally</th>\n",
       "      <th>...</th>\n",
       "      <th>house_ages13to17</th>\n",
       "      <th>house_ages18plus</th>\n",
       "      <th>house_type</th>\n",
       "      <th>house_own</th>\n",
       "      <th>age_category_35_54</th>\n",
       "      <th>age_category_55_plus</th>\n",
       "      <th>children</th>\n",
       "      <th>generation_ord</th>\n",
       "      <th>educ_category_ord</th>\n",
       "      <th>income_category_ord</th>\n",
       "    </tr>\n",
       "  </thead>\n",
       "  <tbody>\n",
       "    <tr>\n",
       "      <th>0</th>\n",
       "      <td>2008 Nov</td>\n",
       "      <td>2008</td>\n",
       "      <td>0.54</td>\n",
       "      <td>0.294402</td>\n",
       "      <td>Yes</td>\n",
       "      <td>NaN</td>\n",
       "      <td>Caused mostly by human activities</td>\n",
       "      <td>Most scientists think global warming is happening</td>\n",
       "      <td>Somewhat worried</td>\n",
       "      <td>Only a little</td>\n",
       "      <td>...</td>\n",
       "      <td>0</td>\n",
       "      <td>3</td>\n",
       "      <td>One-family house detached from any other house</td>\n",
       "      <td>Owned by you or someone in your household</td>\n",
       "      <td>0</td>\n",
       "      <td>1</td>\n",
       "      <td>0</td>\n",
       "      <td>1.0</td>\n",
       "      <td>1.0</td>\n",
       "      <td>1.0</td>\n",
       "    </tr>\n",
       "    <tr>\n",
       "      <th>1</th>\n",
       "      <td>2008 Nov</td>\n",
       "      <td>2008</td>\n",
       "      <td>0.85</td>\n",
       "      <td>0.463411</td>\n",
       "      <td>Don't know</td>\n",
       "      <td>NaN</td>\n",
       "      <td>Caused mostly by human activities</td>\n",
       "      <td>Don't know enough to say</td>\n",
       "      <td>Not very worried</td>\n",
       "      <td>Only a little</td>\n",
       "      <td>...</td>\n",
       "      <td>0</td>\n",
       "      <td>2</td>\n",
       "      <td>Mobile home</td>\n",
       "      <td>Rented</td>\n",
       "      <td>1</td>\n",
       "      <td>0</td>\n",
       "      <td>0</td>\n",
       "      <td>2.0</td>\n",
       "      <td>0.0</td>\n",
       "      <td>0.0</td>\n",
       "    </tr>\n",
       "    <tr>\n",
       "      <th>2</th>\n",
       "      <td>2008 Nov</td>\n",
       "      <td>2008</td>\n",
       "      <td>0.49</td>\n",
       "      <td>0.267143</td>\n",
       "      <td>Don't know</td>\n",
       "      <td>NaN</td>\n",
       "      <td>Caused mostly by natural changes in the enviro...</td>\n",
       "      <td>There is a lot of disagreement among scientist...</td>\n",
       "      <td>Not at all worried</td>\n",
       "      <td>Not at all</td>\n",
       "      <td>...</td>\n",
       "      <td>0</td>\n",
       "      <td>2</td>\n",
       "      <td>One-family house detached from any other house</td>\n",
       "      <td>Owned by you or someone in your household</td>\n",
       "      <td>1</td>\n",
       "      <td>0</td>\n",
       "      <td>0</td>\n",
       "      <td>2.0</td>\n",
       "      <td>3.0</td>\n",
       "      <td>0.0</td>\n",
       "    </tr>\n",
       "    <tr>\n",
       "      <th>3</th>\n",
       "      <td>2008 Nov</td>\n",
       "      <td>2008</td>\n",
       "      <td>0.29</td>\n",
       "      <td>0.158105</td>\n",
       "      <td>Yes</td>\n",
       "      <td>NaN</td>\n",
       "      <td>Caused mostly by natural changes in the enviro...</td>\n",
       "      <td>Most scientists think global warming is happening</td>\n",
       "      <td>Somewhat worried</td>\n",
       "      <td>Only a little</td>\n",
       "      <td>...</td>\n",
       "      <td>0</td>\n",
       "      <td>2</td>\n",
       "      <td>One-family house detached from any other house</td>\n",
       "      <td>Owned by you or someone in your household</td>\n",
       "      <td>0</td>\n",
       "      <td>1</td>\n",
       "      <td>0</td>\n",
       "      <td>1.0</td>\n",
       "      <td>3.0</td>\n",
       "      <td>2.0</td>\n",
       "    </tr>\n",
       "    <tr>\n",
       "      <th>4</th>\n",
       "      <td>2008 Nov</td>\n",
       "      <td>2008</td>\n",
       "      <td>1.29</td>\n",
       "      <td>0.703294</td>\n",
       "      <td>Yes</td>\n",
       "      <td>NaN</td>\n",
       "      <td>Caused mostly by human activities</td>\n",
       "      <td>There is a lot of disagreement among scientist...</td>\n",
       "      <td>Somewhat worried</td>\n",
       "      <td>Don't know</td>\n",
       "      <td>...</td>\n",
       "      <td>0</td>\n",
       "      <td>2</td>\n",
       "      <td>One-family house detached from any other house</td>\n",
       "      <td>Owned by you or someone in your household</td>\n",
       "      <td>0</td>\n",
       "      <td>0</td>\n",
       "      <td>0</td>\n",
       "      <td>4.0</td>\n",
       "      <td>2.0</td>\n",
       "      <td>1.0</td>\n",
       "    </tr>\n",
       "  </tbody>\n",
       "</table>\n",
       "<p>5 rows × 45 columns</p>\n",
       "</div>"
      ],
      "text/plain": [
       "       wave  year  weight_wave  weight_aggregate   happening cause_other_text  \\\n",
       "0  2008 Nov  2008         0.54          0.294402         Yes              NaN   \n",
       "1  2008 Nov  2008         0.85          0.463411  Don't know              NaN   \n",
       "2  2008 Nov  2008         0.49          0.267143  Don't know              NaN   \n",
       "3  2008 Nov  2008         0.29          0.158105         Yes              NaN   \n",
       "4  2008 Nov  2008         1.29          0.703294         Yes              NaN   \n",
       "\n",
       "                                       cause_recoded  \\\n",
       "0                  Caused mostly by human activities   \n",
       "1                  Caused mostly by human activities   \n",
       "2  Caused mostly by natural changes in the enviro...   \n",
       "3  Caused mostly by natural changes in the enviro...   \n",
       "4                  Caused mostly by human activities   \n",
       "\n",
       "                                       sci_consensus               worry  \\\n",
       "0  Most scientists think global warming is happening    Somewhat worried   \n",
       "1                           Don't know enough to say    Not very worried   \n",
       "2  There is a lot of disagreement among scientist...  Not at all worried   \n",
       "3  Most scientists think global warming is happening    Somewhat worried   \n",
       "4  There is a lot of disagreement among scientist...    Somewhat worried   \n",
       "\n",
       "  harm_personally  ... house_ages13to17 house_ages18plus  \\\n",
       "0   Only a little  ...                0                3   \n",
       "1   Only a little  ...                0                2   \n",
       "2      Not at all  ...                0                2   \n",
       "3   Only a little  ...                0                2   \n",
       "4      Don't know  ...                0                2   \n",
       "\n",
       "                                       house_type  \\\n",
       "0  One-family house detached from any other house   \n",
       "1                                     Mobile home   \n",
       "2  One-family house detached from any other house   \n",
       "3  One-family house detached from any other house   \n",
       "4  One-family house detached from any other house   \n",
       "\n",
       "                                   house_own age_category_35_54  \\\n",
       "0  Owned by you or someone in your household                  0   \n",
       "1                                     Rented                  1   \n",
       "2  Owned by you or someone in your household                  1   \n",
       "3  Owned by you or someone in your household                  0   \n",
       "4  Owned by you or someone in your household                  0   \n",
       "\n",
       "  age_category_55_plus children generation_ord educ_category_ord  \\\n",
       "0                    1        0            1.0               1.0   \n",
       "1                    0        0            2.0               0.0   \n",
       "2                    0        0            2.0               3.0   \n",
       "3                    1        0            1.0               3.0   \n",
       "4                    0        0            4.0               2.0   \n",
       "\n",
       "   income_category_ord  \n",
       "0                  1.0  \n",
       "1                  0.0  \n",
       "2                  0.0  \n",
       "3                  2.0  \n",
       "4                  1.0  \n",
       "\n",
       "[5 rows x 45 columns]"
      ]
     },
     "execution_count": 6,
     "metadata": {},
     "output_type": "execute_result"
    }
   ],
   "source": [
    "df['generation_ord'] = [x[0] for x in X_ord]\n",
    "df['educ_category_ord'] = [x[1] for x in X_ord]\n",
    "df['income_category_ord'] = [x[2] for x in X_ord]\n",
    "df.drop(['generation', 'educ_category', 'income_category'], axis=1, inplace=True)\n",
    "df.head()"
   ]
  },
  {
   "cell_type": "code",
   "execution_count": 7,
   "id": "c7a90c54",
   "metadata": {},
   "outputs": [],
   "source": [
    "dogs = [\n",
    "# year    \n",
    "    [2008, 2010, 2011, 2012, 2013, 2014, 2015, 2016, 2017, 2018],\n",
    "\n",
    "# wave    \n",
    "    ['2008 Nov', '2010 Jan', '2010 Jun', '2011 May', '2011 Nov', \n",
    "     '2012 Mar', '2012 Sep', '2013 Apr', '2013 Nov', '2014 Apr',\n",
    "     '2014 Oct', '2015 Mar', '2015 Oct', '2016 Mar', '2016 Nov',\n",
    "     '2017 May', '2017 Oct', '2018 Mar', '2018 Dec',]  \n",
    "]\n",
    "\n",
    "enc = OrdinalEncoder(categories=dogs)\n",
    "enc.fit(df[['year', 'wave',]]) \n",
    "X_ord = enc.transform(df[['year', 'wave',]]) \n",
    "\n",
    "# harm_personally, harm_US, cause_recoded, worry"
   ]
  },
  {
   "cell_type": "code",
   "execution_count": 8,
   "id": "d69f0b5e",
   "metadata": {
    "scrolled": false
   },
   "outputs": [
    {
     "data": {
      "text/html": [
       "<div>\n",
       "<style scoped>\n",
       "    .dataframe tbody tr th:only-of-type {\n",
       "        vertical-align: middle;\n",
       "    }\n",
       "\n",
       "    .dataframe tbody tr th {\n",
       "        vertical-align: top;\n",
       "    }\n",
       "\n",
       "    .dataframe thead th {\n",
       "        text-align: right;\n",
       "    }\n",
       "</style>\n",
       "<table border=\"1\" class=\"dataframe\">\n",
       "  <thead>\n",
       "    <tr style=\"text-align: right;\">\n",
       "      <th></th>\n",
       "      <th>weight_wave</th>\n",
       "      <th>weight_aggregate</th>\n",
       "      <th>happening</th>\n",
       "      <th>cause_other_text</th>\n",
       "      <th>cause_recoded</th>\n",
       "      <th>sci_consensus</th>\n",
       "      <th>worry</th>\n",
       "      <th>harm_personally</th>\n",
       "      <th>harm_US</th>\n",
       "      <th>harm_dev_countries</th>\n",
       "      <th>...</th>\n",
       "      <th>house_type</th>\n",
       "      <th>house_own</th>\n",
       "      <th>age_category_35_54</th>\n",
       "      <th>age_category_55_plus</th>\n",
       "      <th>children</th>\n",
       "      <th>generation_ord</th>\n",
       "      <th>educ_category_ord</th>\n",
       "      <th>income_category_ord</th>\n",
       "      <th>year_ord</th>\n",
       "      <th>wave_ord</th>\n",
       "    </tr>\n",
       "  </thead>\n",
       "  <tbody>\n",
       "    <tr>\n",
       "      <th>0</th>\n",
       "      <td>0.54</td>\n",
       "      <td>0.294402</td>\n",
       "      <td>Yes</td>\n",
       "      <td>NaN</td>\n",
       "      <td>Caused mostly by human activities</td>\n",
       "      <td>Most scientists think global warming is happening</td>\n",
       "      <td>Somewhat worried</td>\n",
       "      <td>Only a little</td>\n",
       "      <td>A moderate amount</td>\n",
       "      <td>Yes</td>\n",
       "      <td>...</td>\n",
       "      <td>One-family house detached from any other house</td>\n",
       "      <td>Owned by you or someone in your household</td>\n",
       "      <td>0</td>\n",
       "      <td>1</td>\n",
       "      <td>0</td>\n",
       "      <td>1.0</td>\n",
       "      <td>1.0</td>\n",
       "      <td>1.0</td>\n",
       "      <td>0.0</td>\n",
       "      <td>0.0</td>\n",
       "    </tr>\n",
       "    <tr>\n",
       "      <th>1</th>\n",
       "      <td>0.85</td>\n",
       "      <td>0.463411</td>\n",
       "      <td>Don't know</td>\n",
       "      <td>NaN</td>\n",
       "      <td>Caused mostly by human activities</td>\n",
       "      <td>Don't know enough to say</td>\n",
       "      <td>Not very worried</td>\n",
       "      <td>Only a little</td>\n",
       "      <td>Refused</td>\n",
       "      <td>Yes</td>\n",
       "      <td>...</td>\n",
       "      <td>Mobile home</td>\n",
       "      <td>Rented</td>\n",
       "      <td>1</td>\n",
       "      <td>0</td>\n",
       "      <td>0</td>\n",
       "      <td>2.0</td>\n",
       "      <td>0.0</td>\n",
       "      <td>0.0</td>\n",
       "      <td>0.0</td>\n",
       "      <td>0.0</td>\n",
       "    </tr>\n",
       "    <tr>\n",
       "      <th>2</th>\n",
       "      <td>0.49</td>\n",
       "      <td>0.267143</td>\n",
       "      <td>Don't know</td>\n",
       "      <td>NaN</td>\n",
       "      <td>Caused mostly by natural changes in the enviro...</td>\n",
       "      <td>There is a lot of disagreement among scientist...</td>\n",
       "      <td>Not at all worried</td>\n",
       "      <td>Not at all</td>\n",
       "      <td>Not at all</td>\n",
       "      <td>No</td>\n",
       "      <td>...</td>\n",
       "      <td>One-family house detached from any other house</td>\n",
       "      <td>Owned by you or someone in your household</td>\n",
       "      <td>1</td>\n",
       "      <td>0</td>\n",
       "      <td>0</td>\n",
       "      <td>2.0</td>\n",
       "      <td>3.0</td>\n",
       "      <td>0.0</td>\n",
       "      <td>0.0</td>\n",
       "      <td>0.0</td>\n",
       "    </tr>\n",
       "    <tr>\n",
       "      <th>3</th>\n",
       "      <td>0.29</td>\n",
       "      <td>0.158105</td>\n",
       "      <td>Yes</td>\n",
       "      <td>NaN</td>\n",
       "      <td>Caused mostly by natural changes in the enviro...</td>\n",
       "      <td>Most scientists think global warming is happening</td>\n",
       "      <td>Somewhat worried</td>\n",
       "      <td>Only a little</td>\n",
       "      <td>Only a little</td>\n",
       "      <td>Yes</td>\n",
       "      <td>...</td>\n",
       "      <td>One-family house detached from any other house</td>\n",
       "      <td>Owned by you or someone in your household</td>\n",
       "      <td>0</td>\n",
       "      <td>1</td>\n",
       "      <td>0</td>\n",
       "      <td>1.0</td>\n",
       "      <td>3.0</td>\n",
       "      <td>2.0</td>\n",
       "      <td>0.0</td>\n",
       "      <td>0.0</td>\n",
       "    </tr>\n",
       "    <tr>\n",
       "      <th>4</th>\n",
       "      <td>1.29</td>\n",
       "      <td>0.703294</td>\n",
       "      <td>Yes</td>\n",
       "      <td>NaN</td>\n",
       "      <td>Caused mostly by human activities</td>\n",
       "      <td>There is a lot of disagreement among scientist...</td>\n",
       "      <td>Somewhat worried</td>\n",
       "      <td>Don't know</td>\n",
       "      <td>Don't know</td>\n",
       "      <td>Don't know</td>\n",
       "      <td>...</td>\n",
       "      <td>One-family house detached from any other house</td>\n",
       "      <td>Owned by you or someone in your household</td>\n",
       "      <td>0</td>\n",
       "      <td>0</td>\n",
       "      <td>0</td>\n",
       "      <td>4.0</td>\n",
       "      <td>2.0</td>\n",
       "      <td>1.0</td>\n",
       "      <td>0.0</td>\n",
       "      <td>0.0</td>\n",
       "    </tr>\n",
       "  </tbody>\n",
       "</table>\n",
       "<p>5 rows × 45 columns</p>\n",
       "</div>"
      ],
      "text/plain": [
       "   weight_wave  weight_aggregate   happening cause_other_text  \\\n",
       "0         0.54          0.294402         Yes              NaN   \n",
       "1         0.85          0.463411  Don't know              NaN   \n",
       "2         0.49          0.267143  Don't know              NaN   \n",
       "3         0.29          0.158105         Yes              NaN   \n",
       "4         1.29          0.703294         Yes              NaN   \n",
       "\n",
       "                                       cause_recoded  \\\n",
       "0                  Caused mostly by human activities   \n",
       "1                  Caused mostly by human activities   \n",
       "2  Caused mostly by natural changes in the enviro...   \n",
       "3  Caused mostly by natural changes in the enviro...   \n",
       "4                  Caused mostly by human activities   \n",
       "\n",
       "                                       sci_consensus               worry  \\\n",
       "0  Most scientists think global warming is happening    Somewhat worried   \n",
       "1                           Don't know enough to say    Not very worried   \n",
       "2  There is a lot of disagreement among scientist...  Not at all worried   \n",
       "3  Most scientists think global warming is happening    Somewhat worried   \n",
       "4  There is a lot of disagreement among scientist...    Somewhat worried   \n",
       "\n",
       "  harm_personally            harm_US harm_dev_countries  ...  \\\n",
       "0   Only a little  A moderate amount                Yes  ...   \n",
       "1   Only a little            Refused                Yes  ...   \n",
       "2      Not at all         Not at all                 No  ...   \n",
       "3   Only a little      Only a little                Yes  ...   \n",
       "4      Don't know         Don't know         Don't know  ...   \n",
       "\n",
       "                                       house_type  \\\n",
       "0  One-family house detached from any other house   \n",
       "1                                     Mobile home   \n",
       "2  One-family house detached from any other house   \n",
       "3  One-family house detached from any other house   \n",
       "4  One-family house detached from any other house   \n",
       "\n",
       "                                   house_own age_category_35_54  \\\n",
       "0  Owned by you or someone in your household                  0   \n",
       "1                                     Rented                  1   \n",
       "2  Owned by you or someone in your household                  1   \n",
       "3  Owned by you or someone in your household                  0   \n",
       "4  Owned by you or someone in your household                  0   \n",
       "\n",
       "  age_category_55_plus children generation_ord educ_category_ord  \\\n",
       "0                    1        0            1.0               1.0   \n",
       "1                    0        0            2.0               0.0   \n",
       "2                    0        0            2.0               3.0   \n",
       "3                    1        0            1.0               3.0   \n",
       "4                    0        0            4.0               2.0   \n",
       "\n",
       "   income_category_ord  year_ord wave_ord  \n",
       "0                  1.0       0.0      0.0  \n",
       "1                  0.0       0.0      0.0  \n",
       "2                  0.0       0.0      0.0  \n",
       "3                  2.0       0.0      0.0  \n",
       "4                  1.0       0.0      0.0  \n",
       "\n",
       "[5 rows x 45 columns]"
      ]
     },
     "execution_count": 8,
     "metadata": {},
     "output_type": "execute_result"
    }
   ],
   "source": [
    "df['year_ord'] = [x[0] for x in X_ord]\n",
    "df['wave_ord'] = [x[1] for x in X_ord]\n",
    "df.drop(['year', 'wave'], axis=1, inplace=True)\n",
    "df.head()"
   ]
  },
  {
   "cell_type": "markdown",
   "id": "66f99496",
   "metadata": {},
   "source": [
    "### Train Test Split"
   ]
  },
  {
   "cell_type": "code",
   "execution_count": 23,
   "id": "ab3562f5",
   "metadata": {},
   "outputs": [],
   "source": [
    "from sklearn.model_selection import train_test_split"
   ]
  },
  {
   "cell_type": "code",
   "execution_count": null,
   "id": "54c0bd75",
   "metadata": {},
   "outputs": [],
   "source": [
    "y = df.happening\n",
    "X = df[[cols for cols in df.columns if cols != \"happening\"]]"
   ]
  },
  {
   "cell_type": "code",
   "execution_count": null,
   "id": "d71ac58b",
   "metadata": {},
   "outputs": [],
   "source": [
    "X_train, X_test, y_train, y_test = train_test_split(X,y,\n",
    "                                                   test_size = 0.20,\n",
    "                                                   random_state = 21)"
   ]
  },
  {
   "cell_type": "markdown",
   "id": "8dfafc8a",
   "metadata": {},
   "source": [
    "### Iteratively Impute Nulls"
   ]
  },
  {
   "cell_type": "markdown",
   "id": "d5098137",
   "metadata": {},
   "source": [
    "Now all of our data is ordinal encoded or dummied, iteratively impute the nulls"
   ]
  },
  {
   "cell_type": "code",
   "execution_count": null,
   "id": "71315c0b",
   "metadata": {
    "ExecuteTime": {
     "end_time": "2022-06-23T23:54:37.251600Z",
     "start_time": "2022-06-23T23:54:37.239599Z"
    }
   },
   "outputs": [],
   "source": [
    "from sklearn.experimental import enable_iterative_imputer\n",
    "from sklearn.impute import IterativeImputer"
   ]
  },
  {
   "cell_type": "code",
   "execution_count": null,
   "id": "eaa31393",
   "metadata": {},
   "outputs": [],
   "source": [
    "# identify numerical columns\n",
    "cols = X_train.describe().columns"
   ]
  },
  {
   "cell_type": "code",
   "execution_count": null,
   "id": "262c1fe4",
   "metadata": {},
   "outputs": [],
   "source": [
    "# iterative impute on numerical columns\n",
    "pd.DataFrame(IterativeImputer(initial_strategy='mean',\n",
    "                              add_indicator=True,\n",
    "                              random_state = 21\n",
    "                             ).fit_transform(X_train[cols]))\\\n",
    "            .head(10)"
   ]
  },
  {
   "cell_type": "markdown",
   "id": "40e6fff5",
   "metadata": {},
   "source": [
    "### Standard Scale"
   ]
  },
  {
   "cell_type": "markdown",
   "id": "70e16ffc",
   "metadata": {},
   "source": [
    "Will let us explore knn or clustering if wanted"
   ]
  }
 ],
 "metadata": {
  "kernelspec": {
   "display_name": "Python 3 (ipykernel)",
   "language": "python",
   "name": "python3"
  },
  "language_info": {
   "codemirror_mode": {
    "name": "ipython",
    "version": 3
   },
   "file_extension": ".py",
   "mimetype": "text/x-python",
   "name": "python",
   "nbconvert_exporter": "python",
   "pygments_lexer": "ipython3",
   "version": "3.9.7"
  },
  "toc": {
   "base_numbering": 1,
   "nav_menu": {},
   "number_sections": false,
   "sideBar": true,
   "skip_h1_title": false,
   "title_cell": "Table of Contents",
   "title_sidebar": "Contents",
   "toc_cell": false,
   "toc_position": {},
   "toc_section_display": true,
   "toc_window_display": false
  }
 },
 "nbformat": 4,
 "nbformat_minor": 5
}
