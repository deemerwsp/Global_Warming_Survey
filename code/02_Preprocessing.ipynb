{
 "cells": [
  {
   "cell_type": "code",
   "execution_count": 1,
   "id": "2ebc26d5",
   "metadata": {
    "ExecuteTime": {
     "end_time": "2022-06-27T18:46:24.350757Z",
     "start_time": "2022-06-27T18:46:23.049979Z"
    }
   },
   "outputs": [],
   "source": [
    "import pandas as pd\n",
    "import numpy as np\n",
    "\n",
    "from sklearn.preprocessing import OrdinalEncoder\n",
    "from sklearn.feature_selection import SelectKBest\n",
    "\n",
    "np.random.seed(23)"
   ]
  },
  {
   "cell_type": "code",
   "execution_count": 2,
   "id": "74539e2a",
   "metadata": {
    "ExecuteTime": {
     "end_time": "2022-06-27T18:46:24.469658Z",
     "start_time": "2022-06-27T18:46:24.352120Z"
    }
   },
   "outputs": [],
   "source": [
    "df = pd.read_csv('../data/survey_data_before_pre_processing.csv')"
   ]
  },
  {
   "cell_type": "markdown",
   "id": "88034444",
   "metadata": {},
   "source": [
    "### Convert all Nulls to 'none'\n",
    "- This is done prior to ordinal encoding "
   ]
  },
  {
   "cell_type": "code",
   "execution_count": 3,
   "id": "d02892c8",
   "metadata": {
    "ExecuteTime": {
     "end_time": "2022-06-27T18:46:24.531043Z",
     "start_time": "2022-06-27T18:46:24.470983Z"
    }
   },
   "outputs": [],
   "source": [
    "df.fillna('none', inplace=True)"
   ]
  },
  {
   "cell_type": "markdown",
   "id": "700f8092",
   "metadata": {},
   "source": [
    "### Ordinal Encode"
   ]
  },
  {
   "cell_type": "code",
   "execution_count": 5,
   "id": "a4847aef",
   "metadata": {
    "ExecuteTime": {
     "end_time": "2022-06-27T18:46:24.670938Z",
     "start_time": "2022-06-27T18:46:24.536257Z"
    }
   },
   "outputs": [],
   "source": [
    "# Ordinal encoding these features\n",
    "\n",
    "# the list of columns to ordinal\n",
    "df_ord = df[['year','wave', 'cause_recoded', 'sci_consensus',\n",
    "             'harm_personally', 'harm_US', 'harm_dev_countries',\n",
    "             'harm_future_gen', 'harm_plants_animals', 'when_harm_US', \n",
    "             'generation', 'educ_category', 'income_category',\n",
    "             'reg_CO2_pollutant', 'fund_research', \n",
    "             'discuss_GW']]\n",
    "\n",
    "# have first spot be 'none' for features that got nulls changed\n",
    "# have first spot be '' for features with no nulls changed\n",
    "# this allows us to peel off nulls by removing all 0 encoded ordinals\n",
    "dogs = [[-999,2008, 2010, 2011, 2012, 2013, 2014, 2015, 2016, 2017, 2018],\n",
    "        ['','2008 Nov', '2010 Jan', '2010 Jun', '2011 May', '2011 Nov', \n",
    "         '2012 Mar', '2012 Sep', '2013 Apr', '2013 Nov', '2014 Apr',\n",
    "         '2014 Oct', '2015 Mar', '2015 Oct', '2016 Mar', '2016 Nov',\n",
    "         '2017 May', '2017 Oct', '2018 Mar', '2018 Dec',],\n",
    "# cause_rec\n",
    "        ['none', 'No', \"Don't know\", 'Yes'],\n",
    "# sci_cons\n",
    "        ['none', 'No', \"Don't know\", 'Maybe', 'Yes'],\n",
    "\n",
    "        ['none','No',\"Don't know\", 'Yes'],\n",
    "        ['none','No',\"Don't know\", 'Yes'],\n",
    "        ['none','No',\"Don't know\", 'Yes'],\n",
    "        ['none','No',\"Don't know\", 'Yes'],\n",
    "        ['none','No',\"Don't know\", 'Yes'],\n",
    "        ['none','Never', 'In the Future', 'Now'],\n",
    "# gen\n",
    "        ['','Greatest (Before 1928)','Silent (1928 - 1945)',\n",
    "         'Baby Boomers (1946 - 1964)',\n",
    "         'Generation X (1965 - 1980)',\n",
    "         'Millennials (1981 - 1996)',\n",
    "         'iGen\\u200e/Gen Z (1997 - )'],\n",
    "# ed\n",
    "        ['','Less than high school',\n",
    "         'High school',\n",
    "         'Some college',\n",
    "         'Bachelor\\'s degree or higher'],\n",
    "# income        \n",
    "        ['','Less than $50,000',\n",
    "         '$50,000 to $99,999',\n",
    "         '$100,000 or more'],\n",
    "        \n",
    "        ['none','Oppose', 'Support'],\n",
    "        ['none','Oppose', 'Support'],\n",
    "        ['none','Never', 'At All']]\n",
    "\n",
    "\n",
    "# initialize\n",
    "o_enc = OrdinalEncoder(categories=dogs) \n",
    "\n",
    "# fit transform\n",
    "X_ord = o_enc.fit_transform(df_ord)\n",
    "\n",
    "# add to df\n",
    "# col names are original names + '_ord'\n",
    "X_ord_df = pd.DataFrame(X_ord,\n",
    "                        columns = [col+'_ord' for col in df_ord.columns])\\\n",
    "                .applymap(lambda x: np.nan if x == 0 else x)\n",
    "\n",
    "# drop non-ordinal cols for ordinal cols\n",
    "df = df.drop(df_ord.columns, axis = 1).join(X_ord_df)"
   ]
  },
  {
   "cell_type": "markdown",
   "id": "122352c2",
   "metadata": {},
   "source": [
    "### Dummy encoding remaining features and adding features that were already ordinal encoded"
   ]
  },
  {
   "cell_type": "code",
   "execution_count": 7,
   "id": "56600ad8",
   "metadata": {
    "ExecuteTime": {
     "end_time": "2022-06-27T18:46:24.686963Z",
     "start_time": "2022-06-27T18:46:24.680419Z"
    }
   },
   "outputs": [],
   "source": [
    "dum_df = df[['party', 'party_x_ideo', 'region4', \n",
    "             'religion','marit_status', 'employment', 'house_head',\n",
    "             'house_type', 'house_own']]\n",
    "\n",
    "rdy_to_go = df[['house_ages18plus', 'children', 'service_attendance', 'house_size']]\n"
   ]
  },
  {
   "cell_type": "code",
   "execution_count": 8,
   "id": "19b7eb2d",
   "metadata": {
    "ExecuteTime": {
     "end_time": "2022-06-27T18:46:24.711073Z",
     "start_time": "2022-06-27T18:46:24.688458Z"
    }
   },
   "outputs": [],
   "source": [
    "dum_df = pd.get_dummies(dum_df, drop_first=True)"
   ]
  },
  {
   "cell_type": "code",
   "execution_count": 9,
   "id": "1d811c03",
   "metadata": {
    "ExecuteTime": {
     "end_time": "2022-06-27T18:46:24.715552Z",
     "start_time": "2022-06-27T18:46:24.712189Z"
    }
   },
   "outputs": [],
   "source": [
    "additional_df = pd.concat([dum_df, rdy_to_go],  axis=1)"
   ]
  },
  {
   "cell_type": "code",
   "execution_count": 10,
   "id": "b419e44d",
   "metadata": {
    "ExecuteTime": {
     "end_time": "2022-06-27T18:46:24.724116Z",
     "start_time": "2022-06-27T18:46:24.719574Z"
    }
   },
   "outputs": [],
   "source": [
    "df.drop(['party', 'party_x_ideo', 'region4', \n",
    "         'religion','marit_status', 'employment', 'house_head',\n",
    "         'house_type', 'house_own','house_ages18plus',\n",
    "         'children', 'service_attendance', 'house_size'], axis=1, inplace=True)"
   ]
  },
  {
   "cell_type": "code",
   "execution_count": 11,
   "id": "fb648898",
   "metadata": {
    "ExecuteTime": {
     "end_time": "2022-06-27T18:46:24.728865Z",
     "start_time": "2022-06-27T18:46:24.725288Z"
    }
   },
   "outputs": [],
   "source": [
    "df = pd.concat([df, additional_df], axis=1)"
   ]
  },
  {
   "cell_type": "markdown",
   "id": "91f79deb",
   "metadata": {},
   "source": [
    "### Label Encoding target"
   ]
  },
  {
   "cell_type": "code",
   "execution_count": 32,
   "id": "ae1b0d86",
   "metadata": {
    "ExecuteTime": {
     "end_time": "2022-06-27T18:49:02.956380Z",
     "start_time": "2022-06-27T18:49:02.930431Z"
    }
   },
   "outputs": [],
   "source": [
    "df['happening'] = [0 if x == 'No' \n",
    "                   else 1 if x == \"Don't know\" \n",
    "                   else 2 for x in df.happening]"
   ]
  },
  {
   "cell_type": "markdown",
   "id": "66f99496",
   "metadata": {},
   "source": [
    "### Train Test Split"
   ]
  },
  {
   "cell_type": "code",
   "execution_count": 12,
   "id": "ab3562f5",
   "metadata": {
    "ExecuteTime": {
     "end_time": "2022-06-27T18:46:24.732083Z",
     "start_time": "2022-06-27T18:46:24.730007Z"
    }
   },
   "outputs": [],
   "source": [
    "from sklearn.model_selection import train_test_split"
   ]
  },
  {
   "cell_type": "code",
   "execution_count": 13,
   "id": "54c0bd75",
   "metadata": {
    "ExecuteTime": {
     "end_time": "2022-06-27T18:46:24.740897Z",
     "start_time": "2022-06-27T18:46:24.733363Z"
    }
   },
   "outputs": [],
   "source": [
    "y = df.happening\n",
    "X = df[[cols for cols in df.columns if cols != \"happening\"]]"
   ]
  },
  {
   "cell_type": "code",
   "execution_count": 14,
   "id": "d71ac58b",
   "metadata": {
    "ExecuteTime": {
     "end_time": "2022-06-27T18:46:24.753383Z",
     "start_time": "2022-06-27T18:46:24.742277Z"
    }
   },
   "outputs": [],
   "source": [
    "X_train, X_test, y_train, y_test = train_test_split(X,y,\n",
    "                                                   test_size = 0.20,\n",
    "                                                   random_state = 21)"
   ]
  },
  {
   "cell_type": "markdown",
   "id": "8dfafc8a",
   "metadata": {},
   "source": [
    "### Iteratively Impute Nulls"
   ]
  },
  {
   "cell_type": "markdown",
   "id": "d5098137",
   "metadata": {},
   "source": [
    "Now all of our data is ordinal encoded or dummied, iteratively impute the nulls"
   ]
  },
  {
   "cell_type": "code",
   "execution_count": 15,
   "id": "71315c0b",
   "metadata": {
    "ExecuteTime": {
     "end_time": "2022-06-27T18:46:24.760834Z",
     "start_time": "2022-06-27T18:46:24.754640Z"
    }
   },
   "outputs": [],
   "source": [
    "from sklearn.experimental import enable_iterative_imputer\n",
    "from sklearn.impute import IterativeImputer"
   ]
  },
  {
   "cell_type": "code",
   "execution_count": 16,
   "id": "eaa31393",
   "metadata": {
    "ExecuteTime": {
     "end_time": "2022-06-27T18:46:24.835419Z",
     "start_time": "2022-06-27T18:46:24.762030Z"
    }
   },
   "outputs": [],
   "source": [
    "# identify numerical columns\n",
    "cols = X_train.describe().columns"
   ]
  },
  {
   "cell_type": "code",
   "execution_count": 17,
   "id": "98835b25",
   "metadata": {
    "ExecuteTime": {
     "end_time": "2022-06-27T18:46:24.844531Z",
     "start_time": "2022-06-27T18:46:24.837060Z"
    }
   },
   "outputs": [],
   "source": [
    "# identify columns that will have nulls imputed\n",
    "cols_with_indicator = X_train[cols].loc[:,X_train[cols].isnull().any()].columns\n",
    "\n",
    "# rename them\n",
    "cols_with_indicator = [c+'_ind' for c in cols_with_indicator]"
   ]
  },
  {
   "cell_type": "code",
   "execution_count": 19,
   "id": "46c8da52",
   "metadata": {
    "ExecuteTime": {
     "end_time": "2022-06-27T18:46:24.852405Z",
     "start_time": "2022-06-27T18:46:24.850358Z"
    }
   },
   "outputs": [],
   "source": [
    "# initialize\n",
    "it_imp = IterativeImputer(initial_strategy='mean',\n",
    "                              add_indicator=True,\n",
    "                              random_state = 21\n",
    "                             )"
   ]
  },
  {
   "cell_type": "code",
   "execution_count": 20,
   "id": "262c1fe4",
   "metadata": {
    "ExecuteTime": {
     "end_time": "2022-06-27T18:47:31.877440Z",
     "start_time": "2022-06-27T18:46:24.854082Z"
    }
   },
   "outputs": [],
   "source": [
    "# fit on train\n",
    "X_train_it_imp = pd.DataFrame(it_imp.fit_transform(X_train[cols]),\n",
    "                columns = X_train[cols].columns.to_list()+cols_with_indicator,\n",
    "                index = X_train.index)\n",
    "\n",
    "# transform test\n",
    "X_test_it_imp = pd.DataFrame(it_imp.transform(X_test[cols]),\n",
    "            columns = X_train[cols].columns.to_list()+cols_with_indicator,\n",
    "            index = X_test.index)"
   ]
  },
  {
   "cell_type": "code",
   "execution_count": 21,
   "id": "2acfc694",
   "metadata": {
    "ExecuteTime": {
     "end_time": "2022-06-27T18:47:31.886115Z",
     "start_time": "2022-06-27T18:47:31.878827Z"
    }
   },
   "outputs": [],
   "source": [
    "X_train = X_train.drop(cols, axis = 1).join(X_train_it_imp)\n",
    "X_test = X_test.drop(cols, axis = 1).join(X_test_it_imp)"
   ]
  },
  {
   "cell_type": "markdown",
   "id": "40e6fff5",
   "metadata": {},
   "source": [
    "### Standard Scale"
   ]
  },
  {
   "cell_type": "markdown",
   "id": "70e16ffc",
   "metadata": {},
   "source": [
    "Will let us explore knn or clustering if wanted"
   ]
  },
  {
   "cell_type": "code",
   "execution_count": 22,
   "id": "21e51cfd",
   "metadata": {
    "ExecuteTime": {
     "end_time": "2022-06-27T18:47:31.889615Z",
     "start_time": "2022-06-27T18:47:31.887424Z"
    }
   },
   "outputs": [],
   "source": [
    "from sklearn.preprocessing import StandardScaler"
   ]
  },
  {
   "cell_type": "code",
   "execution_count": 23,
   "id": "972a51ac",
   "metadata": {
    "ExecuteTime": {
     "end_time": "2022-06-27T18:47:31.907825Z",
     "start_time": "2022-06-27T18:47:31.890789Z"
    }
   },
   "outputs": [],
   "source": [
    "# initialize\n",
    "ss = StandardScaler()\n",
    "\n",
    "# fit on Train\n",
    "X_train_ss = pd.DataFrame(ss.fit_transform(X_train[cols]),\n",
    "                          columns = X_train[cols].columns,\n",
    "                          index = X_train.index)\n",
    "\n",
    "# transform test\n",
    "X_test_ss = pd.DataFrame(ss.transform(X_test[cols]),\n",
    "                         columns = X_test[cols].columns,\n",
    "                         index = X_test.index)"
   ]
  },
  {
   "cell_type": "code",
   "execution_count": 24,
   "id": "50e81198",
   "metadata": {
    "ExecuteTime": {
     "end_time": "2022-06-27T18:47:31.913706Z",
     "start_time": "2022-06-27T18:47:31.909120Z"
    }
   },
   "outputs": [],
   "source": [
    "X_train_ss = X_train.drop(cols, axis = 1).join(X_train_ss)\n",
    "X_test_ss = X_test.drop(cols, axis = 1).join(X_test_ss)"
   ]
  },
  {
   "cell_type": "markdown",
   "id": "c79915c0",
   "metadata": {},
   "source": [
    "### SelectKBeset"
   ]
  },
  {
   "cell_type": "code",
   "execution_count": 33,
   "id": "d03264e1",
   "metadata": {
    "ExecuteTime": {
     "end_time": "2022-06-27T18:53:16.367488Z",
     "start_time": "2022-06-27T18:53:16.322222Z"
    }
   },
   "outputs": [
    {
     "name": "stderr",
     "output_type": "stream",
     "text": [
      "/Users/andrewdeemer/opt/anaconda3/lib/python3.9/site-packages/sklearn/feature_selection/_univariate_selection.py:114: UserWarning: Features [11] are constant.\n",
      "  warnings.warn(\"Features %s are constant.\" % constant_features_idx,\n",
      "/Users/andrewdeemer/opt/anaconda3/lib/python3.9/site-packages/sklearn/feature_selection/_univariate_selection.py:116: RuntimeWarning: invalid value encountered in true_divide\n",
      "  f = msb / msw\n"
     ]
    },
    {
     "data": {
      "text/plain": [
       "SelectKBest(k=20)"
      ]
     },
     "execution_count": 33,
     "metadata": {},
     "output_type": "execute_result"
    }
   ],
   "source": [
    "# Create and fit selector\n",
    "selector = SelectKBest(k=20)\n",
    "selector.fit(X_train_ss, y_train)"
   ]
  },
  {
   "cell_type": "code",
   "execution_count": 34,
   "id": "f8e0355d",
   "metadata": {
    "ExecuteTime": {
     "end_time": "2022-06-27T18:53:16.373414Z",
     "start_time": "2022-06-27T18:53:16.370787Z"
    }
   },
   "outputs": [],
   "source": [
    "# Get columns to keep and create new dataframe with those only\n",
    "cols = selector.get_support(indices=True)"
   ]
  },
  {
   "cell_type": "code",
   "execution_count": 35,
   "id": "39b3ed0c",
   "metadata": {
    "ExecuteTime": {
     "end_time": "2022-06-27T18:53:16.378593Z",
     "start_time": "2022-06-27T18:53:16.375309Z"
    }
   },
   "outputs": [],
   "source": [
    "X_train_feat_select = X_train_ss.iloc[:,cols]\n",
    "X_test_feat_select = X_test_ss.iloc[:,cols]"
   ]
  },
  {
   "cell_type": "code",
   "execution_count": 36,
   "id": "2d3ffe4e",
   "metadata": {
    "ExecuteTime": {
     "end_time": "2022-06-27T18:53:16.385680Z",
     "start_time": "2022-06-27T18:53:16.380322Z"
    }
   },
   "outputs": [],
   "source": [
    "removed_cols = [c for c in X_train_ss.columns if c not in X_train_ss_new.columns]\n",
    "X_train_feat_removed = X_train_ss.loc[:,removed_cols]\n",
    "X_test_feat_removed = X_test_ss.loc[:,removed_cols]"
   ]
  },
  {
   "cell_type": "code",
   "execution_count": 37,
   "id": "5f890f18",
   "metadata": {
    "ExecuteTime": {
     "end_time": "2022-06-27T18:53:16.391431Z",
     "start_time": "2022-06-27T18:53:16.388247Z"
    }
   },
   "outputs": [
    {
     "data": {
      "text/plain": [
       "Index(['cause_recoded_ord', 'sci_consensus_ord', 'harm_personally_ord',\n",
       "       'harm_US_ord', 'harm_dev_countries_ord', 'harm_future_gen_ord',\n",
       "       'harm_plants_animals_ord', 'when_harm_US_ord', 'educ_category_ord',\n",
       "       'reg_CO2_pollutant_ord', 'fund_research_ord', 'discuss_GW_ord',\n",
       "       'party_No party/not interested in politics', 'party_Republican',\n",
       "       'party_x_ideo_Liberal Democrat',\n",
       "       'party_x_ideo_Moderate/Conservative Democrat',\n",
       "       'party_x_ideo_No Party/Not Interested in politics',\n",
       "       'marit_status_Married',\n",
       "       'house_type_One-family house detached from any other house',\n",
       "       'service_attendance'],\n",
       "      dtype='object')"
      ]
     },
     "execution_count": 37,
     "metadata": {},
     "output_type": "execute_result"
    }
   ],
   "source": [
    "# Selected Columns\n",
    "X_train_feat_select.columns"
   ]
  },
  {
   "cell_type": "markdown",
   "id": "512421b2",
   "metadata": {},
   "source": [
    "### PCA"
   ]
  },
  {
   "cell_type": "markdown",
   "id": "15f03efb",
   "metadata": {},
   "source": [
    "## Exports"
   ]
  },
  {
   "cell_type": "code",
   "execution_count": 29,
   "id": "97d0f733",
   "metadata": {
    "ExecuteTime": {
     "end_time": "2022-06-27T18:47:34.372362Z",
     "start_time": "2022-06-27T18:47:31.968639Z"
    }
   },
   "outputs": [],
   "source": [
    "# Not using these\n",
    "X_train_ss.to_csv('../data/x_train_ss_processed.csv', index=False)\n",
    "X_test_ss.to_csv('../data/x_test_ss_processed.csv', index=False)\n",
    "\n",
    "# export after SS, selectkbest, pca"
   ]
  }
 ],
 "metadata": {
  "kernelspec": {
   "display_name": "Python 3 (ipykernel)",
   "language": "python",
   "name": "python3"
  },
  "language_info": {
   "codemirror_mode": {
    "name": "ipython",
    "version": 3
   },
   "file_extension": ".py",
   "mimetype": "text/x-python",
   "name": "python",
   "nbconvert_exporter": "python",
   "pygments_lexer": "ipython3",
   "version": "3.9.7"
  },
  "toc": {
   "base_numbering": 1,
   "nav_menu": {},
   "number_sections": false,
   "sideBar": true,
   "skip_h1_title": false,
   "title_cell": "Table of Contents",
   "title_sidebar": "Contents",
   "toc_cell": false,
   "toc_position": {},
   "toc_section_display": true,
   "toc_window_display": false
  }
 },
 "nbformat": 4,
 "nbformat_minor": 5
}
