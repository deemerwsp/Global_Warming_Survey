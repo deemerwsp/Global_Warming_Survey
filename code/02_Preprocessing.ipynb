{
 "cells": [
  {
   "cell_type": "code",
   "execution_count": 1,
   "id": "2ebc26d5",
   "metadata": {
    "ExecuteTime": {
     "end_time": "2022-06-24T22:49:35.512763Z",
     "start_time": "2022-06-24T22:49:33.782593Z"
    }
   },
   "outputs": [],
   "source": [
    "import pandas as pd\n",
    "\n",
    "from sklearn.preprocessing import OrdinalEncoder"
   ]
  },
  {
   "cell_type": "code",
   "execution_count": 2,
   "id": "74539e2a",
   "metadata": {
    "ExecuteTime": {
     "end_time": "2022-06-24T22:49:35.887230Z",
     "start_time": "2022-06-24T22:49:35.516764Z"
    }
   },
   "outputs": [],
   "source": [
    "df = pd.read_csv('../data/survey_data_before_pre_processing.csv')"
   ]
  },
  {
   "cell_type": "markdown",
   "id": "b281ae41",
   "metadata": {},
   "source": [
    "### Remove Refused Persons"
   ]
  },
  {
   "cell_type": "markdown",
   "id": "a038e8b4",
   "metadata": {},
   "source": [
    "General rundown here is to calculate the amount of refusals per person as a percentage of total questions refused.\n",
    "\n",
    "Find some cutoff and drop those people"
   ]
  },
  {
   "cell_type": "markdown",
   "id": "88034444",
   "metadata": {},
   "source": [
    "### Convert all Refused to NaN"
   ]
  },
  {
   "cell_type": "markdown",
   "id": "853ff7fa",
   "metadata": {},
   "source": [
    "We will be imputing these, but need them to be nulls"
   ]
  },
  {
   "cell_type": "markdown",
   "id": "700f8092",
   "metadata": {},
   "source": [
    "### Ordinal Encode"
   ]
  },
  {
   "cell_type": "markdown",
   "id": "77a22cb1",
   "metadata": {},
   "source": [
    "There are a lot these....."
   ]
  },
  {
   "cell_type": "code",
   "execution_count": 3,
   "id": "d7fc0932",
   "metadata": {
    "ExecuteTime": {
     "end_time": "2022-06-24T22:49:35.917764Z",
     "start_time": "2022-06-24T22:49:35.889766Z"
    }
   },
   "outputs": [
    {
     "data": {
      "text/plain": [
       "array(['$50,000 to $99,999', 'Less than $50,000', '$100,000 or more'],\n",
       "      dtype=object)"
      ]
     },
     "execution_count": 3,
     "metadata": {},
     "output_type": "execute_result"
    }
   ],
   "source": [
    "df.income_category.unique()"
   ]
  },
  {
   "cell_type": "code",
   "execution_count": 4,
   "id": "e3c086ab",
   "metadata": {
    "ExecuteTime": {
     "end_time": "2022-06-24T22:49:35.980813Z",
     "start_time": "2022-06-24T22:49:35.921767Z"
    }
   },
   "outputs": [
    {
     "data": {
      "text/plain": [
       "array([[1., 1., 1.],\n",
       "       [2., 0., 0.],\n",
       "       [2., 3., 0.],\n",
       "       ...,\n",
       "       [4., 2., 2.],\n",
       "       [3., 2., 0.],\n",
       "       [4., 1., 0.]])"
      ]
     },
     "execution_count": 4,
     "metadata": {},
     "output_type": "execute_result"
    }
   ],
   "source": [
    "cats = [['Greatest (Before 1928)','Silent (1928 - 1945)',\n",
    "         'Baby Boomers (1946 - 1964)',\n",
    "         'Generation X (1965 - 1980)',\n",
    "         'Millennials (1981 - 1996)',\n",
    "         'iGen\\u200e/Gen Z (1997 - )'],\n",
    "        ['Less than high school',\n",
    "         'High school',\n",
    "         'Some college',\n",
    "         'Bachelor\\'s degree or higher'],\n",
    "        ['Less than $50,000',\n",
    "         '$50,000 to $99,999',\n",
    "         '$100,000 or more']]\n",
    "\n",
    "o_enc = OrdinalEncoder(categories=cats)\n",
    "o_enc.fit(df[['generation', 'educ_category', 'income_category']])\n",
    "X_ord = o_enc.transform(df[['generation', 'educ_category', 'income_category']])\n",
    "X_ord"
   ]
  },
  {
   "cell_type": "code",
   "execution_count": 5,
   "id": "253cbbfe",
   "metadata": {
    "ExecuteTime": {
     "end_time": "2022-06-24T22:49:36.013767Z",
     "start_time": "2022-06-24T22:49:35.984765Z"
    },
    "scrolled": true
   },
   "outputs": [
    {
     "data": {
      "text/html": [
       "<div>\n",
       "<style scoped>\n",
       "    .dataframe tbody tr th:only-of-type {\n",
       "        vertical-align: middle;\n",
       "    }\n",
       "\n",
       "    .dataframe tbody tr th {\n",
       "        vertical-align: top;\n",
       "    }\n",
       "\n",
       "    .dataframe thead th {\n",
       "        text-align: right;\n",
       "    }\n",
       "</style>\n",
       "<table border=\"1\" class=\"dataframe\">\n",
       "  <thead>\n",
       "    <tr style=\"text-align: right;\">\n",
       "      <th></th>\n",
       "      <th>generation</th>\n",
       "      <th>educ_category</th>\n",
       "      <th>income_category</th>\n",
       "    </tr>\n",
       "  </thead>\n",
       "  <tbody>\n",
       "    <tr>\n",
       "      <th>0</th>\n",
       "      <td>Silent (1928 - 1945)</td>\n",
       "      <td>High school</td>\n",
       "      <td>$50,000 to $99,999</td>\n",
       "    </tr>\n",
       "    <tr>\n",
       "      <th>1</th>\n",
       "      <td>Baby Boomers (1946 - 1964)</td>\n",
       "      <td>Less than high school</td>\n",
       "      <td>Less than $50,000</td>\n",
       "    </tr>\n",
       "    <tr>\n",
       "      <th>2</th>\n",
       "      <td>Baby Boomers (1946 - 1964)</td>\n",
       "      <td>Bachelor's degree or higher</td>\n",
       "      <td>Less than $50,000</td>\n",
       "    </tr>\n",
       "    <tr>\n",
       "      <th>3</th>\n",
       "      <td>Silent (1928 - 1945)</td>\n",
       "      <td>Bachelor's degree or higher</td>\n",
       "      <td>$100,000 or more</td>\n",
       "    </tr>\n",
       "    <tr>\n",
       "      <th>4</th>\n",
       "      <td>Millennials (1981 - 1996)</td>\n",
       "      <td>Some college</td>\n",
       "      <td>$50,000 to $99,999</td>\n",
       "    </tr>\n",
       "    <tr>\n",
       "      <th>...</th>\n",
       "      <td>...</td>\n",
       "      <td>...</td>\n",
       "      <td>...</td>\n",
       "    </tr>\n",
       "    <tr>\n",
       "      <th>22340</th>\n",
       "      <td>Baby Boomers (1946 - 1964)</td>\n",
       "      <td>Some college</td>\n",
       "      <td>Less than $50,000</td>\n",
       "    </tr>\n",
       "    <tr>\n",
       "      <th>22341</th>\n",
       "      <td>Baby Boomers (1946 - 1964)</td>\n",
       "      <td>Less than high school</td>\n",
       "      <td>$50,000 to $99,999</td>\n",
       "    </tr>\n",
       "    <tr>\n",
       "      <th>22342</th>\n",
       "      <td>Millennials (1981 - 1996)</td>\n",
       "      <td>Some college</td>\n",
       "      <td>$100,000 or more</td>\n",
       "    </tr>\n",
       "    <tr>\n",
       "      <th>22343</th>\n",
       "      <td>Generation X (1965 - 1980)</td>\n",
       "      <td>Some college</td>\n",
       "      <td>Less than $50,000</td>\n",
       "    </tr>\n",
       "    <tr>\n",
       "      <th>22344</th>\n",
       "      <td>Millennials (1981 - 1996)</td>\n",
       "      <td>High school</td>\n",
       "      <td>Less than $50,000</td>\n",
       "    </tr>\n",
       "  </tbody>\n",
       "</table>\n",
       "<p>22345 rows × 3 columns</p>\n",
       "</div>"
      ],
      "text/plain": [
       "                       generation                educ_category  \\\n",
       "0            Silent (1928 - 1945)                  High school   \n",
       "1      Baby Boomers (1946 - 1964)        Less than high school   \n",
       "2      Baby Boomers (1946 - 1964)  Bachelor's degree or higher   \n",
       "3            Silent (1928 - 1945)  Bachelor's degree or higher   \n",
       "4       Millennials (1981 - 1996)                 Some college   \n",
       "...                           ...                          ...   \n",
       "22340  Baby Boomers (1946 - 1964)                 Some college   \n",
       "22341  Baby Boomers (1946 - 1964)        Less than high school   \n",
       "22342   Millennials (1981 - 1996)                 Some college   \n",
       "22343  Generation X (1965 - 1980)                 Some college   \n",
       "22344   Millennials (1981 - 1996)                  High school   \n",
       "\n",
       "          income_category  \n",
       "0      $50,000 to $99,999  \n",
       "1       Less than $50,000  \n",
       "2       Less than $50,000  \n",
       "3        $100,000 or more  \n",
       "4      $50,000 to $99,999  \n",
       "...                   ...  \n",
       "22340   Less than $50,000  \n",
       "22341  $50,000 to $99,999  \n",
       "22342    $100,000 or more  \n",
       "22343   Less than $50,000  \n",
       "22344   Less than $50,000  \n",
       "\n",
       "[22345 rows x 3 columns]"
      ]
     },
     "execution_count": 5,
     "metadata": {},
     "output_type": "execute_result"
    }
   ],
   "source": [
    "df[['generation', 'educ_category', 'income_category']]"
   ]
  },
  {
   "cell_type": "markdown",
   "id": "66f99496",
   "metadata": {},
   "source": [
    "### Train Test Split"
   ]
  },
  {
   "cell_type": "code",
   "execution_count": 7,
   "id": "e6eb29de",
   "metadata": {
    "ExecuteTime": {
     "end_time": "2022-06-24T22:50:01.934805Z",
     "start_time": "2022-06-24T22:50:01.854806Z"
    }
   },
   "outputs": [],
   "source": [
    "from sklearn.model_selection import train_test_split"
   ]
  },
  {
   "cell_type": "code",
   "execution_count": 8,
   "id": "6a5f9c3a",
   "metadata": {
    "ExecuteTime": {
     "end_time": "2022-06-24T22:51:53.533412Z",
     "start_time": "2022-06-24T22:51:53.511357Z"
    }
   },
   "outputs": [],
   "source": [
    "y = df.happening\n",
    "X = df[[cols for cols in df.columns if cols != \"happening\"]]"
   ]
  },
  {
   "cell_type": "code",
   "execution_count": 10,
   "id": "b8b9581e",
   "metadata": {
    "ExecuteTime": {
     "end_time": "2022-06-24T22:53:09.951586Z",
     "start_time": "2022-06-24T22:53:09.902586Z"
    }
   },
   "outputs": [],
   "source": [
    "X_train, X_test, y_train, y_test = train_test_split(X,y,\n",
    "                                                   test_size = 0.20,\n",
    "                                                   random_state = 21)"
   ]
  },
  {
   "cell_type": "markdown",
   "id": "8dfafc8a",
   "metadata": {},
   "source": [
    "### Iteratively Impute Nulls"
   ]
  },
  {
   "cell_type": "markdown",
   "id": "d5098137",
   "metadata": {},
   "source": [
    "Now all of our data is ordinal encoded or dummied, iteratively impute the nulls"
   ]
  },
  {
   "cell_type": "code",
   "execution_count": 14,
   "id": "71315c0b",
   "metadata": {
    "ExecuteTime": {
     "end_time": "2022-06-24T22:54:58.142233Z",
     "start_time": "2022-06-24T22:54:58.006209Z"
    }
   },
   "outputs": [],
   "source": [
    "from sklearn.experimental import enable_iterative_imputer\n",
    "from sklearn.impute import IterativeImputer"
   ]
  },
  {
   "cell_type": "code",
   "execution_count": 15,
   "id": "ac9e0f21",
   "metadata": {
    "ExecuteTime": {
     "end_time": "2022-06-24T22:54:58.253073Z",
     "start_time": "2022-06-24T22:54:58.188227Z"
    }
   },
   "outputs": [],
   "source": [
    "# identify numerical columns\n",
    "cols = X_train.describe().columns"
   ]
  },
  {
   "cell_type": "code",
   "execution_count": 16,
   "id": "262c1fe4",
   "metadata": {
    "ExecuteTime": {
     "end_time": "2022-06-24T22:54:58.983102Z",
     "start_time": "2022-06-24T22:54:58.366101Z"
    }
   },
   "outputs": [
    {
     "data": {
      "text/html": [
       "<div>\n",
       "<style scoped>\n",
       "    .dataframe tbody tr th:only-of-type {\n",
       "        vertical-align: middle;\n",
       "    }\n",
       "\n",
       "    .dataframe tbody tr th {\n",
       "        vertical-align: top;\n",
       "    }\n",
       "\n",
       "    .dataframe thead th {\n",
       "        text-align: right;\n",
       "    }\n",
       "</style>\n",
       "<table border=\"1\" class=\"dataframe\">\n",
       "  <thead>\n",
       "    <tr style=\"text-align: right;\">\n",
       "      <th></th>\n",
       "      <th>0</th>\n",
       "      <th>1</th>\n",
       "      <th>2</th>\n",
       "      <th>3</th>\n",
       "      <th>4</th>\n",
       "      <th>5</th>\n",
       "      <th>6</th>\n",
       "      <th>7</th>\n",
       "      <th>8</th>\n",
       "      <th>9</th>\n",
       "      <th>10</th>\n",
       "      <th>11</th>\n",
       "      <th>12</th>\n",
       "      <th>13</th>\n",
       "      <th>14</th>\n",
       "    </tr>\n",
       "  </thead>\n",
       "  <tbody>\n",
       "    <tr>\n",
       "      <th>0</th>\n",
       "      <td>2017.0</td>\n",
       "      <td>0.6766</td>\n",
       "      <td>0.612152</td>\n",
       "      <td>0.0</td>\n",
       "      <td>50.0</td>\n",
       "      <td>6.0</td>\n",
       "      <td>3.0</td>\n",
       "      <td>0.0</td>\n",
       "      <td>0.0</td>\n",
       "      <td>0.0</td>\n",
       "      <td>1.0</td>\n",
       "      <td>2.0</td>\n",
       "      <td>1.0</td>\n",
       "      <td>0.0</td>\n",
       "      <td>1.0</td>\n",
       "    </tr>\n",
       "    <tr>\n",
       "      <th>1</th>\n",
       "      <td>2014.0</td>\n",
       "      <td>0.8173</td>\n",
       "      <td>0.756268</td>\n",
       "      <td>0.0</td>\n",
       "      <td>51.0</td>\n",
       "      <td>4.0</td>\n",
       "      <td>5.0</td>\n",
       "      <td>0.0</td>\n",
       "      <td>0.0</td>\n",
       "      <td>1.0</td>\n",
       "      <td>1.0</td>\n",
       "      <td>3.0</td>\n",
       "      <td>1.0</td>\n",
       "      <td>0.0</td>\n",
       "      <td>2.0</td>\n",
       "    </tr>\n",
       "    <tr>\n",
       "      <th>2</th>\n",
       "      <td>2012.0</td>\n",
       "      <td>0.2382</td>\n",
       "      <td>0.264869</td>\n",
       "      <td>1.0</td>\n",
       "      <td>48.0</td>\n",
       "      <td>2.0</td>\n",
       "      <td>2.0</td>\n",
       "      <td>0.0</td>\n",
       "      <td>0.0</td>\n",
       "      <td>0.0</td>\n",
       "      <td>0.0</td>\n",
       "      <td>2.0</td>\n",
       "      <td>1.0</td>\n",
       "      <td>0.0</td>\n",
       "      <td>0.0</td>\n",
       "    </tr>\n",
       "    <tr>\n",
       "      <th>3</th>\n",
       "      <td>2013.0</td>\n",
       "      <td>4.1649</td>\n",
       "      <td>4.702110</td>\n",
       "      <td>1.0</td>\n",
       "      <td>19.0</td>\n",
       "      <td>4.0</td>\n",
       "      <td>10.0</td>\n",
       "      <td>0.0</td>\n",
       "      <td>2.0</td>\n",
       "      <td>2.0</td>\n",
       "      <td>3.0</td>\n",
       "      <td>3.0</td>\n",
       "      <td>0.0</td>\n",
       "      <td>0.0</td>\n",
       "      <td>7.0</td>\n",
       "    </tr>\n",
       "    <tr>\n",
       "      <th>4</th>\n",
       "      <td>2014.0</td>\n",
       "      <td>0.6605</td>\n",
       "      <td>0.611177</td>\n",
       "      <td>1.0</td>\n",
       "      <td>56.0</td>\n",
       "      <td>1.0</td>\n",
       "      <td>5.0</td>\n",
       "      <td>0.0</td>\n",
       "      <td>2.0</td>\n",
       "      <td>0.0</td>\n",
       "      <td>0.0</td>\n",
       "      <td>3.0</td>\n",
       "      <td>0.0</td>\n",
       "      <td>1.0</td>\n",
       "      <td>2.0</td>\n",
       "    </tr>\n",
       "    <tr>\n",
       "      <th>5</th>\n",
       "      <td>2018.0</td>\n",
       "      <td>1.2250</td>\n",
       "      <td>1.130862</td>\n",
       "      <td>1.0</td>\n",
       "      <td>30.0</td>\n",
       "      <td>3.0</td>\n",
       "      <td>2.0</td>\n",
       "      <td>0.0</td>\n",
       "      <td>0.0</td>\n",
       "      <td>0.0</td>\n",
       "      <td>0.0</td>\n",
       "      <td>2.0</td>\n",
       "      <td>0.0</td>\n",
       "      <td>0.0</td>\n",
       "      <td>0.0</td>\n",
       "    </tr>\n",
       "    <tr>\n",
       "      <th>6</th>\n",
       "      <td>2008.0</td>\n",
       "      <td>2.7200</td>\n",
       "      <td>1.482915</td>\n",
       "      <td>1.0</td>\n",
       "      <td>60.0</td>\n",
       "      <td>6.0</td>\n",
       "      <td>2.0</td>\n",
       "      <td>0.0</td>\n",
       "      <td>0.0</td>\n",
       "      <td>0.0</td>\n",
       "      <td>0.0</td>\n",
       "      <td>2.0</td>\n",
       "      <td>0.0</td>\n",
       "      <td>1.0</td>\n",
       "      <td>0.0</td>\n",
       "    </tr>\n",
       "    <tr>\n",
       "      <th>7</th>\n",
       "      <td>2008.0</td>\n",
       "      <td>0.7900</td>\n",
       "      <td>0.430699</td>\n",
       "      <td>1.0</td>\n",
       "      <td>49.0</td>\n",
       "      <td>5.0</td>\n",
       "      <td>4.0</td>\n",
       "      <td>0.0</td>\n",
       "      <td>0.0</td>\n",
       "      <td>0.0</td>\n",
       "      <td>0.0</td>\n",
       "      <td>4.0</td>\n",
       "      <td>1.0</td>\n",
       "      <td>0.0</td>\n",
       "      <td>0.0</td>\n",
       "    </tr>\n",
       "    <tr>\n",
       "      <th>8</th>\n",
       "      <td>2017.0</td>\n",
       "      <td>1.0797</td>\n",
       "      <td>0.976855</td>\n",
       "      <td>1.0</td>\n",
       "      <td>61.0</td>\n",
       "      <td>5.0</td>\n",
       "      <td>4.0</td>\n",
       "      <td>0.0</td>\n",
       "      <td>0.0</td>\n",
       "      <td>0.0</td>\n",
       "      <td>0.0</td>\n",
       "      <td>4.0</td>\n",
       "      <td>0.0</td>\n",
       "      <td>1.0</td>\n",
       "      <td>0.0</td>\n",
       "    </tr>\n",
       "    <tr>\n",
       "      <th>9</th>\n",
       "      <td>2013.0</td>\n",
       "      <td>0.3359</td>\n",
       "      <td>0.379226</td>\n",
       "      <td>0.0</td>\n",
       "      <td>80.0</td>\n",
       "      <td>1.0</td>\n",
       "      <td>2.0</td>\n",
       "      <td>0.0</td>\n",
       "      <td>0.0</td>\n",
       "      <td>0.0</td>\n",
       "      <td>0.0</td>\n",
       "      <td>2.0</td>\n",
       "      <td>0.0</td>\n",
       "      <td>1.0</td>\n",
       "      <td>0.0</td>\n",
       "    </tr>\n",
       "  </tbody>\n",
       "</table>\n",
       "</div>"
      ],
      "text/plain": [
       "       0       1         2    3     4    5     6    7    8    9    10   11  \\\n",
       "0  2017.0  0.6766  0.612152  0.0  50.0  6.0   3.0  0.0  0.0  0.0  1.0  2.0   \n",
       "1  2014.0  0.8173  0.756268  0.0  51.0  4.0   5.0  0.0  0.0  1.0  1.0  3.0   \n",
       "2  2012.0  0.2382  0.264869  1.0  48.0  2.0   2.0  0.0  0.0  0.0  0.0  2.0   \n",
       "3  2013.0  4.1649  4.702110  1.0  19.0  4.0  10.0  0.0  2.0  2.0  3.0  3.0   \n",
       "4  2014.0  0.6605  0.611177  1.0  56.0  1.0   5.0  0.0  2.0  0.0  0.0  3.0   \n",
       "5  2018.0  1.2250  1.130862  1.0  30.0  3.0   2.0  0.0  0.0  0.0  0.0  2.0   \n",
       "6  2008.0  2.7200  1.482915  1.0  60.0  6.0   2.0  0.0  0.0  0.0  0.0  2.0   \n",
       "7  2008.0  0.7900  0.430699  1.0  49.0  5.0   4.0  0.0  0.0  0.0  0.0  4.0   \n",
       "8  2017.0  1.0797  0.976855  1.0  61.0  5.0   4.0  0.0  0.0  0.0  0.0  4.0   \n",
       "9  2013.0  0.3359  0.379226  0.0  80.0  1.0   2.0  0.0  0.0  0.0  0.0  2.0   \n",
       "\n",
       "    12   13   14  \n",
       "0  1.0  0.0  1.0  \n",
       "1  1.0  0.0  2.0  \n",
       "2  1.0  0.0  0.0  \n",
       "3  0.0  0.0  7.0  \n",
       "4  0.0  1.0  2.0  \n",
       "5  0.0  0.0  0.0  \n",
       "6  0.0  1.0  0.0  \n",
       "7  1.0  0.0  0.0  \n",
       "8  0.0  1.0  0.0  \n",
       "9  0.0  1.0  0.0  "
      ]
     },
     "execution_count": 16,
     "metadata": {},
     "output_type": "execute_result"
    }
   ],
   "source": [
    "# iterative impute on numerical columns\n",
    "pd.DataFrame(IterativeImputer(initial_strategy='mean',\n",
    "                              add_indicator=True,\n",
    "                              random_state = 21\n",
    "                             ).fit_transform(X_train[cols]))\\\n",
    "            .head(10)"
   ]
  },
  {
   "cell_type": "markdown",
   "id": "40e6fff5",
   "metadata": {},
   "source": [
    "### Standard Scale"
   ]
  },
  {
   "cell_type": "markdown",
   "id": "70e16ffc",
   "metadata": {},
   "source": [
    "Will let us explore knn or clustering if wanted"
   ]
  }
 ],
 "metadata": {
  "kernelspec": {
   "display_name": "Python 3 (ipykernel)",
   "language": "python",
   "name": "python3"
  },
  "language_info": {
   "codemirror_mode": {
    "name": "ipython",
    "version": 3
   },
   "file_extension": ".py",
   "mimetype": "text/x-python",
   "name": "python",
   "nbconvert_exporter": "python",
   "pygments_lexer": "ipython3",
   "version": "3.9.7"
  },
  "toc": {
   "base_numbering": 1,
   "nav_menu": {},
   "number_sections": false,
   "sideBar": true,
   "skip_h1_title": false,
   "title_cell": "Table of Contents",
   "title_sidebar": "Contents",
   "toc_cell": false,
   "toc_position": {},
   "toc_section_display": true,
   "toc_window_display": false
  }
 },
 "nbformat": 4,
 "nbformat_minor": 5
}
