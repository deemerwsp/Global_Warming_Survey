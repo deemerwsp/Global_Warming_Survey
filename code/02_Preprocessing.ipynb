{
 "cells": [
  {
   "cell_type": "code",
   "execution_count": 1,
   "id": "2ebc26d5",
   "metadata": {
    "ExecuteTime": {
     "end_time": "2022-06-27T20:57:00.408931Z",
     "start_time": "2022-06-27T20:56:58.823822Z"
    }
   },
   "outputs": [],
   "source": [
    "import pandas as pd\n",
    "import numpy as np\n",
    "\n",
    "import matplotlib.pyplot as plt\n",
    "\n",
    "from sklearn.preprocessing import OrdinalEncoder\n",
    "from sklearn.feature_selection import SelectKBest\n",
    "from sklearn.decomposition import PCA\n",
    "\n",
    "np.random.seed(23)"
   ]
  },
  {
   "cell_type": "code",
   "execution_count": 2,
   "id": "74539e2a",
   "metadata": {
    "ExecuteTime": {
     "end_time": "2022-06-27T20:57:00.535227Z",
     "start_time": "2022-06-27T20:57:00.410422Z"
    }
   },
   "outputs": [],
   "source": [
    "df = pd.read_csv('../data/survey_data_before_pre_processing.csv')"
   ]
  },
  {
   "cell_type": "markdown",
   "id": "88034444",
   "metadata": {},
   "source": [
    "### Convert all Nulls to 'none'\n",
    "- This is done prior to ordinal encoding "
   ]
  },
  {
   "cell_type": "code",
   "execution_count": 3,
   "id": "d02892c8",
   "metadata": {
    "ExecuteTime": {
     "end_time": "2022-06-27T20:57:00.590830Z",
     "start_time": "2022-06-27T20:57:00.536473Z"
    }
   },
   "outputs": [],
   "source": [
    "df.fillna('none', inplace=True)"
   ]
  },
  {
   "cell_type": "markdown",
   "id": "700f8092",
   "metadata": {},
   "source": [
    "### Ordinal Encode"
   ]
  },
  {
   "cell_type": "code",
   "execution_count": 4,
   "id": "a4847aef",
   "metadata": {
    "ExecuteTime": {
     "end_time": "2022-06-27T20:57:00.729479Z",
     "start_time": "2022-06-27T20:57:00.593087Z"
    }
   },
   "outputs": [],
   "source": [
    "# Ordinal encoding these features\n",
    "\n",
    "# the list of columns to ordinal\n",
    "df_ord = df[['year','wave', 'cause_recoded', 'sci_consensus',\n",
    "             'harm_personally', 'harm_US', 'harm_dev_countries',\n",
    "             'harm_future_gen', 'harm_plants_animals', 'when_harm_US', \n",
    "             'generation', 'educ_category', 'income_category',\n",
    "             'reg_CO2_pollutant', 'fund_research', \n",
    "             'discuss_GW']]\n",
    "\n",
    "# have first spot be 'none' for features that got nulls changed\n",
    "# have first spot be '' for features with no nulls changed\n",
    "# this allows us to peel off nulls by removing all 0 encoded ordinals\n",
    "dogs = [[-999,2008, 2010, 2011, 2012, 2013, 2014, 2015, 2016, 2017, 2018],\n",
    "        ['','2008 Nov', '2010 Jan', '2010 Jun', '2011 May', '2011 Nov', \n",
    "         '2012 Mar', '2012 Sep', '2013 Apr', '2013 Nov', '2014 Apr',\n",
    "         '2014 Oct', '2015 Mar', '2015 Oct', '2016 Mar', '2016 Nov',\n",
    "         '2017 May', '2017 Oct', '2018 Mar', '2018 Dec',],\n",
    "# cause_rec\n",
    "        ['none', 'No', \"Don't know\", 'Yes'],\n",
    "# sci_cons\n",
    "        ['none', 'No', \"Don't know\", 'Maybe', 'Yes'],\n",
    "\n",
    "        ['none','No',\"Don't know\", 'Yes'],\n",
    "        ['none','No',\"Don't know\", 'Yes'],\n",
    "        ['none','No',\"Don't know\", 'Yes'],\n",
    "        ['none','No',\"Don't know\", 'Yes'],\n",
    "        ['none','No',\"Don't know\", 'Yes'],\n",
    "        ['none','Never', 'In the Future', 'Now'],\n",
    "# gen\n",
    "        ['','Greatest (Before 1928)','Silent (1928 - 1945)',\n",
    "         'Baby Boomers (1946 - 1964)',\n",
    "         'Generation X (1965 - 1980)',\n",
    "         'Millennials (1981 - 1996)',\n",
    "         'iGen\\u200e/Gen Z (1997 - )'],\n",
    "# ed\n",
    "        ['','Less than high school',\n",
    "         'High school',\n",
    "         'Some college',\n",
    "         'Bachelor\\'s degree or higher'],\n",
    "# income        \n",
    "        ['','Less than $50,000',\n",
    "         '$50,000 to $99,999',\n",
    "         '$100,000 or more'],\n",
    "        \n",
    "        ['none','Oppose', 'Support'],\n",
    "        ['none','Oppose', 'Support'],\n",
    "        ['none','Never', 'At All']]\n",
    "\n",
    "\n",
    "# initialize\n",
    "o_enc = OrdinalEncoder(categories=dogs) \n",
    "\n",
    "# fit transform\n",
    "X_ord = o_enc.fit_transform(df_ord)\n",
    "\n",
    "# add to df\n",
    "# col names are original names + '_ord'\n",
    "X_ord_df = pd.DataFrame(X_ord,\n",
    "                        columns = [col+'_ord' for col in df_ord.columns])\\\n",
    "                .applymap(lambda x: np.nan if x == 0 else x)\n",
    "\n",
    "# drop non-ordinal cols for ordinal cols\n",
    "df = df.drop(df_ord.columns, axis = 1).join(X_ord_df)"
   ]
  },
  {
   "cell_type": "markdown",
   "id": "122352c2",
   "metadata": {},
   "source": [
    "### Dummy encoding remaining features and adding features that were already ordinal encoded"
   ]
  },
  {
   "cell_type": "code",
   "execution_count": 5,
   "id": "56600ad8",
   "metadata": {
    "ExecuteTime": {
     "end_time": "2022-06-27T20:57:00.736485Z",
     "start_time": "2022-06-27T20:57:00.730580Z"
    }
   },
   "outputs": [],
   "source": [
    "dum_df = df[['party', 'party_x_ideo', 'region4', \n",
    "             'religion','marit_status', 'employment', 'house_head',\n",
    "             'house_type', 'house_own']]\n",
    "\n",
    "rdy_to_go = df[['house_ages18plus', 'children', 'service_attendance', 'house_size']]\n"
   ]
  },
  {
   "cell_type": "code",
   "execution_count": 6,
   "id": "19b7eb2d",
   "metadata": {
    "ExecuteTime": {
     "end_time": "2022-06-27T20:57:00.760482Z",
     "start_time": "2022-06-27T20:57:00.737627Z"
    }
   },
   "outputs": [],
   "source": [
    "dum_df = pd.get_dummies(dum_df, drop_first=True)"
   ]
  },
  {
   "cell_type": "code",
   "execution_count": 7,
   "id": "1d811c03",
   "metadata": {
    "ExecuteTime": {
     "end_time": "2022-06-27T20:57:00.764695Z",
     "start_time": "2022-06-27T20:57:00.761858Z"
    }
   },
   "outputs": [],
   "source": [
    "additional_df = pd.concat([dum_df, rdy_to_go],  axis=1)"
   ]
  },
  {
   "cell_type": "code",
   "execution_count": 8,
   "id": "b419e44d",
   "metadata": {
    "ExecuteTime": {
     "end_time": "2022-06-27T20:57:00.770543Z",
     "start_time": "2022-06-27T20:57:00.765947Z"
    }
   },
   "outputs": [],
   "source": [
    "df.drop(['party', 'party_x_ideo', 'region4', \n",
    "         'religion','marit_status', 'employment', 'house_head',\n",
    "         'house_type', 'house_own','house_ages18plus',\n",
    "         'children', 'service_attendance', 'house_size'], axis=1, inplace=True)"
   ]
  },
  {
   "cell_type": "code",
   "execution_count": 9,
   "id": "fb648898",
   "metadata": {
    "ExecuteTime": {
     "end_time": "2022-06-27T20:57:00.774993Z",
     "start_time": "2022-06-27T20:57:00.771854Z"
    }
   },
   "outputs": [],
   "source": [
    "df = pd.concat([df, additional_df], axis=1)"
   ]
  },
  {
   "cell_type": "markdown",
   "id": "8461fd4b",
   "metadata": {},
   "source": [
    "### Label Encoding target"
   ]
  },
  {
   "cell_type": "code",
   "execution_count": 10,
   "id": "1ef8a5a5",
   "metadata": {
    "ExecuteTime": {
     "end_time": "2022-06-27T20:57:00.787042Z",
     "start_time": "2022-06-27T20:57:00.778226Z"
    }
   },
   "outputs": [],
   "source": [
    "df['happening'] = [0 if x == 'No' \n",
    "                   else 1 if x == \"Don't know\" \n",
    "                   else 2 for x in df.happening]"
   ]
  },
  {
   "cell_type": "markdown",
   "id": "66f99496",
   "metadata": {},
   "source": [
    "### Train Test Split"
   ]
  },
  {
   "cell_type": "code",
   "execution_count": 11,
   "id": "ab3562f5",
   "metadata": {
    "ExecuteTime": {
     "end_time": "2022-06-27T20:57:00.790759Z",
     "start_time": "2022-06-27T20:57:00.788651Z"
    }
   },
   "outputs": [],
   "source": [
    "from sklearn.model_selection import train_test_split"
   ]
  },
  {
   "cell_type": "code",
   "execution_count": 12,
   "id": "54c0bd75",
   "metadata": {
    "ExecuteTime": {
     "end_time": "2022-06-27T20:57:00.798619Z",
     "start_time": "2022-06-27T20:57:00.792200Z"
    }
   },
   "outputs": [],
   "source": [
    "y = df.happening\n",
    "X = df[[cols for cols in df.columns if cols != \"happening\"]]"
   ]
  },
  {
   "cell_type": "code",
   "execution_count": 13,
   "id": "d71ac58b",
   "metadata": {
    "ExecuteTime": {
     "end_time": "2022-06-27T20:57:00.810572Z",
     "start_time": "2022-06-27T20:57:00.799754Z"
    }
   },
   "outputs": [],
   "source": [
    "X_train, X_test, y_train, y_test = train_test_split(X,y,\n",
    "                                                   test_size = 0.20,\n",
    "                                                   random_state = 21)"
   ]
  },
  {
   "cell_type": "markdown",
   "id": "8dfafc8a",
   "metadata": {},
   "source": [
    "### Iteratively Impute Nulls"
   ]
  },
  {
   "cell_type": "markdown",
   "id": "d5098137",
   "metadata": {},
   "source": [
    "Now all of our data is ordinal encoded or dummied, iteratively impute the nulls"
   ]
  },
  {
   "cell_type": "code",
   "execution_count": 14,
   "id": "71315c0b",
   "metadata": {
    "ExecuteTime": {
     "end_time": "2022-06-27T20:57:00.817893Z",
     "start_time": "2022-06-27T20:57:00.811794Z"
    }
   },
   "outputs": [],
   "source": [
    "from sklearn.experimental import enable_iterative_imputer\n",
    "from sklearn.impute import IterativeImputer"
   ]
  },
  {
   "cell_type": "code",
   "execution_count": 15,
   "id": "eaa31393",
   "metadata": {
    "ExecuteTime": {
     "end_time": "2022-06-27T20:57:00.897773Z",
     "start_time": "2022-06-27T20:57:00.819008Z"
    }
   },
   "outputs": [],
   "source": [
    "# identify numerical columns\n",
    "cols = X_train.describe().columns"
   ]
  },
  {
   "cell_type": "code",
   "execution_count": 16,
   "id": "98835b25",
   "metadata": {
    "ExecuteTime": {
     "end_time": "2022-06-27T20:57:00.905155Z",
     "start_time": "2022-06-27T20:57:00.899141Z"
    }
   },
   "outputs": [],
   "source": [
    "# identify columns that will have nulls imputed\n",
    "cols_with_indicator = X_train[cols].loc[:,X_train[cols].isnull().any()].columns\n",
    "\n",
    "# rename them\n",
    "cols_with_indicator = [c+'_ind' for c in cols_with_indicator]"
   ]
  },
  {
   "cell_type": "code",
   "execution_count": 17,
   "id": "46c8da52",
   "metadata": {
    "ExecuteTime": {
     "end_time": "2022-06-27T20:57:00.908502Z",
     "start_time": "2022-06-27T20:57:00.906304Z"
    }
   },
   "outputs": [],
   "source": [
    "# initialize\n",
    "it_imp = IterativeImputer(initial_strategy='mean',\n",
    "                              add_indicator=True,\n",
    "                              random_state = 21\n",
    "                             )"
   ]
  },
  {
   "cell_type": "code",
   "execution_count": 18,
   "id": "262c1fe4",
   "metadata": {
    "ExecuteTime": {
     "end_time": "2022-06-27T20:58:05.425868Z",
     "start_time": "2022-06-27T20:57:00.909934Z"
    }
   },
   "outputs": [],
   "source": [
    "# fit on train\n",
    "X_train_it_imp = pd.DataFrame(it_imp.fit_transform(X_train[cols]),\n",
    "                columns = X_train[cols].columns.to_list()+cols_with_indicator,\n",
    "                index = X_train.index)\n",
    "\n",
    "# transform test\n",
    "X_test_it_imp = pd.DataFrame(it_imp.transform(X_test[cols]),\n",
    "            columns = X_train[cols].columns.to_list()+cols_with_indicator,\n",
    "            index = X_test.index)"
   ]
  },
  {
   "cell_type": "code",
   "execution_count": 19,
   "id": "2acfc694",
   "metadata": {
    "ExecuteTime": {
     "end_time": "2022-06-27T20:58:05.434632Z",
     "start_time": "2022-06-27T20:58:05.427154Z"
    }
   },
   "outputs": [],
   "source": [
    "X_train = X_train.drop(cols, axis = 1).join(X_train_it_imp)\n",
    "X_test = X_test.drop(cols, axis = 1).join(X_test_it_imp)"
   ]
  },
  {
   "cell_type": "markdown",
   "id": "40e6fff5",
   "metadata": {},
   "source": [
    "### Standard Scale"
   ]
  },
  {
   "cell_type": "markdown",
   "id": "70e16ffc",
   "metadata": {},
   "source": [
    "Will let us explore knn or clustering if wanted"
   ]
  },
  {
   "cell_type": "code",
   "execution_count": 20,
   "id": "21e51cfd",
   "metadata": {
    "ExecuteTime": {
     "end_time": "2022-06-27T20:58:05.438057Z",
     "start_time": "2022-06-27T20:58:05.436182Z"
    }
   },
   "outputs": [],
   "source": [
    "from sklearn.preprocessing import StandardScaler"
   ]
  },
  {
   "cell_type": "code",
   "execution_count": 21,
   "id": "972a51ac",
   "metadata": {
    "ExecuteTime": {
     "end_time": "2022-06-27T20:58:05.456367Z",
     "start_time": "2022-06-27T20:58:05.439143Z"
    }
   },
   "outputs": [],
   "source": [
    "# initialize\n",
    "ss = StandardScaler()\n",
    "\n",
    "# fit on Train\n",
    "X_train_ss = pd.DataFrame(ss.fit_transform(X_train[cols]),\n",
    "                          columns = X_train[cols].columns,\n",
    "                          index = X_train.index)\n",
    "\n",
    "# transform test\n",
    "X_test_ss = pd.DataFrame(ss.transform(X_test[cols]),\n",
    "                         columns = X_test[cols].columns,\n",
    "                         index = X_test.index)"
   ]
  },
  {
   "cell_type": "code",
   "execution_count": 22,
   "id": "50e81198",
   "metadata": {
    "ExecuteTime": {
     "end_time": "2022-06-27T20:58:05.462140Z",
     "start_time": "2022-06-27T20:58:05.457520Z"
    }
   },
   "outputs": [],
   "source": [
    "X_train_ss = X_train.drop(cols, axis = 1).join(X_train_ss)\n",
    "X_test_ss = X_test.drop(cols, axis = 1).join(X_test_ss)"
   ]
  },
  {
   "cell_type": "markdown",
   "id": "573d8458",
   "metadata": {},
   "source": [
    "### SelectKBeset"
   ]
  },
  {
   "cell_type": "code",
   "execution_count": 23,
   "id": "8ee98611",
   "metadata": {
    "ExecuteTime": {
     "end_time": "2022-06-27T20:58:05.487387Z",
     "start_time": "2022-06-27T20:58:05.463422Z"
    }
   },
   "outputs": [
    {
     "name": "stderr",
     "output_type": "stream",
     "text": [
      "/Users/andrewdeemer/opt/anaconda3/lib/python3.9/site-packages/sklearn/feature_selection/_univariate_selection.py:114: UserWarning: Features [11] are constant.\n",
      "  warnings.warn(\"Features %s are constant.\" % constant_features_idx,\n",
      "/Users/andrewdeemer/opt/anaconda3/lib/python3.9/site-packages/sklearn/feature_selection/_univariate_selection.py:116: RuntimeWarning: invalid value encountered in true_divide\n",
      "  f = msb / msw\n"
     ]
    },
    {
     "data": {
      "text/plain": [
       "SelectKBest(k=20)"
      ]
     },
     "execution_count": 23,
     "metadata": {},
     "output_type": "execute_result"
    }
   ],
   "source": [
    "# Create and fit selector\n",
    "selector = SelectKBest(k=20)\n",
    "selector.fit(X_train_ss, y_train)"
   ]
  },
  {
   "cell_type": "code",
   "execution_count": 24,
   "id": "6826ec64",
   "metadata": {
    "ExecuteTime": {
     "end_time": "2022-06-27T20:58:05.490965Z",
     "start_time": "2022-06-27T20:58:05.488689Z"
    }
   },
   "outputs": [],
   "source": [
    "# Get columns to keep and create new dataframe with those only\n",
    "cols = selector.get_support(indices=True)"
   ]
  },
  {
   "cell_type": "code",
   "execution_count": 25,
   "id": "556ebf34",
   "metadata": {
    "ExecuteTime": {
     "end_time": "2022-06-27T20:58:05.495644Z",
     "start_time": "2022-06-27T20:58:05.492259Z"
    }
   },
   "outputs": [],
   "source": [
    "X_train_feat_select = X_train_ss.iloc[:,cols]\n",
    "X_test_feat_select = X_test_ss.iloc[:,cols]"
   ]
  },
  {
   "cell_type": "code",
   "execution_count": 26,
   "id": "c6d54fec",
   "metadata": {
    "ExecuteTime": {
     "end_time": "2022-06-27T20:58:05.502079Z",
     "start_time": "2022-06-27T20:58:05.497157Z"
    }
   },
   "outputs": [],
   "source": [
    "removed_cols = [c for c in X_train_ss.columns if c not in X_train_feat_select.columns]\n",
    "X_train_feat_removed = X_train_ss.loc[:,removed_cols]\n",
    "X_test_feat_removed = X_test_ss.loc[:,removed_cols]"
   ]
  },
  {
   "cell_type": "code",
   "execution_count": 27,
   "id": "f080beca",
   "metadata": {
    "ExecuteTime": {
     "end_time": "2022-06-27T20:58:05.506565Z",
     "start_time": "2022-06-27T20:58:05.503648Z"
    }
   },
   "outputs": [
    {
     "data": {
      "text/plain": [
       "Index(['cause_recoded_ord', 'sci_consensus_ord', 'harm_personally_ord',\n",
       "       'harm_US_ord', 'harm_dev_countries_ord', 'harm_future_gen_ord',\n",
       "       'harm_plants_animals_ord', 'when_harm_US_ord', 'educ_category_ord',\n",
       "       'reg_CO2_pollutant_ord', 'fund_research_ord', 'discuss_GW_ord',\n",
       "       'party_No party/not interested in politics', 'party_Republican',\n",
       "       'party_x_ideo_Liberal Democrat',\n",
       "       'party_x_ideo_Moderate/Conservative Democrat',\n",
       "       'party_x_ideo_No Party/Not Interested in politics',\n",
       "       'marit_status_Married',\n",
       "       'house_type_One-family house detached from any other house',\n",
       "       'service_attendance'],\n",
       "      dtype='object')"
      ]
     },
     "execution_count": 27,
     "metadata": {},
     "output_type": "execute_result"
    }
   ],
   "source": [
    "# Selected Columns\n",
    "X_train_feat_select.columns"
   ]
  },
  {
   "cell_type": "markdown",
   "id": "f9c5135c",
   "metadata": {},
   "source": [
    "### PCA"
   ]
  },
  {
   "cell_type": "code",
   "execution_count": 28,
   "id": "2bd0d8ff",
   "metadata": {
    "ExecuteTime": {
     "end_time": "2022-06-27T20:58:05.608831Z",
     "start_time": "2022-06-27T20:58:05.512300Z"
    }
   },
   "outputs": [],
   "source": [
    "pca = PCA(n_components=5).fit(X_train_feat_removed)"
   ]
  },
  {
   "cell_type": "code",
   "execution_count": 29,
   "id": "e570aaac",
   "metadata": {
    "ExecuteTime": {
     "end_time": "2022-06-27T20:58:05.613878Z",
     "start_time": "2022-06-27T20:58:05.610419Z"
    }
   },
   "outputs": [
    {
     "name": "stdout",
     "output_type": "stream",
     "text": [
      "PC 0: 4.78 --> 35.71%\n",
      "PC 1: 2.86 --> 21.40%\n",
      "PC 2: 2.14 --> 16.03%\n",
      "PC 3: 1.88 --> 14.03%\n",
      "PC 4: 1.72 --> 12.83%\n"
     ]
    }
   ],
   "source": [
    "for i, l in enumerate(pca.explained_variance_[:5]):\n",
    "    print('PC {}: {:.2f} --> {:.2f}%'.format(i, l,\n",
    "                                             l * 100 / sum(pca.explained_variance_)))"
   ]
  },
  {
   "cell_type": "code",
   "execution_count": 30,
   "id": "3528e64f",
   "metadata": {
    "ExecuteTime": {
     "end_time": "2022-06-27T20:58:05.718132Z",
     "start_time": "2022-06-27T20:58:05.615773Z"
    }
   },
   "outputs": [
    {
     "data": {
      "image/png": "[encoded data removed]",
      "text/plain": [
       "<Figure size 576x432 with 1 Axes>"
      ]
     },
     "metadata": {
      "needs_background": "light"
     },
     "output_type": "display_data"
    }
   ],
   "source": [
    "fig, ax = plt.subplots(figsize=(8,6))\n",
    "ax.plot(range(1,6), pca.explained_variance_ratio_[:5], lw=2)\n",
    "ax.scatter(range(1, 6), pca.explained_variance_ratio_[:5], s=100)\n",
    "ax.set_title('explained variance of components')\n",
    "ax.set_xlabel('principal component')\n",
    "ax.set_ylabel('explained variance');"
   ]
  },
  {
   "cell_type": "code",
   "execution_count": 31,
   "id": "de1d1100",
   "metadata": {
    "ExecuteTime": {
     "end_time": "2022-06-27T20:58:05.806223Z",
     "start_time": "2022-06-27T20:58:05.719520Z"
    }
   },
   "outputs": [
    {
     "data": {
      "image/png": "[encoded data removed]",
      "text/plain": [
       "<Figure size 648x504 with 1 Axes>"
      ]
     },
     "metadata": {
      "needs_background": "light"
     },
     "output_type": "display_data"
    }
   ],
   "source": [
    "cum_var_exp = np.cumsum(pca.explained_variance_ratio_) * 100\n",
    "plt.figure(figsize=(9,7))\n",
    "component_number = range(1, 6)\n",
    "plt.plot(component_number, cum_var_exp, lw=7)\n",
    "plt.axhline(y=0, linewidth=5, color='grey', ls='dashed')\n",
    "plt.axhline(y=100, linewidth=3, color='grey', ls='dashed')\n",
    "ax = plt.gca()\n",
    "ax.set_xlim([1,5])\n",
    "ax.set_ylim([-5,105])\n",
    "ax.set_ylabel('cumulative variance explained', fontsize=16)\n",
    "ax.set_xlabel('component', fontsize=16)  \n",
    "ax.set_title('component vs cumulative variance explained\\n', fontsize=20);"
   ]
  },
  {
   "cell_type": "code",
   "execution_count": 32,
   "id": "32c72210",
   "metadata": {
    "ExecuteTime": {
     "end_time": "2022-06-27T20:58:05.820361Z",
     "start_time": "2022-06-27T20:58:05.807759Z"
    }
   },
   "outputs": [
    {
     "data": {
      "text/html": [
       "<div>\n",
       "<style scoped>\n",
       "    .dataframe tbody tr th:only-of-type {\n",
       "        vertical-align: middle;\n",
       "    }\n",
       "\n",
       "    .dataframe tbody tr th {\n",
       "        vertical-align: top;\n",
       "    }\n",
       "\n",
       "    .dataframe thead th {\n",
       "        text-align: right;\n",
       "    }\n",
       "</style>\n",
       "<table border=\"1\" class=\"dataframe\">\n",
       "  <thead>\n",
       "    <tr style=\"text-align: right;\">\n",
       "      <th></th>\n",
       "      <th>pc_0</th>\n",
       "      <th>pc_1</th>\n",
       "      <th>pc_2</th>\n",
       "      <th>pc_3</th>\n",
       "      <th>pc_4</th>\n",
       "    </tr>\n",
       "  </thead>\n",
       "  <tbody>\n",
       "    <tr>\n",
       "      <th>0</th>\n",
       "      <td>-3.588060</td>\n",
       "      <td>0.824728</td>\n",
       "      <td>-0.679685</td>\n",
       "      <td>0.474095</td>\n",
       "      <td>0.167996</td>\n",
       "    </tr>\n",
       "    <tr>\n",
       "      <th>1</th>\n",
       "      <td>-0.824797</td>\n",
       "      <td>1.982285</td>\n",
       "      <td>-2.148299</td>\n",
       "      <td>-1.153151</td>\n",
       "      <td>-1.034176</td>\n",
       "    </tr>\n",
       "    <tr>\n",
       "      <th>2</th>\n",
       "      <td>-2.223797</td>\n",
       "      <td>0.875356</td>\n",
       "      <td>0.854042</td>\n",
       "      <td>0.821795</td>\n",
       "      <td>-0.630844</td>\n",
       "    </tr>\n",
       "    <tr>\n",
       "      <th>3</th>\n",
       "      <td>1.249783</td>\n",
       "      <td>1.850788</td>\n",
       "      <td>-1.895917</td>\n",
       "      <td>0.348153</td>\n",
       "      <td>0.101185</td>\n",
       "    </tr>\n",
       "    <tr>\n",
       "      <th>4</th>\n",
       "      <td>2.590999</td>\n",
       "      <td>0.573798</td>\n",
       "      <td>1.851709</td>\n",
       "      <td>2.013579</td>\n",
       "      <td>-1.007802</td>\n",
       "    </tr>\n",
       "  </tbody>\n",
       "</table>\n",
       "</div>"
      ],
      "text/plain": [
       "       pc_0      pc_1      pc_2      pc_3      pc_4\n",
       "0 -3.588060  0.824728 -0.679685  0.474095  0.167996\n",
       "1 -0.824797  1.982285 -2.148299 -1.153151 -1.034176\n",
       "2 -2.223797  0.875356  0.854042  0.821795 -0.630844\n",
       "3  1.249783  1.850788 -1.895917  0.348153  0.101185\n",
       "4  2.590999  0.573798  1.851709  2.013579 -1.007802"
      ]
     },
     "execution_count": 32,
     "metadata": {},
     "output_type": "execute_result"
    }
   ],
   "source": [
    "pca_df = pd.DataFrame(pca.transform(X_train_feat_removed),\n",
    "                      columns=['pc_' + str(i) for i in range(5)])\n",
    "pca_df.head()"
   ]
  },
  {
   "cell_type": "code",
   "execution_count": 33,
   "id": "43e2c3a3",
   "metadata": {
    "ExecuteTime": {
     "end_time": "2022-06-27T20:58:05.834936Z",
     "start_time": "2022-06-27T20:58:05.821735Z"
    }
   },
   "outputs": [
    {
     "data": {
      "text/html": [
       "<div>\n",
       "<style scoped>\n",
       "    .dataframe tbody tr th:only-of-type {\n",
       "        vertical-align: middle;\n",
       "    }\n",
       "\n",
       "    .dataframe tbody tr th {\n",
       "        vertical-align: top;\n",
       "    }\n",
       "\n",
       "    .dataframe thead th {\n",
       "        text-align: right;\n",
       "    }\n",
       "</style>\n",
       "<table border=\"1\" class=\"dataframe\">\n",
       "  <thead>\n",
       "    <tr style=\"text-align: right;\">\n",
       "      <th></th>\n",
       "      <th>cause_recoded_ord</th>\n",
       "      <th>sci_consensus_ord</th>\n",
       "      <th>harm_personally_ord</th>\n",
       "      <th>harm_US_ord</th>\n",
       "      <th>harm_dev_countries_ord</th>\n",
       "      <th>harm_future_gen_ord</th>\n",
       "      <th>harm_plants_animals_ord</th>\n",
       "      <th>when_harm_US_ord</th>\n",
       "      <th>educ_category_ord</th>\n",
       "      <th>reg_CO2_pollutant_ord</th>\n",
       "      <th>...</th>\n",
       "      <th>party_x_ideo_Moderate/Conservative Democrat</th>\n",
       "      <th>party_x_ideo_No Party/Not Interested in politics</th>\n",
       "      <th>marit_status_Married</th>\n",
       "      <th>house_type_One-family house detached from any other house</th>\n",
       "      <th>service_attendance</th>\n",
       "      <th>pc_0</th>\n",
       "      <th>pc_1</th>\n",
       "      <th>pc_2</th>\n",
       "      <th>pc_3</th>\n",
       "      <th>pc_4</th>\n",
       "    </tr>\n",
       "  </thead>\n",
       "  <tbody>\n",
       "    <tr>\n",
       "      <th>0</th>\n",
       "      <td>0.292816</td>\n",
       "      <td>0.259868</td>\n",
       "      <td>-1.614592</td>\n",
       "      <td>-2.066117</td>\n",
       "      <td>-2.140827</td>\n",
       "      <td>0.520317</td>\n",
       "      <td>-0.255009</td>\n",
       "      <td>-0.244346</td>\n",
       "      <td>1.131387</td>\n",
       "      <td>0.592776</td>\n",
       "      <td>...</td>\n",
       "      <td>-0.510733</td>\n",
       "      <td>-0.348963</td>\n",
       "      <td>0.843649</td>\n",
       "      <td>0.620038</td>\n",
       "      <td>-0.623885</td>\n",
       "      <td>-3.588060</td>\n",
       "      <td>0.824728</td>\n",
       "      <td>-0.679685</td>\n",
       "      <td>0.474095</td>\n",
       "      <td>0.167996</td>\n",
       "    </tr>\n",
       "    <tr>\n",
       "      <th>1</th>\n",
       "      <td>0.292816</td>\n",
       "      <td>0.952731</td>\n",
       "      <td>0.713492</td>\n",
       "      <td>0.580237</td>\n",
       "      <td>0.579083</td>\n",
       "      <td>0.520317</td>\n",
       "      <td>0.511569</td>\n",
       "      <td>-0.244346</td>\n",
       "      <td>1.131387</td>\n",
       "      <td>0.592776</td>\n",
       "      <td>...</td>\n",
       "      <td>-0.510733</td>\n",
       "      <td>-0.348963</td>\n",
       "      <td>0.843649</td>\n",
       "      <td>0.620038</td>\n",
       "      <td>1.065607</td>\n",
       "      <td>-0.824797</td>\n",
       "      <td>1.982285</td>\n",
       "      <td>-2.148299</td>\n",
       "      <td>-1.153151</td>\n",
       "      <td>-1.034176</td>\n",
       "    </tr>\n",
       "    <tr>\n",
       "      <th>2</th>\n",
       "      <td>0.292816</td>\n",
       "      <td>-0.263157</td>\n",
       "      <td>-1.614592</td>\n",
       "      <td>0.580237</td>\n",
       "      <td>0.579083</td>\n",
       "      <td>0.520317</td>\n",
       "      <td>0.511569</td>\n",
       "      <td>-0.244346</td>\n",
       "      <td>-0.947208</td>\n",
       "      <td>0.592776</td>\n",
       "      <td>...</td>\n",
       "      <td>-0.510733</td>\n",
       "      <td>-0.348963</td>\n",
       "      <td>0.843649</td>\n",
       "      <td>0.620038</td>\n",
       "      <td>-1.187049</td>\n",
       "      <td>-2.223797</td>\n",
       "      <td>0.875356</td>\n",
       "      <td>0.854042</td>\n",
       "      <td>0.821795</td>\n",
       "      <td>-0.630844</td>\n",
       "    </tr>\n",
       "    <tr>\n",
       "      <th>3</th>\n",
       "      <td>0.292816</td>\n",
       "      <td>-0.263157</td>\n",
       "      <td>0.713492</td>\n",
       "      <td>0.580237</td>\n",
       "      <td>0.579083</td>\n",
       "      <td>0.520317</td>\n",
       "      <td>0.511569</td>\n",
       "      <td>-0.244346</td>\n",
       "      <td>0.092090</td>\n",
       "      <td>0.592776</td>\n",
       "      <td>...</td>\n",
       "      <td>-0.510733</td>\n",
       "      <td>-0.348963</td>\n",
       "      <td>0.843649</td>\n",
       "      <td>0.620038</td>\n",
       "      <td>1.628771</td>\n",
       "      <td>1.249783</td>\n",
       "      <td>1.850788</td>\n",
       "      <td>-1.895917</td>\n",
       "      <td>0.348153</td>\n",
       "      <td>0.101185</td>\n",
       "    </tr>\n",
       "    <tr>\n",
       "      <th>4</th>\n",
       "      <td>0.292816</td>\n",
       "      <td>0.952731</td>\n",
       "      <td>0.713492</td>\n",
       "      <td>0.580237</td>\n",
       "      <td>0.579083</td>\n",
       "      <td>0.520317</td>\n",
       "      <td>0.511569</td>\n",
       "      <td>-0.244346</td>\n",
       "      <td>-0.947208</td>\n",
       "      <td>0.592776</td>\n",
       "      <td>...</td>\n",
       "      <td>-0.510733</td>\n",
       "      <td>-0.348963</td>\n",
       "      <td>-1.185328</td>\n",
       "      <td>0.620038</td>\n",
       "      <td>-0.623885</td>\n",
       "      <td>2.590999</td>\n",
       "      <td>0.573798</td>\n",
       "      <td>1.851709</td>\n",
       "      <td>2.013579</td>\n",
       "      <td>-1.007802</td>\n",
       "    </tr>\n",
       "  </tbody>\n",
       "</table>\n",
       "<p>5 rows × 25 columns</p>\n",
       "</div>"
      ],
      "text/plain": [
       "   cause_recoded_ord  sci_consensus_ord  harm_personally_ord  harm_US_ord  \\\n",
       "0           0.292816           0.259868            -1.614592    -2.066117   \n",
       "1           0.292816           0.952731             0.713492     0.580237   \n",
       "2           0.292816          -0.263157            -1.614592     0.580237   \n",
       "3           0.292816          -0.263157             0.713492     0.580237   \n",
       "4           0.292816           0.952731             0.713492     0.580237   \n",
       "\n",
       "   harm_dev_countries_ord  harm_future_gen_ord  harm_plants_animals_ord  \\\n",
       "0               -2.140827             0.520317                -0.255009   \n",
       "1                0.579083             0.520317                 0.511569   \n",
       "2                0.579083             0.520317                 0.511569   \n",
       "3                0.579083             0.520317                 0.511569   \n",
       "4                0.579083             0.520317                 0.511569   \n",
       "\n",
       "   when_harm_US_ord  educ_category_ord  reg_CO2_pollutant_ord  ...  \\\n",
       "0         -0.244346           1.131387               0.592776  ...   \n",
       "1         -0.244346           1.131387               0.592776  ...   \n",
       "2         -0.244346          -0.947208               0.592776  ...   \n",
       "3         -0.244346           0.092090               0.592776  ...   \n",
       "4         -0.244346          -0.947208               0.592776  ...   \n",
       "\n",
       "   party_x_ideo_Moderate/Conservative Democrat  \\\n",
       "0                                    -0.510733   \n",
       "1                                    -0.510733   \n",
       "2                                    -0.510733   \n",
       "3                                    -0.510733   \n",
       "4                                    -0.510733   \n",
       "\n",
       "   party_x_ideo_No Party/Not Interested in politics  marit_status_Married  \\\n",
       "0                                         -0.348963              0.843649   \n",
       "1                                         -0.348963              0.843649   \n",
       "2                                         -0.348963              0.843649   \n",
       "3                                         -0.348963              0.843649   \n",
       "4                                         -0.348963             -1.185328   \n",
       "\n",
       "   house_type_One-family house detached from any other house  \\\n",
       "0                                           0.620038           \n",
       "1                                           0.620038           \n",
       "2                                           0.620038           \n",
       "3                                           0.620038           \n",
       "4                                           0.620038           \n",
       "\n",
       "   service_attendance      pc_0      pc_1      pc_2      pc_3      pc_4  \n",
       "0           -0.623885 -3.588060  0.824728 -0.679685  0.474095  0.167996  \n",
       "1            1.065607 -0.824797  1.982285 -2.148299 -1.153151 -1.034176  \n",
       "2           -1.187049 -2.223797  0.875356  0.854042  0.821795 -0.630844  \n",
       "3            1.628771  1.249783  1.850788 -1.895917  0.348153  0.101185  \n",
       "4           -0.623885  2.590999  0.573798  1.851709  2.013579 -1.007802  \n",
       "\n",
       "[5 rows x 25 columns]"
      ]
     },
     "execution_count": 33,
     "metadata": {},
     "output_type": "execute_result"
    }
   ],
   "source": [
    "noise = pca_df.iloc[:,:5]\n",
    "\n",
    "X_train_feat_select.reset_index(drop=True, inplace=True)\n",
    "y_train.reset_index(drop=True, inplace=True)\n",
    "\n",
    "X_train_final = pd.concat([X_train_feat_select,noise],axis=1)\n",
    "X_train_final.head()"
   ]
  },
  {
   "cell_type": "code",
   "execution_count": 34,
   "id": "879d2bb1",
   "metadata": {
    "ExecuteTime": {
     "end_time": "2022-06-27T20:58:05.851206Z",
     "start_time": "2022-06-27T20:58:05.836323Z"
    }
   },
   "outputs": [
    {
     "data": {
      "text/html": [
       "<div>\n",
       "<style scoped>\n",
       "    .dataframe tbody tr th:only-of-type {\n",
       "        vertical-align: middle;\n",
       "    }\n",
       "\n",
       "    .dataframe tbody tr th {\n",
       "        vertical-align: top;\n",
       "    }\n",
       "\n",
       "    .dataframe thead th {\n",
       "        text-align: right;\n",
       "    }\n",
       "</style>\n",
       "<table border=\"1\" class=\"dataframe\">\n",
       "  <thead>\n",
       "    <tr style=\"text-align: right;\">\n",
       "      <th></th>\n",
       "      <th>pc_0</th>\n",
       "      <th>pc_1</th>\n",
       "      <th>pc_2</th>\n",
       "      <th>pc_3</th>\n",
       "      <th>pc_4</th>\n",
       "    </tr>\n",
       "  </thead>\n",
       "  <tbody>\n",
       "    <tr>\n",
       "      <th>0</th>\n",
       "      <td>0.469957</td>\n",
       "      <td>0.614849</td>\n",
       "      <td>-2.197415</td>\n",
       "      <td>-2.695060</td>\n",
       "      <td>0.406789</td>\n",
       "    </tr>\n",
       "    <tr>\n",
       "      <th>1</th>\n",
       "      <td>0.356862</td>\n",
       "      <td>1.197049</td>\n",
       "      <td>0.084433</td>\n",
       "      <td>0.220224</td>\n",
       "      <td>-0.309673</td>\n",
       "    </tr>\n",
       "    <tr>\n",
       "      <th>2</th>\n",
       "      <td>1.011859</td>\n",
       "      <td>-0.504181</td>\n",
       "      <td>0.578666</td>\n",
       "      <td>1.085812</td>\n",
       "      <td>1.210270</td>\n",
       "    </tr>\n",
       "    <tr>\n",
       "      <th>3</th>\n",
       "      <td>2.148055</td>\n",
       "      <td>-2.865227</td>\n",
       "      <td>1.815318</td>\n",
       "      <td>0.791613</td>\n",
       "      <td>1.938985</td>\n",
       "    </tr>\n",
       "    <tr>\n",
       "      <th>4</th>\n",
       "      <td>1.820066</td>\n",
       "      <td>4.182518</td>\n",
       "      <td>0.941523</td>\n",
       "      <td>2.228815</td>\n",
       "      <td>0.730989</td>\n",
       "    </tr>\n",
       "  </tbody>\n",
       "</table>\n",
       "</div>"
      ],
      "text/plain": [
       "       pc_0      pc_1      pc_2      pc_3      pc_4\n",
       "0  0.469957  0.614849 -2.197415 -2.695060  0.406789\n",
       "1  0.356862  1.197049  0.084433  0.220224 -0.309673\n",
       "2  1.011859 -0.504181  0.578666  1.085812  1.210270\n",
       "3  2.148055 -2.865227  1.815318  0.791613  1.938985\n",
       "4  1.820066  4.182518  0.941523  2.228815  0.730989"
      ]
     },
     "execution_count": 34,
     "metadata": {},
     "output_type": "execute_result"
    }
   ],
   "source": [
    "pca_df_test = pd.DataFrame(pca.transform(X_test_feat_removed),\n",
    "                      columns=['pc_' + str(i) for i in range(5)])\n",
    "pca_df_test.head()"
   ]
  },
  {
   "cell_type": "code",
   "execution_count": 35,
   "id": "7a92f2cf",
   "metadata": {
    "ExecuteTime": {
     "end_time": "2022-06-27T20:58:05.866457Z",
     "start_time": "2022-06-27T20:58:05.852705Z"
    }
   },
   "outputs": [
    {
     "data": {
      "text/html": [
       "<div>\n",
       "<style scoped>\n",
       "    .dataframe tbody tr th:only-of-type {\n",
       "        vertical-align: middle;\n",
       "    }\n",
       "\n",
       "    .dataframe tbody tr th {\n",
       "        vertical-align: top;\n",
       "    }\n",
       "\n",
       "    .dataframe thead th {\n",
       "        text-align: right;\n",
       "    }\n",
       "</style>\n",
       "<table border=\"1\" class=\"dataframe\">\n",
       "  <thead>\n",
       "    <tr style=\"text-align: right;\">\n",
       "      <th></th>\n",
       "      <th>cause_recoded_ord</th>\n",
       "      <th>sci_consensus_ord</th>\n",
       "      <th>harm_personally_ord</th>\n",
       "      <th>harm_US_ord</th>\n",
       "      <th>harm_dev_countries_ord</th>\n",
       "      <th>harm_future_gen_ord</th>\n",
       "      <th>harm_plants_animals_ord</th>\n",
       "      <th>when_harm_US_ord</th>\n",
       "      <th>educ_category_ord</th>\n",
       "      <th>reg_CO2_pollutant_ord</th>\n",
       "      <th>...</th>\n",
       "      <th>party_x_ideo_Moderate/Conservative Democrat</th>\n",
       "      <th>party_x_ideo_No Party/Not Interested in politics</th>\n",
       "      <th>marit_status_Married</th>\n",
       "      <th>house_type_One-family house detached from any other house</th>\n",
       "      <th>service_attendance</th>\n",
       "      <th>pc_0</th>\n",
       "      <th>pc_1</th>\n",
       "      <th>pc_2</th>\n",
       "      <th>pc_3</th>\n",
       "      <th>pc_4</th>\n",
       "    </tr>\n",
       "  </thead>\n",
       "  <tbody>\n",
       "    <tr>\n",
       "      <th>0</th>\n",
       "      <td>0.292816</td>\n",
       "      <td>0.952731</td>\n",
       "      <td>0.713492</td>\n",
       "      <td>0.580237</td>\n",
       "      <td>0.579083</td>\n",
       "      <td>0.520317</td>\n",
       "      <td>0.511569</td>\n",
       "      <td>1.180543</td>\n",
       "      <td>1.131387</td>\n",
       "      <td>0.537854</td>\n",
       "      <td>...</td>\n",
       "      <td>-0.510733</td>\n",
       "      <td>-0.348963</td>\n",
       "      <td>-1.185328</td>\n",
       "      <td>0.620038</td>\n",
       "      <td>-0.623885</td>\n",
       "      <td>0.469957</td>\n",
       "      <td>0.614849</td>\n",
       "      <td>-2.197415</td>\n",
       "      <td>-2.695060</td>\n",
       "      <td>0.406789</td>\n",
       "    </tr>\n",
       "    <tr>\n",
       "      <th>1</th>\n",
       "      <td>0.292816</td>\n",
       "      <td>-0.263157</td>\n",
       "      <td>0.713492</td>\n",
       "      <td>0.580237</td>\n",
       "      <td>0.579083</td>\n",
       "      <td>0.520317</td>\n",
       "      <td>0.511569</td>\n",
       "      <td>1.180543</td>\n",
       "      <td>0.092090</td>\n",
       "      <td>0.592776</td>\n",
       "      <td>...</td>\n",
       "      <td>-0.510733</td>\n",
       "      <td>-0.348963</td>\n",
       "      <td>0.843649</td>\n",
       "      <td>0.620038</td>\n",
       "      <td>1.065607</td>\n",
       "      <td>0.356862</td>\n",
       "      <td>1.197049</td>\n",
       "      <td>0.084433</td>\n",
       "      <td>0.220224</td>\n",
       "      <td>-0.309673</td>\n",
       "    </tr>\n",
       "    <tr>\n",
       "      <th>2</th>\n",
       "      <td>0.292816</td>\n",
       "      <td>-0.263157</td>\n",
       "      <td>0.713492</td>\n",
       "      <td>0.580237</td>\n",
       "      <td>0.579083</td>\n",
       "      <td>0.520317</td>\n",
       "      <td>0.511569</td>\n",
       "      <td>-0.244346</td>\n",
       "      <td>-0.947208</td>\n",
       "      <td>0.592776</td>\n",
       "      <td>...</td>\n",
       "      <td>1.957971</td>\n",
       "      <td>-0.348963</td>\n",
       "      <td>-1.185328</td>\n",
       "      <td>0.620038</td>\n",
       "      <td>1.065607</td>\n",
       "      <td>1.011859</td>\n",
       "      <td>-0.504181</td>\n",
       "      <td>0.578666</td>\n",
       "      <td>1.085812</td>\n",
       "      <td>1.210270</td>\n",
       "    </tr>\n",
       "    <tr>\n",
       "      <th>3</th>\n",
       "      <td>0.292816</td>\n",
       "      <td>0.952731</td>\n",
       "      <td>0.713492</td>\n",
       "      <td>0.580237</td>\n",
       "      <td>0.579083</td>\n",
       "      <td>0.520317</td>\n",
       "      <td>0.511569</td>\n",
       "      <td>-0.244346</td>\n",
       "      <td>0.092090</td>\n",
       "      <td>0.592776</td>\n",
       "      <td>...</td>\n",
       "      <td>-0.510733</td>\n",
       "      <td>2.865636</td>\n",
       "      <td>-1.185328</td>\n",
       "      <td>-1.612805</td>\n",
       "      <td>-0.060721</td>\n",
       "      <td>2.148055</td>\n",
       "      <td>-2.865227</td>\n",
       "      <td>1.815318</td>\n",
       "      <td>0.791613</td>\n",
       "      <td>1.938985</td>\n",
       "    </tr>\n",
       "    <tr>\n",
       "      <th>4</th>\n",
       "      <td>0.292816</td>\n",
       "      <td>0.952731</td>\n",
       "      <td>0.713492</td>\n",
       "      <td>0.580237</td>\n",
       "      <td>-0.780872</td>\n",
       "      <td>0.520317</td>\n",
       "      <td>0.511569</td>\n",
       "      <td>-0.244346</td>\n",
       "      <td>-0.947208</td>\n",
       "      <td>0.592776</td>\n",
       "      <td>...</td>\n",
       "      <td>-0.510733</td>\n",
       "      <td>-0.348963</td>\n",
       "      <td>0.843649</td>\n",
       "      <td>0.620038</td>\n",
       "      <td>1.628771</td>\n",
       "      <td>1.820066</td>\n",
       "      <td>4.182518</td>\n",
       "      <td>0.941523</td>\n",
       "      <td>2.228815</td>\n",
       "      <td>0.730989</td>\n",
       "    </tr>\n",
       "  </tbody>\n",
       "</table>\n",
       "<p>5 rows × 25 columns</p>\n",
       "</div>"
      ],
      "text/plain": [
       "   cause_recoded_ord  sci_consensus_ord  harm_personally_ord  harm_US_ord  \\\n",
       "0           0.292816           0.952731             0.713492     0.580237   \n",
       "1           0.292816          -0.263157             0.713492     0.580237   \n",
       "2           0.292816          -0.263157             0.713492     0.580237   \n",
       "3           0.292816           0.952731             0.713492     0.580237   \n",
       "4           0.292816           0.952731             0.713492     0.580237   \n",
       "\n",
       "   harm_dev_countries_ord  harm_future_gen_ord  harm_plants_animals_ord  \\\n",
       "0                0.579083             0.520317                 0.511569   \n",
       "1                0.579083             0.520317                 0.511569   \n",
       "2                0.579083             0.520317                 0.511569   \n",
       "3                0.579083             0.520317                 0.511569   \n",
       "4               -0.780872             0.520317                 0.511569   \n",
       "\n",
       "   when_harm_US_ord  educ_category_ord  reg_CO2_pollutant_ord  ...  \\\n",
       "0          1.180543           1.131387               0.537854  ...   \n",
       "1          1.180543           0.092090               0.592776  ...   \n",
       "2         -0.244346          -0.947208               0.592776  ...   \n",
       "3         -0.244346           0.092090               0.592776  ...   \n",
       "4         -0.244346          -0.947208               0.592776  ...   \n",
       "\n",
       "   party_x_ideo_Moderate/Conservative Democrat  \\\n",
       "0                                    -0.510733   \n",
       "1                                    -0.510733   \n",
       "2                                     1.957971   \n",
       "3                                    -0.510733   \n",
       "4                                    -0.510733   \n",
       "\n",
       "   party_x_ideo_No Party/Not Interested in politics  marit_status_Married  \\\n",
       "0                                         -0.348963             -1.185328   \n",
       "1                                         -0.348963              0.843649   \n",
       "2                                         -0.348963             -1.185328   \n",
       "3                                          2.865636             -1.185328   \n",
       "4                                         -0.348963              0.843649   \n",
       "\n",
       "   house_type_One-family house detached from any other house  \\\n",
       "0                                           0.620038           \n",
       "1                                           0.620038           \n",
       "2                                           0.620038           \n",
       "3                                          -1.612805           \n",
       "4                                           0.620038           \n",
       "\n",
       "   service_attendance      pc_0      pc_1      pc_2      pc_3      pc_4  \n",
       "0           -0.623885  0.469957  0.614849 -2.197415 -2.695060  0.406789  \n",
       "1            1.065607  0.356862  1.197049  0.084433  0.220224 -0.309673  \n",
       "2            1.065607  1.011859 -0.504181  0.578666  1.085812  1.210270  \n",
       "3           -0.060721  2.148055 -2.865227  1.815318  0.791613  1.938985  \n",
       "4            1.628771  1.820066  4.182518  0.941523  2.228815  0.730989  \n",
       "\n",
       "[5 rows x 25 columns]"
      ]
     },
     "execution_count": 35,
     "metadata": {},
     "output_type": "execute_result"
    }
   ],
   "source": [
    "pca.transform(X_test_feat_removed)\n",
    "\n",
    "X_test_feat_select.reset_index(drop=True, inplace=True)\n",
    "y_test.reset_index(drop=True, inplace=True)\n",
    "\n",
    "X_test_final = pd.concat([X_test_feat_select,pca_df_test.iloc[:,:5]],axis=1)\n",
    "X_test_final.head()"
   ]
  },
  {
   "cell_type": "markdown",
   "id": "15f03efb",
   "metadata": {},
   "source": [
    "## Exports"
   ]
  },
  {
   "cell_type": "code",
   "execution_count": 36,
   "id": "97d0f733",
   "metadata": {
    "ExecuteTime": {
     "end_time": "2022-06-27T20:58:06.447097Z",
     "start_time": "2022-06-27T20:58:05.868153Z"
    }
   },
   "outputs": [],
   "source": [
    "y_train.to_csv('../data/y_train_processed.csv', index=False)\n",
    "y_test.to_csv('../data/y_test_processed.csv', index=False)\n",
    "\n",
    "X_train_final.to_csv('../data/x_train_ss_processed.csv', index=False)\n",
    "X_test_final.to_csv('../data/x_test_ss_processed.csv', index=False)"
   ]
  }
 ],
 "metadata": {
  "kernelspec": {
   "display_name": "Python 3 (ipykernel)",
   "language": "python",
   "name": "python3"
  },
  "language_info": {
   "codemirror_mode": {
    "name": "ipython",
    "version": 3
   },
   "file_extension": ".py",
   "mimetype": "text/x-python",
   "name": "python",
   "nbconvert_exporter": "python",
   "pygments_lexer": "ipython3",
   "version": "3.9.7"
  },
  "toc": {
   "base_numbering": 1,
   "nav_menu": {},
   "number_sections": false,
   "sideBar": true,
   "skip_h1_title": false,
   "title_cell": "Table of Contents",
   "title_sidebar": "Contents",
   "toc_cell": false,
   "toc_position": {},
   "toc_section_display": true,
   "toc_window_display": false
  }
 },
 "nbformat": 4,
 "nbformat_minor": 5
}
