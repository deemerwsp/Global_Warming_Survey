{
 "cells": [
  {
   "cell_type": "code",
   "execution_count": 8,
   "id": "2ebc26d5",
   "metadata": {
    "ExecuteTime": {
     "end_time": "2022-06-23T01:33:52.219862Z",
     "start_time": "2022-06-23T01:33:51.104893Z"
    }
   },
   "outputs": [],
   "source": [
    "import pandas as pd\n",
    "\n",
    "from sklearn.preprocessing import OrdinalEncoder"
   ]
  },
  {
   "cell_type": "code",
   "execution_count": 4,
   "id": "74539e2a",
   "metadata": {
    "ExecuteTime": {
     "end_time": "2022-06-23T01:29:16.349582Z",
     "start_time": "2022-06-23T01:29:15.764156Z"
    }
   },
   "outputs": [],
   "source": [
    "df = pd.read_csv('../data/survey_data_before_pre_processing.csv')"
   ]
  },
  {
   "cell_type": "markdown",
   "id": "b281ae41",
   "metadata": {},
   "source": [
    "### Remove Refused Persons"
   ]
  },
  {
   "cell_type": "markdown",
   "id": "a038e8b4",
   "metadata": {},
   "source": [
    "General rundown here is to calculate the amount of refusals per person as a percentage of total questions refused.\n",
    "\n",
    "Find some cutoff and drop those people"
   ]
  },
  {
   "cell_type": "markdown",
   "id": "88034444",
   "metadata": {},
   "source": [
    "### Convert all Refused to NaN"
   ]
  },
  {
   "cell_type": "markdown",
   "id": "853ff7fa",
   "metadata": {},
   "source": [
    "We will be imputing these, but need them to be nulls"
   ]
  },
  {
   "cell_type": "markdown",
   "id": "700f8092",
   "metadata": {},
   "source": [
    "### Ordinal Encode"
   ]
  },
  {
   "cell_type": "markdown",
   "id": "77a22cb1",
   "metadata": {},
   "source": [
    "There are a lot these....."
   ]
  },
  {
   "cell_type": "code",
   "execution_count": 7,
   "id": "d7fc0932",
   "metadata": {
    "ExecuteTime": {
     "end_time": "2022-06-23T01:33:09.528180Z",
     "start_time": "2022-06-23T01:33:09.513179Z"
    }
   },
   "outputs": [
    {
     "data": {
      "text/plain": [
       "array(['$50,000 to $99,999', 'Less than $50,000', '$100,000 or more'],\n",
       "      dtype=object)"
      ]
     },
     "execution_count": 7,
     "metadata": {},
     "output_type": "execute_result"
    }
   ],
   "source": [
    "df.income_category.unique()"
   ]
  },
  {
   "cell_type": "code",
   "execution_count": 9,
   "id": "e3c086ab",
   "metadata": {
    "ExecuteTime": {
     "end_time": "2022-06-23T01:39:25.983313Z",
     "start_time": "2022-06-23T01:39:25.926311Z"
    }
   },
   "outputs": [
    {
     "data": {
      "text/plain": [
       "array([[1., 1., 1.],\n",
       "       [2., 0., 0.],\n",
       "       [2., 3., 0.],\n",
       "       ...,\n",
       "       [4., 2., 2.],\n",
       "       [3., 2., 0.],\n",
       "       [4., 1., 0.]])"
      ]
     },
     "execution_count": 9,
     "metadata": {},
     "output_type": "execute_result"
    }
   ],
   "source": [
    "cats = [['Greatest (Before 1928)','Silent (1928 - 1945)',\n",
    "         'Baby Boomers (1946 - 1964)',\n",
    "         'Generation X (1965 - 1980)',\n",
    "         'Millennials (1981 - 1996)',\n",
    "         'iGen\\u200e/Gen Z (1997 - )'],\n",
    "        ['Less than high school',\n",
    "         'High school',\n",
    "         'Some college',\n",
    "         'Bachelor\\'s degree or higher'],\n",
    "        ['Less than $50,000',\n",
    "         '$50,000 to $99,999',\n",
    "         '$100,000 or more']]\n",
    "\n",
    "o_enc = OrdinalEncoder(categories=cats)\n",
    "o_enc.fit(df[['generation', 'educ_category', 'income_category']])\n",
    "X_ord = o_enc.transform(df[['generation', 'educ_category', 'income_category']])\n",
    "X_ord"
   ]
  },
  {
   "cell_type": "code",
   "execution_count": 10,
   "id": "253cbbfe",
   "metadata": {
    "ExecuteTime": {
     "end_time": "2022-06-23T01:39:45.679775Z",
     "start_time": "2022-06-23T01:39:45.654774Z"
    },
    "scrolled": true
   },
   "outputs": [
    {
     "data": {
      "text/html": [
       "<div>\n",
       "<style scoped>\n",
       "    .dataframe tbody tr th:only-of-type {\n",
       "        vertical-align: middle;\n",
       "    }\n",
       "\n",
       "    .dataframe tbody tr th {\n",
       "        vertical-align: top;\n",
       "    }\n",
       "\n",
       "    .dataframe thead th {\n",
       "        text-align: right;\n",
       "    }\n",
       "</style>\n",
       "<table border=\"1\" class=\"dataframe\">\n",
       "  <thead>\n",
       "    <tr style=\"text-align: right;\">\n",
       "      <th></th>\n",
       "      <th>generation</th>\n",
       "      <th>educ_category</th>\n",
       "      <th>income_category</th>\n",
       "    </tr>\n",
       "  </thead>\n",
       "  <tbody>\n",
       "    <tr>\n",
       "      <th>0</th>\n",
       "      <td>Silent (1928 - 1945)</td>\n",
       "      <td>High school</td>\n",
       "      <td>$50,000 to $99,999</td>\n",
       "    </tr>\n",
       "    <tr>\n",
       "      <th>1</th>\n",
       "      <td>Baby Boomers (1946 - 1964)</td>\n",
       "      <td>Less than high school</td>\n",
       "      <td>Less than $50,000</td>\n",
       "    </tr>\n",
       "    <tr>\n",
       "      <th>2</th>\n",
       "      <td>Baby Boomers (1946 - 1964)</td>\n",
       "      <td>Bachelor's degree or higher</td>\n",
       "      <td>Less than $50,000</td>\n",
       "    </tr>\n",
       "    <tr>\n",
       "      <th>3</th>\n",
       "      <td>Silent (1928 - 1945)</td>\n",
       "      <td>Bachelor's degree or higher</td>\n",
       "      <td>$100,000 or more</td>\n",
       "    </tr>\n",
       "    <tr>\n",
       "      <th>4</th>\n",
       "      <td>Millennials (1981 - 1996)</td>\n",
       "      <td>Some college</td>\n",
       "      <td>$50,000 to $99,999</td>\n",
       "    </tr>\n",
       "    <tr>\n",
       "      <th>...</th>\n",
       "      <td>...</td>\n",
       "      <td>...</td>\n",
       "      <td>...</td>\n",
       "    </tr>\n",
       "    <tr>\n",
       "      <th>22290</th>\n",
       "      <td>Baby Boomers (1946 - 1964)</td>\n",
       "      <td>Some college</td>\n",
       "      <td>Less than $50,000</td>\n",
       "    </tr>\n",
       "    <tr>\n",
       "      <th>22291</th>\n",
       "      <td>Baby Boomers (1946 - 1964)</td>\n",
       "      <td>Less than high school</td>\n",
       "      <td>$50,000 to $99,999</td>\n",
       "    </tr>\n",
       "    <tr>\n",
       "      <th>22292</th>\n",
       "      <td>Millennials (1981 - 1996)</td>\n",
       "      <td>Some college</td>\n",
       "      <td>$100,000 or more</td>\n",
       "    </tr>\n",
       "    <tr>\n",
       "      <th>22293</th>\n",
       "      <td>Generation X (1965 - 1980)</td>\n",
       "      <td>Some college</td>\n",
       "      <td>Less than $50,000</td>\n",
       "    </tr>\n",
       "    <tr>\n",
       "      <th>22294</th>\n",
       "      <td>Millennials (1981 - 1996)</td>\n",
       "      <td>High school</td>\n",
       "      <td>Less than $50,000</td>\n",
       "    </tr>\n",
       "  </tbody>\n",
       "</table>\n",
       "<p>22295 rows × 3 columns</p>\n",
       "</div>"
      ],
      "text/plain": [
       "                       generation                educ_category  \\\n",
       "0            Silent (1928 - 1945)                  High school   \n",
       "1      Baby Boomers (1946 - 1964)        Less than high school   \n",
       "2      Baby Boomers (1946 - 1964)  Bachelor's degree or higher   \n",
       "3            Silent (1928 - 1945)  Bachelor's degree or higher   \n",
       "4       Millennials (1981 - 1996)                 Some college   \n",
       "...                           ...                          ...   \n",
       "22290  Baby Boomers (1946 - 1964)                 Some college   \n",
       "22291  Baby Boomers (1946 - 1964)        Less than high school   \n",
       "22292   Millennials (1981 - 1996)                 Some college   \n",
       "22293  Generation X (1965 - 1980)                 Some college   \n",
       "22294   Millennials (1981 - 1996)                  High school   \n",
       "\n",
       "          income_category  \n",
       "0      $50,000 to $99,999  \n",
       "1       Less than $50,000  \n",
       "2       Less than $50,000  \n",
       "3        $100,000 or more  \n",
       "4      $50,000 to $99,999  \n",
       "...                   ...  \n",
       "22290   Less than $50,000  \n",
       "22291  $50,000 to $99,999  \n",
       "22292    $100,000 or more  \n",
       "22293   Less than $50,000  \n",
       "22294   Less than $50,000  \n",
       "\n",
       "[22295 rows x 3 columns]"
      ]
     },
     "execution_count": 10,
     "metadata": {},
     "output_type": "execute_result"
    }
   ],
   "source": [
    "df[['generation', 'educ_category', 'income_category']]"
   ]
  },
  {
   "cell_type": "markdown",
   "id": "66f99496",
   "metadata": {},
   "source": [
    "### Train Test Split"
   ]
  },
  {
   "cell_type": "markdown",
   "id": "8dfafc8a",
   "metadata": {},
   "source": [
    "### Iteratively Impute Nulls"
   ]
  },
  {
   "cell_type": "markdown",
   "id": "d5098137",
   "metadata": {},
   "source": [
    "Now all of our data is ordinal encoded or dummied, iteratively impute the nulls"
   ]
  },
  {
   "cell_type": "markdown",
   "id": "40e6fff5",
   "metadata": {},
   "source": [
    "### Standard Scale"
   ]
  },
  {
   "cell_type": "markdown",
   "id": "70e16ffc",
   "metadata": {},
   "source": [
    "Will let us explore knn or clustering if wanted"
   ]
  }
 ],
 "metadata": {
  "kernelspec": {
   "display_name": "Python 3 (ipykernel)",
   "language": "python",
   "name": "python3"
  },
  "language_info": {
   "codemirror_mode": {
    "name": "ipython",
    "version": 3
   },
   "file_extension": ".py",
   "mimetype": "text/x-python",
   "name": "python",
   "nbconvert_exporter": "python",
   "pygments_lexer": "ipython3",
   "version": "3.9.7"
  },
  "toc": {
   "base_numbering": 1,
   "nav_menu": {},
   "number_sections": false,
   "sideBar": true,
   "skip_h1_title": false,
   "title_cell": "Table of Contents",
   "title_sidebar": "Contents",
   "toc_cell": false,
   "toc_position": {},
   "toc_section_display": true,
   "toc_window_display": false
  }
 },
 "nbformat": 4,
 "nbformat_minor": 5
}